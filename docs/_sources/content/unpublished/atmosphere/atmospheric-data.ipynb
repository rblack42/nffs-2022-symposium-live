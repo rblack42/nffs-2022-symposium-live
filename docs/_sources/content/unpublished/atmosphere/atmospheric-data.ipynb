{
 "cells": [
  {
   "cell_type": "markdown",
   "id": "66dd2220",
   "metadata": {},
   "source": [
    "# Atmospheric Data\n",
    "\n",
    "Obviously, our models fly through the air. *Computational Fluid Dynamics* studies the motion of a fluid using computers. Air is a fluid, even it that is not obvious. It is just a very thin fluid and we need to know a few fundamental properties of that fluid to do much interesting work. \n",
    "\n",
    "Rather than rely on local measurements of the properties of air, most researchers use a model atmosphere so they can compare results. We will use data from the *1976 Standard Atmospheric Model*, which you can find at the [Standard Atmosphere Calculator](https://www.digitaldutch.com/atmoscalc/). The website at that link lets you set your elevation and it presents you with standard values for the important properties we will need.\n",
    "\n",
    "![HAFFA Indoor Site Data](osawatomie-std-atm.png)\n",
    "\n",
    "Notice something important here. Each property has units attached, and it is vital that you make sure your units are set correctly if you are to trust your answers in a computer generated result. The standard model has a mathematical basis, but since the study of the atmosphere is a common research task, these are several *Python* packages that already know all about this. We will use the **fluids** package in this study.\n",
    "\n",
    "The **fluids** code expects inut values in *Standard International Units* (**SI**). I Since we are working with **pint** variables in our work, we will create a simple functin that returns the air properties we need, with proper units attached! The function will take the altitude as a parameter, and return a *Python* dictionary with these properties:\n",
    "\n",
    "- Temperature\n",
    "- Pressure\n",
    "- Density\n",
    "- Dynamic Viscosity"
   ]
  },
  {
   "cell_type": "code",
   "execution_count": 1,
   "id": "f8a82c83",
   "metadata": {},
   "outputs": [],
   "source": [
    "import pint\n",
    "u = pint.UnitRegistry()\n",
    "\n",
    "from fluids import ATMOSPHERE_1976 as StdAtm\n",
    "\n",
    "def get_air_properties(altitude):\n",
    "    h = altitude.to_base_units()\n",
    "    sa = StdAtm(h.magnitude) # strip off units for call\n",
    "    result = {\n",
    "        'T': sa.T * u.kelvin,\n",
    "        'P': sa.P * u.pascals,\n",
    "        'rho': sa.rho * u.kg / u.m ** 3,\n",
    "        'mu': sa.mu * u.pascals * u.second\n",
    "    }\n",
    "    return result"
   ]
  },
  {
   "cell_type": "markdown",
   "id": "99ca662d",
   "metadata": {},
   "source": [
    "Let's check the values for th elevation of our local flying site (876 feet):"
   ]
  },
  {
   "cell_type": "code",
   "execution_count": 2,
   "id": "3cd2101b",
   "metadata": {},
   "outputs": [
    {
     "name": "stdout",
     "output_type": "stream",
     "text": [
      "T 286.4145416948804 kelvin\n",
      "P 98158.40806685877 pascal\n",
      "rho 1.1939062985385254 kilogram / meter ** 3\n",
      "mu 1.780994347002584e-05 pascal * second\n"
     ]
    }
   ],
   "source": [
    "elevation = 876 * u.ft\n",
    "kc = get_air_properties(elevation)\n",
    "\n",
    "for key in kc:\n",
    "    print(key,kc[key])"
   ]
  },
  {
   "cell_type": "markdown",
   "id": "025fc613",
   "metadata": {},
   "source": [
    "These values do not exactly match the web calculator values, but they are close enough for our purposes."
   ]
  },
  {
   "cell_type": "code",
   "execution_count": 73,
   "id": "3ce7751f",
   "metadata": {},
   "outputs": [
    {
     "name": "stdout",
     "output_type": "stream",
     "text": [
      "/Users/rblack/_dev/nffs-symposium/live-2022/mmflight\n"
     ]
    }
   ],
   "source": [
    "from pathlib import Path\n",
    "root = Path().cwd()\n",
    "ddir = root.parent.parent.parent / 'mmflight'\n",
    "import sys\n",
    "print(ddir)\n",
    "sys.path.insert(0,ddir)"
   ]
  },
  {
   "cell_type": "code",
   "execution_count": 74,
   "id": "a35b582d",
   "metadata": {},
   "outputs": [
    {
     "name": "stdout",
     "output_type": "stream",
     "text": [
      "/Users/rblack/_dev/nffs-symposium/live-2022/mmflight\n"
     ]
    }
   ],
   "source": [
    "print(ddir)"
   ]
  },
  {
   "cell_type": "code",
   "execution_count": 77,
   "id": "9d0eaa1a",
   "metadata": {},
   "outputs": [
    {
     "name": "stdout",
     "output_type": "stream",
     "text": [
      "['In', 'Out', 'Path', 'PurePath', 'PurePosixPath', 'StdAtm', '_', '__', '___', '__builtin__', '__builtins__', '__doc__', '__loader__', '__name__', '__package__', '__spec__', '_dh', '_exit_code', '_i', '_i1', '_i10', '_i11', '_i12', '_i13', '_i14', '_i15', '_i16', '_i17', '_i18', '_i19', '_i2', '_i20', '_i21', '_i22', '_i23', '_i24', '_i25', '_i26', '_i27', '_i28', '_i29', '_i3', '_i30', '_i31', '_i32', '_i33', '_i34', '_i35', '_i36', '_i37', '_i38', '_i39', '_i4', '_i40', '_i41', '_i42', '_i43', '_i44', '_i45', '_i46', '_i47', '_i48', '_i49', '_i5', '_i50', '_i51', '_i52', '_i53', '_i54', '_i55', '_i56', '_i57', '_i58', '_i59', '_i6', '_i60', '_i61', '_i62', '_i63', '_i64', '_i65', '_i66', '_i67', '_i68', '_i69', '_i7', '_i70', '_i71', '_i72', '_i73', '_i74', '_i75', '_i76', '_i77', '_i8', '_i9', '_ih', '_ii', '_iii', '_oh', 'airfoil', 'arc3', 'ddir', 'droot', 'elevation', 'exit', 'get_air_properties', 'get_ipython', 'importlib', 'kc', 'key', 'mmflight', 'name', 'p', 'pint', 'quit', 'root', 'sys', 'u', 'x']\n"
     ]
    }
   ],
   "source": [
    "print(dir())"
   ]
  },
  {
   "cell_type": "code",
   "execution_count": 78,
   "id": "b6e4a90a",
   "metadata": {},
   "outputs": [],
   "source": [
    "airfoil = 'arc3'\n",
    "p = f'from mmflight.data.airfoils.{airfoil}.CL import x'"
   ]
  },
  {
   "cell_type": "code",
   "execution_count": 87,
   "id": "a1f2d157",
   "metadata": {},
   "outputs": [
    {
     "name": "stdout",
     "output_type": "stream",
     "text": [
      "[-4.579439252336446, -3.8317757009345783, -3.084112149532709, -2.33644859813084, -1.5887850467289706, -0.8411214953271013, 0.6542056074766371, 1.4018691588785046, 2.149532710280374, 2.8971962616822413, 3.6448598130841123, 4.392523364485983, 5.140186915887851, 5.887850467289718, 6.635514018691589, 7.383177570093457, 8.130841121495324, 8.878504672897195, 9.719626168224297, 10.373831775700934, 11.121495327102801, 11.869158878504672, 12.710280373831774, 13.364485981308407, 14.205607476635512, 14.95327102803738, 15.70093457943925, 16.355140186915882, 17.102803738317753, 17.850467289719624, 18.691588785046726, 20.186915887850468, 20.93457943925233, 21.588785046728972]\n"
     ]
    }
   ],
   "source": [
    "import importlib\n",
    "a = 'arc3'\n",
    "m = importlib.import_module(f'mmflight.data.airfoils.{a}')\n",
    "print(m.CL.x)"
   ]
  },
  {
   "cell_type": "code",
   "execution_count": 60,
   "id": "da3c2f61",
   "metadata": {},
   "outputs": [
    {
     "name": "stdout",
     "output_type": "stream",
     "text": [
      "[-4.579439252336446, -3.8317757009345783, -3.084112149532709, -2.33644859813084, -1.5887850467289706, -0.8411214953271013, 0.6542056074766371, 1.4018691588785046, 2.149532710280374, 2.8971962616822413, 3.6448598130841123, 4.392523364485983, 5.140186915887851, 5.887850467289718, 6.635514018691589, 7.383177570093457, 8.130841121495324, 8.878504672897195, 9.719626168224297, 10.373831775700934, 11.121495327102801, 11.869158878504672, 12.710280373831774, 13.364485981308407, 14.205607476635512, 14.95327102803738, 15.70093457943925, 16.355140186915882, 17.102803738317753, 17.850467289719624, 18.691588785046726, 20.186915887850468, 20.93457943925233, 21.588785046728972]\n"
     ]
    }
   ],
   "source": [
    "print(x)"
   ]
  },
  {
   "cell_type": "code",
   "execution_count": null,
   "id": "ba93f5eb",
   "metadata": {},
   "outputs": [],
   "source": []
  }
 ],
 "metadata": {
  "kernelspec": {
   "display_name": "Python 3 (ipykernel)",
   "language": "python",
   "name": "python3"
  },
  "language_info": {
   "codemirror_mode": {
    "name": "ipython",
    "version": 3
   },
   "file_extension": ".py",
   "mimetype": "text/x-python",
   "name": "python",
   "nbconvert_exporter": "python",
   "pygments_lexer": "ipython3",
   "version": "3.9.9"
  },
  "latex_envs": {
   "LaTeX_envs_menu_present": true,
   "autoclose": false,
   "autocomplete": true,
   "bibliofile": "biblio.bib",
   "cite_by": "apalike",
   "current_citInitial": 1,
   "eqLabelWithNumbers": true,
   "eqNumInitial": 1,
   "hotkeys": {
    "equation": "Ctrl-E",
    "itemize": "Ctrl-I"
   },
   "labels_anchors": false,
   "latex_user_defs": false,
   "report_style_numbering": false,
   "user_envs_cfg": false
  },
  "toc": {
   "base_numbering": 1,
   "nav_menu": {},
   "number_sections": true,
   "sideBar": true,
   "skip_h1_title": false,
   "title_cell": "Table of Contents",
   "title_sidebar": "Contents",
   "toc_cell": false,
   "toc_position": {},
   "toc_section_display": true,
   "toc_window_display": false
  },
  "varInspector": {
   "cols": {
    "lenName": 16,
    "lenType": 16,
    "lenVar": 40
   },
   "kernels_config": {
    "python": {
     "delete_cmd_postfix": "",
     "delete_cmd_prefix": "del ",
     "library": "var_list.py",
     "varRefreshCmd": "print(var_dic_list())"
    },
    "r": {
     "delete_cmd_postfix": ") ",
     "delete_cmd_prefix": "rm(",
     "library": "var_list.r",
     "varRefreshCmd": "cat(var_dic_list()) "
    }
   },
   "types_to_exclude": [
    "module",
    "function",
    "builtin_function_or_method",
    "instance",
    "_Feature"
   ],
   "window_display": false
  }
 },
 "nbformat": 4,
 "nbformat_minor": 5
}
