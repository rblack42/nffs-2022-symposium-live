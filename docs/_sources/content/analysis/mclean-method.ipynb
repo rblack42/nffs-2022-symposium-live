{
 "cells": [
  {
   "cell_type": "markdown",
   "id": "fb835e5b",
   "metadata": {},
   "source": [
    "# McLean's Method\n",
    "\n",
    "Doug McLean wrote an article in the 1976 issue of the NFFS Symposium {cite}`mclean` that worked through a scheme for estimating indoor flight times. However the method was purely manual, not what I was after. I decided to use his method as the basis for writing my own code in *Python*. What follows is a walk through Doug's method and an explanation of how I created code to make his scheme more user friendly."
   ]
  },
  {
   "cell_type": "markdown",
   "id": "5f653b7b",
   "metadata": {},
   "source": [
    "Doug starts off with a simple assumption. The power available to our model is a simple function of the weight of the motor. this hardly seems realistic, but it is a decent starting point. \n",
    "\n",
    "\\begin{equation}\n",
    "E = k_m w_m\n",
    "\\end{equation}\n",
    "\n",
    "Where:\n",
    "\n",
    "- k_m is a constant = 30,000 inches\n",
    "- $w_m$ is the motor weight in grams"
   ]
  },
  {
   "cell_type": "markdown",
   "id": "d8fcb543",
   "metadata": {},
   "source": [
    "I will be using data from Gary Hodson's record setting flight in 2003 at the Kibby Dome where is reached a time of 10:18.\n",
    "\n",
    "Let's check the available energy for his motor weight of 0.84 grams:"
   ]
  },
  {
   "cell_type": "code",
   "execution_count": 1,
   "id": "40f461e5",
   "metadata": {},
   "outputs": [],
   "source": [
    "# initialize Jupyter access to mmflight\n",
    "import os\n",
    "import sys\n",
    "module_path = os.path.abspath(os.path.join('..'))\n",
    "if module_path not in sys.path:\n",
    "    sys.path.append(module_path)"
   ]
  },
  {
   "cell_type": "code",
   "execution_count": 2,
   "id": "93730f0c",
   "metadata": {},
   "outputs": [
    {
     "name": "stdout",
     "output_type": "stream",
     "text": [
      "25200.0 gram * inch\n"
     ]
    }
   ],
   "source": [
    "from mmflight.rubber import Rubber\n",
    "\n",
    "r = Rubber()\n",
    "u = r.get_registry()\n",
    "weight = 0.84 * u.gram\n",
    "energy = r.E(weight)\n",
    "print(energy)"
   ]
  },
  {
   "cell_type": "code",
   "execution_count": 3,
   "id": "5724a8b4",
   "metadata": {},
   "outputs": [
    {
     "data": {
      "text/html": [
       "4.629707505882429 foot pound"
      ],
      "text/latex": [
       "$4.629707505882429\\ \\mathrm{foot} \\cdot \\mathrm{pound}$"
      ],
      "text/plain": [
       "4.629707505882429 <Unit('foot * pound')>"
      ]
     },
     "execution_count": 3,
     "metadata": {},
     "output_type": "execute_result"
    }
   ],
   "source": [
    "energy.to('ft * pound')"
   ]
  },
  {
   "cell_type": "markdown",
   "id": "6bd04511",
   "metadata": {},
   "source": [
    "Doug uses a simple equation to predict flight time. It states the the time is proportional to the available energy we just defined.\n",
    "\n",
    "\\begin{equation}\n",
    "t = \n",
    "\\end{equation}"
   ]
  },
  {
   "cell_type": "code",
   "execution_count": null,
   "id": "db490fa4",
   "metadata": {},
   "outputs": [],
   "source": []
  }
 ],
 "metadata": {
  "kernelspec": {
   "display_name": "Python 3 (ipykernel)",
   "language": "python",
   "name": "python3"
  },
  "language_info": {
   "codemirror_mode": {
    "name": "ipython",
    "version": 3
   },
   "file_extension": ".py",
   "mimetype": "text/x-python",
   "name": "python",
   "nbconvert_exporter": "python",
   "pygments_lexer": "ipython3",
   "version": "3.9.9"
  },
  "latex_envs": {
   "LaTeX_envs_menu_present": true,
   "autoclose": false,
   "autocomplete": true,
   "bibliofile": "biblio.bib",
   "cite_by": "apalike",
   "current_citInitial": 1,
   "eqLabelWithNumbers": true,
   "eqNumInitial": 1,
   "hotkeys": {
    "equation": "Ctrl-E",
    "itemize": "Ctrl-I"
   },
   "labels_anchors": false,
   "latex_user_defs": false,
   "report_style_numbering": false,
   "user_envs_cfg": false
  },
  "toc": {
   "base_numbering": 1,
   "nav_menu": {},
   "number_sections": true,
   "sideBar": true,
   "skip_h1_title": false,
   "title_cell": "Table of Contents",
   "title_sidebar": "Contents",
   "toc_cell": false,
   "toc_position": {},
   "toc_section_display": true,
   "toc_window_display": false
  },
  "varInspector": {
   "cols": {
    "lenName": 16,
    "lenType": 16,
    "lenVar": 40
   },
   "kernels_config": {
    "python": {
     "delete_cmd_postfix": "",
     "delete_cmd_prefix": "del ",
     "library": "var_list.py",
     "varRefreshCmd": "print(var_dic_list())"
    },
    "r": {
     "delete_cmd_postfix": ") ",
     "delete_cmd_prefix": "rm(",
     "library": "var_list.r",
     "varRefreshCmd": "cat(var_dic_list()) "
    }
   },
   "types_to_exclude": [
    "module",
    "function",
    "builtin_function_or_method",
    "instance",
    "_Feature"
   ],
   "window_display": false
  }
 },
 "nbformat": 4,
 "nbformat_minor": 5
}
