{
 "cells": [
  {
   "cell_type": "code",
   "execution_count": 12,
   "id": "da90d965",
   "metadata": {},
   "outputs": [],
   "source": [
    "import os\n",
    "import sys\n",
    "projdir = os.path.abspath('../..')\n",
    "if not projdir in sys.path:\n",
    "    sys.path.insert(0,projdir)"
   ]
  },
  {
   "cell_type": "markdown",
   "id": "41fb6ce7",
   "metadata": {},
   "source": [
    "# Power Needed for Level Flight"
   ]
  },
  {
   "cell_type": "markdown",
   "id": "88031883",
   "metadata": {},
   "source": [
    "The equation for kinetic energy is this:\n",
    "\n",
    "\\begin{equation}\n",
    "E = \\frac{1}{2}m V^2\n",
    "\\end{equation}\n",
    "\n",
    "We can determine the energy needed to sustain level flight by plugging in the level flight velocity calculated earlier, and the mass of the model which we can calculate using the weight of the model:"
   ]
  },
  {
   "cell_type": "code",
   "execution_count": 13,
   "id": "f5f56cef",
   "metadata": {},
   "outputs": [],
   "source": [
    "import mmtime"
   ]
  },
  {
   "cell_type": "code",
   "execution_count": 14,
   "id": "e34b6332",
   "metadata": {},
   "outputs": [],
   "source": [
    "import pint\n",
    "u = pint.UnitRegistry()\n",
    "from mmtime.data.models.wart import data"
   ]
  },
  {
   "cell_type": "code",
   "execution_count": 15,
   "id": "ff835cda",
   "metadata": {},
   "outputs": [
    {
     "data": {
      "text/html": [
       "2.06 gram"
      ],
      "text/latex": [
       "$2.06\\ \\mathrm{gram}$"
      ],
      "text/plain": [
       "2.06 <Unit('gram')>"
      ]
     },
     "execution_count": 15,
     "metadata": {},
     "output_type": "execute_result"
    }
   ],
   "source": [
    "wart = data.Wart(u)\n",
    "mdata = wart.model_data()\n",
    "wgt = mdata['flying_wgt']\n",
    "wgt"
   ]
  },
  {
   "cell_type": "markdown",
   "id": "dc0242bc",
   "metadata": {},
   "source": [
    "From our previous calculations, we found the level flight speed:"
   ]
  },
  {
   "cell_type": "code",
   "execution_count": 16,
   "id": "c0d4e145",
   "metadata": {},
   "outputs": [
    {
     "data": {
      "text/html": [
       "1.3142976000000002 meter/second"
      ],
      "text/latex": [
       "$1.3142976000000002\\ \\frac{\\mathrm{meter}}{\\mathrm{second}}$"
      ],
      "text/plain": [
       "1.3142976000000002 <Unit('meter / second')>"
      ]
     },
     "execution_count": 16,
     "metadata": {},
     "output_type": "execute_result"
    }
   ],
   "source": [
    "V = 2.94*u.miles/u.hour\n",
    "V.to_base_units()"
   ]
  },
  {
   "cell_type": "markdown",
   "id": "5692703c",
   "metadata": {},
   "source": [
    "The mass of the model is found by dividing its weight by the force of gravity. **pint** makes this easy:"
   ]
  },
  {
   "cell_type": "code",
   "execution_count": 17,
   "id": "fb9b4c43",
   "metadata": {},
   "outputs": [
    {
     "data": {
      "text/html": [
       "0.0013122702269846673 foot pound"
      ],
      "text/latex": [
       "$0.0013122702269846673\\ \\mathrm{foot} \\cdot \\mathrm{pound}$"
      ],
      "text/plain": [
       "0.0013122702269846673 <Unit('foot * pound')>"
      ]
     },
     "execution_count": 17,
     "metadata": {},
     "output_type": "execute_result"
    }
   ],
   "source": [
    "E = 0.5 * wgt/u.gravity*V**2\n",
    "E.to('ft*pound')"
   ]
  },
  {
   "cell_type": "markdown",
   "id": "22ef028e",
   "metadata": {},
   "source": [
    "Let's try McLean's equation that gives us the energy available from a motor of some specified weight. We will use data from the *Wart*:"
   ]
  },
  {
   "cell_type": "code",
   "execution_count": 18,
   "id": "52cf51e1",
   "metadata": {},
   "outputs": [
    {
     "data": {
      "text/html": [
       "4.739938636974868 foot pound"
      ],
      "text/latex": [
       "$4.739938636974868\\ \\mathrm{foot} \\cdot \\mathrm{pound}$"
      ],
      "text/plain": [
       "4.739938636974868 <Unit('foot * pound')>"
      ]
     },
     "execution_count": 18,
     "metadata": {},
     "output_type": "execute_result"
    }
   ],
   "source": [
    "w_m = 0.86 * u.gram\n",
    "k_m = 30000 * u.inches\n",
    "E = k_m * w_m\n",
    "E.to('ft*pound')"
   ]
  },
  {
   "cell_type": "markdown",
   "id": "6bdb1092",
   "metadata": {},
   "source": [
    "That seems like a lot of energy, and it probably explains why a broken motor can destroy a model!\n",
    "\n",
    "McLean presented a simple formula he used to predict model flight time:\n",
    "\n",
    "\\begin{equation}\n",
    "t = \\eta_{av} E/P\n",
    "\\end{equation}\n",
    "\n",
    "Where P is the power to maintain level flight and $\\eta_{av}$ is an efficiency factor given by this next equation:\n",
    "\n",
    "\\begin{equation}\n",
    "\\eta_{av} = F \\eta_p\n",
    "\\end{equation}\n",
    "\n",
    "Here $\\eta_p$ is a propeller efficiency based on thrust, airspeed, prop speed, and size. $F$ is a \"fudge\" factor. McLean used data from a variety of indoor models to generate a curve that could be used to get a suitable value for $F$. Unfortunately, the *A-6* class did not exist when this study was conducted, so we will need to guess at a value. \n",
    "\n",
    "McLean's curve for $F$ uses a \"ceiling height\" factor given by this formula:\n",
    "\n",
    "\\begin{equation}\n",
    "H_e = \\frac{h}{483W_m/W}\n",
    "\\end{equation}\n",
    "\n",
    "Here $h$ is the ceiling height of our site, $W_m$ is the motor weight and $W$ is the total model weight. \n",
    "\n",
    "The propeller efficiency McLean used was calculated from classical propeller theory which assumes that the propeller is designed to be as efficient as possible. Unfortunately, the A-6 class severely restricts the design of the propeller, so it is far from optimal! "
   ]
  },
  {
   "cell_type": "markdown",
   "id": "b7c78b24",
   "metadata": {},
   "source": [
    "As an experiment, let's use Gary's *Wart* data to see what value for propeller efficiency this would produce."
   ]
  },
  {
   "cell_type": "code",
   "execution_count": 21,
   "id": "6312ff5b",
   "metadata": {},
   "outputs": [
    {
     "data": {
      "text/html": [
       "0.22220505561172899 meter"
      ],
      "text/latex": [
       "$0.22220505561172899\\ \\mathrm{meter}$"
      ],
      "text/plain": [
       "0.22220505561172899 <Unit('meter')>"
      ]
     },
     "execution_count": 21,
     "metadata": {},
     "output_type": "execute_result"
    }
   ],
   "source": [
    "h = 147.0 * u.feet # Kibbie Dome\n",
    "Wm = 0.86 * u.grams\n",
    "He = h/(483 * Wm / wgt)\n",
    "He.to_base_units()"
   ]
  },
  {
   "cell_type": "markdown",
   "id": "5fdeaa0c",
   "metadata": {},
   "source": [
    "Looking at McLean's curve, this value would produce a value for $F$ of about 0.55. \n",
    "\n",
    "McLean also stated that the most common value for $\\eta_p$ is around 0.77. (The A-6 prop value is probably lower than this, but we will use it for now."
   ]
  },
  {
   "cell_type": "code",
   "execution_count": 22,
   "id": "99c6cf52",
   "metadata": {},
   "outputs": [
    {
     "data": {
      "text/plain": [
       "0.42350000000000004"
      ]
     },
     "execution_count": 22,
     "metadata": {},
     "output_type": "execute_result"
    }
   ],
   "source": [
    "F = 0.55\n",
    "eta_p = 0.77\n",
    "eta_av = F * eta_p\n",
    "eta_av"
   ]
  },
  {
   "cell_type": "markdown",
   "id": "25c65cfa",
   "metadata": {},
   "source": [
    "Now we use the flight data from Gary's record flight to get an estimat of the power required from the propeller:"
   ]
  },
  {
   "cell_type": "code",
   "execution_count": 24,
   "id": "85331518",
   "metadata": {},
   "outputs": [
    {
     "data": {
      "text/html": [
       "0.0004490744660194175 kilogram meter/second"
      ],
      "text/latex": [
       "$0.0004490744660194175\\ \\frac{\\mathrm{kilogram} \\cdot \\mathrm{meter}}{\\mathrm{second}}$"
      ],
      "text/plain": [
       "0.0004490744660194175 <Unit('kilogram * meter / second')>"
      ]
     },
     "execution_count": 24,
     "metadata": {},
     "output_type": "execute_result"
    }
   ],
   "source": [
    "t = 618.0 * u.seconds\n",
    "P = eta_av* E / t\n",
    "P.to_base_units()"
   ]
  },
  {
   "cell_type": "code",
   "execution_count": null,
   "id": "5a5d8f8c",
   "metadata": {},
   "outputs": [],
   "source": []
  }
 ],
 "metadata": {
  "kernelspec": {
   "display_name": "Python 3 (ipykernel)",
   "language": "python",
   "name": "python3"
  },
  "language_info": {
   "codemirror_mode": {
    "name": "ipython",
    "version": 3
   },
   "file_extension": ".py",
   "mimetype": "text/x-python",
   "name": "python",
   "nbconvert_exporter": "python",
   "pygments_lexer": "ipython3",
   "version": "3.10.4"
  },
  "toc": {
   "base_numbering": 1,
   "nav_menu": {},
   "number_sections": true,
   "sideBar": true,
   "skip_h1_title": false,
   "title_cell": "Table of Contents",
   "title_sidebar": "Contents",
   "toc_cell": false,
   "toc_position": {},
   "toc_section_display": true,
   "toc_window_display": false
  },
  "varInspector": {
   "cols": {
    "lenName": 16,
    "lenType": 16,
    "lenVar": 40
   },
   "kernels_config": {
    "python": {
     "delete_cmd_postfix": "",
     "delete_cmd_prefix": "del ",
     "library": "var_list.py",
     "varRefreshCmd": "print(var_dic_list())"
    },
    "r": {
     "delete_cmd_postfix": ") ",
     "delete_cmd_prefix": "rm(",
     "library": "var_list.r",
     "varRefreshCmd": "cat(var_dic_list()) "
    }
   },
   "types_to_exclude": [
    "module",
    "function",
    "builtin_function_or_method",
    "instance",
    "_Feature"
   ],
   "window_display": false
  }
 },
 "nbformat": 4,
 "nbformat_minor": 5
}
