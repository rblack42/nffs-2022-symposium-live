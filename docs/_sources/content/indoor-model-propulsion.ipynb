{
 "cells": [
  {
   "cell_type": "markdown",
   "id": "a9b9363f",
   "metadata": {},
   "source": [
    "# Indoor Model Propulsion"
   ]
  },
  {
   "cell_type": "markdown",
   "id": "17bac182",
   "metadata": {},
   "source": [
    "We need to find a way to estimate how much power we can expect the propulsion system to deliver in order to complete our calculations. Unfortunately, this is a very complex issue. There are many variables: rubber dimensions, winding turn count and torque, and prop blade geometry. Some of these will not be known until you have a few flights logged. What can propeller theory tell us? "
   ]
  },
  {
   "cell_type": "markdown",
   "id": "9b22c622",
   "metadata": {},
   "source": [
    "## Actuator Disk Theory"
   ]
  },
  {
   "cell_type": "markdown",
   "id": "bbb8c9dd",
   "metadata": {},
   "source": [
    "\n",
    "We know we will be building a propeller of some sort, and attaching a wound-up rubber motor to that propeller. The model class rules tell us something about the propeller, but for the A6 class, not much about the rubber motor. Let's start with a look at the propeller.\n",
    "\n",
    "A common tactic in thinking about a complex topic, and propellers are certainly complex beasts, is to step back from the details of the problem and take a look at the \"big picture\". At that high level, the propeller's job is pretty simple: Take a bite out of the air in front of the propeller, and push that bite toward the rear at a higher speed. This simple view is complicated a bit if the propeller is moving with the vehicle, but the idea remains the same. If we reduce the propeller to a simple disk and magically have the air increase its speed as it passes through this disk, we can come up with some simple equations for what has to happen."
   ]
  },
  {
   "cell_type": "code",
   "execution_count": 2,
   "id": "14c90c01",
   "metadata": {},
   "outputs": [],
   "source": [
    "%reload_ext tikzmagic"
   ]
  },
  {
   "cell_type": "code",
   "execution_count": 25,
   "id": "a4d6dfed",
   "metadata": {
    "scrolled": false
   },
   "outputs": [
    {
     "data": {
      "image/png": "[encoded data removed]"
     },
     "metadata": {},
     "output_type": "display_data"
    }
   ],
   "source": [
    "%%tikz\n",
    "\\draw (-2,7) -- (6,7) -- (6,-3) -- (-2,-3) -- cycle;\n",
    "\\draw (2,7) -- (2,-2);\n",
    "\\draw (-2,3) -- (6,3);\n",
    "\\draw [ultra thick,->] (-3,3) -- node[above left] {$V_\\infty$}(-1,3);\n",
    "\\draw [ultra thick, ->](5,3) -- node[above right] {$V_e$}(7,3);\n",
    "\\draw [ultra thick] (2,1) -- (2,5);\n",
    "\\draw (-2,0) \n",
    "    -- (0,0) \n",
    "    to [bend right] (2,1) \n",
    "    to [bend left] (4,2) \n",
    "    -- (6,2);\n",
    "\\draw (-2,6)\n",
    "    -- (0,6)\n",
    "    to [bend left] (2,5)\n",
    "    to [bend right] (4,4)\n",
    "    -- (6,4);"
   ]
  },
  {
   "cell_type": "markdown",
   "id": "97fcb81e",
   "metadata": {},
   "source": [
    "We are going to assume that the mass of air entering this curved tube (this is a cross section of the circular tube) will equal the mass leaving the tube. The propeller disk will cause the velocity to jump as the air crosses this disk. From Bernoulli's equation, we can calculate the change in pressure that must occur across the disk:\n",
    "\n",
    "We can calculate the thrust that will result by looking at the change of momentum across the disk:\n",
    "    \n",
    "\\begin{equation}\n",
    "T = \\dot{m}(V_e - V_\\infty)\n",
    "\\end{equation}\n",
    "\n",
    "This thrust is also given by the pressure difference on either side of the disk:\n",
    "\n",
    "\\begin{equation}\n",
    "T = A_{disk}(p2 - p1)\n",
    "\\end{equation}\n",
    "\n",
    "The power added to this flow is equal to the change in kinetic energy;\n",
    "\n",
    "\\begin{equation}\n",
    "P = \\frac{1}{2} \\dot{m}(V_\\infty^2 - V_e^2)\n",
    "\\end{equation}\n",
    "\n",
    "if this propeller disk was actually powering our model, the power it woul dbe producing is just the thrust times the velocity $V_\\infty$:\n",
    "\n",
    "\\begin{equation}\n",
    "P_{prop} = T V_\\infty\n",
    "\\end{equation}\n",
    "\n",
    "The efficiency of this propeller $\\eta_p$ is the ratio on th propeller power to the power that was added to the system:\n",
    "\n",
    "\\begin{equation}\n",
    "\\eta_p = \\frac{T V_\\infty}{\\dot{m}(V_\\infty^2 - V_e^2)}\n",
    "\\end{equation}\n"
   ]
  },
  {
   "cell_type": "markdown",
   "id": "49a41a17",
   "metadata": {},
   "source": [
    "For a model moving at velocity $V$ with a propeller rotating at speed $n$ revolutions per second, any section of the propeller has a rotational speed of $u$ = $r\\omega$ = $2\\pi r n$. Here, $\\omega$ is the angular velocity of the propeller.\n",
    "\n",
    "The resulting velocity vector represents a free stream velocity over the airfoil section at that radius. We set the propeller blade at some pitch angle $\\gamma$, so the effective angle of attack of that propeller section is $\\gamma - \\alpha$. "
   ]
  },
  {
   "cell_type": "code",
   "execution_count": 3,
   "id": "08ad3abb",
   "metadata": {},
   "outputs": [
    {
     "data": {
      "image/png": "[encoded data removed]"
     },
     "metadata": {},
     "output_type": "display_data"
    }
   ],
   "source": [
    "%%tikz -l angles\n",
    "\n",
    "\\draw (-2,0) -- (4,0);\n",
    "\\draw [ultra thick,->](0,0) -- node [below]{u}(2.5,0);\n",
    "\\draw[->] (0,-1) -- (0,2) node[above] {T};\n",
    "\\draw [ultra thin](0,0) -- ++(30:3.5);\n",
    "\\draw [ultra thin](0,0) -- ++(20:3.5);\n",
    "\\draw[ultra thick] (0,0) -- ++(30:1);\n",
    "\\draw[ultra thick] (0,0) --++(210:1);\n",
    "\\draw[thick, ->] (2.5,0)\n",
    "    -- node[right] {V} ++(90:{2.5*tan(20)});\n",
    "\\draw[red,<->] (0,0)+(0:2) arc (0:20:2);\n",
    "\\path (0,0) -- ++ (10:1.75) node {$\\alpha$}; \n",
    "\\draw[blue,<->] (0,0)+(0:3) arc (0:30:3);\n",
    "\\path (0,0) -- ++ (10:3.125) node[right] {$\\gamma$}; "
   ]
  },
  {
   "cell_type": "markdown",
   "id": "a2bffe61",
   "metadata": {},
   "source": [
    "From this figure we see that:\n",
    "\n",
    "\\begin{equation}\\label{eq:}\n",
    "\\tan{\\gamma} = \\frac{V}{u} = \\frac{V}{2 \\pi r n}\n",
    "\\end{equation}\n"
   ]
  },
  {
   "cell_type": "markdown",
   "id": "ee9ad264",
   "metadata": {},
   "source": [
    "If $d$ is the diameter of the propeller, then the *advance ratio* $J$ is defined as:\n",
    "    \n",
    "\\begin{equation}\n",
    "J = \\frac{V}{n d}\n",
    "\\end{equation}\n",
    "\n",
    "The propeller torque is defined as:\n",
    "\n",
    "\\begin{equation}\n",
    "Q = \\rho n^2 d^5 C_q\n",
    "\\end{equation}\n",
    "\n",
    "where $C_q$ is a non-dimensional torque coefficient.\n",
    "\n",
    "The propeller thrust is defined as:\n",
    "\n",
    "\\begin{equation}\n",
    "T = \\rho n^2 d^4 C_t\n",
    "\\end{equation}\n",
    "\n",
    "\n",
    "The propeller power is defined as:\n",
    "\n",
    "\\begin{equation}\n",
    "P = 2 \\pi n Q = \\rho n^3 d^5 C_p\n",
    "\\end{equation}\n",
    "\n",
    "The efficiency of the propeller is the ratio of the power output that moves the airplane to input to power applied to the prop shaft. \n",
    "\n",
    "\\begin{equation}\n",
    "\\eta = \\frac{T V}{P} = \\frac{T V}{2 \\pi n Q} = \\frac{C_t}{C_p} J\n",
    "\\end{equation}\n",
    "\n",
    "\n",
    "\n"
   ]
  },
  {
   "cell_type": "code",
   "execution_count": null,
   "id": "5df6826e",
   "metadata": {},
   "outputs": [],
   "source": []
  }
 ],
 "metadata": {
  "kernelspec": {
   "display_name": "Python 3 (ipykernel)",
   "language": "python",
   "name": "python3"
  },
  "language_info": {
   "codemirror_mode": {
    "name": "ipython",
    "version": 3
   },
   "file_extension": ".py",
   "mimetype": "text/x-python",
   "name": "python",
   "nbconvert_exporter": "python",
   "pygments_lexer": "ipython3",
   "version": "3.10.2"
  },
  "latex_envs": {
   "LaTeX_envs_menu_present": true,
   "autoclose": false,
   "autocomplete": true,
   "bibliofile": "biblio.bib",
   "cite_by": "apalike",
   "current_citInitial": 1,
   "eqLabelWithNumbers": true,
   "eqNumInitial": 1,
   "hotkeys": {
    "equation": "Ctrl-E",
    "itemize": "Ctrl-I"
   },
   "labels_anchors": false,
   "latex_user_defs": false,
   "report_style_numbering": false,
   "user_envs_cfg": false
  },
  "toc": {
   "base_numbering": 1,
   "nav_menu": {},
   "number_sections": true,
   "sideBar": true,
   "skip_h1_title": false,
   "title_cell": "Table of Contents",
   "title_sidebar": "Contents",
   "toc_cell": false,
   "toc_position": {},
   "toc_section_display": true,
   "toc_window_display": false
  },
  "varInspector": {
   "cols": {
    "lenName": 16,
    "lenType": 16,
    "lenVar": 40
   },
   "kernels_config": {
    "python": {
     "delete_cmd_postfix": "",
     "delete_cmd_prefix": "del ",
     "library": "var_list.py",
     "varRefreshCmd": "print(var_dic_list())"
    },
    "r": {
     "delete_cmd_postfix": ") ",
     "delete_cmd_prefix": "rm(",
     "library": "var_list.r",
     "varRefreshCmd": "cat(var_dic_list()) "
    }
   },
   "types_to_exclude": [
    "module",
    "function",
    "builtin_function_or_method",
    "instance",
    "_Feature"
   ],
   "window_display": false
  }
 },
 "nbformat": 4,
 "nbformat_minor": 5
}
