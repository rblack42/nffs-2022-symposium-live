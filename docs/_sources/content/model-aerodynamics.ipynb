{
 "cells": [
  {
   "cell_type": "markdown",
   "id": "713c93ad",
   "metadata": {},
   "source": [
    "# Basic Aerodynamics"
   ]
  },
  {
   "cell_type": "code",
   "execution_count": 3,
   "id": "11fda064",
   "metadata": {},
   "outputs": [],
   "source": [
    "import pint\n",
    "u = pint.UnitRegistry()"
   ]
  },
  {
   "cell_type": "markdown",
   "id": "bd50f8b1",
   "metadata": {},
   "source": [
    "In aerodynamics, we work with non-dimensional coefficients to that help us compare airfoil sections. Here are the basic force definitions used:\n",
    "\n",
    "\\begin{equation}\n",
    "L = \\frac{1}{2}\\rho u^2 C_l S\n",
    "\\end{equation}\n",
    "\n",
    "\\begin{equation}\n",
    "D = \\frac{1}{2}\\rho u^2 C_d S\n",
    "\\end{equation}\n",
    "\n",
    "\\begin{equation}\n",
    "M = \\frac{1}{2}\\rho u^2 C_n S c\n",
    "\\end{equation}\n",
    "\n",
    "In these equations, $\\rho$ is the density of the air, $u$ is the forward velocity, $S$ is a reference area, usually the projected area of the surface, and $c$ is a reference length, usually the chord of the surface."
   ]
  },
  {
   "cell_type": "markdown",
   "id": "49340936",
   "metadata": {},
   "source": [
    "Based on McLean's development, we assume that model is trimmed so it is flying with these aerodynamic coefficient values:\n",
    "\n",
    "- $C_{l,w}$ = 1.0 - wing lift coefficient\n",
    "- $C_{m,w}$ = -0.10 - wing pitching moment\n",
    "- $C_{m,s}$ = 0.05 - stab pitching moment\n",
    "\n",
    "In order to maintain that level flight, we need to balance all of the forces acting on the model. However, we are missing three coefficients: The drag coefficients for the wing and stab, and the lift coefficient for the stab. (Notice we have not mentioned the airfoil in any of this so far!)"
   ]
  },
  {
   "cell_type": "markdown",
   "id": "73300f81",
   "metadata": {},
   "source": [
    "## Simplified Airfoil Theory\n",
    "\n",
    "Long before computers first appeared, aeronautical research involved watching vehicles fly and thinking about what was going on in the air around that vehicle. They then tried to come up with mathematical approximations that seemed to agree with their observations. This thinking led to two theories that we will use here: *Thin Airfoil Theory* developed by Munk and Glauert in the 1920's {cite}`glauert` and *Lifting Line Theory* developed by Lanchester and Prandtl {cite}`prandtl`shortly after the Wright Brothers first flew. Their work tried to account for the  vortexes observed at the tips of flying surfaces."
   ]
  },
  {
   "cell_type": "markdown",
   "id": "c1a2911c",
   "metadata": {},
   "source": [
    "### Thin Airfoil Theory\n",
    "\n",
    "We do not need to explore this theory here, but the key development we need is this approximation for the lift coefficient:\n",
    "\n",
    "\\begin{equation}\n",
    "C_l = c_{l,0} + 2\\pi\\alpha\n",
    "\\end{equation}\n",
    "\n",
    "Here, $\\alpha$ is the angle of attack relative to the forward velocity, and $c_{l,0}$ is the lift coefficient at $\\alpha = 0$. For the cambered airfoils we use, this is non-zero, unless your airfoil is flat!"
   ]
  },
  {
   "cell_type": "markdown",
   "id": "65425a56",
   "metadata": {},
   "source": [
    "### Lifting-Line Theory\n",
    "\n",
    "If you try to use the theory of wing sections developed using Thin Airfoil Theory to a 3-dimensional wing, you run into a problem. The actual lift generated across the span is not constant. It drops off as you reach the tips. In an attempt to compensate for this, Lanchester and Prandtl came up with an adjustment to the calculations that seemed to account for variations in aspect ratios that were observed.\n",
    "\n",
    "The end result of this theory is the introduction of an *induced drag* component:\n",
    "\n",
    "\\begin{equation}\n",
    "C_{d,i} = \\frac{C_l^2}{\\pi A_R e}\n",
    "\\end{equation}\n",
    "\n",
    "Here, $AR$ is the aspect ratio of the wing, and $e$ is an *efficiency factor*.\n",
    "\n",
    "\n",
    "This *induced drag* is only part of he total drag produced by a flying wing. There is also a surface drag caused by the friction of the air moving over the surface, for instance, a *profile drag* caused by pushing the surface through the air.\n",
    "\n",
    "The profile drag can be approximated by:\n",
    "\n",
    "\\begin{equation}\n",
    "C_p = \n",
    "\\end{equation}"
   ]
  },
  {
   "cell_type": "markdown",
   "id": "7c747006",
   "metadata": {},
   "source": [
    "The lift and drag forces will be calculated using the definitions of the lift and drag coefficients:\n",
    "    \n",
    "\\begin{equation}\n",
    "C_l = \\frac{2L}{\\rho u^2 S}\n",
    "\\end{equation}\n",
    "\n",
    "or\n",
    "\n",
    "\n",
    "\n",
    "IN these equations, **L** and **D** are the lift forces, **S** is the surface area of the wing or stab, $\\rho$ is the air density and **u** is the flight velocity. \n",
    "\n",
    "Similarly:\n",
    "\n",
    "\n",
    "Formally, we should also include the moment coefficient, which accounts for the center of pressure not falling exactly at the aerodynamic center\n",
    "\n",
    "\n",
    "\n",
    "Where **c** is the mean chord.\n",
    "\n",
    "For testing purposes, we will use these values for density and velocity:\n",
    "\n"
   ]
  },
  {
   "cell_type": "code",
   "execution_count": 4,
   "id": "db2ea61e",
   "metadata": {},
   "outputs": [],
   "source": [
    "arms = {\n",
    "    'thrust': (-2.5 * u.inch, -0.125*u.inch),\n",
    "    'weight': (0*u.inch,0*u.inch),\n",
    "    'wing_ac': (-1*u.inch,1*u.inch),\n",
    "    'stab_ac': (4*u.inch,-1*u.inch),\n",
    "}"
   ]
  },
  {
   "cell_type": "code",
   "execution_count": 5,
   "id": "35cb192d",
   "metadata": {},
   "outputs": [],
   "source": [
    "forces = {\n",
    "    'thrust': 0.05*u.grams,\n",
    "    'weight': 2.06*u.grams,\n",
    "    'lift_wing': 1.5*u.grams,\n",
    "    'drag_wing': 0.03*u.grams,\n",
    "    'lift_stab': -0.4*u.grams,\n",
    "    'drag_stab': 0.015*u.grams\n",
    "}"
   ]
  },
  {
   "cell_type": "markdown",
   "id": "523d38a7",
   "metadata": {},
   "source": [
    "We can now write a simple function that determines the moment around the **CG** for given values of the various terms. To simplify this function, we will create a Python dictionary holding the values.\n",
    "\n",
    "It should be apparent that all six force vectors need to be considered, since none of them (except weight) align with the center of gravity. "
   ]
  },
  {
   "cell_type": "code",
   "execution_count": 6,
   "id": "3c77a75d",
   "metadata": {},
   "outputs": [],
   "source": [
    "def moment(a,f, debug=False):\n",
    "    \n",
    "    # thrust moment\n",
    "    ta = a['thrust'][1] # y \n",
    "    tf = f['thrust']\n",
    "    tm = ta * tf\n",
    "    if debug:\n",
    "        print(\"Thrust moment:\",tm)\n",
    "    # weight  - no moment, but we will calculate it anyway\n",
    "    wa = a['weight'][0]\n",
    "    wf = f['weight']\n",
    "    wm = wa * wf\n",
    "    if debug:\n",
    "        print(\"Weight moment:\",wm)\n",
    "    \n",
    "    # wing lift moment\n",
    "    wla = a['wing_ac'][0]\n",
    "    wlf = f['lift_wing']\n",
    "    wlm = wla * wlf\n",
    "    if debug:\n",
    "        print(\"Wing lift moment:\",wlm)\n",
    "    \n",
    "    # wing drag moment\n",
    "    wda = a['wing_ac'][1]\n",
    "    wdf = f['drag_wing']\n",
    "    wdm = wda * wdf\n",
    "    if debug:\n",
    "        print(\"Wing drag moment:\",wdm)    \n",
    "    \n",
    "    # stab lift moment\n",
    "    sla = a['stab_ac'][0]\n",
    "    slf = f['lift_stab']\n",
    "    slm = sla * slf\n",
    "    if debug:\n",
    "        print(\"Stab lift moment:\",slm)    \n",
    "    \n",
    "    # stab drag moment\n",
    "    sda = a['stab_ac'][1]\n",
    "    sdf = f['drag_stab']\n",
    "    sdm = sda * sdf \n",
    "    if debug:\n",
    "        print(\"Stab drag moment:\",sdm)\n",
    "        \n",
    "    total_moment = tm + wm + wlm + wdm + slm + sdm \n",
    "    print('total moment =',total_moment)\n"
   ]
  },
  {
   "cell_type": "code",
   "execution_count": 7,
   "id": "b2de6f13",
   "metadata": {},
   "outputs": [
    {
     "name": "stdout",
     "output_type": "stream",
     "text": [
      "Thrust moment: -0.00625 gram * inch\n",
      "Weight moment: 0.0 gram * inch\n",
      "Wing lift moment: -1.5 gram * inch\n",
      "Wing drag moment: 0.03 gram * inch\n",
      "Stab lift moment: -1.6 gram * inch\n",
      "Stab drag moment: -0.015 gram * inch\n",
      "total moment = -3.09125 gram * inch\n"
     ]
    }
   ],
   "source": [
    "moment(arms, forces, debug=True)"
   ]
  },
  {
   "cell_type": "markdown",
   "id": "ead3048a",
   "metadata": {},
   "source": [
    "By convention, a positive moment pitched the node up. So this one is going to fly about like many of my  first flights!\n",
    "\n",
    "For stable level flight, the total moment needs to be zero. Obviously, I threw in random values here, and our goal is to produce all of these numbers from our design and a little help from aerodynamics theory.\n",
    "\n",
    "The nice thing about using code to help us make these calculations is that we can run parametric tests and see results quickly, We will use that fact later."
   ]
  },
  {
   "cell_type": "markdown",
   "id": "5b84cee8",
   "metadata": {},
   "source": [
    "let's see what we have now:"
   ]
  },
  {
   "cell_type": "markdown",
   "id": "821c5459",
   "metadata": {},
   "source": [
    "We estimated the mean chord values by dividing the projected area by the projected span. The location of the mean aerodynamic centers for both surfaces is set at the quarter chord point. We will locate it from the trailing edges since both are straight on the plans.\n",
    "\n"
   ]
  },
  {
   "cell_type": "code",
   "execution_count": 8,
   "id": "5aa72f40",
   "metadata": {},
   "outputs": [
    {
     "ename": "NameError",
     "evalue": "name 'wing' is not defined",
     "output_type": "error",
     "traceback": [
      "\u001b[0;31m---------------------------------------------------------------------------\u001b[0m",
      "\u001b[0;31mNameError\u001b[0m                                 Traceback (most recent call last)",
      "\u001b[0;32m/var/folders/t9/hc5s57h95tj3rsp4qvk61m8m0000gn/T/ipykernel_39998/3115456486.py\u001b[0m in \u001b[0;36m<module>\u001b[0;34m\u001b[0m\n\u001b[1;32m      6\u001b[0m \u001b[0mflight\u001b[0m\u001b[0;34m[\u001b[0m\u001b[0;34m'kinematic_viscosity'\u001b[0m\u001b[0;34m]\u001b[0m \u001b[0;34m=\u001b[0m \u001b[0mflight\u001b[0m\u001b[0;34m[\u001b[0m\u001b[0;34m'dynamic_viscosity'\u001b[0m\u001b[0;34m]\u001b[0m\u001b[0;34m/\u001b[0m\u001b[0mflight\u001b[0m\u001b[0;34m[\u001b[0m\u001b[0;34m'density'\u001b[0m\u001b[0;34m]\u001b[0m\u001b[0;34m\u001b[0m\u001b[0;34m\u001b[0m\u001b[0m\n\u001b[1;32m      7\u001b[0m \u001b[0mflight\u001b[0m\u001b[0;34m[\u001b[0m\u001b[0;34m'q'\u001b[0m\u001b[0;34m]\u001b[0m \u001b[0;34m=\u001b[0m \u001b[0;36m0.5\u001b[0m\u001b[0;34m*\u001b[0m \u001b[0;34m(\u001b[0m\u001b[0mflight\u001b[0m\u001b[0;34m[\u001b[0m\u001b[0;34m'density'\u001b[0m\u001b[0;34m]\u001b[0m \u001b[0;34m*\u001b[0m \u001b[0mflight\u001b[0m\u001b[0;34m[\u001b[0m\u001b[0;34m'velocity'\u001b[0m\u001b[0;34m]\u001b[0m \u001b[0;34m**\u001b[0m \u001b[0;36m2\u001b[0m\u001b[0;34m)\u001b[0m\u001b[0;34m\u001b[0m\u001b[0;34m\u001b[0m\u001b[0m\n\u001b[0;32m----> 8\u001b[0;31m \u001b[0mflight\u001b[0m\u001b[0;34m[\u001b[0m\u001b[0;34m'wing_re'\u001b[0m\u001b[0;34m]\u001b[0m \u001b[0;34m=\u001b[0m \u001b[0mflight\u001b[0m\u001b[0;34m[\u001b[0m\u001b[0;34m'density'\u001b[0m\u001b[0;34m]\u001b[0m \u001b[0;34m*\u001b[0m \u001b[0mflight\u001b[0m\u001b[0;34m[\u001b[0m\u001b[0;34m'velocity'\u001b[0m\u001b[0;34m]\u001b[0m \u001b[0;34m*\u001b[0m \u001b[0mwing\u001b[0m\u001b[0;34m[\u001b[0m\u001b[0;34m'mean_chord'\u001b[0m\u001b[0;34m]\u001b[0m \u001b[0;34m/\u001b[0m \u001b[0mflight\u001b[0m\u001b[0;34m[\u001b[0m\u001b[0;34m'dynamic_viscosity'\u001b[0m\u001b[0;34m]\u001b[0m\u001b[0;34m\u001b[0m\u001b[0;34m\u001b[0m\u001b[0m\n\u001b[0m\u001b[1;32m      9\u001b[0m \u001b[0mflight\u001b[0m\u001b[0;34m[\u001b[0m\u001b[0;34m'stab_re'\u001b[0m\u001b[0;34m]\u001b[0m \u001b[0;34m=\u001b[0m \u001b[0mflight\u001b[0m\u001b[0;34m[\u001b[0m\u001b[0;34m'density'\u001b[0m\u001b[0;34m]\u001b[0m \u001b[0;34m*\u001b[0m \u001b[0mflight\u001b[0m\u001b[0;34m[\u001b[0m\u001b[0;34m'velocity'\u001b[0m\u001b[0;34m]\u001b[0m \u001b[0;34m*\u001b[0m \u001b[0mstab\u001b[0m\u001b[0;34m[\u001b[0m\u001b[0;34m'mean_chord'\u001b[0m\u001b[0;34m]\u001b[0m \u001b[0;34m/\u001b[0m \u001b[0mflight\u001b[0m\u001b[0;34m[\u001b[0m\u001b[0;34m'dynamic_viscosity'\u001b[0m\u001b[0;34m]\u001b[0m\u001b[0;34m\u001b[0m\u001b[0;34m\u001b[0m\u001b[0m\n\u001b[1;32m     10\u001b[0m \u001b[0;34m\u001b[0m\u001b[0m\n",
      "\u001b[0;31mNameError\u001b[0m: name 'wing' is not defined"
     ]
    }
   ],
   "source": [
    "flight = {\n",
    "    'density': 0.00231683 *u.slugs/u.ft**3,\n",
    "    'dynamic_viscosity': 0.0000180338 * u.pascal * u.second,\n",
    "    'velocity': 2.0 * u.mph\n",
    "}\n",
    "flight['kinematic_viscosity'] = flight['dynamic_viscosity']/flight['density']\n",
    "flight['q'] = 0.5* (flight['density'] * flight['velocity'] ** 2)\n",
    "flight['wing_re'] = flight['density'] * flight['velocity'] * wing['mean_chord'] / flight['dynamic_viscosity']\n",
    "flight['stab_re'] = flight['density'] * flight['velocity'] * stab['mean_chord'] / flight['dynamic_viscosity']\n",
    "\n",
    "dict_print(flight)"
   ]
  },
  {
   "cell_type": "code",
   "execution_count": 102,
   "id": "f0f1dedc",
   "metadata": {},
   "outputs": [
    {
     "data": {
      "text/html": [
       "2917.575722064471 dimensionless"
      ],
      "text/latex": [
       "$2917.575722064471\\ dimensionless$"
      ],
      "text/plain": [
       "2917.575722064471 <Unit('dimensionless')>"
      ]
     },
     "execution_count": 102,
     "metadata": {},
     "output_type": "execute_result"
    }
   ],
   "source": [
    "wing_re = flight['wing_re'].to_base_units()\n",
    "wing_re"
   ]
  },
  {
   "cell_type": "code",
   "execution_count": 104,
   "id": "33d30c1a",
   "metadata": {},
   "outputs": [
    {
     "data": {
      "text/html": [
       "2067.5036243705945 dimensionless"
      ],
      "text/latex": [
       "$2067.5036243705945\\ dimensionless$"
      ],
      "text/plain": [
       "2067.5036243705945 <Unit('dimensionless')>"
      ]
     },
     "execution_count": 104,
     "metadata": {},
     "output_type": "execute_result"
    }
   ],
   "source": [
    "stab_re = flight['stab_re'].to_base_units()\n",
    "stab_re"
   ]
  },
  {
   "cell_type": "markdown",
   "id": "da663f42",
   "metadata": {},
   "source": [
    "Getting airfoil data for these Reynolds Numbers is not easy. McLean arbitrarily used a $C_lw$ of 1.0, and calculated the required $C_ls* to balance moments. He used pitching moment coefficient values of -0.10 and -0.05 for the wing and stab.He did not include any other forces. \n",
    "\n",
    "Rather than just use these numbers, we will use the most basic theories of aerodynamics to estimate the coefficients. \n",
    "\n",
    "*Thin Airfoil Theory*, is often used as a first approximation for calculating lift and pitching moment data. If we use *Prandtl's Lifting Line Theory* we can get an approximation for the induced drag, and profile drag which together as the major sources of drag at low speeds.\n",
    "\n",
    "we can estimate the $C_d$ values by examining typical lift/drag curves. \n"
   ]
  }
 ],
 "metadata": {
  "kernelspec": {
   "display_name": "Python 3 (ipykernel)",
   "language": "python",
   "name": "python3"
  },
  "language_info": {
   "codemirror_mode": {
    "name": "ipython",
    "version": 3
   },
   "file_extension": ".py",
   "mimetype": "text/x-python",
   "name": "python",
   "nbconvert_exporter": "python",
   "pygments_lexer": "ipython3",
   "version": "3.9.9"
  },
  "latex_envs": {
   "LaTeX_envs_menu_present": true,
   "autoclose": false,
   "autocomplete": true,
   "bibliofile": "biblio.bib",
   "cite_by": "apalike",
   "current_citInitial": 1,
   "eqLabelWithNumbers": true,
   "eqNumInitial": 1,
   "hotkeys": {
    "equation": "Ctrl-E",
    "itemize": "Ctrl-I"
   },
   "labels_anchors": false,
   "latex_user_defs": false,
   "report_style_numbering": false,
   "user_envs_cfg": false
  },
  "toc": {
   "base_numbering": 1,
   "nav_menu": {},
   "number_sections": true,
   "sideBar": true,
   "skip_h1_title": false,
   "title_cell": "Table of Contents",
   "title_sidebar": "Contents",
   "toc_cell": false,
   "toc_position": {},
   "toc_section_display": true,
   "toc_window_display": false
  },
  "varInspector": {
   "cols": {
    "lenName": 16,
    "lenType": 16,
    "lenVar": 40
   },
   "kernels_config": {
    "python": {
     "delete_cmd_postfix": "",
     "delete_cmd_prefix": "del ",
     "library": "var_list.py",
     "varRefreshCmd": "print(var_dic_list())"
    },
    "r": {
     "delete_cmd_postfix": ") ",
     "delete_cmd_prefix": "rm(",
     "library": "var_list.r",
     "varRefreshCmd": "cat(var_dic_list()) "
    }
   },
   "types_to_exclude": [
    "module",
    "function",
    "builtin_function_or_method",
    "instance",
    "_Feature"
   ],
   "window_display": false
  }
 },
 "nbformat": 4,
 "nbformat_minor": 5
}
