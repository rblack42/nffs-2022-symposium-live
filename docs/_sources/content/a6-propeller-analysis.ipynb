{
 "cells": [
  {
   "cell_type": "markdown",
   "id": "1e2eb5a5",
   "metadata": {},
   "source": [
    "# A-6 Propeller Analysis"
   ]
  },
  {
   "cell_type": "code",
   "execution_count": 35,
   "id": "6317891d",
   "metadata": {},
   "outputs": [
    {
     "name": "stdout",
     "output_type": "stream",
     "text": [
      "loading: /Users/rblack/_dev/live-2022/mmtime/data/airfoils/flat0001/flat0001.pol\n",
      "decoding\n",
      "[-0.9648 -0.8888 -0.8112 -0.7323 -0.6533 -0.5764 -0.504  -0.4397 -0.3998\n",
      " -0.2002 -0.      0.2002  0.3998  0.44    0.5044  0.5769  0.6539  0.733\n",
      "  0.812   0.8897  0.9659]\n"
     ]
    }
   ],
   "source": [
    "import os\n",
    "import numpy as np\n",
    "\n",
    "\n",
    "DIR = \"../../mmtime/data/airfoils\"\n",
    "airfoil = \"flat0001\"\n",
    "\n",
    "fname = os.path.join(DIR,airfoil, airfoil + \".pol\")\n",
    "fname = os.path.abspath(fname)\n",
    "print(\"loading:\", fname)\n",
    "if os.path.isfile(fname):\n",
    "    print(\"decoding\")\n",
    "    columns = [\n",
    "        \"alpha\",\n",
    "        \"CL\",\n",
    "        \"CD\",\n",
    "        \"CDp\",\n",
    "        \"CM\",\n",
    "        \"xtr_upper\",\n",
    "        \"xtr_lower\"\n",
    "    ]\n",
    "    try:\n",
    "        data = np.genfromtxt(\n",
    "            fname,\n",
    "            skip_header=12,\n",
    "            names=columns,\n",
    "        )\n",
    "    except OSError:\n",
    "        data = np.array([])\n",
    "print(data[\"CL\"])\n"
   ]
  },
  {
   "cell_type": "code",
   "execution_count": 36,
   "id": "e4c52c5a",
   "metadata": {},
   "outputs": [
    {
     "name": "stdout",
     "output_type": "stream",
     "text": [
      "[-20. -18. -16. -14. -12. -10.  -8.  -6.  -4.  -2.   0.   2.   4.   6.\n",
      "   8.  10.  12.  14.  16.  18.  20.]\n"
     ]
    }
   ],
   "source": [
    "dpath = os.path.join(DIR,airfoil)\n",
    "alpha = data['alpha']\n",
    "print(alpha)"
   ]
  },
  {
   "cell_type": "code",
   "execution_count": 38,
   "id": "9a5dcb15",
   "metadata": {},
   "outputs": [
    {
     "name": "stdout",
     "output_type": "stream",
     "text": [
      "[-0.9648 -0.8888 -0.8112 -0.7323 -0.6533 -0.5764 -0.504  -0.4397 -0.3998\n",
      " -0.2002 -0.      0.2002  0.3998  0.44    0.5044  0.5769  0.6539  0.733\n",
      "  0.812   0.8897  0.9659]\n"
     ]
    }
   ],
   "source": [
    "# create CL file\n",
    "dname = os.path.join(dpath, 'CL.csv')\n",
    "CL = data['CL']\n",
    "print(CL)"
   ]
  },
  {
   "cell_type": "code",
   "execution_count": 39,
   "id": "8fe97646",
   "metadata": {},
   "outputs": [
    {
     "name": "stdout",
     "output_type": "stream",
     "text": [
      "Writing CL file: ../../mmtime/data/airfoils/flat0001\n"
     ]
    }
   ],
   "source": [
    "print(\"Writing CL file:\", dpath)\n",
    "with open(dname,'w') as fout:\n",
    "    for i in range(len(alpha)):\n",
    "        fout.write(f'{alpha[i]}, {CL[i]}\\n')"
   ]
  },
  {
   "cell_type": "code",
   "execution_count": 42,
   "id": "01a20f4d",
   "metadata": {},
   "outputs": [
    {
     "name": "stdout",
     "output_type": "stream",
     "text": [
      "[0.25215 0.22769 0.20346 0.17935 0.15524 0.1311  0.10703 0.08372 0.06227\n",
      " 0.0563  0.05527 0.0563  0.06227 0.08371 0.10704 0.13113 0.15531 0.17949\n",
      " 0.2037  0.22806 0.2527 ]\n"
     ]
    }
   ],
   "source": [
    "# create CD file\n",
    "dname = os.path.join(dpath, 'CD.csv')\n",
    "CD = data['CD']\n",
    "print(CD)"
   ]
  },
  {
   "cell_type": "code",
   "execution_count": 43,
   "id": "e821181d",
   "metadata": {},
   "outputs": [
    {
     "name": "stdout",
     "output_type": "stream",
     "text": [
      "Writing CD file: ../../mmtime/data/airfoils/flat0001/CD.csv\n"
     ]
    }
   ],
   "source": [
    "print(\"Writing CD file:\", dname)\n",
    "with open(dname,'w') as fout:\n",
    "    for i in range(len(alpha)):\n",
    "        fout.write(f'{alpha[i]}, {CD[i]}\\n')"
   ]
  },
  {
   "cell_type": "code",
   "execution_count": 44,
   "id": "d59ec79c",
   "metadata": {},
   "outputs": [
    {
     "name": "stdout",
     "output_type": "stream",
     "text": [
      "[ 0.1274  0.1104  0.0941  0.0788  0.0645  0.0512  0.0386  0.0252  0.0085\n",
      " -0.0038  0.      0.0038 -0.0085 -0.0252 -0.0386 -0.0513 -0.0646 -0.0789\n",
      " -0.0943 -0.1106 -0.1277]\n"
     ]
    }
   ],
   "source": [
    "# create CM file\n",
    "dname = os.path.join(dpath, 'CM.csv')\n",
    "CM = data['CM']\n",
    "print(CM)"
   ]
  },
  {
   "cell_type": "code",
   "execution_count": 45,
   "id": "e2d538a1",
   "metadata": {},
   "outputs": [
    {
     "name": "stdout",
     "output_type": "stream",
     "text": [
      "Writing CM file: ../../mmtime/data/airfoils/flat0001/CM.csv\n"
     ]
    }
   ],
   "source": [
    "print(\"Writing CM file:\", dname)\n",
    "with open(dname,'w') as fout:\n",
    "    for i in range(len(alpha)):\n",
    "        fout.write(f'{alpha[i]}, {CM[i]}\\n')"
   ]
  },
  {
   "cell_type": "code",
   "execution_count": 46,
   "id": "64fc7df0",
   "metadata": {},
   "outputs": [
    {
     "name": "stdout",
     "output_type": "stream",
     "text": [
      "[0.3478  0.28615 0.23072 0.18144 0.13853 0.10198 0.07153 0.0466  0.02654\n",
      " 0.00819 0.00379 0.00819 0.02655 0.04663 0.07158 0.10206 0.13865 0.18161\n",
      " 0.23095 0.28645 0.3482 ]\n"
     ]
    }
   ],
   "source": [
    "# create CDp file\n",
    "dname = os.path.join(dpath, 'CP.csv')\n",
    "CP = data['CDp']\n",
    "print(CP)"
   ]
  },
  {
   "cell_type": "code",
   "execution_count": 47,
   "id": "a1edf3cc",
   "metadata": {},
   "outputs": [
    {
     "name": "stdout",
     "output_type": "stream",
     "text": [
      "Writing CP file: ../../mmtime/data/airfoils/flat0001/CP.csv\n"
     ]
    }
   ],
   "source": [
    "print(\"Writing CP file:\", dname)\n",
    "with open(dname,'w') as fout:\n",
    "    for i in range(len(alpha)):\n",
    "        fout.write(f'{alpha[i]}, {CP[i]}\\n')"
   ]
  },
  {
   "cell_type": "code",
   "execution_count": 52,
   "id": "5391fb16",
   "metadata": {},
   "outputs": [
    {
     "data": {
      "text/plain": [
       "[<matplotlib.lines.Line2D at 0x120124b50>]"
      ]
     },
     "execution_count": 52,
     "metadata": {},
     "output_type": "execute_result"
    },
    {
     "data": {
      "image/png": "[encoded data removed]",
      "text/plain": [
       "<Figure size 432x288 with 1 Axes>"
      ]
     },
     "metadata": {
      "needs_background": "light"
     },
     "output_type": "display_data"
    }
   ],
   "source": [
    "import matplotlib.pyplot as plt\n",
    "plt.plot(alpha,CL)"
   ]
  },
  {
   "cell_type": "code",
   "execution_count": null,
   "id": "523ab631",
   "metadata": {},
   "outputs": [],
   "source": []
  }
 ],
 "metadata": {
  "kernelspec": {
   "display_name": "Python 3 (ipykernel)",
   "language": "python",
   "name": "python3"
  },
  "language_info": {
   "codemirror_mode": {
    "name": "ipython",
    "version": 3
   },
   "file_extension": ".py",
   "mimetype": "text/x-python",
   "name": "python",
   "nbconvert_exporter": "python",
   "pygments_lexer": "ipython3",
   "version": "3.10.4"
  },
  "toc": {
   "base_numbering": 1,
   "nav_menu": {},
   "number_sections": true,
   "sideBar": true,
   "skip_h1_title": false,
   "title_cell": "Table of Contents",
   "title_sidebar": "Contents",
   "toc_cell": false,
   "toc_position": {},
   "toc_section_display": true,
   "toc_window_display": false
  },
  "varInspector": {
   "cols": {
    "lenName": 16,
    "lenType": 16,
    "lenVar": 40
   },
   "kernels_config": {
    "python": {
     "delete_cmd_postfix": "",
     "delete_cmd_prefix": "del ",
     "library": "var_list.py",
     "varRefreshCmd": "print(var_dic_list())"
    },
    "r": {
     "delete_cmd_postfix": ") ",
     "delete_cmd_prefix": "rm(",
     "library": "var_list.r",
     "varRefreshCmd": "cat(var_dic_list()) "
    }
   },
   "types_to_exclude": [
    "module",
    "function",
    "builtin_function_or_method",
    "instance",
    "_Feature"
   ],
   "window_display": false
  }
 },
 "nbformat": 4,
 "nbformat_minor": 5
}
