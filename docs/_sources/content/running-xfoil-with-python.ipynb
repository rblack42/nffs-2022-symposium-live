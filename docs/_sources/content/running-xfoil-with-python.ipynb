{
 "cells": [
  {
   "cell_type": "markdown",
   "id": "4484c911",
   "metadata": {},
   "source": [
    "# Running XFoil with Python"
   ]
  },
  {
   "cell_type": "markdown",
   "id": "6e5eae07",
   "metadata": {},
   "source": [
    "*XFoil* is a command line tool with an interface that shows its age. The program was developed at MIT in the 1980s when graphical interfaces were still pretty rare. The program was written in Fortran, which was very popular in the aeronautical engineering world back then.\n",
    "\n",
    "Fortunately, the source code for this program is freely available and can be compiled on modern systems using the GNU **gfortran** compiler. I managed to get a version of the program running on my Macbook laptop and decided that a Python front end was needed to simplify running this program for our project. A bit of searching on Github showed me several programs that do just this, so this is hardly a new idea. \n",
    "\n",
    "I will show the basics of running an external program and interacting with it using Python code. This capability happens to be a very popular way to hide old programs behind new interfaces, siving them a new life. Still, many of these programs probably should be rewritten using modern programming techniques. That may be a future project!"
   ]
  },
  {
   "cell_type": "markdown",
   "id": "e36438bf",
   "metadata": {},
   "source": [
    "## Finding the program"
   ]
  },
  {
   "cell_type": "markdown",
   "id": "a55ff76f",
   "metadata": {},
   "source": [
    "Assuming that *XFoil* has been compiled and the program is available on the command line using just the name **xfoil**, we start out by locating the executable program file:"
   ]
  },
  {
   "cell_type": "code",
   "execution_count": 1,
   "id": "2e293bcb",
   "metadata": {},
   "outputs": [],
   "source": [
    "import shutil\n",
    "\n",
    "xfoil_path = shutil.which('xfoil')\n",
    "xfoil_path"
   ]
  },
  {
   "cell_type": "code",
   "execution_count": null,
   "id": "e9b6f3f1",
   "metadata": {},
   "outputs": [],
   "source": []
  }
 ],
 "metadata": {
  "kernelspec": {
   "display_name": "Python 3 (ipykernel)",
   "language": "python",
   "name": "python3"
  },
  "language_info": {
   "codemirror_mode": {
    "name": "ipython",
    "version": 3
   },
   "file_extension": ".py",
   "mimetype": "text/x-python",
   "name": "python",
   "nbconvert_exporter": "python",
   "pygments_lexer": "ipython3",
   "version": "3.10.2"
  },
  "toc": {
   "base_numbering": 1,
   "nav_menu": {},
   "number_sections": true,
   "sideBar": true,
   "skip_h1_title": false,
   "title_cell": "Table of Contents",
   "title_sidebar": "Contents",
   "toc_cell": false,
   "toc_position": {},
   "toc_section_display": true,
   "toc_window_display": false
  },
  "varInspector": {
   "cols": {
    "lenName": 16,
    "lenType": 16,
    "lenVar": 40
   },
   "kernels_config": {
    "python": {
     "delete_cmd_postfix": "",
     "delete_cmd_prefix": "del ",
     "library": "var_list.py",
     "varRefreshCmd": "print(var_dic_list())"
    },
    "r": {
     "delete_cmd_postfix": ") ",
     "delete_cmd_prefix": "rm(",
     "library": "var_list.r",
     "varRefreshCmd": "cat(var_dic_list()) "
    }
   },
   "types_to_exclude": [
    "module",
    "function",
    "builtin_function_or_method",
    "instance",
    "_Feature"
   ],
   "window_display": false
  }
 },
 "nbformat": 4,
 "nbformat_minor": 5
}
