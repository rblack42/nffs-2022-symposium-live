{
 "cells": [
  {
   "cell_type": "markdown",
   "id": "a0ba1775",
   "metadata": {},
   "source": [
    "# level-flight-calculations"
   ]
  },
  {
   "cell_type": "code",
   "execution_count": 1,
   "id": "bd53b9ed",
   "metadata": {},
   "outputs": [],
   "source": [
    "import os\n",
    "import sys\n",
    "projdir = os.path.abspath('../..')\n",
    "if not projdir in sys.path:\n",
    "    sys.path.insert(0,projdir)"
   ]
  },
  {
   "cell_type": "markdown",
   "id": "79aa1ec3",
   "metadata": {},
   "source": [
    "We will use Erbach's scheme to determine the level flight velocity. I will add code to determine the best angle for level flight and avoid Erbach's need to deal with \"terrifying yards of tabulated data\" to find this flight setting!"
   ]
  },
  {
   "cell_type": "markdown",
   "id": "458d8169",
   "metadata": {},
   "source": [
    "## Erbach's Moment Calculations"
   ]
  },
  {
   "cell_type": "markdown",
   "id": "1ba31aeb",
   "metadata": {},
   "source": [
    "Erbach set the wing and stab incidence, then conducted an angle of attack survey to generate the needed data. At each angle of attack, his code calculates the lift and drag forces for the wing and stab. He then calculates the resulting pitching moment using these forces. He plotted the pitching moment curve looking for the zero point, which is where the model would fly level.\n",
    "\n",
    "Since we are doing these calculations numerically anyway, it is easy to set up a coordinate transformation system that calculates moments in a coordinate system centered on the center of gravity, and rotated so the body is located at the desired angle of attack. I packaged these transformations in a simple Python routine named **transform**. It takes the center of gravity coordinates and an angle of attack, together with a point of interest as parameters. It returns those coordinates in the CG-centered system."
   ]
  },
  {
   "cell_type": "markdown",
   "id": "eba092d8",
   "metadata": {},
   "source": [
    "The translation will move the model system from the nose to the center of gravity, then we will rotate the system  by a negative $\\alpha$ which will be nose up. Let's set this up and test it:"
   ]
  },
  {
   "cell_type": "code",
   "execution_count": 2,
   "id": "9f6503b2",
   "metadata": {},
   "outputs": [],
   "source": [
    "# model coordinates (referenced to lower body nose)\n",
    "import numpy as np\n",
    "import math\n",
    "from mmtime.utils import transform\n",
    "\n",
    "xcg = 4.0485\n",
    "ycg = 0.1189"
   ]
  },
  {
   "cell_type": "markdown",
   "id": "9379468f",
   "metadata": {},
   "source": [
    "## Loading Airfoil Data"
   ]
  },
  {
   "cell_type": "code",
   "execution_count": 3,
   "id": "ed39686d",
   "metadata": {},
   "outputs": [],
   "source": [
    "from mmtime.AirfoilMgr import AirfoilMgr"
   ]
  },
  {
   "cell_type": "code",
   "execution_count": 4,
   "id": "10ac3867",
   "metadata": {},
   "outputs": [
    {
     "name": "stdout",
     "output_type": "stream",
     "text": [
      "['mcbride-b7', 'arc0401', 'arc5', 'simplex0401', 'arc3', 'BEZ0625018506', 'arc0301', 'simplex0201', 'ARC0601', 'arc0201', 'flat0001', 'ARC0501', 'simplex0501']\n",
      "Selected: simplex0401\n"
     ]
    }
   ],
   "source": [
    "am = AirfoilMgr()\n",
    "am.showAirfoils()\n",
    "am.selectAirfoil('simplex0401')"
   ]
  },
  {
   "cell_type": "code",
   "execution_count": 5,
   "id": "1057d7de",
   "metadata": {},
   "outputs": [
    {
     "name": "stdout",
     "output_type": "stream",
     "text": [
      "Loading simplex0401\n",
      "\tLoading CD_re3k.csv\n",
      "\tLoading CP_re3k.csv\n",
      "\tLoading CM_re3k.csv\n",
      "\tLoading CL_re3k.csv\n"
     ]
    }
   ],
   "source": [
    "clw, cdw, cmw, cpw = am.loadData('re3k')"
   ]
  },
  {
   "cell_type": "code",
   "execution_count": 6,
   "id": "faa4d43f",
   "metadata": {},
   "outputs": [
    {
     "name": "stdout",
     "output_type": "stream",
     "text": [
      "Selected: simplex0201\n",
      "Loading simplex0201\n",
      "\tLoading CD_re3k.csv\n",
      "\tLoading CP_re3k.csv\n",
      "\tLoading CM_re3k.csv\n",
      "\tLoading CL_re3k.csv\n"
     ]
    }
   ],
   "source": [
    "am.selectAirfoil('simplex0201')\n",
    "cls, cds, cms, cps = am.loadData('re3k')"
   ]
  },
  {
   "cell_type": "markdown",
   "id": "ac44fae2",
   "metadata": {},
   "source": [
    "We now have the coefficient curve fit functions available to run the calculations. \n",
    "\n",
    "Before we continue, let's look at the coefficient curves:"
   ]
  },
  {
   "cell_type": "code",
   "execution_count": 7,
   "id": "26d3b0d5",
   "metadata": {},
   "outputs": [],
   "source": [
    "import matplotlib.pyplot as plt"
   ]
  },
  {
   "cell_type": "code",
   "execution_count": 8,
   "id": "278d7d58",
   "metadata": {},
   "outputs": [
    {
     "data": {
      "text/plain": [
       "[<matplotlib.lines.Line2D at 0x11cae9ed0>]"
      ]
     },
     "execution_count": 8,
     "metadata": {},
     "output_type": "execute_result"
    },
    {
     "data": {
      "image/png": "[encoded data removed]",
      "text/plain": [
       "<Figure size 432x288 with 1 Axes>"
      ]
     },
     "metadata": {
      "needs_background": "light"
     },
     "output_type": "display_data"
    }
   ],
   "source": [
    "x = np.linspace(-4,20,50)\n",
    "clx1  = clw(x)\n",
    "clx2 = cls(x)\n",
    "plt.plot(x,clx1)\n",
    "plt.plot(x,clx2)"
   ]
  },
  {
   "cell_type": "code",
   "execution_count": 9,
   "id": "05c715a3",
   "metadata": {},
   "outputs": [
    {
     "data": {
      "text/plain": [
       "[<matplotlib.lines.Line2D at 0x11cbdbdf0>]"
      ]
     },
     "execution_count": 9,
     "metadata": {},
     "output_type": "execute_result"
    },
    {
     "data": {
      "image/png": "[encoded data removed]",
      "text/plain": [
       "<Figure size 432x288 with 1 Axes>"
      ]
     },
     "metadata": {
      "needs_background": "light"
     },
     "output_type": "display_data"
    }
   ],
   "source": [
    "cdx1  = cdw(x)\n",
    "cdx2 = cds(x)\n",
    "plt.plot(x,cdx1)\n",
    "plt.plot(x,cdx2)"
   ]
  },
  {
   "cell_type": "code",
   "execution_count": 10,
   "id": "9abbaccb",
   "metadata": {},
   "outputs": [
    {
     "data": {
      "text/plain": [
       "[<matplotlib.lines.Line2D at 0x11cc5f5e0>]"
      ]
     },
     "execution_count": 10,
     "metadata": {},
     "output_type": "execute_result"
    },
    {
     "data": {
      "image/png": "[encoded data removed]",
      "text/plain": [
       "<Figure size 432x288 with 1 Axes>"
      ]
     },
     "metadata": {
      "needs_background": "light"
     },
     "output_type": "display_data"
    }
   ],
   "source": [
    "cmx1  = cmw(x)\n",
    "cmx2 = cms(x)\n",
    "plt.plot(x,cmx1)\n",
    "plt.plot(x,cmx2)"
   ]
  },
  {
   "cell_type": "markdown",
   "id": "ddc4faec",
   "metadata": {},
   "source": [
    "## Loading Model Dimensions\n",
    "\n",
    "All model data is stored in a data file for loading. Since this data is dimensional, we need to create a **pint** *UnitRegistry* here, and pass it to the data routine:"
   ]
  },
  {
   "cell_type": "markdown",
   "id": "3d2e2a80",
   "metadata": {},
   "source": [
    "## Loading Model Moment Arms\n",
    "\n",
    "We need to define the moment arms for the wing and stab. All model dimension data is loaded from a model file that sets up basic dimensions and calculates a few other dimensions we will need:"
   ]
  },
  {
   "cell_type": "code",
   "execution_count": 11,
   "id": "b3e02d3e",
   "metadata": {},
   "outputs": [],
   "source": [
    "import pint\n",
    "u = pint.UnitRegistry()"
   ]
  },
  {
   "cell_type": "code",
   "execution_count": 12,
   "id": "6c80624f",
   "metadata": {},
   "outputs": [],
   "source": [
    "from mmtime.data.models.wart import data"
   ]
  },
  {
   "cell_type": "code",
   "execution_count": 13,
   "id": "39b4d8c1",
   "metadata": {},
   "outputs": [],
   "source": [
    "wart = data.Wart(u)\n",
    "mdata = wart.model_data()"
   ]
  },
  {
   "cell_type": "code",
   "execution_count": 14,
   "id": "bebb8c32",
   "metadata": {},
   "outputs": [
    {
     "data": {
      "text/html": [
       "14.763199425922911 inch<sup>2</sup>"
      ],
      "text/latex": [
       "$14.763199425922911\\ \\mathrm{inch}^{2}$"
      ],
      "text/plain": [
       "14.763199425922911 <Unit('inch ** 2')>"
      ]
     },
     "execution_count": 14,
     "metadata": {},
     "output_type": "execute_result"
    }
   ],
   "source": [
    "xcg = mdata['cg'][0]\n",
    "ycg = mdata['cg'][1]\n",
    "xwac = 1.5 * u.inch\n",
    "ywac = 7/8 * u.inch\n",
    "xsac = (6+8.5-1) * u.inch\n",
    "ysac = 0.125 * u.inch\n",
    "wgt = mdata['flying_wgt']\n",
    "sw = mdata['wing']['projected_area']\n",
    "ss = mdata['stab']['projected_area']\n",
    "ss"
   ]
  },
  {
   "cell_type": "code",
   "execution_count": 15,
   "id": "f8d433d9",
   "metadata": {},
   "outputs": [
    {
     "data": {
      "text/html": [
       "0.13895631067961164 inch"
      ],
      "text/latex": [
       "$0.13895631067961164\\ \\mathrm{inch}$"
      ],
      "text/plain": [
       "0.13895631067961164 <Unit('inch')>"
      ]
     },
     "execution_count": 15,
     "metadata": {},
     "output_type": "execute_result"
    }
   ],
   "source": [
    "ycg"
   ]
  },
  {
   "cell_type": "markdown",
   "id": "27d586b6",
   "metadata": {},
   "source": [
    "Next, we need to calculate the air density from the standard atmosphere model."
   ]
  },
  {
   "cell_type": "code",
   "execution_count": 16,
   "id": "424b08c5",
   "metadata": {},
   "outputs": [
    {
     "name": "stdout",
     "output_type": "stream",
     "text": [
      "1.1252812541711548\n"
     ]
    }
   ],
   "source": [
    "from mmtime.StdAtm import Air\n",
    "s = Air(u)\n",
    "p = s.get_properties(864)\n",
    "rho = p['rho']\n",
    "print((rho.to('ounce/ft**3')).magnitude)"
   ]
  },
  {
   "cell_type": "markdown",
   "id": "1936616c",
   "metadata": {},
   "source": [
    "The wart is constructed with the wing set at zero incidence and the stab at -2 degrees. We will run the angle of attack survey from -4 to 10 degrees for our example. **numpy** makes generating lists of values a snap! **x** has our angle of attack survey points."
   ]
  },
  {
   "cell_type": "code",
   "execution_count": 17,
   "id": "f69070a4",
   "metadata": {},
   "outputs": [],
   "source": [
    "# calculate stab angle of attack\n",
    "sa = x - 2\n",
    "\n",
    "# load coefficient arrays\n",
    "cl_w = clw(x)\n",
    "cd_w = cdw(x)\n",
    "cm_w = cmw(x)\n",
    "cl_s = cls(sa)\n",
    "cd_s = cds(sa)\n",
    "cm_s = cms(sa)"
   ]
  },
  {
   "cell_type": "markdown",
   "id": "1aa4de6b",
   "metadata": {},
   "source": [
    "Next, we calculate the velocity required to maintain level flight for each of these survey settings. The lift required is equal to the model weight so we calculate the lift generated by the wing and stab at each setting. This calculation is done in steps to avoid taking the square root of a negative number. If the lift goes negative, we will get a negative velocity which makes no sense. We will filter those values out."
   ]
  },
  {
   "cell_type": "code",
   "execution_count": 75,
   "id": "45147c6e",
   "metadata": {},
   "outputs": [
    {
     "data": {
      "text/html": [
       "<table><tbody><tr><th>Magnitude</th><td style='text-align:left;'><pre>[262.93051104098043 16.94609054983992 8.765039250944605 6.08245647225219<br> 4.80105985062716 4.0443297257785495 3.5414345683799024 3.1699456107019603<br> 2.8744121104698928 2.6344090836869123 2.437941426672365 2.275445482943366<br> 2.1404550004242706 2.029774408656452 1.941461822804866 1.873354529838663<br> 1.8211262226652571 1.7855146076448083 1.7625466172634592<br> 1.7395410880080628 1.7156358301767194 1.693508597999557<br> 1.6694694436697342 1.6425346159889993 1.6130420654921167<br> 1.5822252967484303 1.5508930324959789 1.5194572409243856<br> 1.488273121569477 1.4575970554311284 1.427614449072364 1.3984456439187605<br> 1.3701659562382593 1.3428266972281908 1.316444805156847 1.291022512796325<br> 1.26655589326005 1.2430188142484033 1.2203994799501692 1.1986819735548664<br> 1.1778443159669052 1.157865375861497 1.138723411633691]</pre></td></tr><tr><th>Units</th><td style='text-align:left;'>meter<sup>2</sup>/second<sup>2</sup></td></tr></tbody></table>"
      ],
      "text/latex": [
       "$\\begin{pmatrix}262.93051104098043 & 16.94609054983992 & 8.765039250944605 & 6.08245647225219 & 4.80105985062716 & 4.0443297257785495 & 3.5414345683799024 & 3.1699456107019603 & 2.8744121104698928 & 2.6344090836869123 & 2.437941426672365 & 2.275445482943366 & 2.1404550004242706 & 2.029774408656452 & 1.941461822804866 & 1.873354529838663 & 1.8211262226652571 & 1.7855146076448083 & 1.7625466172634592 & 1.7395410880080628 & 1.7156358301767194 & 1.693508597999557 & 1.6694694436697342 & 1.6425346159889993 & 1.6130420654921167 & 1.5822252967484303 & 1.5508930324959789 & 1.5194572409243856 & 1.488273121569477 & 1.4575970554311284 & 1.427614449072364 & 1.3984456439187605 & 1.3701659562382593 & 1.3428266972281908 & 1.316444805156847 & 1.291022512796325 & 1.26655589326005 & 1.2430188142484033 & 1.2203994799501692 & 1.1986819735548664 & 1.1778443159669052 & 1.157865375861497 & 1.138723411633691\\end{pmatrix}\\ \\frac{\\mathrm{meter}^{2}}{\\mathrm{second}^{2}}$"
      ],
      "text/plain": [
       "array([262.93051104,  16.94609055,   8.76503925,   6.08245647,\n",
       "         4.80105985,   4.04432973,   3.54143457,   3.16994561,\n",
       "         2.87441211,   2.63440908,   2.43794143,   2.27544548,\n",
       "         2.140455  ,   2.02977441,   1.94146182,   1.87335453,\n",
       "         1.82112622,   1.78551461,   1.76254662,   1.73954109,\n",
       "         1.71563583,   1.6935086 ,   1.66946944,   1.64253462,\n",
       "         1.61304207,   1.5822253 ,   1.55089303,   1.51945724,\n",
       "         1.48827312,   1.45759706,   1.42761445,   1.39844564,\n",
       "         1.37016596,   1.3428267 ,   1.31644481,   1.29102251,\n",
       "         1.26655589,   1.24301881,   1.22039948,   1.19868197,\n",
       "         1.17784432,   1.15786538,   1.13872341]) <Unit('meter ** 2 / second ** 2')>"
      ]
     },
     "execution_count": 75,
     "metadata": {},
     "output_type": "execute_result"
    }
   ],
   "source": [
    "# start velocity calculation for this configuration\n",
    "VE = 2 * wgt /(rho/u.gravity*(cl_w * sw + cl_s * ss))\n",
    "VE.to_base_units()"
   ]
  },
  {
   "cell_type": "markdown",
   "id": "7e0cbb2f",
   "metadata": {},
   "source": [
    "Check for negative velocity:"
   ]
  },
  {
   "cell_type": "code",
   "execution_count": 76,
   "id": "ed12d6a9",
   "metadata": {},
   "outputs": [],
   "source": [
    "jj = 0\n",
    "for i in range(len(x)):\n",
    "    jj = i\n",
    "    if VE[i].magnitude > 0: break\n",
    "VE = VE[jj:]\n",
    "x = x[jj:]"
   ]
  },
  {
   "cell_type": "code",
   "execution_count": 77,
   "id": "4715205f",
   "metadata": {},
   "outputs": [
    {
     "data": {
      "text/html": [
       "<table><tbody><tr><th>Magnitude</th><td style='text-align:left;'><pre>[16.21513216230384 4.116562953464931 2.960580897551121 2.4662636664096134<br> 2.191132093377111 2.011051895346947 1.8818699658530875 1.7804341073743672<br> 1.6954091277535026 1.6230862835003292 1.5613908628759054<br> 1.5084579818289159 1.4630293915107346 1.4247015156363285<br> 1.393363492705642 1.3687054211329266 1.3494910976606171<br> 1.3362314947810532 1.3276093616962252 1.3189166342146355<br> 1.309822823963882 1.3013487610934882 1.2920795036179986<br> 1.2816140667100213 1.2700559300645449 1.25786537306201 1.2453485586356852<br> 1.2326626630690105 1.2199479995350118 1.2073098423483213<br> 1.1948282090210138 1.1825589388773654 1.1705408819166714<br> 1.1588039943097326 1.1473642861606101 1.136231716154907<br> 1.1254136542889686 1.1149075361878236 1.104716922994379<br> 1.0948433557157236 1.085285361537188 1.0760415307326647<br> 1.0671098404727093]</pre></td></tr><tr><th>Units</th><td style='text-align:left;'>meter/second</td></tr></tbody></table>"
      ],
      "text/latex": [
       "$\\begin{pmatrix}16.21513216230384 & 4.116562953464931 & 2.960580897551121 & 2.4662636664096134 & 2.191132093377111 & 2.011051895346947 & 1.8818699658530875 & 1.7804341073743672 & 1.6954091277535026 & 1.6230862835003292 & 1.5613908628759054 & 1.5084579818289159 & 1.4630293915107346 & 1.4247015156363285 & 1.393363492705642 & 1.3687054211329266 & 1.3494910976606171 & 1.3362314947810532 & 1.3276093616962252 & 1.3189166342146355 & 1.309822823963882 & 1.3013487610934882 & 1.2920795036179986 & 1.2816140667100213 & 1.2700559300645449 & 1.25786537306201 & 1.2453485586356852 & 1.2326626630690105 & 1.2199479995350118 & 1.2073098423483213 & 1.1948282090210138 & 1.1825589388773654 & 1.1705408819166714 & 1.1588039943097326 & 1.1473642861606101 & 1.136231716154907 & 1.1254136542889686 & 1.1149075361878236 & 1.104716922994379 & 1.0948433557157236 & 1.085285361537188 & 1.0760415307326647 & 1.0671098404727093\\end{pmatrix}\\ \\frac{\\mathrm{meter}}{\\mathrm{second}}$"
      ],
      "text/plain": [
       "array([16.21513216,  4.11656295,  2.9605809 ,  2.46626367,  2.19113209,\n",
       "        2.0110519 ,  1.88186997,  1.78043411,  1.69540913,  1.62308628,\n",
       "        1.56139086,  1.50845798,  1.46302939,  1.42470152,  1.39336349,\n",
       "        1.36870542,  1.3494911 ,  1.33623149,  1.32760936,  1.31891663,\n",
       "        1.30982282,  1.30134876,  1.2920795 ,  1.28161407,  1.27005593,\n",
       "        1.25786537,  1.24534856,  1.23266266,  1.219948  ,  1.20730984,\n",
       "        1.19482821,  1.18255894,  1.17054088,  1.15880399,  1.14736429,\n",
       "        1.13623172,  1.12541365,  1.11490754,  1.10471692,  1.09484336,\n",
       "        1.08528536,  1.07604153,  1.06710984]) <Unit('meter / second')>"
      ]
     },
     "execution_count": 77,
     "metadata": {},
     "output_type": "execute_result"
    }
   ],
   "source": [
    "# finish velocity calculation\n",
    "v = (VE)**0.5\n",
    "v.to_base_units()"
   ]
  },
  {
   "cell_type": "code",
   "execution_count": 78,
   "id": "da55c33f",
   "metadata": {},
   "outputs": [],
   "source": [
    "wla, wda = transform(xcg, ycg, x, xwac, ywac)\n",
    "sla, sda = transform(xcg, ycg, x, xsac, ysac)"
   ]
  },
  {
   "cell_type": "code",
   "execution_count": 79,
   "id": "0ad62600",
   "metadata": {},
   "outputs": [
    {
     "data": {
      "text/html": [
       "<table><tbody><tr><th>Magnitude</th><td style='text-align:left;'><pre>[0.0802082979528144 -0.0005040902665827286 -0.08121644164843085<br> -0.16192285795309083 -0.24261744137464236 -0.3232942949718804<br> -0.40394752309924786 -0.4845712318376716 -0.5651595294252768<br> -0.6457065266879383 -0.7262063374696474 -0.8066530790626547<br> -0.8870408726373639 -0.9673638436719396 -1.0476161223816014<br> -1.1277918441475725 -1.2078851499456498 -1.2878901867743657<br> -1.367801108082709 -1.4476120741973761 -1.5273172527495162<br> -1.606910819100948 -1.6863869567698067 -1.765739857855597<br> -1.8449637234636171 -1.9240527641287313 -2.0030012002384416<br> -2.0818032624552507 -2.1604531921382684 -2.238945241764037<br> -2.317273675346545 -2.3954327688563968 -2.4734168106391112<br> -2.551220101832512 -2.6288369567831844 -2.706261703461969<br> -2.783488683878458 -2.8605122544944646 -2.937326786636441<br> -3.013926666906799 -3.090306297594131 -3.1664600970822705<br> -3.24238250025818]</pre></td></tr><tr><th>Units</th><td style='text-align:left;'>inch</td></tr></tbody></table>"
      ],
      "text/latex": [
       "$\\begin{pmatrix}0.0802082979528144 & -0.0005040902665827286 & -0.08121644164843085 & -0.16192285795309083 & -0.24261744137464236 & -0.3232942949718804 & -0.40394752309924786 & -0.4845712318376716 & -0.5651595294252768 & -0.6457065266879383 & -0.7262063374696474 & -0.8066530790626547 & -0.8870408726373639 & -0.9673638436719396 & -1.0476161223816014 & -1.1277918441475725 & -1.2078851499456498 & -1.2878901867743657 & -1.367801108082709 & -1.4476120741973761 & -1.5273172527495162 & -1.606910819100948 & -1.6863869567698067 & -1.765739857855597 & -1.8449637234636171 & -1.9240527641287313 & -2.0030012002384416 & -2.0818032624552507 & -2.1604531921382684 & -2.238945241764037 & -2.317273675346545 & -2.3954327688563968 & -2.4734168106391112 & -2.551220101832512 & -2.6288369567831844 & -2.706261703461969 & -2.783488683878458 & -2.8605122544944646 & -2.937326786636441 & -3.013926666906799 & -3.090306297594131 & -3.1664600970822705 & -3.24238250025818\\end{pmatrix}\\ \\mathrm{inch}$"
      ],
      "text/plain": [
       "array([ 8.02082980e-02, -5.04090267e-04, -8.12164416e-02, -1.61922858e-01,\n",
       "       -2.42617441e-01, -3.23294295e-01, -4.03947523e-01, -4.84571232e-01,\n",
       "       -5.65159529e-01, -6.45706527e-01, -7.26206337e-01, -8.06653079e-01,\n",
       "       -8.87040873e-01, -9.67363844e-01, -1.04761612e+00, -1.12779184e+00,\n",
       "       -1.20788515e+00, -1.28789019e+00, -1.36780111e+00, -1.44761207e+00,\n",
       "       -1.52731725e+00, -1.60691082e+00, -1.68638696e+00, -1.76573986e+00,\n",
       "       -1.84496372e+00, -1.92405276e+00, -2.00300120e+00, -2.08180326e+00,\n",
       "       -2.16045319e+00, -2.23894524e+00, -2.31727368e+00, -2.39543277e+00,\n",
       "       -2.47341681e+00, -2.55122010e+00, -2.62883696e+00, -2.70626170e+00,\n",
       "       -2.78348868e+00, -2.86051225e+00, -2.93732679e+00, -3.01392667e+00,\n",
       "       -3.09030630e+00, -3.16646010e+00, -3.24238250e+00]) <Unit('inch')>"
      ]
     },
     "execution_count": 79,
     "metadata": {},
     "output_type": "execute_result"
    }
   ],
   "source": [
    "sda"
   ]
  },
  {
   "cell_type": "code",
   "execution_count": 80,
   "id": "cb3c8901",
   "metadata": {},
   "outputs": [],
   "source": [
    "# calculate stab angle of attack\n",
    "sa = x - 2\n",
    "\n",
    "# reset coefficient arrays\n",
    "cl_w = clw(x)\n",
    "cd_w = cdw(x)\n",
    "cm_w = cmw(x)\n",
    "cl_s = cls(sa)\n",
    "cd_s = cds(sa)\n",
    "cm_s = cms(sa)"
   ]
  },
  {
   "cell_type": "code",
   "execution_count": 81,
   "id": "39149466",
   "metadata": {},
   "outputs": [
    {
     "data": {
      "text/html": [
       "<table><tbody><tr><th>Magnitude</th><td style='text-align:left;'><pre>[0.2888638081799252 0.0328389285530671 0.0239195909294984<br> 0.02065558423892787 0.018860134160033373 0.017750185523160412<br> 0.01709156816792002 0.016647881447053443 0.016284349146941726<br> 0.01597460464695013 0.01570876423423851 0.015471351643528001<br> 0.015251819939648357 0.015053208296004114 0.014884214318771884<br> 0.014751466230034632 0.014646006972395204 0.014600459700660349<br> 0.014609348490293467 0.014591607928622108 0.014559353971485929<br> 0.014550347538624641 0.014541697167716658 0.01452627984868953<br> 0.01450366182397742 0.014479669217034917 0.014456649561695503<br> 0.014434179031438298 0.01441229216217852 0.014390939824343392<br> 0.014370125583591766 0.014349826211286767 0.014330088376445786<br> 0.014310904486650613 0.014292243534062932 0.014274137419460224<br> 0.014256588386759094 0.014239552302147834 0.014223002726703775<br> 0.014206902391402558 0.014191151589163615 0.014175665190059843<br> 0.014160355288021821]</pre></td></tr><tr><th>Units</th><td style='text-align:left;'>kilogram meter/second<sup>2</sup></td></tr></tbody></table>"
      ],
      "text/latex": [
       "$\\begin{pmatrix}0.2888638081799252 & 0.0328389285530671 & 0.0239195909294984 & 0.02065558423892787 & 0.018860134160033373 & 0.017750185523160412 & 0.01709156816792002 & 0.016647881447053443 & 0.016284349146941726 & 0.01597460464695013 & 0.01570876423423851 & 0.015471351643528001 & 0.015251819939648357 & 0.015053208296004114 & 0.014884214318771884 & 0.014751466230034632 & 0.014646006972395204 & 0.014600459700660349 & 0.014609348490293467 & 0.014591607928622108 & 0.014559353971485929 & 0.014550347538624641 & 0.014541697167716658 & 0.01452627984868953 & 0.01450366182397742 & 0.014479669217034917 & 0.014456649561695503 & 0.014434179031438298 & 0.01441229216217852 & 0.014390939824343392 & 0.014370125583591766 & 0.014349826211286767 & 0.014330088376445786 & 0.014310904486650613 & 0.014292243534062932 & 0.014274137419460224 & 0.014256588386759094 & 0.014239552302147834 & 0.014223002726703775 & 0.014206902391402558 & 0.014191151589163615 & 0.014175665190059843 & 0.014160355288021821\\end{pmatrix}\\ \\frac{\\mathrm{kilogram} \\cdot \\mathrm{meter}}{\\mathrm{second}^{2}}$"
      ],
      "text/plain": [
       "array([0.28886381, 0.03283893, 0.02391959, 0.02065558, 0.01886013,\n",
       "       0.01775019, 0.01709157, 0.01664788, 0.01628435, 0.0159746 ,\n",
       "       0.01570876, 0.01547135, 0.01525182, 0.01505321, 0.01488421,\n",
       "       0.01475147, 0.01464601, 0.01460046, 0.01460935, 0.01459161,\n",
       "       0.01455935, 0.01455035, 0.0145417 , 0.01452628, 0.01450366,\n",
       "       0.01447967, 0.01445665, 0.01443418, 0.01441229, 0.01439094,\n",
       "       0.01437013, 0.01434983, 0.01433009, 0.0143109 , 0.01429224,\n",
       "       0.01427414, 0.01425659, 0.01423955, 0.014223  , 0.0142069 ,\n",
       "       0.01419115, 0.01417567, 0.01416036]) <Unit('kilogram * meter / second ** 2')>"
      ]
     },
     "execution_count": 81,
     "metadata": {},
     "output_type": "execute_result"
    }
   ],
   "source": [
    "lift_wing = q * cl_w * sw\n",
    "lift_wing.to_base_units()"
   ]
  },
  {
   "cell_type": "code",
   "execution_count": 108,
   "id": "cc1c0990",
   "metadata": {},
   "outputs": [
    {
     "data": {
      "text/html": [
       "<table><tbody><tr><th>Magnitude</th><td style='text-align:left;'><pre>[1.6752440233638885e-06 -1.025497011510761e-08 -1.6270543459071714e-06<br> -3.2245226437530448e-06 -4.833455069830466e-06 -6.46286266278875e-06<br> -8.103140609677707e-06 -9.753768705121429e-06 -1.143420178164305e-05<br> -1.3166410041082721e-05 -1.4955915099599107e-05 -1.6846540307483675e-05<br> -1.86406850113991e-05 -2.0638078733539766e-05 -2.32630550063069e-05<br> -2.655419116595279e-05 -3.08990472352681e-05 -3.5104497957076026e-05<br> -3.8682723815376776e-05 -4.402264890508483e-05 -5.112799327990285e-05<br> -5.855649015483495e-05 -6.631313890958796e-05 -7.386252532165737e-05<br> -8.148575893122537e-05 -8.97631870720246e-05 -9.829353631709826e-05<br> -0.0001071653621106875 -0.00011635431527189293 -0.00012586930669198309<br> -0.00013571020876048428 -0.00014588001919737641 -0.00015638054902684866<br> -0.00016721530879444937 -0.00017838738194516992 -0.00018989716464552637<br> -0.00020174557855330607 -0.00021393586719536072 -0.0002264668136137321<br> -0.0002393388893623654 -0.0002525540588969092 -0.00026611212667745763<br> -0.0002800141611672264]</pre></td></tr><tr><th>Units</th><td style='text-align:left;'>kilogram meter<sup>2</sup>/second<sup>2</sup></td></tr></tbody></table>"
      ],
      "text/latex": [
       "$\\begin{pmatrix}1.6752440233638885\\times 10^{-6} & -1.025497011510761\\times 10^{-8} & -1.6270543459071714\\times 10^{-6} & -3.2245226437530448\\times 10^{-6} & -4.833455069830466\\times 10^{-6} & -6.46286266278875\\times 10^{-6} & -8.103140609677707\\times 10^{-6} & -9.753768705121429\\times 10^{-6} & -1.143420178164305\\times 10^{-5} & -1.3166410041082721\\times 10^{-5} & -1.4955915099599107\\times 10^{-5} & -1.6846540307483675\\times 10^{-5} & -1.86406850113991\\times 10^{-5} & -2.0638078733539766\\times 10^{-5} & -2.32630550063069\\times 10^{-5} & -2.655419116595279\\times 10^{-5} & -3.08990472352681\\times 10^{-5} & -3.5104497957076026\\times 10^{-5} & -3.8682723815376776\\times 10^{-5} & -4.402264890508483\\times 10^{-5} & -5.112799327990285\\times 10^{-5} & -5.855649015483495\\times 10^{-5} & -6.631313890958796\\times 10^{-5} & -7.386252532165737\\times 10^{-5} & -8.148575893122537\\times 10^{-5} & -8.97631870720246\\times 10^{-5} & -9.829353631709826\\times 10^{-5} & -0.0001071653621106875 & -0.00011635431527189293 & -0.00012586930669198309 & -0.00013571020876048428 & -0.00014588001919737641 & -0.00015638054902684866 & -0.00016721530879444937 & -0.00017838738194516992 & -0.00018989716464552637 & -0.00020174557855330607 & -0.00021393586719536072 & -0.0002264668136137321 & -0.0002393388893623654 & -0.0002525540588969092 & -0.00026611212667745763 & -0.0002800141611672264\\end{pmatrix}\\ \\frac{\\mathrm{kilogram} \\cdot \\mathrm{meter}^{2}}{\\mathrm{second}^{2}}$"
      ],
      "text/plain": [
       "array([ 1.67524402e-06, -1.02549701e-08, -1.62705435e-06, -3.22452264e-06,\n",
       "       -4.83345507e-06, -6.46286266e-06, -8.10314061e-06, -9.75376871e-06,\n",
       "       -1.14342018e-05, -1.31664100e-05, -1.49559151e-05, -1.68465403e-05,\n",
       "       -1.86406850e-05, -2.06380787e-05, -2.32630550e-05, -2.65541912e-05,\n",
       "       -3.08990472e-05, -3.51044980e-05, -3.86827238e-05, -4.40226489e-05,\n",
       "       -5.11279933e-05, -5.85564902e-05, -6.63131389e-05, -7.38625253e-05,\n",
       "       -8.14857589e-05, -8.97631871e-05, -9.82935363e-05, -1.07165362e-04,\n",
       "       -1.16354315e-04, -1.25869307e-04, -1.35710209e-04, -1.45880019e-04,\n",
       "       -1.56380549e-04, -1.67215309e-04, -1.78387382e-04, -1.89897165e-04,\n",
       "       -2.01745579e-04, -2.13935867e-04, -2.26466814e-04, -2.39338889e-04,\n",
       "       -2.52554059e-04, -2.66112127e-04, -2.80014161e-04]) <Unit('kilogram * meter ** 2 / second ** 2')>"
      ]
     },
     "execution_count": 108,
     "metadata": {},
     "output_type": "execute_result"
    }
   ],
   "source": [
    "q = rho * v**2/2\n",
    "lift_wing = q * cl_w * sw\n",
    "drag_wing = q * cd_w * sw\n",
    "moment_wing = q * cm_w * sw * 2 * u.inch\n",
    "\n",
    "lift_stab = q * cl_s * ss\n",
    "drag_stab = q * cd_s * ss\n",
    "moment_stab = q * cm_s * ss * 1.5 * u.inch\n",
    "\n",
    "wing_drag_moment = wda * drag_wing\n",
    "wing_lift_moment = wla * lift_wing\n",
    "stab_lift_moment = sla * lift_stab\n",
    "stab_drag_moment = sda * drag_stab\n",
    "stab_drag_moment.to_base_units()"
   ]
  },
  {
   "cell_type": "code",
   "execution_count": 102,
   "id": "af6d0fe3",
   "metadata": {},
   "outputs": [
    {
     "data": {
      "text/html": [
       "<table><tbody><tr><th>Magnitude</th><td style='text-align:left;'><pre>[0.07986476295719383 0.004882835639013135 0.0022775556458649268<br> 0.0013304176496032132 0.0008138341853221966 0.0004973305516548901<br> 0.00031244527643179126 0.00018853397785119393 8.590238444033198e-05<br> -2.211289417472446e-06 -7.81159045055897e-05 -0.00014618450112342614<br> -0.00020936513924538298 -0.0002668402765299058 -0.00031596959448555457<br> -0.0003545636202514172 -0.00038514501548952724 -0.0003977498374425611<br> -0.00039403786289268175 -0.0003980702637275672 -0.0004059584601371641<br> -0.00040644809059647716 -0.00040638965406480503 -0.0004080635860526358<br> -0.0004116711442801861 -0.00041544766065957587 -0.00041880398902767647<br> -0.00042187740181637577 -0.0004246787399315608 -0.00042723114017356295<br> -0.0004295405319443105 -0.00043161769727532355 -0.00043345071731122343<br> -0.00043504137994886707 -0.00043639761783906793 -0.00043750985619147106<br> -0.0004383774254304094 -0.00043900934020973763 -0.0004394118705801866<br> -0.0004395928689152254 -0.0004395763919250098 -0.00043938254309267965<br> -0.000439031339968601]</pre></td></tr><tr><th>Units</th><td style='text-align:left;'>kilogram meter<sup>2</sup>/second<sup>2</sup></td></tr></tbody></table>"
      ],
      "text/latex": [
       "$\\begin{pmatrix}0.07986476295719383 & 0.004882835639013135 & 0.0022775556458649268 & 0.0013304176496032132 & 0.0008138341853221966 & 0.0004973305516548901 & 0.00031244527643179126 & 0.00018853397785119393 & 8.590238444033198\\times 10^{-5} & -2.211289417472446\\times 10^{-6} & -7.81159045055897\\times 10^{-5} & -0.00014618450112342614 & -0.00020936513924538298 & -0.0002668402765299058 & -0.00031596959448555457 & -0.0003545636202514172 & -0.00038514501548952724 & -0.0003977498374425611 & -0.00039403786289268175 & -0.0003980702637275672 & -0.0004059584601371641 & -0.00040644809059647716 & -0.00040638965406480503 & -0.0004080635860526358 & -0.0004116711442801861 & -0.00041544766065957587 & -0.00041880398902767647 & -0.00042187740181637577 & -0.0004246787399315608 & -0.00042723114017356295 & -0.0004295405319443105 & -0.00043161769727532355 & -0.00043345071731122343 & -0.00043504137994886707 & -0.00043639761783906793 & -0.00043750985619147106 & -0.0004383774254304094 & -0.00043900934020973763 & -0.0004394118705801866 & -0.0004395928689152254 & -0.0004395763919250098 & -0.00043938254309267965 & -0.000439031339968601\\end{pmatrix}\\ \\frac{\\mathrm{kilogram} \\cdot \\mathrm{meter}^{2}}{\\mathrm{second}^{2}}$"
      ],
      "text/plain": [
       "array([ 7.98647630e-02,  4.88283564e-03,  2.27755565e-03,  1.33041765e-03,\n",
       "        8.13834185e-04,  4.97330552e-04,  3.12445276e-04,  1.88533978e-04,\n",
       "        8.59023844e-05, -2.21128942e-06, -7.81159045e-05, -1.46184501e-04,\n",
       "       -2.09365139e-04, -2.66840277e-04, -3.15969594e-04, -3.54563620e-04,\n",
       "       -3.85145015e-04, -3.97749837e-04, -3.94037863e-04, -3.98070264e-04,\n",
       "       -4.05958460e-04, -4.06448091e-04, -4.06389654e-04, -4.08063586e-04,\n",
       "       -4.11671144e-04, -4.15447661e-04, -4.18803989e-04, -4.21877402e-04,\n",
       "       -4.24678740e-04, -4.27231140e-04, -4.29540532e-04, -4.31617697e-04,\n",
       "       -4.33450717e-04, -4.35041380e-04, -4.36397618e-04, -4.37509856e-04,\n",
       "       -4.38377425e-04, -4.39009340e-04, -4.39411871e-04, -4.39592869e-04,\n",
       "       -4.39576392e-04, -4.39382543e-04, -4.39031340e-04]) <Unit('kilogram * meter ** 2 / second ** 2')>"
      ]
     },
     "execution_count": 102,
     "metadata": {},
     "output_type": "execute_result"
    }
   ],
   "source": [
    "total_moment = - wing_lift_moment \\\n",
    "    + wing_drag_moment \\\n",
    "    - stab_lift_moment \\\n",
    "    - stab_drag_moment \\\n",
    "    + moment_wing + moment_stab\n",
    "total_moment.to_base_units()"
   ]
  },
  {
   "cell_type": "code",
   "execution_count": 119,
   "id": "7a9b9817",
   "metadata": {
    "scrolled": false
   },
   "outputs": [
    {
     "data": {
      "image/png": "[encoded data removed]",
      "text/plain": [
       "<Figure size 432x288 with 1 Axes>"
      ]
     },
     "metadata": {
      "needs_background": "light"
     },
     "output_type": "display_data"
    }
   ],
   "source": [
    "plt.plot(x, total_moment.to_base_units().magnitude)\n",
    "plt.show()"
   ]
  },
  {
   "cell_type": "code",
   "execution_count": 87,
   "id": "19ad44b0",
   "metadata": {},
   "outputs": [
    {
     "name": "stdout",
     "output_type": "stream",
     "text": [
      "alpha =  3.836734693877551\n"
     ]
    }
   ],
   "source": [
    "for i in range(len(x)):\n",
    "    if total_moment[i]<0:\n",
    "        print(\"alpha = \",x[i])\n",
    "        alpha = x[i]\n",
    "        break"
   ]
  },
  {
   "cell_type": "code",
   "execution_count": 88,
   "id": "df35e52d",
   "metadata": {},
   "outputs": [
    {
     "data": {
      "text/plain": [
       "array(0.56191344)"
      ]
     },
     "execution_count": 88,
     "metadata": {},
     "output_type": "execute_result"
    }
   ],
   "source": [
    "clw(alpha)"
   ]
  },
  {
   "cell_type": "code",
   "execution_count": 89,
   "id": "de45a389",
   "metadata": {},
   "outputs": [
    {
     "data": {
      "text/html": [
       "3.630740612697587 mile_per_hour"
      ],
      "text/latex": [
       "$3.630740612697587\\ \\mathrm{mile\\_per\\_hour}$"
      ],
      "text/plain": [
       "3.630740612697587 <Unit('mile_per_hour')>"
      ]
     },
     "execution_count": 89,
     "metadata": {},
     "output_type": "execute_result"
    }
   ],
   "source": [
    "VE = 2 * wgt /(rho/u.gravity*(clw(alpha) * sw + cls(alpha-2) * ss))\n",
    "v = np.sqrt(VE)\n",
    "v.to('mph')"
   ]
  },
  {
   "cell_type": "markdown",
   "id": "e0275717",
   "metadata": {},
   "source": [
    "Now, let's calculate the Reynolds Number for this velocity:"
   ]
  },
  {
   "cell_type": "code",
   "execution_count": 90,
   "id": "14e99847",
   "metadata": {},
   "outputs": [
    {
     "data": {
      "text/html": [
       "4876.004509865407 dimensionless"
      ],
      "text/latex": [
       "$4876.004509865407\\ dimensionless$"
      ],
      "text/plain": [
       "4876.004509865407 <Unit('dimensionless')>"
      ]
     },
     "execution_count": 90,
     "metadata": {},
     "output_type": "execute_result"
    }
   ],
   "source": [
    "mean_chord = 1.85 * u.inch\n",
    "mu = Air(u).get_properties(864)['mu']\n",
    "density = Air(u).get_properties(864)['rho']\n",
    "RE = density * v * mean_chord / mu\n",
    "RE.to_base_units()"
   ]
  },
  {
   "cell_type": "markdown",
   "id": "dc8a7e0e",
   "metadata": {},
   "source": [
    "These calculations are for our 2D model. McLean included some 3D effects by adding in induced drag."
   ]
  },
  {
   "cell_type": "markdown",
   "id": "d5783f9b",
   "metadata": {},
   "source": [
    "## Induced Drag\n",
    "\n",
    "When air flows over a lifting surface several interesting things happen. One is the formation of two vortices that appear behind the wing tips. Although it is common to talk about the formation of these vortices as a result of the pressure difference between the upper and lower surfaces, their formation is more complicated than that. (For a good discussion of this, see Doug McLean’s 2005 article on wing-tip design {cite}`mclean2005`. \n",
    "\n",
    "A side effect of those vortices is a downward deflection of the airstream behind the wing that influences the effective angle of attack of the stabilizer. This downward flow is called *Downwash*. \n",
    "\n",
    "In initial designs, the downwash angle can be estimated using this equation:\n",
    "\n",
    "\\begin{equation}\n",
    "\\epsilon = \\frac{2C_{lw}}{\\pi{AR}_w}\n",
    "\\end{equation}\n",
    "\n",
    "The induced drag due to the wing is given by:\n",
    "\\begin{equation}\n",
    "C_{dif} = \\frac{1}{\\pi {AR}_f}\n",
    "\\end{equation}\n",
    "\n",
    "And the induced drag due to the stab is given by:\n",
    "\n",
    "\\begin{equation}\n",
    "C_{dir} = \\frac{C_{lr}^2}{\\pi {AR}_r} + 2 C_{lr}C_{dif}\n",
    "\\end{equation}\n",
    "Where:\n",
    "\n",
    "\\begin{equation}\n",
    "{AR}_{wing} = \\frac{b_w^2}{S_f}\n",
    "\\end{equation}\n",
    "\n",
    "\\begin{equation}\n",
    "{AR}_{stab} = \\frac{b_r^2}{S_r}\n",
    "\\end{equation}\n",
    "\n",
    "Here:\n",
    "- $b_w$ is the wing span\n",
    "- $b_r$ is the stab span\n",
    "- $S_f$ is the wing projected area\n",
    "- $S_r$ is the stab projected span"
   ]
  },
  {
   "cell_type": "code",
   "execution_count": 91,
   "id": "6ecaec8f",
   "metadata": {},
   "outputs": [
    {
     "name": "stdout",
     "output_type": "stream",
     "text": [
      "7.8871660432942985 dimensionless 7.959312965493482 dimensionless\n"
     ]
    }
   ],
   "source": [
    "b_w = mdata['wing']['projected_span']\n",
    "a_w = mdata['wing']['projected_area']\n",
    "b_s = mdata['stab']['projected_span']\n",
    "a_s = mdata['stab']['projected_area']\n",
    "\n",
    "aspect_ratio_wing = b_w**2/a_w\n",
    "aspect_ratio_stab = b_s**2/a_s\n",
    "print(aspect_ratio_wing, aspect_ratio_stab)"
   ]
  },
  {
   "cell_type": "markdown",
   "id": "3ecd9657",
   "metadata": {},
   "source": [
    "The downwash angle seen by the stabilizer is calculated next:"
   ]
  },
  {
   "cell_type": "code",
   "execution_count": 92,
   "id": "1ed7f85d",
   "metadata": {},
   "outputs": [
    {
     "data": {
      "text/html": [
       "<table><tbody><tr><th>Magnitude</th><td style='text-align:left;'><pre>[0.4708216585459101 0.8304696052429581 1.1695106173031853<br> 1.4553342819774586 1.6834954376479758 1.8808780019931224<br> 2.068268774699325 2.2506680704842124 2.4278712780722485<br> 2.5986703392281028 2.7613600694682403 2.913842734729647<br> 3.0536541866582545 3.178231915761888 3.285499049651132 3.3745782309849894<br> 3.44654120200397 3.504349460447585 3.5521763826485406 3.594783557446779<br> 3.6368156160574294 3.6820547911313795 3.7328531710943715<br> 3.790043212353827 3.8533304795156536 3.9218827247773915<br> 3.9947545005468705 4.071063631996272 4.150063147940985 4.231126023357798<br> 4.313739495070567 4.397494824071387 4.482083903429996 4.567214430142499<br> 4.6526677322316985 4.738275886272328 4.823869350978623 4.909337834587565<br> 4.99451780172789 5.079251393770221 5.163379364159408 5.246741480473677<br> 5.329177510291253]</pre></td></tr><tr><th>Units</th><td style='text-align:left;'>dimensionless</td></tr></tbody></table>"
      ],
      "text/latex": [
       "$\\begin{pmatrix}0.4708216585459101 & 0.8304696052429581 & 1.1695106173031853 & 1.4553342819774586 & 1.6834954376479758 & 1.8808780019931224 & 2.068268774699325 & 2.2506680704842124 & 2.4278712780722485 & 2.5986703392281028 & 2.7613600694682403 & 2.913842734729647 & 3.0536541866582545 & 3.178231915761888 & 3.285499049651132 & 3.3745782309849894 & 3.44654120200397 & 3.504349460447585 & 3.5521763826485406 & 3.594783557446779 & 3.6368156160574294 & 3.6820547911313795 & 3.7328531710943715 & 3.790043212353827 & 3.8533304795156536 & 3.9218827247773915 & 3.9947545005468705 & 4.071063631996272 & 4.150063147940985 & 4.231126023357798 & 4.313739495070567 & 4.397494824071387 & 4.482083903429996 & 4.567214430142499 & 4.6526677322316985 & 4.738275886272328 & 4.823869350978623 & 4.909337834587565 & 4.99451780172789 & 5.079251393770221 & 5.163379364159408 & 5.246741480473677 & 5.329177510291253\\end{pmatrix}\\ dimensionless$"
      ],
      "text/plain": [
       "array([0.47082166, 0.83046961, 1.16951062, 1.45533428, 1.68349544,\n",
       "       1.880878  , 2.06826877, 2.25066807, 2.42787128, 2.59867034,\n",
       "       2.76136007, 2.91384273, 3.05365419, 3.17823192, 3.28549905,\n",
       "       3.37457823, 3.4465412 , 3.50434946, 3.55217638, 3.59478356,\n",
       "       3.63681562, 3.68205479, 3.73285317, 3.79004321, 3.85333048,\n",
       "       3.92188272, 3.9947545 , 4.07106363, 4.15006315, 4.23112602,\n",
       "       4.3137395 , 4.39749482, 4.4820839 , 4.56721443, 4.65266773,\n",
       "       4.73827589, 4.82386935, 4.90933783, 4.9945178 , 5.07925139,\n",
       "       5.16337936, 5.24674148, 5.32917751]) <Unit('dimensionless')>"
      ]
     },
     "execution_count": 92,
     "metadata": {},
     "output_type": "execute_result"
    }
   ],
   "source": [
    "eps = 2.0*cl_w/(aspect_ratio_wing * math.pi)\n",
    "eps*180/math.pi"
   ]
  },
  {
   "cell_type": "markdown",
   "id": "f2024978",
   "metadata": {},
   "source": [
    "Those angle are significant! Our data will be suspect as the curve fit routines extrapolate to get stab values!"
   ]
  },
  {
   "cell_type": "code",
   "execution_count": 93,
   "id": "9f639b4d",
   "metadata": {},
   "outputs": [],
   "source": [
    "import math\n",
    "C_lr = cls(alpha-2)\n",
    "C_dif = 1.0/(math.pi * aspect_ratio_wing)\n",
    "C_dir = C_lr ** 2/(math.pi* aspect_ratio_stab) + 2.0*C_lr*C_dif"
   ]
  },
  {
   "cell_type": "markdown",
   "id": "3dd3b6e1",
   "metadata": {},
   "source": [
    "The total induce drag is given by:\n",
    "\n",
    "\\begin{equation}\n",
    "C_di = \\frac{C_{dif} + \\frac{S_r C_{dir}}{S_f}}{1 + \\frac{S_r}{S_f}}\n",
    "\\end{equation}"
   ]
  },
  {
   "cell_type": "code",
   "execution_count": 94,
   "id": "0325519b",
   "metadata": {},
   "outputs": [
    {
     "name": "stdout",
     "output_type": "stream",
     "text": [
      "0.03616029838117978 dimensionless\n"
     ]
    }
   ],
   "source": [
    "C_di = (C_dif + C_dir*(a_s)/a_w)/ \\\n",
    "            (1.0 + a_s/a_w)\n",
    "print(C_di)"
   ]
  },
  {
   "cell_type": "markdown",
   "id": "210bd712",
   "metadata": {},
   "source": [
    "The induced drag coefficients are added to the section coefficient data for both the wing and stab. The flight velocity needs to be recalculated to account for these changes."
   ]
  },
  {
   "cell_type": "markdown",
   "id": "0a7b10c6",
   "metadata": {},
   "source": [
    "We now can calculate the total drag from the wing and stab:\n",
    "\n",
    "\\begin{equation}\n",
    "D = \\frac{1}{2}\\rho u^2 ((C_{dw} + C_{dif})*S_w + (C_{ds} + C_{dir})*S_s)\n",
    "\\end{equation}\n"
   ]
  },
  {
   "cell_type": "code",
   "execution_count": 95,
   "id": "4100ed1b",
   "metadata": {},
   "outputs": [
    {
     "data": {
      "text/html": [
       "0.021740785344048996 kilogram meter/second<sup>2</sup>"
      ],
      "text/latex": [
       "$0.021740785344048996\\ \\frac{\\mathrm{kilogram} \\cdot \\mathrm{meter}}{\\mathrm{second}^{2}}$"
      ],
      "text/plain": [
       "0.021740785344048996 <Unit('kilogram * meter / second ** 2')>"
      ]
     },
     "execution_count": 95,
     "metadata": {},
     "output_type": "execute_result"
    }
   ],
   "source": [
    "\n",
    "D = 0.5 * rho * v**2 * \\\n",
    "    ((clw(alpha) + C_dif)*a_w + (cls(alpha-2) + C_dir)*a_s)\n",
    "D.to_base_units()"
   ]
  },
  {
   "cell_type": "markdown",
   "id": "d11fd028",
   "metadata": {},
   "source": [
    "## Including Downwash Effects\n",
    "\n",
    "We will repeat the moment survey adding in induced drag effects. Only the drag calculations will change."
   ]
  },
  {
   "cell_type": "code",
   "execution_count": 103,
   "id": "97aed1b8",
   "metadata": {},
   "outputs": [],
   "source": [
    "drag_wing = q * (cd_w + C_dif)* sw\n",
    "drag_stab = q * (cd_s + C_dir) *ss"
   ]
  },
  {
   "cell_type": "code",
   "execution_count": 109,
   "id": "f4110450",
   "metadata": {},
   "outputs": [
    {
     "data": {
      "text/html": [
       "<table><tbody><tr><th>Magnitude</th><td style='text-align:left;'><pre>[0.006725486186293436 -4.1169918464485685e-05 -0.006532022424872997<br> -0.0129452677911395 -0.019404537399238156 -0.025946007242107855<br> -0.03253111754223706 -0.03915777986712227 -0.045904098185836746<br> -0.052858274746486 -0.06004247679914417 -0.06763263891388692<br> -0.07483546742967843 -0.08285426570592713 -0.09339257619420674<br> -0.10660527265526513 -0.12404826547784928 -0.14093159730425586<br> -0.15529685290034304 -0.1767346804202758 -0.20526001450607678<br> -0.23508268655892775 -0.2662227672423793 -0.2965307661495543<br> -0.32713523428732894 -0.3603660519130483 -0.3946122543837792<br> -0.4302293591099159 -0.4671196131208449 -0.5053187903547497<br> -0.5448263785026973 -0.5856544123035282 -0.627810162350659<br> -0.6713077221882315 -0.7161594707093542 -0.7623669983763083<br> -0.809934005304797 -0.8588735130574893 -0.9091806359975325<br> -0.9608572672399002 -1.0139112933486651 -1.0683419293033065<br> -1.1241534645891158]</pre></td></tr><tr><th>Units</th><td style='text-align:left;'>gram inch standard_gravity</td></tr></tbody></table>"
      ],
      "text/latex": [
       "$\\begin{pmatrix}0.006725486186293436 & -4.1169918464485685\\times 10^{-5} & -0.006532022424872997 & -0.0129452677911395 & -0.019404537399238156 & -0.025946007242107855 & -0.03253111754223706 & -0.03915777986712227 & -0.045904098185836746 & -0.052858274746486 & -0.06004247679914417 & -0.06763263891388692 & -0.07483546742967843 & -0.08285426570592713 & -0.09339257619420674 & -0.10660527265526513 & -0.12404826547784928 & -0.14093159730425586 & -0.15529685290034304 & -0.1767346804202758 & -0.20526001450607678 & -0.23508268655892775 & -0.2662227672423793 & -0.2965307661495543 & -0.32713523428732894 & -0.3603660519130483 & -0.3946122543837792 & -0.4302293591099159 & -0.4671196131208449 & -0.5053187903547497 & -0.5448263785026973 & -0.5856544123035282 & -0.627810162350659 & -0.6713077221882315 & -0.7161594707093542 & -0.7623669983763083 & -0.809934005304797 & -0.8588735130574893 & -0.9091806359975325 & -0.9608572672399002 & -1.0139112933486651 & -1.0683419293033065 & -1.1241534645891158\\end{pmatrix}\\ \\mathrm{gram} \\cdot \\mathrm{inch} \\cdot \\mathrm{standard\\_gravity}$"
      ],
      "text/plain": [
       "array([ 6.72548619e-03, -4.11699185e-05, -6.53202242e-03, -1.29452678e-02,\n",
       "       -1.94045374e-02, -2.59460072e-02, -3.25311175e-02, -3.91577799e-02,\n",
       "       -4.59040982e-02, -5.28582747e-02, -6.00424768e-02, -6.76326389e-02,\n",
       "       -7.48354674e-02, -8.28542657e-02, -9.33925762e-02, -1.06605273e-01,\n",
       "       -1.24048265e-01, -1.40931597e-01, -1.55296853e-01, -1.76734680e-01,\n",
       "       -2.05260015e-01, -2.35082687e-01, -2.66222767e-01, -2.96530766e-01,\n",
       "       -3.27135234e-01, -3.60366052e-01, -3.94612254e-01, -4.30229359e-01,\n",
       "       -4.67119613e-01, -5.05318790e-01, -5.44826379e-01, -5.85654412e-01,\n",
       "       -6.27810162e-01, -6.71307722e-01, -7.16159471e-01, -7.62366998e-01,\n",
       "       -8.09934005e-01, -8.58873513e-01, -9.09180636e-01, -9.60857267e-01,\n",
       "       -1.01391129e+00, -1.06834193e+00, -1.12415346e+00]) <Unit('gram * inch * standard_gravity')>"
      ]
     },
     "execution_count": 109,
     "metadata": {},
     "output_type": "execute_result"
    }
   ],
   "source": [
    "wing_drag_moment = wda * drag_wing\n",
    "stab_drag_moment = sda * drag_stab\n",
    "stab_drag_moment"
   ]
  },
  {
   "cell_type": "code",
   "execution_count": 120,
   "id": "39c88a17",
   "metadata": {},
   "outputs": [
    {
     "data": {
      "text/html": [
       "<table><tbody><tr><th>Magnitude</th><td style='text-align:left;'><pre>[0.0007802906724088008 0.0007377281733965118 0.0006617505454459007<br> 0.0005519981902041664 0.0004208988264716981 0.00029685479133753433<br> 0.00020389169892830373 0.00012672145957535381 4.734025038683926e-05<br> -3.502694991069653e-05 -0.0001186503992486566 -0.00020490637459405297<br> -0.00029475950955220893 -0.0003848222787958495 -0.00046865351455880054<br> -0.0005399239575620214 -0.0005998691463224656 -0.0006309827973493208<br> -0.0006344827802445413 -0.0006497759209990526 -0.0006716824223768678<br> -0.0006819793341378553 -0.0006923781508876573 -0.0007069619306845693<br> -0.0007261994235688254 -0.0007469576971732993 -0.0007680048387363403<br> -0.0007894186000135026 -0.0008110663044950336 -0.0008328586153632468<br> -0.0008546912056104498 -0.0008764867233981737 -0.0008981378281650161<br> -0.0009195661468278511 -0.0009407195824826467 -0.0009615163113398841<br> -0.0009818922424449864 -0.001001817454235153 -0.0010212462593871174<br> -0.0010401392370924974 -0.0010584987105677528 -0.0010763211776554128<br> -0.00109360688886915]</pre></td></tr><tr><th>Units</th><td style='text-align:left;'>kilogram meter<sup>2</sup>/second<sup>2</sup></td></tr></tbody></table>"
      ],
      "text/latex": [
       "$\\begin{pmatrix}0.0007802906724088008 & 0.0007377281733965118 & 0.0006617505454459007 & 0.0005519981902041664 & 0.0004208988264716981 & 0.00029685479133753433 & 0.00020389169892830373 & 0.00012672145957535381 & 4.734025038683926\\times 10^{-5} & -3.502694991069653\\times 10^{-5} & -0.0001186503992486566 & -0.00020490637459405297 & -0.00029475950955220893 & -0.0003848222787958495 & -0.00046865351455880054 & -0.0005399239575620214 & -0.0005998691463224656 & -0.0006309827973493208 & -0.0006344827802445413 & -0.0006497759209990526 & -0.0006716824223768678 & -0.0006819793341378553 & -0.0006923781508876573 & -0.0007069619306845693 & -0.0007261994235688254 & -0.0007469576971732993 & -0.0007680048387363403 & -0.0007894186000135026 & -0.0008110663044950336 & -0.0008328586153632468 & -0.0008546912056104498 & -0.0008764867233981737 & -0.0008981378281650161 & -0.0009195661468278511 & -0.0009407195824826467 & -0.0009615163113398841 & -0.0009818922424449864 & -0.001001817454235153 & -0.0010212462593871174 & -0.0010401392370924974 & -0.0010584987105677528 & -0.0010763211776554128 & -0.00109360688886915\\end{pmatrix}\\ \\frac{\\mathrm{kilogram} \\cdot \\mathrm{meter}^{2}}{\\mathrm{second}^{2}}$"
      ],
      "text/plain": [
       "array([ 7.80290672e-04,  7.37728173e-04,  6.61750545e-04,  5.51998190e-04,\n",
       "        4.20898826e-04,  2.96854791e-04,  2.03891699e-04,  1.26721460e-04,\n",
       "        4.73402504e-05, -3.50269499e-05, -1.18650399e-04, -2.04906375e-04,\n",
       "       -2.94759510e-04, -3.84822279e-04, -4.68653515e-04, -5.39923958e-04,\n",
       "       -5.99869146e-04, -6.30982797e-04, -6.34482780e-04, -6.49775921e-04,\n",
       "       -6.71682422e-04, -6.81979334e-04, -6.92378151e-04, -7.06961931e-04,\n",
       "       -7.26199424e-04, -7.46957697e-04, -7.68004839e-04, -7.89418600e-04,\n",
       "       -8.11066304e-04, -8.32858615e-04, -8.54691206e-04, -8.76486723e-04,\n",
       "       -8.98137828e-04, -9.19566147e-04, -9.40719582e-04, -9.61516311e-04,\n",
       "       -9.81892242e-04, -1.00181745e-03, -1.02124626e-03, -1.04013924e-03,\n",
       "       -1.05849871e-03, -1.07632118e-03, -1.09360689e-03]) <Unit('kilogram * meter ** 2 / second ** 2')>"
      ]
     },
     "execution_count": 120,
     "metadata": {},
     "output_type": "execute_result"
    }
   ],
   "source": [
    "total_moment2 = - wing_lift_moment \\\n",
    "    + wing_drag_moment \\\n",
    "    - stab_lift_moment \\\n",
    "    - stab_drag_moment \\\n",
    "    + moment_wing + moment_stab\n",
    "total_moment2.to_base_units()"
   ]
  },
  {
   "cell_type": "code",
   "execution_count": 121,
   "id": "7c128f1a",
   "metadata": {},
   "outputs": [
    {
     "data": {
      "image/png": "[encoded data removed]",
      "text/plain": [
       "<Figure size 432x288 with 1 Axes>"
      ]
     },
     "metadata": {
      "needs_background": "light"
     },
     "output_type": "display_data"
    }
   ],
   "source": [
    "plt.plot(x, total_moment2.to_base_units().magnitude)\n",
    "#plt.plot(x, total_moment.to_base_units().magnitude)\n",
    "plt.show()"
   ]
  },
  {
   "cell_type": "code",
   "execution_count": 122,
   "id": "dda35c66",
   "metadata": {},
   "outputs": [
    {
     "name": "stdout",
     "output_type": "stream",
     "text": [
      "alpha =  3.836734693877551\n"
     ]
    }
   ],
   "source": [
    "i0 = 0\n",
    "for i in range(len(x)):\n",
    "    if total_moment2[i]<0:\n",
    "        print(\"alpha = \",x[i])\n",
    "        alpha = x[i]\n",
    "        i0 = i\n",
    "        break"
   ]
  },
  {
   "cell_type": "markdown",
   "id": "4106b402",
   "metadata": {},
   "source": [
    "Obviously, for level flight these effects are small. Also, the scheme to pick the zero moment point is flawed. I shoult let numpy do the work!"
   ]
  },
  {
   "cell_type": "code",
   "execution_count": 101,
   "id": "e027bbbe",
   "metadata": {},
   "outputs": [
    {
     "data": {
      "text/html": [
       "3.630740612697587 mile_per_hour"
      ],
      "text/latex": [
       "$3.630740612697587\\ \\mathrm{mile\\_per\\_hour}$"
      ],
      "text/plain": [
       "3.630740612697587 <Unit('mile_per_hour')>"
      ]
     },
     "execution_count": 101,
     "metadata": {},
     "output_type": "execute_result"
    }
   ],
   "source": [
    "VE = 2 * wgt /(rho/u.gravity*(clw(alpha) * sw + cls(alpha-2) * ss))\n",
    "v = np.sqrt(VE)\n",
    "v.to('mph')"
   ]
  },
  {
   "cell_type": "code",
   "execution_count": 57,
   "id": "7a1e0569",
   "metadata": {},
   "outputs": [
    {
     "data": {
      "text/html": [
       "0.004192078039260456 kilogram meter/second<sup>2</sup>"
      ],
      "text/latex": [
       "$0.004192078039260456\\ \\frac{\\mathrm{kilogram} \\cdot \\mathrm{meter}}{\\mathrm{second}^{2}}$"
      ],
      "text/plain": [
       "0.004192078039260456 <Unit('kilogram * meter / second ** 2')>"
      ]
     },
     "execution_count": 57,
     "metadata": {},
     "output_type": "execute_result"
    }
   ],
   "source": [
    "total_drag = drag_wing[i0] + drag_stab[i0]\n",
    "total_drag.to_base_units()"
   ]
  },
  {
   "cell_type": "code",
   "execution_count": null,
   "id": "29d793aa",
   "metadata": {},
   "outputs": [],
   "source": []
  }
 ],
 "metadata": {
  "kernelspec": {
   "display_name": "Python 3 (ipykernel)",
   "language": "python",
   "name": "python3"
  },
  "language_info": {
   "codemirror_mode": {
    "name": "ipython",
    "version": 3
   },
   "file_extension": ".py",
   "mimetype": "text/x-python",
   "name": "python",
   "nbconvert_exporter": "python",
   "pygments_lexer": "ipython3",
   "version": "3.10.4"
  },
  "latex_envs": {
   "LaTeX_envs_menu_present": true,
   "autoclose": false,
   "autocomplete": true,
   "bibliofile": "biblio.bib",
   "cite_by": "apalike",
   "current_citInitial": 1,
   "eqLabelWithNumbers": true,
   "eqNumInitial": 1,
   "hotkeys": {
    "equation": "Ctrl-E",
    "itemize": "Ctrl-I"
   },
   "labels_anchors": false,
   "latex_user_defs": false,
   "report_style_numbering": false,
   "user_envs_cfg": false
  },
  "toc": {
   "base_numbering": 1,
   "nav_menu": {},
   "number_sections": true,
   "sideBar": true,
   "skip_h1_title": false,
   "title_cell": "Table of Contents",
   "title_sidebar": "Contents",
   "toc_cell": false,
   "toc_position": {},
   "toc_section_display": true,
   "toc_window_display": false
  },
  "varInspector": {
   "cols": {
    "lenName": 16,
    "lenType": 16,
    "lenVar": 40
   },
   "kernels_config": {
    "python": {
     "delete_cmd_postfix": "",
     "delete_cmd_prefix": "del ",
     "library": "var_list.py",
     "varRefreshCmd": "print(var_dic_list())"
    },
    "r": {
     "delete_cmd_postfix": ") ",
     "delete_cmd_prefix": "rm(",
     "library": "var_list.r",
     "varRefreshCmd": "cat(var_dic_list()) "
    }
   },
   "types_to_exclude": [
    "module",
    "function",
    "builtin_function_or_method",
    "instance",
    "_Feature"
   ],
   "window_display": false
  }
 },
 "nbformat": 4,
 "nbformat_minor": 5
}
