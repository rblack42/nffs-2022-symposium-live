{
 "cells": [
  {
   "cell_type": "markdown",
   "id": "1be7fb39",
   "metadata": {},
   "source": [
    "# Indoor Propellers"
   ]
  },
  {
   "cell_type": "markdown",
   "id": "11f8d5c8",
   "metadata": {},
   "source": [
    "The propellers we use on indoor model airplanes range from plastic propellers, which can be molded into any desired shapt to those we construct by hand.\n",
    "\n",
    "Few handmade indoor propellers are carved. Instead, most are molded on some kind of form. For the exotic built-up propellers of the advanced FAI classes, the blade airfoil section can be set, and the outline molded to a form of some kind. The outline of the blade is up to the builder. Since these blades ar covered using some kind of paper or film, the exact airfoil section between blade ribs depends on the tension of the covering and the load plced on the blade. For simplicity, we will ignore all of that in this analysis.\n",
    "\n",
    "For those classes where a sheet balsa blade is required, the most common forming technique involves soaking the blade and forming it over a conical or cylinderical surface, with the blade axis set at an angle to form the pitch distribution. In the extreme case of the A-6 propeller the rules require a simple flat blade set at some pitch angle. The coss section of a formed balsa blade ends up being approximately some section of ellipse (the section is defined as a plane cutting the form with some specified orientation). Again, the blade outline is up ot the builder.\n",
    "\n",
    "In this article, I am going to attempt to set up a basic analysis scheem that will help us predict the thrust we can expect from our propeller. The theory behind this analysis is only a first-order one; we will stick to inviscid, incompressible flow. We will leave more sophisticated schemes for a later effort."
   ]
  },
  {
   "cell_type": "markdown",
   "id": "96fffcc4",
   "metadata": {},
   "source": [
    "## Propeller Theory"
   ]
  },
  {
   "cell_type": "markdown",
   "id": "7ab4d688",
   "metadata": {},
   "source": [
    "In htis section, we will work through the theory of propellers, following Chapter XI in Von Mises \"Theory of Flight\"{cite}`vonmises1945`"
   ]
  }
 ],
 "metadata": {
  "kernelspec": {
   "display_name": "Python 3 (ipykernel)",
   "language": "python",
   "name": "python3"
  },
  "language_info": {
   "codemirror_mode": {
    "name": "ipython",
    "version": 3
   },
   "file_extension": ".py",
   "mimetype": "text/x-python",
   "name": "python",
   "nbconvert_exporter": "python",
   "pygments_lexer": "ipython3",
   "version": "3.10.4"
  },
  "toc": {
   "base_numbering": 1,
   "nav_menu": {},
   "number_sections": true,
   "sideBar": true,
   "skip_h1_title": false,
   "title_cell": "Table of Contents",
   "title_sidebar": "Contents",
   "toc_cell": false,
   "toc_position": {},
   "toc_section_display": true,
   "toc_window_display": false
  },
  "varInspector": {
   "cols": {
    "lenName": 16,
    "lenType": 16,
    "lenVar": 40
   },
   "kernels_config": {
    "python": {
     "delete_cmd_postfix": "",
     "delete_cmd_prefix": "del ",
     "library": "var_list.py",
     "varRefreshCmd": "print(var_dic_list())"
    },
    "r": {
     "delete_cmd_postfix": ") ",
     "delete_cmd_prefix": "rm(",
     "library": "var_list.r",
     "varRefreshCmd": "cat(var_dic_list()) "
    }
   },
   "types_to_exclude": [
    "module",
    "function",
    "builtin_function_or_method",
    "instance",
    "_Feature"
   ],
   "window_display": false
  }
 },
 "nbformat": 4,
 "nbformat_minor": 5
}
