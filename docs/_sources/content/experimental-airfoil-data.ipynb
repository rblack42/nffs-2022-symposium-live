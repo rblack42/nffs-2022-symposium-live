{
 "cells": [
  {
   "cell_type": "markdown",
   "id": "5221eab2",
   "metadata": {},
   "source": [
    "# Airfoil Data"
   ]
  },
  {
   "cell_type": "code",
   "execution_count": 33,
   "id": "53448402",
   "metadata": {},
   "outputs": [],
   "source": [
    "import os\n",
    "import sys\n",
    "projdir = os.path.abspath('../..')\n",
    "if not projdir in sys.path:\n",
    "    sys.path.insert(0,projdir)"
   ]
  },
  {
   "cell_type": "markdown",
   "id": "c1915836",
   "metadata": {},
   "source": [
    "Finding airfoil data for the flight range of our indoor models is difficult. However, recent interest in micro flying vehicles has generated some data. Still, my attempts at matching a typical indoor model with experimental airfoil data only turned up a few possible data sources. \n",
    "\n",
    "In my past, I conducted some serious computer based studies of the flow of air over high speed vehicles as part of my research work in both graduate school and in the Air Force. In developing new computer tools for this kind of work, we always looked for actual experimental data that could be used to validate our new tools. \n",
    "\n",
    "For this project, I decided to try out the freely available *XFoil* program, and compare results from this program and data I found online.  "
   ]
  },
  {
   "cell_type": "markdown",
   "id": "c011a054",
   "metadata": {},
   "source": [
    "## XFoil Testing"
   ]
  },
  {
   "cell_type": "markdown",
   "id": "70796e1c",
   "metadata": {},
   "source": [
    "*XFoil* is a popular tool often used in the study of low speed airfoils.  The program has been around along time. It was originally developed by MIT Professor Mark Drela as part of his *Daedalus* {cite}`drela` project which resulted in a man powered airplane that flew 72.4 miles from Crete to the Greek island of Santorini in 1988! Mark often used model airplanes in how aerodynamics classes.\n",
    "\n",
    "The only problem with *XFoil* is that is was written in Fortran, a language that is not that popular today. Fortunately there is a nice free Fortran compiler available today called *gfortran** which can handle this program. I managed to compile the latest version of the *XFoil* on both my Mac and Linux laptops, (I will get it running on WIndows as soon as I can!)\n",
    "\n",
    "*XFoil* is a command line program, making it a bit clumsy to run in today's mouse driven world. Many folks who use *XFoil* hide the old-fashioned interface behind something more modern, like a Python front end!\n",
    "\n",
    "I will explore some of those tools in a later study. For now, I set up a simple Python front end that drives *XFoil* as needed to generate aerodynamic data we can use in this current study. I will not cover that code here. Instead, we will look at the final product, the aerodynamic data needed for the Wart-A6!\n",
    "\n",
    "### Test Airfoils\n",
    "\n",
    "The Wart uses a simplex airfoil. I was not able to find usable data for that airfoil, but i did find some suitable data for another common indoor airfoil, the simple circular arc.\n",
    "\n",
    "To test both of these airfoils, I wrote a routine that produces a thin airfoil at the specified camber height and a specified thickness. *XFoil* is not really happy working with super thin airfoils like we use on indoor models, so I settled on a one percent thick airfoil with a round leading edge, and a parabolic taper on the trailing edge.\n",
    "\n",
    "All airfoils are stored in a directory with the airfoil name, and s subdirectory identifying the Reynolds Number. The **AirfoilMgr** module manages access:"
   ]
  },
  {
   "cell_type": "code",
   "execution_count": 34,
   "id": "9e89c165",
   "metadata": {},
   "outputs": [],
   "source": [
    "from mmtime.AirfoilMgr import AirfoilMgr\n",
    "am = AirfoilMgr()"
   ]
  },
  {
   "cell_type": "markdown",
   "id": "0db229ae",
   "metadata": {},
   "source": [
    "We can check to see what airfoils are available:"
   ]
  },
  {
   "cell_type": "code",
   "execution_count": 35,
   "id": "2fb4bcae",
   "metadata": {},
   "outputs": [
    {
     "name": "stdout",
     "output_type": "stream",
     "text": [
      "['mcbride-b7', 'arc0401', 'arc5', 'arc3', 'BEZ0625018506', 'arc0301', 'ARC0601', 'arc0201', 'flat0001', 'ARC0501']\n"
     ]
    }
   ],
   "source": [
    "am.showAirfoils()"
   ]
  },
  {
   "cell_type": "markdown",
   "id": "75933bd3",
   "metadata": {},
   "source": [
    "Next, we select the airfoil by name from this list, then load coefficient data for the Reynolds Number.\n",
    "\n",
    "TODO: the directory should show Reynolds Numbers available"
   ]
  },
  {
   "cell_type": "code",
   "execution_count": 36,
   "id": "216af6f3",
   "metadata": {},
   "outputs": [
    {
     "name": "stdout",
     "output_type": "stream",
     "text": [
      "Selected: arc3\n",
      "Loading arc3\n",
      "\tLoading CL-re3k.csv\n",
      "\tLoading CM-re3k.csv\n",
      "\tLoading CD-re3k.csv\n",
      "\tLoading CP-re3k.csv\n"
     ]
    }
   ],
   "source": [
    "import numpy as np\n",
    "am.selectAirfoil('arc3')\n",
    "x = np.linspace(-5,10,50)\n",
    "cl, cm, cd, cp = am.loadData('re3k')"
   ]
  },
  {
   "cell_type": "markdown",
   "id": "141d2a27",
   "metadata": {},
   "source": [
    "The coefficients returned are Python functions. You provide an angle of attack (in degrees) and the functions will return the coefficient. We can plot these curves esily using **matplotlib**:"
   ]
  },
  {
   "cell_type": "code",
   "execution_count": 37,
   "id": "7088ef39",
   "metadata": {},
   "outputs": [],
   "source": [
    "import matplotlib.pyplot as plt\n",
    "import math"
   ]
  },
  {
   "cell_type": "code",
   "execution_count": 38,
   "id": "f1634c23",
   "metadata": {},
   "outputs": [],
   "source": [
    "x = np.linspace(-5,10,50)\n",
    "CL = cl(x)\n",
    "CD = cd(x)"
   ]
  },
  {
   "cell_type": "code",
   "execution_count": 39,
   "id": "17320358",
   "metadata": {},
   "outputs": [
    {
     "data": {
      "image/png": "[encoded data removed]",
      "text/plain": [
       "<Figure size 432x288 with 1 Axes>"
      ]
     },
     "metadata": {
      "needs_background": "light"
     },
     "output_type": "display_data"
    }
   ],
   "source": [
    "plt.plot(x, CL)\n",
    "plt.plot(x,CD)\n",
    "plt.show()"
   ]
  },
  {
   "cell_type": "markdown",
   "id": "8943b6ba",
   "metadata": {},
   "source": [
    "Let's try a lift-drag polar plot:"
   ]
  },
  {
   "cell_type": "code",
   "execution_count": 40,
   "id": "8b7a4942",
   "metadata": {},
   "outputs": [
    {
     "data": {
      "image/png": "[encoded data removed]",
      "text/plain": [
       "<Figure size 432x288 with 1 Axes>"
      ]
     },
     "metadata": {
      "needs_background": "light"
     },
     "output_type": "display_data"
    }
   ],
   "source": [
    "plt.plot(CL,CD)\n",
    "plt.show()"
   ]
  },
  {
   "cell_type": "markdown",
   "id": "7ad3fc1e",
   "metadata": {},
   "source": [
    "## Xfoil Data"
   ]
  },
  {
   "cell_type": "markdown",
   "id": "29e5f1ca",
   "metadata": {},
   "source": [
    "As a check of how well *Xfoil* does with this airfoil, I used my simple circular arc airfoil and ran a test for the same Reynolds Number:"
   ]
  },
  {
   "cell_type": "code",
   "execution_count": 41,
   "id": "74f78590",
   "metadata": {},
   "outputs": [
    {
     "name": "stdout",
     "output_type": "stream",
     "text": [
      "Selected: arc0301\n",
      "Loading arc0301\n",
      "\tLoading CD_re3k.csv\n",
      "\tLoading CP_re3k.csv\n",
      "\tLoading CM_re3k.csv\n",
      "\tLoading CL_re3k.csv\n"
     ]
    }
   ],
   "source": [
    "am.selectAirfoil('arc0301')\n",
    "cl2, cm2, cd2, cp2 = am.loadData('re3k')"
   ]
  },
  {
   "cell_type": "code",
   "execution_count": 42,
   "id": "4806d68f",
   "metadata": {},
   "outputs": [],
   "source": [
    "CL2 = cl2(x)\n",
    "CD2 = cd2(x)"
   ]
  },
  {
   "cell_type": "code",
   "execution_count": 43,
   "id": "45d5994f",
   "metadata": {},
   "outputs": [
    {
     "data": {
      "image/png": "[encoded data removed]",
      "text/plain": [
       "<Figure size 432x288 with 1 Axes>"
      ]
     },
     "metadata": {
      "needs_background": "light"
     },
     "output_type": "display_data"
    }
   ],
   "source": [
    "plt.plot(x,CL)\n",
    "plt.plot(x,CD)\n",
    "plt.plot(x,CL2)\n",
    "plt.plot(x,CD2)\n",
    "plt.show()"
   ]
  },
  {
   "cell_type": "markdown",
   "id": "6c5e147d",
   "metadata": {},
   "source": [
    "Obviously, *Xfoil* is not perfect, but it is a reasonable tool for initial design analysis The agreement between experimental data and *XFoil* is reasonable between angles of attack ranging from $-2$ to $5$ degrees, but not so good outside that range. For the moment, I will use *XFoil* data for the rest of this analysis. *XFoil generates pressure distributions, and aerodynamic coefficients which are very useful in further work. It may not be able to handle all input conditions, but so far, I am getting reasonable data for the airfoils needed for this initial study.\n",
    "\n",
    "I have created Python routines to generate both circular arc and simplex airfoils with specified camber values.  "
   ]
  },
  {
   "cell_type": "markdown",
   "id": "7373f239",
   "metadata": {},
   "source": [
    "## Lift and Drag Calculations"
   ]
  },
  {
   "cell_type": "markdown",
   "id": "a307ec05",
   "metadata": {},
   "source": [
    "## Profile Drag\n",
    "\n",
    "The drag produced by skin friction and the pressure distribution around the airfoil is called *Profile Drag*. **xfoil** returns the pressure drag coefficient $ C_{dp}$, and can deliver the pressure distribution as well. "
   ]
  },
  {
   "cell_type": "markdown",
   "id": "f910e82e",
   "metadata": {},
   "source": [
    "## Downwash Calculations"
   ]
  },
  {
   "cell_type": "markdown",
   "id": "399ad90f",
   "metadata": {},
   "source": [
    "The production of lift creates a downwash in the air behind a lifting surface. This downwash contributes to an increase in drag. Furthermore, the downwash produced by the wing affects the flow over the stabilizer. From McLean's paper, we can use two simple equations include these effects in our drag calculations.  "
   ]
  },
  {
   "cell_type": "markdown",
   "id": "a6507258",
   "metadata": {},
   "source": [
    "The induced drag coefficients for the wing and stab are given by:\n",
    "\n",
    "\\begin{equation}\n",
    "C_{di,w} = \\frac{{C_l}_w^2}{\\pi A_w} \n",
    "\\end{equation}\n",
    "\n",
    "\\begin{equation}\n",
    "C_{di,t} = \\frac{{{C_l}_t}^2}{\\pi A_t} + \\frac{ 2 {C_l}_w}{\\pi A_w} \n",
    "\\end{equation}"
   ]
  },
  {
   "cell_type": "markdown",
   "id": "674a3937",
   "metadata": {},
   "source": [
    "The aspect ration is calculated from the surface span and area:\n",
    "\n",
    "\\begin{equation}\n",
    "AR = b^2/S\n",
    "\\end{equation}\n",
    "\n",
    "Where **b** is the surface span, and **S** is the surface area.\n",
    "\n",
    "We will use these equations when we calculate drag later in this study."
   ]
  },
  {
   "cell_type": "code",
   "execution_count": 45,
   "id": "572ddff2",
   "metadata": {},
   "outputs": [],
   "source": [
    "def epsilon(alpha):\n",
    "    CL = cl2(alpha)\n",
    "    print(CL)\n",
    "    ARw = 15.03**2/30.0\n",
    "    eps = 2 * CL /(math.pi * ARw)"
   ]
  },
  {
   "cell_type": "code",
   "execution_count": 46,
   "id": "8522db2f",
   "metadata": {},
   "outputs": [
    {
     "name": "stdout",
     "output_type": "stream",
     "text": [
      "0.5853836829836869\n"
     ]
    }
   ],
   "source": [
    "epsilon(5)"
   ]
  },
  {
   "cell_type": "code",
   "execution_count": null,
   "id": "bce7a897",
   "metadata": {},
   "outputs": [],
   "source": []
  }
 ],
 "metadata": {
  "kernelspec": {
   "display_name": "Python 3 (ipykernel)",
   "language": "python",
   "name": "python3"
  },
  "language_info": {
   "codemirror_mode": {
    "name": "ipython",
    "version": 3
   },
   "file_extension": ".py",
   "mimetype": "text/x-python",
   "name": "python",
   "nbconvert_exporter": "python",
   "pygments_lexer": "ipython3",
   "version": "3.10.4"
  },
  "latex_envs": {
   "LaTeX_envs_menu_present": true,
   "autoclose": false,
   "autocomplete": true,
   "bibliofile": "biblio.bib",
   "cite_by": "apalike",
   "current_citInitial": 1,
   "eqLabelWithNumbers": true,
   "eqNumInitial": 1,
   "hotkeys": {
    "equation": "Ctrl-E",
    "itemize": "Ctrl-I"
   },
   "labels_anchors": false,
   "latex_user_defs": false,
   "report_style_numbering": false,
   "user_envs_cfg": false
  },
  "toc": {
   "base_numbering": 1,
   "nav_menu": {},
   "number_sections": true,
   "sideBar": true,
   "skip_h1_title": false,
   "title_cell": "Table of Contents",
   "title_sidebar": "Contents",
   "toc_cell": false,
   "toc_position": {},
   "toc_section_display": true,
   "toc_window_display": false
  },
  "varInspector": {
   "cols": {
    "lenName": 16,
    "lenType": 16,
    "lenVar": 40
   },
   "kernels_config": {
    "python": {
     "delete_cmd_postfix": "",
     "delete_cmd_prefix": "del ",
     "library": "var_list.py",
     "varRefreshCmd": "print(var_dic_list())"
    },
    "r": {
     "delete_cmd_postfix": ") ",
     "delete_cmd_prefix": "rm(",
     "library": "var_list.r",
     "varRefreshCmd": "cat(var_dic_list()) "
    }
   },
   "types_to_exclude": [
    "module",
    "function",
    "builtin_function_or_method",
    "instance",
    "_Feature"
   ],
   "window_display": false
  }
 },
 "nbformat": 4,
 "nbformat_minor": 5
}
