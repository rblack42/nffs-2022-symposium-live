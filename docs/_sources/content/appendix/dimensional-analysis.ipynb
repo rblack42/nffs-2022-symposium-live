{
 "cells": [
  {
   "cell_type": "markdown",
   "id": "f756c599",
   "metadata": {},
   "source": [
    "## Dimensional Analysis"
   ]
  },
  {
   "cell_type": "code",
   "execution_count": 2,
   "id": "a3969781",
   "metadata": {},
   "outputs": [],
   "source": [
    "import pint\n",
    "u = pint.UnitRegistry()"
   ]
  },
  {
   "cell_type": "markdown",
   "id": "1f1783ca",
   "metadata": {},
   "source": [
    "Attach units to variables is an important step in preforming our calculations. Aeronautical Engineering has a lot of common combinations of variables, all of which have their own units of measure. It is important that we use consistent units of measure when combining values.  As an example, let's create a *Python* function that will return the *Reynolds Number* given a flight speed and a reference length. The definition of the *Reynold's Number* is this:\n",
    "\n",
    "\\begin{equation}\n",
    "Re = \\frac{\\rho u L}{\\mu}\n",
    "\\end{equation}\n",
    "\n",
    "Where $|rho$ is the density of the air, and $\\mu* is the kinematic viscosity. *We will explore these air properties in the next section. For this example, I will just supply example values):"
   ]
  },
  {
   "cell_type": "code",
   "execution_count": 3,
   "id": "50695a0a",
   "metadata": {},
   "outputs": [],
   "source": [
    "def Re(speed, length):\n",
    "    rho = 0.00231731 * u.slugs/u.ft**4\n",
    "    mu = 3.76658e-7 * u.lb * u.sec / u.ft ** 2\n",
    "    return rho * speed * length / mu"
   ]
  },
  {
   "cell_type": "code",
   "execution_count": 4,
   "id": "ec164b26",
   "metadata": {},
   "outputs": [
    {
     "name": "stdout",
     "output_type": "stream",
     "text": [
      "18456.875998916792 inch * slug / foot / pound / second ** 2\n"
     ]
    }
   ],
   "source": [
    "V = 1.5 * u.foot/u.sec\n",
    "L = 2 * u.inch\n",
    "print(Re(V,L))"
   ]
  },
  {
   "cell_type": "markdown",
   "id": "c7dbdb74",
   "metadata": {},
   "source": [
    "We have a problem here! The Reynold's Number* is a dimensionless number, but my answer has dimensions! "
   ]
  },
  {
   "cell_type": "code",
   "execution_count": 5,
   "id": "4822d73d",
   "metadata": {},
   "outputs": [
    {
     "data": {
      "text/html": [
       "49486.0353824304 1/second<sup>2</sup>"
      ],
      "text/latex": [
       "$49486.0353824304\\ \\frac{1}{\\mathrm{second}^{2}}$"
      ],
      "text/plain": [
       "49486.0353824304 <Unit('1 / second ** 2')>"
      ]
     },
     "execution_count": 5,
     "metadata": {},
     "output_type": "execute_result"
    }
   ],
   "source": [
    "re = Re(V,L).to_base_units()\n",
    "re"
   ]
  },
  {
   "cell_type": "code",
   "execution_count": null,
   "id": "7e0ab7b1",
   "metadata": {},
   "outputs": [],
   "source": []
  }
 ],
 "metadata": {
  "kernelspec": {
   "display_name": "Python 3 (ipykernel)",
   "language": "python",
   "name": "python3"
  },
  "language_info": {
   "codemirror_mode": {
    "name": "ipython",
    "version": 3
   },
   "file_extension": ".py",
   "mimetype": "text/x-python",
   "name": "python",
   "nbconvert_exporter": "python",
   "pygments_lexer": "ipython3",
   "version": "3.8.12"
  },
  "latex_envs": {
   "LaTeX_envs_menu_present": true,
   "autoclose": false,
   "autocomplete": true,
   "bibliofile": "biblio.bib",
   "cite_by": "apalike",
   "current_citInitial": 1,
   "eqLabelWithNumbers": true,
   "eqNumInitial": 1,
   "hotkeys": {
    "equation": "Ctrl-E",
    "itemize": "Ctrl-I"
   },
   "labels_anchors": false,
   "latex_user_defs": false,
   "report_style_numbering": false,
   "user_envs_cfg": false
  },
  "toc": {
   "base_numbering": 1,
   "nav_menu": {},
   "number_sections": true,
   "sideBar": true,
   "skip_h1_title": false,
   "title_cell": "Table of Contents",
   "title_sidebar": "Contents",
   "toc_cell": false,
   "toc_position": {},
   "toc_section_display": true,
   "toc_window_display": false
  },
  "varInspector": {
   "cols": {
    "lenName": 16,
    "lenType": 16,
    "lenVar": 40
   },
   "kernels_config": {
    "python": {
     "delete_cmd_postfix": "",
     "delete_cmd_prefix": "del ",
     "library": "var_list.py",
     "varRefreshCmd": "print(var_dic_list())"
    },
    "r": {
     "delete_cmd_postfix": ") ",
     "delete_cmd_prefix": "rm(",
     "library": "var_list.r",
     "varRefreshCmd": "cat(var_dic_list()) "
    }
   },
   "types_to_exclude": [
    "module",
    "function",
    "builtin_function_or_method",
    "instance",
    "_Feature"
   ],
   "window_display": false
  }
 },
 "nbformat": 4,
 "nbformat_minor": 5
}
