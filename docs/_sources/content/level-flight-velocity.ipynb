{
 "cells": [
  {
   "cell_type": "markdown",
   "id": "2e1e660e",
   "metadata": {},
   "source": [
    "# Determining Level Flight Velocity"
   ]
  },
  {
   "cell_type": "markdown",
   "id": "f84be8bd",
   "metadata": {},
   "source": [
    "Following Walter Erbach's lead, let's try to find the forward velocity needed for the Wart to maintain level flight.\n",
    "\n",
    "First, we need to load the basic model airframe data and the airfoil coefficient data:"
   ]
  },
  {
   "cell_type": "code",
   "execution_count": 25,
   "id": "a6c209af",
   "metadata": {},
   "outputs": [],
   "source": [
    "import mmtime_helper\n",
    "from mmtime.utils import (\n",
    "    get_points,\n",
    "    fit_curve,\n",
    "    show_curve,\n",
    ")\n",
    "import numpy as np"
   ]
  },
  {
   "cell_type": "markdown",
   "id": "8e18fabb",
   "metadata": {},
   "source": [
    "## Coordinate atransformations"
   ]
  },
  {
   "cell_type": "markdown",
   "id": "e07d9b52",
   "metadata": {},
   "source": [
    "so far, we have specified locations in a reference coordinate system whose origin is at the nose of the motor stick. In order to calculate the moments about the center of gravity, it will be convenient to express locations in a system aligned with the CG and rotated so the **X** axis is aligned with the motor stick at some angle of attack.\n",
    "\n",
    "We could dig out our trig books and figure out the arms, or we can just perform coordinate transformations numerically. With a little bit of matrix math, this will be fairly simple:\n",
    "\n",
    "Here are the definitions of the transformation matrices we need:\n",
    "\n",
    "Here is the translation matrix:\n",
    "\n",
    "\\begin{equation}\n",
    "T = \n",
    "\\begin{pmatrix}\n",
    "1 & 0 & -dx \\\\\n",
    "0 & 1 & -dy \\\\\n",
    "0 & 0 & 1\n",
    "\\end{pmatrix}\n",
    "\\end{equation}\n",
    "\n",
    "And here is the rotation matrix:\n",
    "\n",
    "\\begin{equation}\n",
    "R = \n",
    "\\begin{pmatrix}\n",
    "\\cos\\alpha & \\sin\\alpha & 0 \\\\\n",
    "-\\sin\\alpha & \\cos\\alpha & 0 \\\\\n",
    "0 & 0 & 1\n",
    "\\end{pmatrix}\n",
    "\\end{equation}\n",
    "\n",
    "We transform our coordinates using this equation:\n",
    "\\begin{equation}\n",
    "X' = R T X\n",
    "\\end{equation}\n",
    "\n",
    "where $X$ is a simple matrix:\n",
    "\n",
    "\\begin{equation}\\label{eq:}\n",
    "X = \n",
    "\\begin{pmatrix}\n",
    "x \\\\\n",
    "y\n",
    "\\\\1\n",
    "\\end{pmatrix}\n",
    "\\end{equation}\n",
    "\n",
    "**numpy** will do this transformation for us:\n",
    "\n",
    "\n",
    "Here are two functions that create transformation matrices we will need: "
   ]
  },
  {
   "cell_type": "code",
   "execution_count": 26,
   "id": "e3645f1c",
   "metadata": {},
   "outputs": [],
   "source": [
    "def rotation(angle):\n",
    "    angle = np.radians(angle)\n",
    "    return np.array([\n",
    "        [np.cos(angle), np.sin(angle), 0],\n",
    "        [-np.sin(angle),  np.cos(angle), 0],\n",
    "        [0, 0, 1]\n",
    "    ])\n",
    "\n",
    "def translation(tx, ty):\n",
    "    return np.array([\n",
    "        [1, 0, -tx],\n",
    "        [0, 1, -ty],\n",
    "        [0, 0, 1]\n",
    "    ])"
   ]
  },
  {
   "cell_type": "markdown",
   "id": "f204719d",
   "metadata": {},
   "source": [
    "Here is an example of coordinst translation. We are moving the origin ot (3,3) and finding the original origin in the new system:"
   ]
  },
  {
   "cell_type": "code",
   "execution_count": 27,
   "id": "a3f4acd1",
   "metadata": {},
   "outputs": [
    {
     "data": {
      "text/plain": [
       "(-3, -3)"
      ]
     },
     "execution_count": 27,
     "metadata": {},
     "output_type": "execute_result"
    }
   ],
   "source": [
    "x1 = 0\n",
    "y1 = 0\n",
    "T = translation(3,3)\n",
    "x = np.array([[x1],[y1], [1]])\n",
    "a = np.matmul(T, x)\n",
    "x2 = a[0][0]\n",
    "y2 = a[1][0]\n",
    "x2, y2"
   ]
  },
  {
   "cell_type": "markdown",
   "id": "fad9cbf4",
   "metadata": {},
   "source": [
    "That makes sense. Not let's rotate the new system 45 degrees counter clockwise. This will align the **x** axis so it goes through the original origin:\n"
   ]
  },
  {
   "cell_type": "code",
   "execution_count": 28,
   "id": "c33a7110",
   "metadata": {
    "scrolled": true
   },
   "outputs": [
    {
     "data": {
      "text/plain": [
       "(-4.242640687119286, -4.440892098500626e-16)"
      ]
     },
     "execution_count": 28,
     "metadata": {},
     "output_type": "execute_result"
    }
   ],
   "source": [
    "R = rotation(45)\n",
    "b = np.matmul(R, a)\n",
    "x2 = b[0][0]\n",
    "y2 = b[1][0]\n",
    "x2,y2"
   ]
  },
  {
   "cell_type": "markdown",
   "id": "3e4a906e",
   "metadata": {},
   "source": [
    "That looks right. We have a scheme to calculate the moment arms for our model at some angle of attack."
   ]
  },
  {
   "cell_type": "markdown",
   "id": "f3a32717",
   "metadata": {},
   "source": [
    "We will be calculating moments for the lift, drag and thrust vectors in this transformed coordinate system. A lift force acting at negative **x** values will of the CG will generate a nose up moment, so we will have to multiply by negative **x** when we calculate moments. The drag force  will be multiplied by positive **Y** values. "
   ]
  },
  {
   "cell_type": "code",
   "execution_count": 29,
   "id": "d9a6fb16",
   "metadata": {},
   "outputs": [],
   "source": [
    "## Basic Moment Calculation"
   ]
  },
  {
   "cell_type": "markdown",
   "id": "8d1e3141",
   "metadata": {},
   "source": [
    "At the moment, I do not have good airfoil data for the airfoils on the Wart, so I will use the 3% arc for both wing and stab. We need to generate the Cl curve fit function for this calculation. I wrapped up all the data needed for this calculation using three Python classes, one for model dimensions, one for airfoil coefficients, and one foe the standard atmosphere properties we need. These classes use code we have already seen in this study. You can see all of the code used here on the project website. Here is how we use it:"
   ]
  },
  {
   "cell_type": "markdown",
   "id": "04642498",
   "metadata": {},
   "source": [
    "We need the air density for this calculation. The **StdAtm** module in this project provides that, using **pint** to manage units:"
   ]
  },
  {
   "cell_type": "code",
   "execution_count": 30,
   "id": "87a9e4af",
   "metadata": {},
   "outputs": [],
   "source": [
    "from mmtime.StdAtm import Air\n",
    "import pint\n",
    "u = pint.UnitRegistry()"
   ]
  },
  {
   "cell_type": "code",
   "execution_count": 31,
   "id": "d673a48e",
   "metadata": {},
   "outputs": [
    {
     "data": {
      "text/html": [
       "1.1265797847090362 kilogram/meter<sup>3</sup>"
      ],
      "text/latex": [
       "$1.1265797847090362\\ \\frac{\\mathrm{kilogram}}{\\mathrm{meter}^{3}}$"
      ],
      "text/plain": [
       "1.1265797847090362 <Unit('kilogram / meter ** 3')>"
      ]
     },
     "execution_count": 31,
     "metadata": {},
     "output_type": "execute_result"
    }
   ],
   "source": [
    "density = Air(u).get_properties(864)['rho']\n",
    "density"
   ]
  },
  {
   "cell_type": "code",
   "execution_count": 32,
   "id": "5ca57c8d",
   "metadata": {},
   "outputs": [
    {
     "data": {
      "text/html": [
       "2.486231765000739 mile_per_hour"
      ],
      "text/latex": [
       "$2.486231765000739\\ \\mathrm{mile\\_per\\_hour}$"
      ],
      "text/plain": [
       "2.486231765000739 <Unit('mile_per_hour')>"
      ]
     },
     "execution_count": 32,
     "metadata": {},
     "output_type": "execute_result"
    }
   ],
   "source": [
    "Cl = 1.0 # try McLean's tactic\n",
    "weight = 2.06 * u.grams\n",
    "wing_area = 30 * u.inch ** 2\n",
    "stab_area = 15 * u.inch ** 2\n",
    "v = 2 * weight / (density * Cl * (wing_area+ stab_area))\n",
    "v *= u.gravity\n",
    "v = v ** 0.5\n",
    "v.to('mph')"
   ]
  },
  {
   "cell_type": "markdown",
   "id": "fe952852",
   "metadata": {},
   "source": [
    "Gary estimated that the Wart was flying at about two miles per hour, so this calculation looks reasonable. Let's set things up to generate an angle of attach sweep with some actual model data."
   ]
  },
  {
   "cell_type": "markdown",
   "id": "221a8c23",
   "metadata": {},
   "source": [
    "## Reynolds Number\n",
    "\n",
    "An important quantity in aerodynamic work is the Reynold's Number, a nndimensional value that relates the viscous forces to the inertial forces workingon a surface. This number is commonly used to characterize the type of airflow a vehicle might experience. For our indoor models, this number will be low meaning that the flow near the surface of our fling syrfaces should remain laminar. This means we do not need to worry about turbulence near the surface\n",
    "\n",
    "(This section needs to be expanded)\n",
    "\n",
    "The definition of the Reynolds NUmber is:\n",
    "\n",
    "\\begin{equation}\n",
    "RE = \\frac{\\rho u L}{\\mu}\n",
    "\\end{equation}\n",
    "\n",
    "Where $\\rho$ is the air density, $u$ is the flight velocity, $L$ is a reference length usually the mean chord, and $the \\mu$ is the dynamic viscosity of the air. \n",
    "\n",
    "Here is a sample calculation:\n"
   ]
  },
  {
   "cell_type": "code",
   "execution_count": 33,
   "id": "9f93a943",
   "metadata": {},
   "outputs": [
    {
     "data": {
      "text/html": [
       "3338.9543875201584 dimensionless"
      ],
      "text/latex": [
       "$3338.9543875201584\\ dimensionless$"
      ],
      "text/plain": [
       "3338.9543875201584 <Unit('dimensionless')>"
      ]
     },
     "execution_count": 33,
     "metadata": {},
     "output_type": "execute_result"
    }
   ],
   "source": [
    "mean_chord = 1.85 * u.inch\n",
    "mu = Air(u).get_properties(864)['mu']\n",
    "RE = density * v * mean_chord / mu\n",
    "RE.to_base_units()"
   ]
  },
  {
   "cell_type": "markdown",
   "id": "45a46f39",
   "metadata": {},
   "source": [
    "Airfoil aerodynamic coefficients vary with Reynolds Number, which presents a problem when doing an analysis. We need the aerodynamic coefficients to calculate the flight velocity, and they are tied to a Reynolds Number we will not know until we pick an airfoil. In this calculation, I simply set the lift coefficient. If I wanted to use better data, I would have to pick an airfoil based on some number I hoped would be close, do the calculations, and tune the airfoil until I got close enough to be happy with the results. \n",
    "\n",
    "There are ways to deal with this that I intend to explore later. Since I have a lot of background in Computational Fluid Dynamics, I am currently testing several simple open-source CFD programs that might help simplify the search for airfoil data.\n"
   ]
  },
  {
   "cell_type": "markdown",
   "id": "7c5123c0",
   "metadata": {},
   "source": [
    "## Estimated Flight Distance"
   ]
  },
  {
   "cell_type": "markdown",
   "id": "d8420f65",
   "metadata": {},
   "source": [
    "One of the key assumptions in McLean's method is that the energy spend clmbing to maximum height is about equal to the energy spend descending back to the floor. This make sense if you think about potential energy. Therefore, McLean argued that we could average the flight out to a simple level fight path for the duration of the flight. We just calculated the speed, what would that predict for the distance traveled:"
   ]
  },
  {
   "cell_type": "code",
   "execution_count": 36,
   "id": "d0977e38",
   "metadata": {},
   "outputs": [
    {
     "data": {
      "text/html": [
       "686.873039803625 meter"
      ],
      "text/latex": [
       "$686.873039803625\\ \\mathrm{meter}$"
      ],
      "text/plain": [
       "686.873039803625 <Unit('meter')>"
      ]
     },
     "execution_count": 36,
     "metadata": {},
     "output_type": "execute_result"
    }
   ],
   "source": [
    "distance = v * 618 * u.seconds\n",
    "distance.to_base_units()\n"
   ]
  },
  {
   "cell_type": "markdown",
   "id": "6fdc17dd",
   "metadata": {},
   "source": [
    "Moving the model that distance requires some energy:"
   ]
  },
  {
   "cell_type": "code",
   "execution_count": 37,
   "id": "f5795d76",
   "metadata": {},
   "outputs": [
    {
     "data": {
      "text/html": [
       "0.0001297455704121917 kilogram meter"
      ],
      "text/latex": [
       "$0.0001297455704121917\\ \\mathrm{kilogram} \\cdot \\mathrm{meter}$"
      ],
      "text/plain": [
       "0.0001297455704121917 <Unit('kilogram * meter')>"
      ]
     },
     "execution_count": 37,
     "metadata": {},
     "output_type": "execute_result"
    }
   ],
   "source": [
    "KE = 0.5 * weight / u.gravity * v ** 2\n",
    "KE.to_base_units()"
   ]
  },
  {
   "cell_type": "markdown",
   "id": "f237de30",
   "metadata": {},
   "source": [
    "## Rubber Motors\n",
    "\n",
    "According to McLean, Hacklinger, and others, the amountof energy we can get out of  our wound-up rubber motors is proportional to the weight of themotor.\n",
    "\n",
    "\\begin{equation}\n",
    "E = K W_m\n",
    "\\end{equation}\n",
    "\n",
    "Where, according to McLean, $K = 30,000 inches$.\n",
    "\n",
    "The Warts motor weight 0.86 grams, so the available energy was:"
   ]
  },
  {
   "cell_type": "code",
   "execution_count": 39,
   "id": "e5cc5469",
   "metadata": {},
   "outputs": [
    {
     "data": {
      "text/html": [
       "0.65532 kilogram meter"
      ],
      "text/latex": [
       "$0.65532\\ \\mathrm{kilogram} \\cdot \\mathrm{meter}$"
      ],
      "text/plain": [
       "0.65532 <Unit('kilogram * meter')>"
      ]
     },
     "execution_count": 39,
     "metadata": {},
     "output_type": "execute_result"
    }
   ],
   "source": [
    "rubber_weight = 0.86 * u.grams\n",
    "K = 30000 * u.inches\n",
    "\n",
    "E_max = K * rubber_weight\n",
    "E_max.to_base_units()"
   ]
  },
  {
   "cell_type": "markdown",
   "id": "f9b7e572",
   "metadata": {},
   "source": [
    "\n",
    "This number represents a *Potential Energy* that we want to power our model. We wind up the motor, producing a torque that will be applied to the prop shaft. For the Wart, the launch torque was arounf 0.31 If we turned that much potential energy into kinetic energy, our model could be traveling at:"
   ]
  },
  {
   "cell_type": "code",
   "execution_count": 43,
   "id": "2d4fb426",
   "metadata": {},
   "outputs": [
    {
     "data": {
      "text/html": [
       "78.98933120782954 meter/second"
      ],
      "text/latex": [
       "$78.98933120782954\\ \\frac{\\mathrm{meter}}{\\mathrm{second}}$"
      ],
      "text/plain": [
       "78.98933120782954 <Unit('meter / second')>"
      ]
     },
     "execution_count": 43,
     "metadata": {},
     "output_type": "execute_result"
    }
   ],
   "source": [
    "V_k = (2 * E_max/weight*u.gravity) ** 0.5\n",
    "V_k.to_base_units()"
   ]
  },
  {
   "cell_type": "markdown",
   "id": "1b55d6b9",
   "metadata": {},
   "source": [
    "Our model is certainly not moving that fast, but if we used our rubber motor as a sling-shot, we could probably throw a 2 gram chunk of lead across the room at that speed. So where did all that energy go?\n"
   ]
  },
  {
   "cell_type": "code",
   "execution_count": 45,
   "id": "baa9c9ba",
   "metadata": {},
   "outputs": [
    {
     "name": "stdout",
     "output_type": "stream",
     "text": [
      "[[ 5.25428242e-01  8.91828065e-11  7.31385415e-15]\n",
      " [ 8.91828065e-11  5.24494901e-01 -2.50452413e-02]\n",
      " [ 7.31385415e-15 -2.50452413e-02  1.44970048e-02]]\n"
     ]
    }
   ],
   "source": [
    "import stl\n",
    "from stl import mesh\n",
    "your_mesh = mesh.Mesh.from_file('propeller.stl')\n",
    "volume, cog, inertia = your_mesh.get_mass_properties()\n",
    "print(inertia)"
   ]
  },
  {
   "cell_type": "markdown",
   "id": "a86b0a1c",
   "metadata": {},
   "source": [
    "The rotational energy of the propeller is the energy absorbed by spinning the mass of the propeller around the prop shaft. Using OpenSCAD and **numpy-stl** I calculated the moments of inertia for the propeller. This non-dimensional number needs to be multiplied by the propeller mass:"
   ]
  },
  {
   "cell_type": "code",
   "execution_count": 47,
   "id": "3f3066e3",
   "metadata": {},
   "outputs": [
    {
     "data": {
      "text/html": [
       "<table><tbody><tr><th>Magnitude</th><td style='text-align:left;'><pre>[[7.120777092599685e-08 1.2086348509529597e-17 9.911976720526673e-22]<br> [1.2086348509529597e-17 7.10812814808122e-08 -3.3942138291733913e-09]<br> [9.911976720526673e-22 -3.3942138291733913e-09 1.9646819769693285e-09]]</pre></td></tr><tr><th>Units</th><td style='text-align:left;'>kilogram meter second<sup>2</sup></td></tr></tbody></table>"
      ],
      "text/latex": [
       "$\\begin{pmatrix}7.120777092599685\\times 10^{-8} & 1.2086348509529597\\times 10^{-17} & 9.911976720526673\\times 10^{-22}\\\\ \n",
       "1.2086348509529597\\times 10^{-17} & 7.10812814808122\\times 10^{-8} & -3.3942138291733913\\times 10^{-9}\\\\ \n",
       "9.911976720526673\\times 10^{-22} & -3.3942138291733913\\times 10^{-9} & 1.9646819769693285\\times 10^{-9}\\end{pmatrix}\\ \\mathrm{kilogram} \\cdot \\mathrm{meter} \\cdot \\mathrm{second}^{2}$"
      ],
      "text/plain": [
       "array([[ 7.12077709e-08,  1.20863485e-17,  9.91197672e-22],\n",
       "       [ 1.20863485e-17,  7.10812815e-08, -3.39421383e-09],\n",
       "       [ 9.91197672e-22, -3.39421383e-09,  1.96468198e-09]]) <Unit('kilogram * meter * second ** 2')>"
      ]
     },
     "execution_count": 47,
     "metadata": {},
     "output_type": "execute_result"
    }
   ],
   "source": [
    "np_I = np.array(inertia)\n",
    "KE_I = np_I * weight / u.gravity * u.inches**2\n",
    "KE_I.to_base_units()"
   ]
  },
  {
   "cell_type": "code",
   "execution_count": null,
   "id": "8785c336",
   "metadata": {},
   "outputs": [],
   "source": []
  }
 ],
 "metadata": {
  "kernelspec": {
   "display_name": "Python 3 (ipykernel)",
   "language": "python",
   "name": "python3"
  },
  "language_info": {
   "codemirror_mode": {
    "name": "ipython",
    "version": 3
   },
   "file_extension": ".py",
   "mimetype": "text/x-python",
   "name": "python",
   "nbconvert_exporter": "python",
   "pygments_lexer": "ipython3",
   "version": "3.9.9"
  },
  "latex_envs": {
   "LaTeX_envs_menu_present": true,
   "autoclose": false,
   "autocomplete": true,
   "bibliofile": "biblio.bib",
   "cite_by": "apalike",
   "current_citInitial": 1,
   "eqLabelWithNumbers": true,
   "eqNumInitial": 1,
   "hotkeys": {
    "equation": "Ctrl-E",
    "itemize": "Ctrl-I"
   },
   "labels_anchors": false,
   "latex_user_defs": false,
   "report_style_numbering": false,
   "user_envs_cfg": false
  },
  "toc": {
   "base_numbering": 1,
   "nav_menu": {},
   "number_sections": true,
   "sideBar": true,
   "skip_h1_title": false,
   "title_cell": "Table of Contents",
   "title_sidebar": "Contents",
   "toc_cell": false,
   "toc_position": {},
   "toc_section_display": true,
   "toc_window_display": false
  },
  "varInspector": {
   "cols": {
    "lenName": 16,
    "lenType": 16,
    "lenVar": 40
   },
   "kernels_config": {
    "python": {
     "delete_cmd_postfix": "",
     "delete_cmd_prefix": "del ",
     "library": "var_list.py",
     "varRefreshCmd": "print(var_dic_list())"
    },
    "r": {
     "delete_cmd_postfix": ") ",
     "delete_cmd_prefix": "rm(",
     "library": "var_list.r",
     "varRefreshCmd": "cat(var_dic_list()) "
    }
   },
   "types_to_exclude": [
    "module",
    "function",
    "builtin_function_or_method",
    "instance",
    "_Feature"
   ],
   "window_display": false
  }
 },
 "nbformat": 4,
 "nbformat_minor": 5
}
