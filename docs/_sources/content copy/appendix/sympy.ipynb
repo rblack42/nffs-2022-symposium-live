{
 "cells": [
  {
   "cell_type": "markdown",
   "id": "32e4d4e0",
   "metadata": {},
   "source": [
    "# SymPy - Symbolic Math using Python"
   ]
  },
  {
   "cell_type": "markdown",
   "id": "55c87e2b",
   "metadata": {},
   "source": [
    "*SymPy is the tool you wish you had back in high school, when math was the enemy\n",
    "you had to conquer! Basically, *SymPy* manipulates mathematical *symbols*, not\n",
    "just numbers. You were introduced to this approach back in your first algebra\n",
    "class. *SymPy* knows an incredible amount of math, and is a hugely popular\n",
    "package in the research community.\n",
    "\n",
    "I was introduced to *symbolic mathematics* tools back in the 1970's. At that\n",
    "time computers were rarely used by individuals,except for those conducting\n",
    "research in big companies, or universities. As a research scientist at the USAF\n",
    "*Aerospace Research Laboratory* at wright-Patterson AFB  in Dayton, Ohio, I had access\n",
    "to something called **arpanet**, which was the parent of the internet we know\n",
    "today. I discovered **MACSYMA** at MIT, and got an account on that machine so I\n",
    "could automate what was tedious manual manipulations of complex math equations\n",
    "written on hundreds of pages of paper! In doing all that math manually, you\n",
    "were in constant fear that you had dropped something, or flipped a sign somewhere.\n",
    "You never really knew. **MACSYMA** cured most of that!\n",
    "\n",
    "Automating the math work greatly increases your confidence in the results. I discovered errors (probably simple typos) in several of the papers I used as references in this article. *SymPy* helped me work through a derivation of some equation with confidence that my development was correct. It is not a foolproof approach to math, but it really helps as we shall see here."
   ]
  },
  {
   "cell_type": "markdown",
   "id": "bc280c7f",
   "metadata": {},
   "source": [
    "## Basic Concepts\n",
    "\n",
    "To get started using *SymPy*, we need to tell *Python* about the package:"
   ]
  },
  {
   "cell_type": "code",
   "execution_count": 3,
   "id": "f11ea3a7",
   "metadata": {},
   "outputs": [],
   "source": [
    "import sympy"
   ]
  },
  {
   "cell_type": "markdown",
   "id": "073ad992",
   "metadata": {},
   "source": [
    "We also need to address a fundamental problem right away. We will be creating expressions using names that we want to be *symbols* and not just ordinary *Python* constructs. We do this by telling *SymPy* to create symbol names for us:"
   ]
  },
  {
   "cell_type": "code",
   "execution_count": 4,
   "id": "3719842b",
   "metadata": {},
   "outputs": [],
   "source": [
    "x,y = sympy.symbols('x y')"
   ]
  },
  {
   "cell_type": "markdown",
   "id": "182d6dd5",
   "metadata": {},
   "source": [
    "Watch what you do here. The first part is a comma separated list of names we will be using. Inside the **symbols** function, we provide a string with the same names, only we leave out the commas and put a space between names. From thispointon, **x** and **y** will refer to symbols."
   ]
  },
  {
   "cell_type": "code",
   "execution_count": 7,
   "id": "50e0f474",
   "metadata": {},
   "outputs": [
    {
     "data": {
      "text/latex": [
       "$\\displaystyle \\left(x + y\\right)^{3}$"
      ],
      "text/plain": [
       "(x + y)**3"
      ]
     },
     "execution_count": 7,
     "metadata": {},
     "output_type": "execute_result"
    }
   ],
   "source": [
    "eq1 = (x + y)**3\n",
    "eq1"
   ]
  },
  {
   "cell_type": "markdown",
   "id": "bd2de684",
   "metadata": {},
   "source": [
    "The first line creates an expression involving symbols. It saves this expression in a new variable name. That name refers to a *SymPy* construct,not a *Python* one. When we ask *Jupyter* to evaluate that ariable, we get our symbolic expression back. Notice that *SymPy* shows the result in a form we are probably  more familiar with from our math classes. \n",
    "\n",
    "Now for the fun part!"
   ]
  },
  {
   "cell_type": "code",
   "execution_count": 8,
   "id": "4f7990ad",
   "metadata": {},
   "outputs": [
    {
     "data": {
      "text/latex": [
       "$\\displaystyle x^{3} + 3 x^{2} y + 3 x y^{2} + y^{3}$"
      ],
      "text/plain": [
       "x**3 + 3*x**2*y + 3*x*y**2 + y**3"
      ]
     },
     "execution_count": 8,
     "metadata": {},
     "output_type": "execute_result"
    }
   ],
   "source": [
    "eq1.expand()"
   ]
  },
  {
   "cell_type": "markdown",
   "id": "788d2187",
   "metadata": {},
   "source": [
    "Nice! We did not save this new expression, but we could.\n",
    "\n",
    "### Expressions or Equations\n",
    "\n",
    "You are probably used to writing someth\n",
    "```python\n",
    "x = y + 5\n",
    "```\n",
    "\n",
    "Unfortunately, *SymPy* wants you to write this as an expression that evaluates to zero:"
   ]
  },
  {
   "cell_type": "code",
   "execution_count": 10,
   "id": "38b6236d",
   "metadata": {},
   "outputs": [
    {
     "data": {
      "text/latex": [
       "$\\displaystyle x - y - 5$"
      ],
      "text/plain": [
       "x - y - 5"
      ]
     },
     "execution_count": 10,
     "metadata": {},
     "output_type": "execute_result"
    }
   ],
   "source": [
    "x - y - 5"
   ]
  },
  {
   "cell_type": "markdown",
   "id": "472a08a0",
   "metadata": {},
   "source": [
    "This issue makes some of the work in generating a derivation a bit convoluted, but we will document what is going on to help you understand.\n",
    "\n",
    "Let's do something cool again. Suppose you want to replace th **y** in **eq1** with **x+2**, what would you get? Let's see:"
   ]
  },
  {
   "cell_type": "code",
   "execution_count": 11,
   "id": "4022f810",
   "metadata": {},
   "outputs": [
    {
     "data": {
      "text/latex": [
       "$\\displaystyle \\left(2 x + 2\\right)^{3}$"
      ],
      "text/plain": [
       "(2*x + 2)**3"
      ]
     },
     "execution_count": 11,
     "metadata": {},
     "output_type": "execute_result"
    }
   ],
   "source": [
    "eq2 = eq1.subs(y,x+2)\n",
    "eq2"
   ]
  },
  {
   "cell_type": "markdown",
   "id": "bfdafbce",
   "metadata": {},
   "source": [
    "We will use this a lot.\n",
    "\n",
    "## Learning More\n",
    "\n",
    "I am not going to work through a full *SymPy* tutorial here. There are several on the project website fo go there and read more. Otherwise, read through the development here and get a feel for how working with *symbolic mathematics* works!\n"
   ]
  }
 ],
 "metadata": {
  "kernelspec": {
   "display_name": "Python 3 (ipykernel)",
   "language": "python",
   "name": "python3"
  },
  "language_info": {
   "codemirror_mode": {
    "name": "ipython",
    "version": 3
   },
   "file_extension": ".py",
   "mimetype": "text/x-python",
   "name": "python",
   "nbconvert_exporter": "python",
   "pygments_lexer": "ipython3",
   "version": "3.9.9"
  },
  "latex_envs": {
   "LaTeX_envs_menu_present": true,
   "autoclose": false,
   "autocomplete": true,
   "bibliofile": "biblio.bib",
   "cite_by": "apalike",
   "current_citInitial": 1,
   "eqLabelWithNumbers": true,
   "eqNumInitial": 1,
   "hotkeys": {
    "equation": "Ctrl-E",
    "itemize": "Ctrl-I"
   },
   "labels_anchors": false,
   "latex_user_defs": false,
   "report_style_numbering": false,
   "user_envs_cfg": false
  },
  "toc": {
   "base_numbering": 1,
   "nav_menu": {},
   "number_sections": true,
   "sideBar": true,
   "skip_h1_title": false,
   "title_cell": "Table of Contents",
   "title_sidebar": "Contents",
   "toc_cell": false,
   "toc_position": {},
   "toc_section_display": true,
   "toc_window_display": false
  },
  "varInspector": {
   "cols": {
    "lenName": 16,
    "lenType": 16,
    "lenVar": 40
   },
   "kernels_config": {
    "python": {
     "delete_cmd_postfix": "",
     "delete_cmd_prefix": "del ",
     "library": "var_list.py",
     "varRefreshCmd": "print(var_dic_list())"
    },
    "r": {
     "delete_cmd_postfix": ") ",
     "delete_cmd_prefix": "rm(",
     "library": "var_list.r",
     "varRefreshCmd": "cat(var_dic_list()) "
    }
   },
   "types_to_exclude": [
    "module",
    "function",
    "builtin_function_or_method",
    "instance",
    "_Feature"
   ],
   "window_display": false
  }
 },
 "nbformat": 4,
 "nbformat_minor": 5
}
