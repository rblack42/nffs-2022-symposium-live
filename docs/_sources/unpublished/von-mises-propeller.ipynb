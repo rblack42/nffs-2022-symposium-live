{
 "cells": [
  {
   "cell_type": "markdown",
   "id": "73067ecf",
   "metadata": {},
   "source": [
    "# Von Mises Propeller Theory"
   ]
  },
  {
   "cell_type": "markdown",
   "id": "a3e81ad7",
   "metadata": {},
   "source": [
    "In my copy of Von Mises' *Theory of Flight* which I bought as a fledgling aeronautical engineering student at Virginia tech in 1965 for $3.95 there is a section that tries to explain how propellers work. This is a complex topic owing to the fact that the airflow through a propeller is very messy. Basically, the propeller is just a rotating wing, but unlike a fixed wing the speed of the propeller moving through the air varies as we move from the prop hub to the blade tips. For that reason, much of the early development of propeller theory tried to sidestep this issue and treat the propeller as a magical disk that accelerates the air passing through it. Then applying bernoulli's theorm, we determine that the pressure is higher behind the disk that in front, and we get a thrust force. "
   ]
  },
  {
   "cell_type": "markdown",
   "id": "80c0dbb3",
   "metadata": {},
   "source": [
    "We start off by defining the rotational speed of the propeller:\n",
    "    \n",
    "\\begin{equation}\n",
    "\\omega = 2\\pi n\n",
    "\\end{equation}\n",
    "Where $n$ is the revolutions per second. \n",
    "\n",
    "From this we can find the speed or the prop blade at any radius as:\n",
    "\n",
    "\\begin{equation}\n",
    "u = r\\omega = 2 \\pi r n\n",
    "\\end{equation}"
   ]
  },
  {
   "cell_type": "markdown",
   "id": "db72da3f",
   "metadata": {},
   "source": [
    "The propeller moves forward at a velocity ob $V$. Therefor, we can determine the angle between the resultant velocity snd the propeller disk $\\gamma$ as:\n",
    "\\begin{equation}\n",
    "\\tan\\gamma = \\frac{V}{u} = \\frac{V}{r\\omega} = \\frac{V}{2 \\pi r n}\n",
    "\\end{equation}"
   ]
  },
  {
   "cell_type": "markdown",
   "id": "08e89c1b",
   "metadata": {},
   "source": [
    "Define the *advance ratio* as:\n",
    "    \n",
    "\\begin{equation}\n",
    "J = \\frac{V}{n d}\n",
    "\\end{equation}"
   ]
  },
  {
   "cell_type": "markdown",
   "id": "3bbb5bb5",
   "metadata": {},
   "source": [
    "Propeller thrust $T$ is defined as:\n",
    "\n",
    "\\begin{equation}\n",
    "T = \\rho {(nd)}^2 d^2C_T = \\rho n^2 d^4 C_T\n",
    "\\end{equation}\n",
    "\n",
    "$C_T depends on the shape of the propeller, the *advance ratio* $J$, and on *Reynolds Number*."
   ]
  },
  {
   "cell_type": "markdown",
   "id": "63935379",
   "metadata": {},
   "source": [
    "The propeller torque $Q$ has a similar structure:\n",
    "\n",
    "\\begin{equation}\n",
    "Q = \\rho n^2 d^5 C_q\n",
    "\\end{equation}"
   ]
  },
  {
   "cell_type": "code",
   "execution_count": null,
   "id": "11e71768",
   "metadata": {},
   "outputs": [],
   "source": [
    "The propellrer power $P$ is given by:\n",
    "\\begin{equation}\n",
    "P = \\rho n^3 d^5 C_p\n",
    "\\end{equation}   "
   ]
  },
  {
   "cell_type": "markdown",
   "id": "fa2eb051",
   "metadata": {},
   "source": [
    "Now we define the propeller efficiency, the ratio of the power input to the power output:\n",
    "    \n",
    "\\begin{equation}\n",
    "\\eta = \\frac{\\rho n^2 d^4 C_T V}{\\rho n^3 d^5 C_p} = \\frac{C_T}{C_p} \\frac{V}{nd} = \\frac{C_T}{C_p}J\n",
    "\\end{equation}"
   ]
  },
  {
   "cell_type": "markdown",
   "id": "3f03156f",
   "metadata": {},
   "source": [
    "The induced efficiency $\\eta_i$ is given as:\n",
    "\n",
    "\\begin{equation}\n",
    "\\eta_i = \\frac{2}{\\sqrt{\\tau + 1} + 1}(1 - \\frac{J^2 \\tau}{2 \\pi^2})\n",
    "\\end{equation}\n",
    "\n",
    "And the overall prop efficiency in cruise $\\eta_p$ is:\n",
    "\n",
    "\\begin{equation}\n",
    "\\eta_p = \\eta_i(1 - \\epsilon \\frac{1 - \\frac{4J\\epsilon}{3\\pi n_i}}{1 + \\frac{2\\pi\\eta_i\\epsilon}{3J}}\n",
    "\\end{equation}\n",
    "\n",
    "McLean assumes the value for $|epsilon$ should be 0.1 for indoor props."
   ]
  },
  {
   "cell_type": "markdown",
   "id": "c14daf80",
   "metadata": {},
   "source": [
    "McLean assumes that the average efficiency is given by this equation:\n",
    "    \n",
    "\\begin{equation}\n",
    "\\eta_{av} = F \\eta_p\n",
    "\\end{equation}\n",
    "\n",
    "Where $F$ is a function of a dimensioness ceiling height:\n",
    "\n",
    "\\begin{equation}\n",
    "H = \\frac{h}{483\\frac{w_m}{w_t}}\n",
    "\\end{equation}"
   ]
  },
  {
   "cell_type": "markdown",
   "id": "c03e846d",
   "metadata": {},
   "source": [
    "## Momentum Theory and Downwash"
   ]
  },
  {
   "cell_type": "markdown",
   "id": "95bb5b05",
   "metadata": {},
   "source": [
    "From [this reference](https://www.sciencedirect.com/topics/engineering/momentum-theory) we get these equations:"
   ]
  },
  {
   "cell_type": "markdown",
   "id": "bf484a7a",
   "metadata": {},
   "source": [
    "\\begin{equation}\n",
    "\\epsilon = \\epsilon_0 + \\frac{d\\epsilon}{d\\alpha}\\alpha\n",
    "\\end{equation}"
   ]
  },
  {
   "cell_type": "markdown",
   "id": "57a869e7",
   "metadata": {},
   "source": [
    "$\\epsilon_0$ is the residual downwash when $\\alpha = 0$. The $d\\epsilon/d\\alpha$ term is the rate of change in the downwash as ange of attack changes. "
   ]
  },
  {
   "cell_type": "markdown",
   "id": "201e926d",
   "metadata": {},
   "source": [
    "\\begin{equation}\n",
    "\\epsilon_0 = \\frac{2 {C_{l0}}_w}{\\pi AR}\n",
    "\\end{equation}\n",
    "\n",
    "and\n",
    "\n",
    "\\begin{equation}\n",
    "\\frac{d\\epsilon}{d\\alpha} = \\frac{2 {C_{l\\alpha}}_w}{\\pi AR}\n",
    "\\end{equation}"
   ]
  },
  {
   "cell_type": "markdown",
   "id": "615b1bb0",
   "metadata": {},
   "source": [
    "In these expressions, we are looking at the lift coefficient of the wing at zero angle of attack, and the slope of that curve "
   ]
  },
  {
   "cell_type": "markdown",
   "id": "415a81cf",
   "metadata": {},
   "source": [
    "\\begin{equation}\n",
    "\\alpha_{HT} = \\alpha_{WB} -i_w -\\epsilon\n",
    "\\end{equation}"
   ]
  },
  {
   "cell_type": "markdown",
   "id": "872efcf8",
   "metadata": {},
   "source": [
    "Combining these we get the effective angle of attack of the stab as follows:\n",
    "    \n",
    "\\begin{equation}\n",
    "\\alpha_{HT} = \\alpha_{WB} \\left( 1 - \\frac{2 {C_{l\\alpha}}_w}{\\pi AR} \\right) - \\frac{2 {C_{l0}}_w}{\\pi AR} \\\n",
    "    -i_w + i_{HT}\n",
    "\\end{equation}"
   ]
  },
  {
   "cell_type": "code",
   "execution_count": null,
   "id": "ca120607",
   "metadata": {},
   "outputs": [],
   "source": []
  }
 ],
 "metadata": {
  "kernelspec": {
   "display_name": "Python 3 (ipykernel)",
   "language": "python",
   "name": "python3"
  },
  "language_info": {
   "codemirror_mode": {
    "name": "ipython",
    "version": 3
   },
   "file_extension": ".py",
   "mimetype": "text/x-python",
   "name": "python",
   "nbconvert_exporter": "python",
   "pygments_lexer": "ipython3",
   "version": "3.9.9"
  },
  "latex_envs": {
   "LaTeX_envs_menu_present": true,
   "autoclose": false,
   "autocomplete": true,
   "bibliofile": "biblio.bib",
   "cite_by": "apalike",
   "current_citInitial": 1,
   "eqLabelWithNumbers": true,
   "eqNumInitial": 1,
   "hotkeys": {
    "equation": "Ctrl-E",
    "itemize": "Ctrl-I"
   },
   "labels_anchors": false,
   "latex_user_defs": false,
   "report_style_numbering": false,
   "user_envs_cfg": false
  },
  "toc": {
   "base_numbering": 1,
   "nav_menu": {},
   "number_sections": true,
   "sideBar": true,
   "skip_h1_title": false,
   "title_cell": "Table of Contents",
   "title_sidebar": "Contents",
   "toc_cell": false,
   "toc_position": {},
   "toc_section_display": true,
   "toc_window_display": false
  },
  "varInspector": {
   "cols": {
    "lenName": 16,
    "lenType": 16,
    "lenVar": 40
   },
   "kernels_config": {
    "python": {
     "delete_cmd_postfix": "",
     "delete_cmd_prefix": "del ",
     "library": "var_list.py",
     "varRefreshCmd": "print(var_dic_list())"
    },
    "r": {
     "delete_cmd_postfix": ") ",
     "delete_cmd_prefix": "rm(",
     "library": "var_list.r",
     "varRefreshCmd": "cat(var_dic_list()) "
    }
   },
   "types_to_exclude": [
    "module",
    "function",
    "builtin_function_or_method",
    "instance",
    "_Feature"
   ],
   "window_display": false
  }
 },
 "nbformat": 4,
 "nbformat_minor": 5
}
