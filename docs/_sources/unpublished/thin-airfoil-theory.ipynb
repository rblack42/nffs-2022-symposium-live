{
 "cells": [
  {
   "cell_type": "markdown",
   "id": "c3d9fb8c",
   "metadata": {},
   "source": [
    "# Thin Airfoil Theory"
   ]
  },
  {
   "cell_type": "markdown",
   "id": "e2908ed4",
   "metadata": {},
   "source": [
    "The airfoil on many indoor models is a simple circular arc. Well, actually it is really something else between ribs due t possible covering flexing, but we will ignore all of that. Our goal in this section is to come up with an approximation for the aerodynamic coefficients for this simple airfoil shape.\n",
    "\n",
    "The study of this topic dates back to the beginnings of flight research. We will look at two theories: basic thin airfoil theory, and Prandtl's *Lifting Line Theory*.\n",
    "\n",
    "Drag Coefficient\n",
    "\n",
    "The drag coefficient can be approximated by:\n",
    "\n",
    "\\begin{equation}\n",
    "C_l = {C_l}_\\alpha \\frac{AR}{AR+2}\\alpha\n",
    "\\end{equation}\n",
    "\n",
    "Where:\n",
    "- $C_l$ is the 3D lift coedfficient\n",
    "- ${C_l}_\\alpha$ is the slope of the 2D lift coefficient (max value = $2\\pi$)\n",
    "- AR is the aspect ratio on the wing"
   ]
  },
  {
   "cell_type": "markdown",
   "id": "13fc625c",
   "metadata": {},
   "source": [
    "## Induced Drag\n",
    "\n",
    "The drag due downwash is called the *induced drag*. Prandtl's throry gived this equation:\n",
    "\n",
    "\\begin{equation}\n",
    "{C_d}_i = \\frac{C_l^2}{\\pi AR} \n",
    "\\end{equation}"
   ]
  },
  {
   "cell_type": "code",
   "execution_count": null,
   "id": "350df113",
   "metadata": {},
   "outputs": [],
   "source": []
  }
 ],
 "metadata": {
  "kernelspec": {
   "display_name": "Python 3 (ipykernel)",
   "language": "python",
   "name": "python3"
  },
  "language_info": {
   "codemirror_mode": {
    "name": "ipython",
    "version": 3
   },
   "file_extension": ".py",
   "mimetype": "text/x-python",
   "name": "python",
   "nbconvert_exporter": "python",
   "pygments_lexer": "ipython3",
   "version": "3.9.9"
  },
  "latex_envs": {
   "LaTeX_envs_menu_present": true,
   "autoclose": false,
   "autocomplete": true,
   "bibliofile": "biblio.bib",
   "cite_by": "apalike",
   "current_citInitial": 1,
   "eqLabelWithNumbers": true,
   "eqNumInitial": 1,
   "hotkeys": {
    "equation": "Ctrl-E",
    "itemize": "Ctrl-I"
   },
   "labels_anchors": false,
   "latex_user_defs": false,
   "report_style_numbering": false,
   "user_envs_cfg": false
  },
  "toc": {
   "base_numbering": 1,
   "nav_menu": {},
   "number_sections": true,
   "sideBar": true,
   "skip_h1_title": false,
   "title_cell": "Table of Contents",
   "title_sidebar": "Contents",
   "toc_cell": false,
   "toc_position": {},
   "toc_section_display": true,
   "toc_window_display": false
  },
  "varInspector": {
   "cols": {
    "lenName": 16,
    "lenType": 16,
    "lenVar": 40
   },
   "kernels_config": {
    "python": {
     "delete_cmd_postfix": "",
     "delete_cmd_prefix": "del ",
     "library": "var_list.py",
     "varRefreshCmd": "print(var_dic_list())"
    },
    "r": {
     "delete_cmd_postfix": ") ",
     "delete_cmd_prefix": "rm(",
     "library": "var_list.r",
     "varRefreshCmd": "cat(var_dic_list()) "
    }
   },
   "types_to_exclude": [
    "module",
    "function",
    "builtin_function_or_method",
    "instance",
    "_Feature"
   ],
   "window_display": false
  }
 },
 "nbformat": 4,
 "nbformat_minor": 5
}
