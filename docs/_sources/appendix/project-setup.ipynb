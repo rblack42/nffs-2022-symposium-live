{
 "cells": [
  {
   "cell_type": "markdown",
   "id": "68e2f32c",
   "metadata": {},
   "source": [
    "<a id=\"setup_guide\"></a>\n",
    "# Installing This Project on Your Computer"
   ]
  },
  {
   "cell_type": "markdown",
   "id": "d6050d05",
   "metadata": {},
   "source": [
    "The project presented in this article can be installed on any personal computer with a few simple tools installed.\n",
    "\n",
    "Here is what you need to have on your system to proceed:\n",
    "\n",
    "- Python\n",
    "- Any text editor (I use *vim*)\n",
    "- *Git* - to access the *Github* reproject repository"
   ]
  },
  {
   "cell_type": "markdown",
   "id": "7f502b69",
   "metadata": {},
   "source": [
    "I taught an introductory course in computer programming for many years. In that course, we introduced many of the basic programming concepts using *Python*. The notes that follow are derived from my lecture notes fo rthat course."
   ]
  },
  {
   "cell_type": "markdown",
   "id": "6a31c96f",
   "metadata": {},
   "source": [
    "## Installing Python"
   ]
  },
  {
   "cell_type": "markdown",
   "id": "39d3bc73",
   "metadata": {},
   "source": [
    "Installers are available from the *Python* website at [python installers](https://www.python.org/downloads/).\n",
    "\n",
    "Select the version that matches your system to download the installer file. Once that is on your system, run the program to complete the installation."
   ]
  },
  {
   "cell_type": "markdown",
   "id": "f956ef6d",
   "metadata": {},
   "source": [
    "## Testing the Installation"
   ]
  },
  {
   "cell_type": "markdown",
   "id": "3061c895",
   "metadata": {},
   "source": [
    "To confirm that *Python* is ready to use, we can check it by opening a *command line* windoe* on your system. Linux users should kow how to do this. On a Mac, open the *Terminal* program found in the v*applications/utilities* subdirectory). On a PC, type **cmd** in the search box at the lower left of your screen and select *Command Prompt*."
   ]
  },
  {
   "cell_type": "code",
   "execution_count": null,
   "id": "2231c018",
   "metadata": {},
   "outputs": [],
   "source": []
  }
 ],
 "metadata": {
  "kernelspec": {
   "display_name": "Python 3 (ipykernel)",
   "language": "python",
   "name": "python3"
  },
  "language_info": {
   "codemirror_mode": {
    "name": "ipython",
    "version": 3
   },
   "file_extension": ".py",
   "mimetype": "text/x-python",
   "name": "python",
   "nbconvert_exporter": "python",
   "pygments_lexer": "ipython3",
   "version": "3.10.5"
  },
  "toc": {
   "base_numbering": 1,
   "nav_menu": {},
   "number_sections": true,
   "sideBar": true,
   "skip_h1_title": false,
   "title_cell": "Table of Contents",
   "title_sidebar": "Contents",
   "toc_cell": false,
   "toc_position": {},
   "toc_section_display": true,
   "toc_window_display": false
  },
  "varInspector": {
   "cols": {
    "lenName": 16,
    "lenType": 16,
    "lenVar": 40
   },
   "kernels_config": {
    "python": {
     "delete_cmd_postfix": "",
     "delete_cmd_prefix": "del ",
     "library": "var_list.py",
     "varRefreshCmd": "print(var_dic_list())"
    },
    "r": {
     "delete_cmd_postfix": ") ",
     "delete_cmd_prefix": "rm(",
     "library": "var_list.r",
     "varRefreshCmd": "cat(var_dic_list()) "
    }
   },
   "types_to_exclude": [
    "module",
    "function",
    "builtin_function_or_method",
    "instance",
    "_Feature"
   ],
   "window_display": false
  }
 },
 "nbformat": 4,
 "nbformat_minor": 5
}
