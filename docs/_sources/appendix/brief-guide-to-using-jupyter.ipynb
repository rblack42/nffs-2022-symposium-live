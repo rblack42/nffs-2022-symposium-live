{
 "cells": [
  {
   "cell_type": "markdown",
   "id": "8f7f8d67",
   "metadata": {},
   "source": [
    "# Brief Guide to Using Jupyter"
   ]
  },
  {
   "cell_type": "code",
   "execution_count": 1,
   "id": "5b804597",
   "metadata": {},
   "outputs": [],
   "source": [
    "from IPython.display import Image # to display the images"
   ]
  },
  {
   "cell_type": "markdown",
   "id": "0724d662",
   "metadata": {},
   "source": [
    "*Jupyter* is an interesting tool. It is a great place to play and even learn how to program. In this short introduction I am assuming that you have managed to install *Jupyter* on your system.\n",
    "\n",
    "Launching *Jupyter* is usually done from the command line, which may not be familiar to many of you. This simple environment is available on all systems and presents an interface we older programmers grew up in. No graphics, no mouse, just typing in commands and getting text results on a boring black and white window. \n",
    "\n",
    "To get to this environment on a PC just enter **CMD** in the search box at the lower left of your screen, then select the *Command Prompt* choice that will pop up. From there you just use simple commands to navigate to the folder you want to use for your project.  More details on navigating the command prompt are at the project website, so I will not cover that here.\n",
    "\n",
    "Move to the folder where your project is located and type **jupyter notebook**. After a few seconds, your web browser should launch and you will see a view of that project folder. \n",
    "This is what mine looks like:"
   ]
  },
  {
   "attachments": {},
   "cell_type": "markdown",
   "id": "242db04e",
   "metadata": {},
   "source": [
    "If you look closely (I know it is small), you will see files with a .ipynb extension. These are notebook pages I created for this study. Clicking on one of those will open that page. To start a new page, you select New, then Python3 from the menu near the top right.New pages are untitled by default. You can rename them using the File menu.\n",
    "\n",
    "Basically, you enter either code or text into blocks on a page. When you are in a block, the screen shows a green line on the left edge of the block. The type of block is displayed on the menu at the top. You can change the type if necessary. If the block has already been processed the green line will not appear. Double-clicking in the block will show you the unprocessed text. You should select only code or markdown as a start. In code blocks you type in Python code lines. (Look up any tutorial on Python to get started). In Markdown blocks you just type in text. Lines will automatically fold as you get to the end of the block. Paragraphs are set off using blank lines. There are special formatting marks you can add to style the text in interesting ways. I recommend looking at the pages I created as a start or look for Markdown tutorials online. \n",
    "\n",
    "Once you have a block set up the way you want, type Shift-Enter to process that block and create a new block below (or move to the next block if one is already there.\n",
    "You can add images, and equations, but we will not cover that here. This is just a quick guide to get you started.  Google Jupyter Turorial to learn more."
   ]
  }
 ],
 "metadata": {
  "kernelspec": {
   "display_name": "Python 3 (ipykernel)",
   "language": "python",
   "name": "python3"
  },
  "language_info": {
   "codemirror_mode": {
    "name": "ipython",
    "version": 3
   },
   "file_extension": ".py",
   "mimetype": "text/x-python",
   "name": "python",
   "nbconvert_exporter": "python",
   "pygments_lexer": "ipython3",
   "version": "3.10.4"
  },
  "toc": {
   "base_numbering": 1,
   "nav_menu": {},
   "number_sections": true,
   "sideBar": true,
   "skip_h1_title": false,
   "title_cell": "Table of Contents",
   "title_sidebar": "Contents",
   "toc_cell": false,
   "toc_position": {},
   "toc_section_display": true,
   "toc_window_display": false
  },
  "varInspector": {
   "cols": {
    "lenName": 16,
    "lenType": 16,
    "lenVar": 40
   },
   "kernels_config": {
    "python": {
     "delete_cmd_postfix": "",
     "delete_cmd_prefix": "del ",
     "library": "var_list.py",
     "varRefreshCmd": "print(var_dic_list())"
    },
    "r": {
     "delete_cmd_postfix": ") ",
     "delete_cmd_prefix": "rm(",
     "library": "var_list.r",
     "varRefreshCmd": "cat(var_dic_list()) "
    }
   },
   "types_to_exclude": [
    "module",
    "function",
    "builtin_function_or_method",
    "instance",
    "_Feature"
   ],
   "window_display": false
  }
 },
 "nbformat": 4,
 "nbformat_minor": 5
}
