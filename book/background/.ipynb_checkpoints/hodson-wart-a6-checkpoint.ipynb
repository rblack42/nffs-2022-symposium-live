{
 "cells": [
  {
   "cell_type": "markdown",
   "id": "437c76ab",
   "metadata": {},
   "source": [
    "# Hodson Wart A6\n",
    "\n",
    "Before we begin working through the theory needed to implement McLean's method, lets look at the model we will use as a test case, Gary Hodson's *Wart A6*. \n",
    "\n",
    "![Wart](wart-a6.png)\n",
    "\n",
    "Gary is a fellow club member who brings his fleet of *Wart* models to our indoor sessions. He has kindly provided flight data for this plane. The *Wart* was an *NFFS Model of the Year* in 2010. {cite}[hodson]. \n",
    "\n",
    "The *Wart* uses typical circular arc airfoils. Finding aerodynamic data for these airfoils has proven difficult, but I did find data for a 3% circular arc airfoil in a study by Okamo Masato that was looking at how insects fly {cite}`masato`.\n",
    "\n",
    "![C_l](3%-circular-arc.png)"
   ]
  },
  {
   "cell_type": "markdown",
   "id": "07543f0b",
   "metadata": {},
   "source": [
    "Using my curve fitting scheme, here is the lift curve data I digitized:"
   ]
  },
  {
   "cell_type": "code",
   "execution_count": null,
   "id": "f20b17f2",
   "metadata": {},
   "outputs": [],
   "source": []
  }
 ],
 "metadata": {
  "kernelspec": {
   "display_name": "Python 3 (ipykernel)",
   "language": "python",
   "name": "python3"
  },
  "language_info": {
   "codemirror_mode": {
    "name": "ipython",
    "version": 3
   },
   "file_extension": ".py",
   "mimetype": "text/x-python",
   "name": "python",
   "nbconvert_exporter": "python",
   "pygments_lexer": "ipython3",
   "version": "3.10.2"
  },
  "latex_envs": {
   "LaTeX_envs_menu_present": true,
   "autoclose": false,
   "autocomplete": true,
   "bibliofile": "biblio.bib",
   "cite_by": "apalike",
   "current_citInitial": 1,
   "eqLabelWithNumbers": true,
   "eqNumInitial": 1,
   "hotkeys": {
    "equation": "Ctrl-E",
    "itemize": "Ctrl-I"
   },
   "labels_anchors": false,
   "latex_user_defs": false,
   "report_style_numbering": false,
   "user_envs_cfg": false
  },
  "toc": {
   "base_numbering": 1,
   "nav_menu": {},
   "number_sections": true,
   "sideBar": true,
   "skip_h1_title": false,
   "title_cell": "Table of Contents",
   "title_sidebar": "Contents",
   "toc_cell": false,
   "toc_position": {},
   "toc_section_display": true,
   "toc_window_display": false
  },
  "varInspector": {
   "cols": {
    "lenName": 16,
    "lenType": 16,
    "lenVar": 40
   },
   "kernels_config": {
    "python": {
     "delete_cmd_postfix": "",
     "delete_cmd_prefix": "del ",
     "library": "var_list.py",
     "varRefreshCmd": "print(var_dic_list())"
    },
    "r": {
     "delete_cmd_postfix": ") ",
     "delete_cmd_prefix": "rm(",
     "library": "var_list.r",
     "varRefreshCmd": "cat(var_dic_list()) "
    }
   },
   "types_to_exclude": [
    "module",
    "function",
    "builtin_function_or_method",
    "instance",
    "_Feature"
   ],
   "window_display": false
  }
 },
 "nbformat": 4,
 "nbformat_minor": 5
}
