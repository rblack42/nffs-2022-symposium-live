{
 "cells": [
  {
   "cell_type": "markdown",
   "id": "783035af",
   "metadata": {},
   "source": [
    "# Simplified Indoor Design"
   ]
  },
  {
   "cell_type": "markdown",
   "id": "9f5d8620",
   "metadata": {
    "hide_input": false
   },
   "source": [
    "For this study, we will consider a simplified indoor design. The dimensions we use will be derived from Gary Hodson's Wart-A6 design {cite}`hodson2010`.\n",
    "\n",
    "I am using a graphics tool called *Tikz* to generate the figures in this. article. THis is part of a very high quality publishing system called $\\LaTeX$ which you will probably run into if you end up in graduate school. Many universities require that theses and dissertations use this system for publications. For this article, you can safely ignore the code, and just look at the figures produced."
   ]
  },
  {
   "cell_type": "code",
   "execution_count": 2,
   "id": "5d61447a",
   "metadata": {
    "hide_input": false
   },
   "outputs": [],
   "source": [
    "%reload_ext tikzmagic"
   ]
  },
  {
   "cell_type": "code",
   "execution_count": 3,
   "id": "025e9566",
   "metadata": {
    "hide_input": false,
    "scrolled": true
   },
   "outputs": [
    {
     "data": {
      "image/png": "[encoded data removed]"
     },
     "metadata": {},
     "output_type": "display_data"
    }
   ],
   "source": [
    "%%tikz -l calc\n",
    "\n",
    "% draw axes\n",
    "\n",
    "\\draw[thin,->] (2.5,0.5) -- (2.5,4) node[above]{y};\n",
    "\\draw[thin,->] (2.5,0.5) -- (9.5,0.5) node[right]{x};\n",
    "\n",
    "\\newcommand{\\model}{\n",
    "    % body line\n",
    "    \\draw (0,0) -- (4,0);\n",
    "    %tail boom line\n",
    "    \\draw (4,0) -- (8,0);\n",
    "    \\draw (1,0) -- (1,1.5);\n",
    "    \\draw (3,0) -- (3,1.5);\n",
    "    \n",
    "    % wing\n",
    "    \\draw [ultra thick] (1,1.5) -- (3,1.5);\n",
    "    \\draw (6,0) -- (6,-0.5);\n",
    "    \\draw (8,0) -- (8,-0.5);\n",
    "    \\draw [ultra thick] (8,-0.5) -- (6,-0.5);\n",
    "    \n",
    "    % prop\n",
    "    \\draw (0,-0.375) -- (0,0.125);\n",
    "    \\draw (0,-1.125) ellipse (0.125 and 0.75);\n",
    "    \\draw (0,0.875) ellipse (0.125 and 0.75);\n",
    "    \\draw[thin] (0,-0.125) -- (0.5,-0.125);\n",
    "}\n",
    "\n",
    "\\newcommand{\\wingac}[2] {\n",
    "    \\draw[fill=black] (#1,#2) -- (#1-0.125,#2-0.25) -- (#1, #2-0.25) -- cycle;\n",
    "    \\draw (#1,#2) -- (#1+0.125,#2-0.25) -- (#1, #2-0.25) -- cycle;\n",
    "}\n",
    "\n",
    "\\newcommand{\\cg}[2]{\n",
    "    \\draw [fill=black](#1,#2) -- \n",
    "        ++(+0.125,0) arc (0:90:0.125) -- \n",
    "        ++(0,-0.25) arc (270:180:0.125) -- (#1,#2);%\n",
    "        \\draw (#1,#2) circle (0.125);%\n",
    "}\n",
    "\\model\n",
    "\\wingac{1.5}{1.5}\n",
    "\\wingac{6.5}{-0.5}\n",
    "\\cg{2.5}{0.5}\n",
    "\n",
    "% wing lift and drag\n",
    "\\draw[red,ultra thick,->] (1.5,1.5) -- (1.5,2.5);\n",
    "\\node[above] at (1.5,2.5) {$L_w$};\n",
    "\\draw[red,ultra thick,->] (3,1.5) -- (4,1.5);\n",
    "\\node[right] at (4,1.5) {$D_w$};\n",
    "            \n",
    "% stab lift and drag\n",
    "\\draw[red,ultra thick,->] (6.5,-0.5) -- (6.5,0.5);\n",
    "\\node[above] at (6.5,0.5) {$L_s$};\n",
    "\\draw[red,ultra thick,->] (8,-0.5) -- (9,-0.5);\n",
    "\\node[right] at (9,-0.5) {$D_w$};\n",
    "\n",
    "% Moments\n",
    "\\draw [red,ultra thick,->] (1.5,1.0) arc (-90:-315:0.5) \n",
    "            node[right] {$M_w$};\n",
    "\\draw [red,ultra thick,->] (6.5,-1) arc (-90:-315:0.5) \n",
    "            node[right] {$M_s$};                \n",
    "% thrust\n",
    "\\draw[red,ultra thick, ->] (0,-0.125) -- (-1,-0.125);\n",
    "\\node[left] at (-1,0) {$T$};\n",
    "\\draw[ultra thick] (0,-0.25) -- (0.25,-0.125);\n",
    "            \n",
    "% weight\n",
    "\\draw[red,ultra thick,->] (2.5,0.5) -- (2.5,-0.5);\n",
    "\\node[below] at (2.5,-0.5) {$W$};          "
   ]
  },
  {
   "cell_type": "markdown",
   "id": "5f627afd",
   "metadata": {},
   "source": [
    "This simplified model allows for a wing and stab offset from the body center line. It also allows for a thrust offset. The center of gravity is marked, together with the aerodynamic centers of the wing and stab. All forces acting on this model are assumed to be applied at these marked points.\n",
    "\n",
    "The primary reference point for our model is the center of gravity, which is not shown on the Wart plans, but we can calculate the location from other data.  "
   ]
  },
  {
   "cell_type": "markdown",
   "id": "591bdc68",
   "metadata": {},
   "source": [
    "## Locating the Center of Gravity"
   ]
  },
  {
   "cell_type": "markdown",
   "id": "68b403c1",
   "metadata": {},
   "source": [
    "The Wart plans show weights for all of the major model components. We can figure out the center of gravity using those weights and the center of mass location of those parts. OpenSCAD can give us that data directly, but a little geometry will be sufficient here.\n",
    "\n",
    "Here are the weights from the plans:"
   ]
  },
  {
   "cell_type": "code",
   "execution_count": 3,
   "id": "28355855",
   "metadata": {},
   "outputs": [],
   "source": [
    "import pint\n",
    "u = pint.UnitRegistry()"
   ]
  },
  {
   "cell_type": "code",
   "execution_count": 4,
   "id": "ae10ae7e",
   "metadata": {},
   "outputs": [],
   "source": [
    "weights = {\n",
    "    'motor_stick': 0.22*u.grams,\n",
    "    'tail_boom': 0.08*u.grams,\n",
    "    'stab': 0.25*u.grams,\n",
    "    'wing': 0.42*u.grams,\n",
    "    'prop': 0.23*u.grams,\n",
    "    'rubber': 0.86*u.grams\n",
    "}"
   ]
  },
  {
   "cell_type": "markdown",
   "id": "89adfff6",
   "metadata": {},
   "source": [
    "Here is a bit of code that calculates the total weight:"
   ]
  },
  {
   "cell_type": "code",
   "execution_count": 5,
   "id": "e0791398",
   "metadata": {},
   "outputs": [
    {
     "name": "stdout",
     "output_type": "stream",
     "text": [
      "total weight =  2.06 gram\n"
     ]
    }
   ],
   "source": [
    "total_weight = 0\n",
    "for key in weights:\n",
    "    total_weight += weights[key]\n",
    "    \n",
    "print('total weight = ',total_weight)"
   ]
  },
  {
   "cell_type": "markdown",
   "id": "5a5bbf1b",
   "metadata": {},
   "source": [
    "We can estimate the **CG** location by balancing the model, both horizontally, and vertically.\n",
    "\n",
    "The definition of the *center of mass* for a collection of objects is:"
   ]
  },
  {
   "cell_type": "markdown",
   "id": "a0c5687e",
   "metadata": {},
   "source": [
    "\\begin{equation}\n",
    "{cg}_x = \\frac{\\sum^{n}_{i=1}x_i W_i}{\\sum^{n}_{i=1}W_i}\n",
    "\\end{equation}\n",
    "\n",
    "\\begin{equation}\n",
    "{cg}_y = \\frac{\\sum^{n}_{i=1}y_i W_i}{\\sum^{n}_{i=1}W_i}\n",
    "\\end{equation}\n",
    "\n",
    "The reference point for these calculations can be any convenient point. We will use the nose of the motor stick. All dimensions were derived from the plans.\n",
    "\n",
    "(TODO: all of these need to be fixed):"
   ]
  },
  {
   "cell_type": "code",
   "execution_count": 20,
   "id": "bb0f19c2",
   "metadata": {},
   "outputs": [],
   "source": [
    "cg_arms = {\n",
    "    'prop': (0*u.inch,-0.125*u.inch),\n",
    "    'wing': (2.25*u.inch, (7/8)*u.inch),\n",
    "    'stab': ((6+8.5-1)*u.inch,0.125*u.inch),\n",
    "    'motor_stick': (3*u.inch,0.0625*u.inch),\n",
    "    'tail_boom': (10.0*u.inch,0.125*u.inch),\n",
    "    'rubber': (3*u.inch,-0.125*u.inch)\n",
    "}"
   ]
  },
  {
   "cell_type": "markdown",
   "id": "cf123b65",
   "metadata": {},
   "source": [
    "Each of these locations is. shown as an **(x,y)** pair. We need both values to locate the **CG** correctly. Yes, it is tedious to add units to the numbers, but the results will justify adding them.\n",
    "\n",
    "Here is code to calculate the **CG** location using the equations shown above:"
   ]
  },
  {
   "cell_type": "code",
   "execution_count": 21,
   "id": "3e0cbd76",
   "metadata": {},
   "outputs": [
    {
     "name": "stdout",
     "output_type": "stream",
     "text": [
      "CG is at (4.058252427184466 inch,0.13895631067961164 inch)\n"
     ]
    }
   ],
   "source": [
    "   def cg(w,a):\n",
    "    x_cg = 0\n",
    "    y_cg = 0\n",
    "    W_sum = 0\n",
    "    for key in w:\n",
    "        x_cg += w[key] * a[key][0]\n",
    "        y_cg += w[key] * a[key][1]\n",
    "        W_sum += w[key]\n",
    "    x_cg = x_cg/W_sum\n",
    "    y_cg = y_cg/W_sum\n",
    "    print(f'CG is at ({x_cg},{y_cg})')\n",
    "        \n",
    "cg(weights, cg_arms)"
   ]
  },
  {
   "cell_type": "markdown",
   "id": "c2d74432",
   "metadata": {},
   "source": [
    "That puts the **CG** slightly behind the tailing edge of the wing. "
   ]
  },
  {
   "cell_type": "markdown",
   "id": "5a54ab74",
   "metadata": {},
   "source": [
    "Before we move on, let's gather some data from the plans and calculate a few area and lengths we will need in our later work. Eventually, all of this data will be generated from the OpenSCAD design, or input by the user from a simple data file."
   ]
  },
  {
   "cell_type": "code",
   "execution_count": 17,
   "id": "892edc5c",
   "metadata": {},
   "outputs": [],
   "source": [
    "import math\n",
    "\n",
    "# define basic dimensions from plan\n",
    "wing = {\n",
    "    'center_span': 8 * u.inches,\n",
    "    'center_chord': 2 * u.inches,\n",
    "    'tip_span':3.75 * u.inches,\n",
    "    'tip_chord': 1.75 * u.inches,\n",
    "    'tip_dihedral': 7/8*u.inches,\n",
    "}\n",
    "\n",
    "stab = {\n",
    "    'tip_span': (5 + 7/16) * u.inches,\n",
    "    'center_chord': 1.75 * u.inches,\n",
    "    'tip_chord': 1 * u.inches,\n",
    "    'tip_dihedral': 7/8 * u.inches\n",
    "}\n",
    "\n",
    "## add calculated dimensions needed in later work\n",
    "wing['tip_angle'] = math.atan(wing['tip_dihedral']/wing['tip_span'])\n",
    "stab['tip_angle'] = math.atan(stab['tip_dihedral']/stab['tip_span']/2)\n",
    "wing['projected_area'] = \\\n",
    "    wing['center_span'] * wing['center_chord'] \\\n",
    "     + 2 * (wing['center_chord'] + wing['tip_chord'])/2 *\\\n",
    "    wing['tip_span'] * math.cos(wing['tip_angle'])\n",
    "stab['projected_area'] = 2 * stab['tip_span'] * (stab['center_chord'] \n",
    "                + stab['tip_chord'] )/2\\\n",
    "         * math.cos(stab['tip_angle'])\n",
    "stab['projected_span'] = 2 * stab['tip_span'] * math.cos(stab['tip_angle'])\n",
    "wing['projected_span'] = wing['center_span'] + 2 * \\\n",
    "    wing['tip_span'] * math.cos(wing['tip_angle'])\n",
    "wing['mean_chord'] = wing['projected_area']/wing['projected_span']\n",
    "stab['mean_chord'] = stab['projected_area']/stab['projected_span']\n",
    "stab['te_to_ac'] = 0.75 * stab['mean_chord']\n",
    "wing['te_to_ac'] = 0.75 * wing['mean_chord']"
   ]
  },
  {
   "cell_type": "markdown",
   "id": "e51aeec4",
   "metadata": {},
   "source": [
    "Here is a utility routine to print our the data we just created:"
   ]
  },
  {
   "cell_type": "code",
   "execution_count": 18,
   "id": "2185a9a6",
   "metadata": {},
   "outputs": [],
   "source": [
    "def print_dict(d, title):\n",
    "    print(title)\n",
    "    for key in d:\n",
    "        print(f'\\t{key}: {d[key]}')"
   ]
  },
  {
   "cell_type": "code",
   "execution_count": 19,
   "id": "29343c15",
   "metadata": {},
   "outputs": [
    {
     "name": "stdout",
     "output_type": "stream",
     "text": [
      "wing data\n",
      "\tcenter_span: 8 inch\n",
      "\tcenter_chord: 2 inch\n",
      "\ttip_span: 3.75 inch\n",
      "\ttip_chord: 1.75 inch\n",
      "\ttip_dihedral: 0.875 inch\n",
      "\ttip_angle: 0.22923193327699534\n",
      "\tprojected_area: 29.694642011993967 inch ** 2\n",
      "\tprojected_span: 15.303809073063448 inch\n",
      "\tmean_chord: 1.940343209342576 inch\n",
      "\tte_to_ac: 1.4552574070069322 inch\n",
      "stab_data\n",
      "\ttip_span: 5.4375 inch\n",
      "\tcenter_chord: 1.75 inch\n",
      "\ttip_chord: 1 inch\n",
      "\ttip_dihedral: 0.875 inch\n",
      "\ttip_angle: 0.08028681528301647\n",
      "\tprojected_area: 14.90495716456054 inch ** 2\n",
      "\tprojected_span: 10.83996884695312 inch\n",
      "\tmean_chord: 1.375 inch\n",
      "\tte_to_ac: 1.03125 inch\n"
     ]
    }
   ],
   "source": [
    "print_dict(wing,\"wing data\")\n",
    "print_dict(stab, \"stab_data\")"
   ]
  },
  {
   "cell_type": "markdown",
   "id": "003896a2",
   "metadata": {},
   "source": [
    "## Aerodynamic Centers\n",
    "\n",
    "Flying surfaces generate aerodynamic forces by creating a pressure distribution on their surfaces as they move. We can integrate this pressure distribution to find the total force that will be generated, and locate that force. This point is called the *center of pressure*. Unfortunately, the center of pressure  point varies with angle of attack. For that reason, aerodynamics researchers prefers to use an *aerodynamic center* as the point where forces will be applied. Doing this requires the addition of a moment force to ensure that the total force are correct. The aerodynamic center is commonly set at 1/4 of the mean chord of each surface. \n",
    "\n",
    "The mean chord is found using:\n",
    "\n",
    "\\begin{equation}\n",
    "\\overline\n",
    "{c} = S / b\n",
    "\\end{equation}\n",
    "\n",
    "Where $S$ is the projected surface area, and $b$ is the projected span."
   ]
  },
  {
   "cell_type": "markdown",
   "id": "614daff7",
   "metadata": {},
   "source": [
    "Now that we have a model and some air to fly in, let's look at a typical flight, and introduce a few more tools for use in your research projects."
   ]
  }
 ],
 "metadata": {
  "kernelspec": {
   "display_name": "Python 3 (ipykernel)",
   "language": "python",
   "name": "python3"
  },
  "language_info": {
   "codemirror_mode": {
    "name": "ipython",
    "version": 3
   },
   "file_extension": ".py",
   "mimetype": "text/x-python",
   "name": "python",
   "nbconvert_exporter": "python",
   "pygments_lexer": "ipython3",
   "version": "3.9.9"
  },
  "latex_envs": {
   "LaTeX_envs_menu_present": true,
   "autoclose": false,
   "autocomplete": true,
   "bibliofile": "biblio.bib",
   "cite_by": "apalike",
   "current_citInitial": 1,
   "eqLabelWithNumbers": true,
   "eqNumInitial": 1,
   "hotkeys": {
    "equation": "Ctrl-E",
    "itemize": "Ctrl-I"
   },
   "labels_anchors": false,
   "latex_user_defs": false,
   "report_style_numbering": false,
   "user_envs_cfg": false
  },
  "toc": {
   "base_numbering": 1,
   "nav_menu": {},
   "number_sections": true,
   "sideBar": true,
   "skip_h1_title": false,
   "title_cell": "Table of Contents",
   "title_sidebar": "Contents",
   "toc_cell": false,
   "toc_position": {},
   "toc_section_display": true,
   "toc_window_display": false
  },
  "varInspector": {
   "cols": {
    "lenName": 16,
    "lenType": 16,
    "lenVar": 40
   },
   "kernels_config": {
    "python": {
     "delete_cmd_postfix": "",
     "delete_cmd_prefix": "del ",
     "library": "var_list.py",
     "varRefreshCmd": "print(var_dic_list())"
    },
    "r": {
     "delete_cmd_postfix": ") ",
     "delete_cmd_prefix": "rm(",
     "library": "var_list.r",
     "varRefreshCmd": "cat(var_dic_list()) "
    }
   },
   "types_to_exclude": [
    "module",
    "function",
    "builtin_function_or_method",
    "instance",
    "_Feature"
   ],
   "window_display": false
  }
 },
 "nbformat": 4,
 "nbformat_minor": 5
}
