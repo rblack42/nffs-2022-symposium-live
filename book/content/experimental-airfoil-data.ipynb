{
 "cells": [
  {
   "cell_type": "markdown",
   "id": "5221eab2",
   "metadata": {},
   "source": [
    "# Airfoil Data"
   ]
  },
  {
   "cell_type": "markdown",
   "id": "c1915836",
   "metadata": {},
   "source": [
    "Finding airfoil data for the flight range of our indoor models is difficult. However, recent interest in micro flying vehicles has generated some data. Still, my attempts at matching a typical indoor model with experimental airfoil data only turned up a few possible data sources. \n",
    "\n",
    "In my past, I conducted some serious computer based studies of the flow of air over high speed vehicles as part of my research work in both graduate school and in the Air Force. In developing new computer tools for this kind of work, we always looked for actual experimental data that could be used to validate our new tools. \n",
    "\n",
    "For this project, I decided to try out the freely available *XFoil* program, and compare results from this program and data I found online.  "
   ]
  },
  {
   "cell_type": "markdown",
   "id": "c011a054",
   "metadata": {},
   "source": [
    "## XFoil Testing"
   ]
  },
  {
   "cell_type": "markdown",
   "id": "70796e1c",
   "metadata": {},
   "source": [
    "*XFoil* is a popular tool often used in the study of low speed airfoils.  The program has been around along time. It was originally developed by MIT Professor Mark Drela as part of his *Daedalus* {cite}`drela` project which resulted in a man powered airplane that flew 72.4 miles from Crete to the Greek island of Santorini in 1988! Mark often used model airplanes in how aerodynamics classes.\n",
    "\n",
    "The only problem with 8XFoil8 is that is was written in Fortran, a language ttt that popular today. Fortunately there is a nice free Fortran compiler available today called *gfortran** which can handle this program. I managed to compile the latest version of the *XFoil* on both my Mac and Linux laptops, (I will get it running on WIndows as soon as I can!)\n",
    "\n",
    "*XFoil* is a command line program, making it a bit clumsy to run in today's mouse driven world. Many folks who use *XFoil* hide the old-fashioned interface behind something more modern, like a Python front end!\n",
    "\n",
    "I will explore some of those tools in a later study. For now, I set up a simple Python front end that drives *XFoil* as needed to generate aerodynamic data we can use in this current study. I will not cover that code here. Instead, we will look at the final product, the aerodynamic data needed for the Wart-A6!\n",
    "\n",
    "### Test Airfoils\n",
    "\n",
    "The Wart uses a simplex airfoil. I was not able to find usable data for that airfoil, but i did find some suitable data for another common indoor airfoil, the simple circular arc.\n",
    "\n",
    "To test both of these airfoils, I wrote a routine that produces a thin airfoil at the specified camber height and a specified thickness. *XFoil* is not really happy working with super thin airfoils like we use on indoor models, so I settled on a one percent thick airfoil with a round leading edge, and a parabolic taper on the trailing edge. Here is an example of the airfoils I generated:\n",
    "\n"
   ]
  },
  {
   "cell_type": "code",
   "execution_count": 1,
   "id": "7088ef39",
   "metadata": {},
   "outputs": [],
   "source": [
    "import numpy as np\n",
    "import matplotlib.pyplot as plt\n",
    "import math"
   ]
  },
  {
   "cell_type": "code",
   "execution_count": null,
   "id": "07ea0d4f",
   "metadata": {},
   "outputs": [],
   "source": []
  },
  {
   "cell_type": "code",
   "execution_count": 2,
   "id": "ee72af63",
   "metadata": {},
   "outputs": [],
   "source": [
    "import mmtime_helper"
   ]
  },
  {
   "cell_type": "code",
   "execution_count": 3,
   "id": "216af6f3",
   "metadata": {},
   "outputs": [],
   "source": [
    "from mmtime.AirfoilMgr import AirfoilMgr"
   ]
  },
  {
   "cell_type": "code",
   "execution_count": 4,
   "id": "2fb4bcae",
   "metadata": {},
   "outputs": [
    {
     "name": "stdout",
     "output_type": "stream",
     "text": [
      "['mcbride-b7', 'arc0401', 'arc5', 'arc3', 'BEZ0625018506', 'arc0301', 'ARC0601', 'arc0201', 'ARC0501']\n"
     ]
    }
   ],
   "source": [
    "am = AirfoilMgr()\n",
    "am.showAirfoils()"
   ]
  },
  {
   "cell_type": "code",
   "execution_count": 5,
   "id": "ef558bed",
   "metadata": {},
   "outputs": [
    {
     "name": "stdout",
     "output_type": "stream",
     "text": [
      "Selected: arc0301\n"
     ]
    }
   ],
   "source": [
    "am.selectAirfoil('arc0301')"
   ]
  },
  {
   "cell_type": "code",
   "execution_count": 7,
   "id": "c1b04ed2",
   "metadata": {},
   "outputs": [
    {
     "name": "stdout",
     "output_type": "stream",
     "text": [
      "Loading arc0301\n",
      "\tLoading CD_re3k.csv\n",
      "\tLoading CP_re3k.csv\n",
      "\tLoading CM_re3k.csv\n",
      "\tLoading CL_re3k.csv\n"
     ]
    }
   ],
   "source": [
    "x = np.linspace(-5,10,50)\n",
    "cl3, cd3, cm3, cp3 = am.loadData('re3k')"
   ]
  },
  {
   "cell_type": "code",
   "execution_count": 9,
   "id": "f1634c23",
   "metadata": {},
   "outputs": [],
   "source": [
    "CL3 = cl3(x)\n",
    "CD3 = cd3(x)"
   ]
  },
  {
   "cell_type": "code",
   "execution_count": 10,
   "id": "17320358",
   "metadata": {},
   "outputs": [
    {
     "data": {
      "image/png": "[encoded data removed]",
      "text/plain": [
       "<Figure size 432x288 with 1 Axes>"
      ]
     },
     "metadata": {
      "needs_background": "light"
     },
     "output_type": "display_data"
    }
   ],
   "source": [
    "plt.plot(x, CL3)\n",
    "plt.plot(x,CD3)\n",
    "plt.show()"
   ]
  },
  {
   "cell_type": "code",
   "execution_count": 12,
   "id": "2771f7ba",
   "metadata": {},
   "outputs": [
    {
     "name": "stdout",
     "output_type": "stream",
     "text": [
      "Selected: arc3\n",
      "Loading arc3\n",
      "\tLoading CL-re3k.csv\n",
      "\tLoading CM-re3k.csv\n",
      "\tLoading CD-re3k.csv\n",
      "\tLoading CP-re3k.csv\n"
     ]
    }
   ],
   "source": [
    "am.selectAirfoil('arc3')\n",
    "cl4, cd4, cm4, cp4 = am.loadData('re3k')"
   ]
  },
  {
   "cell_type": "code",
   "execution_count": 13,
   "id": "6a332f2e",
   "metadata": {},
   "outputs": [],
   "source": [
    "CL4 = cl4(x)\n",
    "CD4 = cd4(x)"
   ]
  },
  {
   "cell_type": "code",
   "execution_count": 18,
   "id": "68be204c",
   "metadata": {},
   "outputs": [
    {
     "data": {
      "image/png": "[encoded data removed]",
      "text/plain": [
       "<Figure size 432x288 with 1 Axes>"
      ]
     },
     "metadata": {
      "needs_background": "light"
     },
     "output_type": "display_data"
    }
   ],
   "source": [
    "plt.plot(x, CL4)\n",
    "plt.plot(x,CL3)\n",
    "#plt.plot(x,CD4)\n",
    "#plt.plot(x,CD3)\n",
    "plt.show()"
   ]
  },
  {
   "cell_type": "code",
   "execution_count": 19,
   "id": "8b7a4942",
   "metadata": {},
   "outputs": [
    {
     "data": {
      "image/png": "[encoded data removed]",
      "text/plain": [
       "<Figure size 432x288 with 1 Axes>"
      ]
     },
     "metadata": {
      "needs_background": "light"
     },
     "output_type": "display_data"
    }
   ],
   "source": [
    "plt.plot(x,CD4)\n",
    "plt.plot(x,CD3)\n",
    "plt.show()"
   ]
  },
  {
   "cell_type": "markdown",
   "id": "6c5e147d",
   "metadata": {},
   "source": [
    "The agreement between experimental data and *XFoil* is reasonable between angles of attack ranging from $-2$ to $5$ degrees, but not so good outside that range. For the moment, I will use *XFoil* data for the rest of this analysis. *XFoil generates pressure distributions, and aerodynamic coefficients which are very useful in further work. It may not be able to handle all input conditions, but so far, I am getting reasonable data for the airfoils needed for this initial study.\n",
    "\n",
    "I have created Python routines to generate both circular arc and simplex airfoils with specified camber values.  "
   ]
  },
  {
   "cell_type": "markdown",
   "id": "7373f239",
   "metadata": {},
   "source": [
    "## Lift and Drag Calculations"
   ]
  },
  {
   "cell_type": "raw",
   "id": "dc12d1da",
   "metadata": {},
   "source": [
    "## Profile Drag\n",
    "\n",
    "The drag produced by skin friction and the pressure distribution around the airfoil is called *Profile Drag*. **xfoil** returns the pressure drag coefficient $ C_{dp}$, and can deliver the pressure distribution as well. "
   ]
  },
  {
   "cell_type": "markdown",
   "id": "f910e82e",
   "metadata": {},
   "source": [
    "## Downwash Calculations"
   ]
  },
  {
   "cell_type": "markdown",
   "id": "a6507258",
   "metadata": {},
   "source": [
    "The induced drag coefficients for the wing and stab are given by:\n",
    "\n",
    "\\begin{equation}\n",
    "{C_d}_{iw} = \\frac{{C_l}_w}{\\pi A_w} \n",
    "\\end{equation}\n",
    "\n",
    "\\begin{equation}\n",
    "{C_d}_{it} = \\frac{{{C_l}_t}^2}{\\pi A_t} + \\frac{ 2 {C_l}_w}{\\pi A_w} \n",
    "\\end{equation}"
   ]
  },
  {
   "cell_type": "code",
   "execution_count": null,
   "id": "572ddff2",
   "metadata": {},
   "outputs": [],
   "source": [
    "def epsilon(alpha):\n",
    "    CL = cl4(alpha)\n",
    "    print(CL)\n",
    "    ARw = 30.0/15.03\n",
    "    eps = 2 * CL /(math.pi * ARw)\n",
    "    print(eps*180/math.pi)"
   ]
  },
  {
   "cell_type": "code",
   "execution_count": null,
   "id": "8522db2f",
   "metadata": {},
   "outputs": [],
   "source": [
    "epsilon(5)"
   ]
  },
  {
   "cell_type": "code",
   "execution_count": null,
   "id": "bce7a897",
   "metadata": {},
   "outputs": [],
   "source": []
  }
 ],
 "metadata": {
  "kernelspec": {
   "display_name": "Python 3 (ipykernel)",
   "language": "python",
   "name": "python3"
  },
  "language_info": {
   "codemirror_mode": {
    "name": "ipython",
    "version": 3
   },
   "file_extension": ".py",
   "mimetype": "text/x-python",
   "name": "python",
   "nbconvert_exporter": "python",
   "pygments_lexer": "ipython3",
   "version": "3.10.2"
  },
  "latex_envs": {
   "LaTeX_envs_menu_present": true,
   "autoclose": false,
   "autocomplete": true,
   "bibliofile": "biblio.bib",
   "cite_by": "apalike",
   "current_citInitial": 1,
   "eqLabelWithNumbers": true,
   "eqNumInitial": 1,
   "hotkeys": {
    "equation": "Ctrl-E",
    "itemize": "Ctrl-I"
   },
   "labels_anchors": false,
   "latex_user_defs": false,
   "report_style_numbering": false,
   "user_envs_cfg": false
  },
  "toc": {
   "base_numbering": 1,
   "nav_menu": {},
   "number_sections": true,
   "sideBar": true,
   "skip_h1_title": false,
   "title_cell": "Table of Contents",
   "title_sidebar": "Contents",
   "toc_cell": false,
   "toc_position": {},
   "toc_section_display": true,
   "toc_window_display": false
  },
  "varInspector": {
   "cols": {
    "lenName": 16,
    "lenType": 16,
    "lenVar": 40
   },
   "kernels_config": {
    "python": {
     "delete_cmd_postfix": "",
     "delete_cmd_prefix": "del ",
     "library": "var_list.py",
     "varRefreshCmd": "print(var_dic_list())"
    },
    "r": {
     "delete_cmd_postfix": ") ",
     "delete_cmd_prefix": "rm(",
     "library": "var_list.r",
     "varRefreshCmd": "cat(var_dic_list()) "
    }
   },
   "types_to_exclude": [
    "module",
    "function",
    "builtin_function_or_method",
    "instance",
    "_Feature"
   ],
   "window_display": false
  }
 },
 "nbformat": 4,
 "nbformat_minor": 5
}
