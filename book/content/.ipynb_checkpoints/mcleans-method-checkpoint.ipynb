{
 "cells": [
  {
   "cell_type": "markdown",
   "id": "d05880a0",
   "metadata": {},
   "source": [
    "# Calculating Flight Time"
   ]
  },
  {
   "cell_type": "markdown",
   "id": "87899721",
   "metadata": {},
   "source": [
    "It is time to work through McLean's method for predicting indoor flight time. We will show each equation needed to perform the calculation, and provide links to the references that document the equations. In case there is no reference available, *SymPy* will be used to derive the equations. The final product of this work should be verified correct derivation of the procedure we need to estimate flight times.\n",
    "\n",
    "We will validate all of this work using actual flight data from Gary Hodson's {cite}`hodson2010` record setting Wart-A6 flights."
   ]
  },
  {
   "cell_type": "markdown",
   "id": "da57fda7",
   "metadata": {},
   "source": [
    "## Equation 1 - final time calculation"
   ]
  },
  {
   "cell_type": "markdown",
   "id": "822a4721",
   "metadata": {},
   "source": [
    "McLean's final equation is simple:\n",
    "\n",
    "```{math}\n",
    ":label: eq1-link\n",
    "w_{t+1} = (1 + r_{t+1}) s(w_t) + y_{t+1}\n",
    "```\n",
    "\n",
    "here is a reference {eq}`eq1-link`"
   ]
  },
  {
   "cell_type": "code",
   "execution_count": null,
   "id": "4bb30d28",
   "metadata": {},
   "outputs": [],
   "source": []
  }
 ],
 "metadata": {
  "kernelspec": {
   "display_name": "Python 3 (ipykernel)",
   "language": "python",
   "name": "python3"
  },
  "language_info": {
   "codemirror_mode": {
    "name": "ipython",
    "version": 3
   },
   "file_extension": ".py",
   "mimetype": "text/x-python",
   "name": "python",
   "nbconvert_exporter": "python",
   "pygments_lexer": "ipython3",
   "version": "3.9.9"
  },
  "latex_envs": {
   "LaTeX_envs_menu_present": true,
   "autoclose": false,
   "autocomplete": true,
   "bibliofile": "biblio.bib",
   "cite_by": "apalike",
   "current_citInitial": 1,
   "eqLabelWithNumbers": true,
   "eqNumInitial": 1,
   "hotkeys": {
    "equation": "Ctrl-E",
    "itemize": "Ctrl-I"
   },
   "labels_anchors": false,
   "latex_user_defs": false,
   "report_style_numbering": false,
   "user_envs_cfg": false
  },
  "toc": {
   "base_numbering": 1,
   "nav_menu": {},
   "number_sections": true,
   "sideBar": true,
   "skip_h1_title": false,
   "title_cell": "Table of Contents",
   "title_sidebar": "Contents",
   "toc_cell": false,
   "toc_position": {},
   "toc_section_display": true,
   "toc_window_display": false
  },
  "varInspector": {
   "cols": {
    "lenName": 16,
    "lenType": 16,
    "lenVar": 40
   },
   "kernels_config": {
    "python": {
     "delete_cmd_postfix": "",
     "delete_cmd_prefix": "del ",
     "library": "var_list.py",
     "varRefreshCmd": "print(var_dic_list())"
    },
    "r": {
     "delete_cmd_postfix": ") ",
     "delete_cmd_prefix": "rm(",
     "library": "var_list.r",
     "varRefreshCmd": "cat(var_dic_list()) "
    }
   },
   "types_to_exclude": [
    "module",
    "function",
    "builtin_function_or_method",
    "instance",
    "_Feature"
   ],
   "window_display": false
  }
 },
 "nbformat": 4,
 "nbformat_minor": 5
}
