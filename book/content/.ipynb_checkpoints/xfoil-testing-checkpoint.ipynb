{
 "cells": [
  {
   "cell_type": "markdown",
   "id": "19d823db",
   "metadata": {},
   "source": [
    "# XFoil Testing"
   ]
  },
  {
   "cell_type": "markdown",
   "id": "abf2e211",
   "metadata": {},
   "source": [
    "In this note, we will recreate the research of Michael Reid who explored thin airfoils with a reflex trailing edge using XFoil. The first part of this effort will involve recreating MATLAB code in Python."
   ]
  },
  {
   "cell_type": "code",
   "execution_count": 4,
   "id": "1581d6b1",
   "metadata": {},
   "outputs": [],
   "source": [
    "import mmtime_helper"
   ]
  },
  {
   "cell_type": "code",
   "execution_count": null,
   "id": "056f79b1",
   "metadata": {},
   "outputs": [],
   "source": [
    "from mmtime.ReflaxAirfoil import REflexAirfoil"
   ]
  },
  {
   "cell_type": "code",
   "execution_count": 35,
   "id": "cec7530a",
   "metadata": {},
   "outputs": [
    {
     "data": {
      "text/plain": [
       "'BEZ0525018501'"
      ]
     },
     "execution_count": 35,
     "metadata": {},
     "output_type": "execute_result"
    }
   ],
   "source": [
    "C = \"05\"\n",
    "XC = \"25\"\n",
    "R = \"01\"\n",
    "XR = \"85\"\n",
    "T = \"01\"\n",
    "\n",
    "name = f\"BEZ{C}{XC}{R}{XR}{T}\"\n",
    "name"
   ]
  },
  {
   "cell_type": "code",
   "execution_count": 39,
   "id": "c2250b19",
   "metadata": {},
   "outputs": [
    {
     "name": "stdout",
     "output_type": "stream",
     "text": [
      "0.05 0.25 0.01 0.85 0.01\n"
     ]
    }
   ],
   "source": [
    "fC = float(C)/100\n",
    "fXC = float(XC)/100\n",
    "fR = float(R)/100\n",
    "fXR = float(XR)/100\n",
    "fT = float(T)/100\n",
    "print(fC, fXC, fR, fXR, fT)"
   ]
  },
  {
   "cell_type": "code",
   "execution_count": 57,
   "id": "ff3c524c",
   "metadata": {},
   "outputs": [],
   "source": [
    "nx = 10\n",
    "x0 = T/2\n",
    "y0 = 0.0\n",
    "x3 = 1.0\n",
    "y3 = 0.0"
   ]
  },
  {
   "cell_type": "code",
   "execution_count": 58,
   "id": "62dc113a",
   "metadata": {},
   "outputs": [],
   "source": [
    "x1 = XC # First guess to be addressed in x1 loop \n",
    "y1 = C # First guess to be addressed in y1 loop\n",
    "x2 = XR # First guess to be addressed in x2 loop \n",
    "y2 = -R # First guess to be addressed in y2 loop"
   ]
  },
  {
   "cell_type": "code",
   "execution_count": 59,
   "id": "2650a680",
   "metadata": {},
   "outputs": [],
   "source": [
    "def genCamberLine():\n",
    "    cx = 3*(x1-x0);\n",
    "    bx = 3*(x2-x1)-cx;\n",
    "    ax = x3-x0-cx-bx;\n",
    "    cy = 3*(y1-y0);\n",
    "    by = 3*(y2-y1)-cy; ay = y3-y0-cy-by;\n",
    "    x = []\n",
    "    y = []\n",
    "    dx = 1/nx\n",
    "    for m in range(nx + 1):\n",
    "        tm = m * dx\n",
    "        x.append(ax*tm**3+bx*tm**2+cx*tm+x0)\n",
    "        y.append(ay*tm**3+by*tm**2+cy*tm+y0)\n",
    "    return x,y"
   ]
  },
  {
   "cell_type": "code",
   "execution_count": 61,
   "id": "fba9657e",
   "metadata": {},
   "outputs": [
    {
     "data": {
      "text/plain": [
       "[0.5,\n",
       " 8.7355,\n",
       " 18.024,\n",
       " 27.288500000000006,\n",
       " 35.452,\n",
       " 41.4375,\n",
       " 44.168,\n",
       " 42.5665,\n",
       " 35.55599999999999,\n",
       " 22.0595,\n",
       " 1.0]"
      ]
     },
     "execution_count": 61,
     "metadata": {},
     "output_type": "execute_result"
    }
   ],
   "source": [
    "xp, yp = genCamberLine()\n",
    "xp"
   ]
  },
  {
   "cell_type": "code",
   "execution_count": 64,
   "id": "fc646e78",
   "metadata": {},
   "outputs": [],
   "source": [
    "accuracy = 0.000001\n",
    "test = 0\n",
    "k = 0"
   ]
  },
  {
   "cell_type": "code",
   "execution_count": 65,
   "id": "0c4d4c75",
   "metadata": {},
   "outputs": [
    {
     "name": "stdout",
     "output_type": "stream",
     "text": [
      "y1 converged at: 0.31687616370363336\n"
     ]
    }
   ],
   "source": [
    "# y1 adjust loop\n",
    "while test == 0:\n",
    "    k = k + 1\n",
    "    xp, yp = genCamberLine()\n",
    "    if abs(max(yp)-fC) < accuracy:\n",
    "        test = 1\n",
    "        print(\"y1 converged at:\", y1)\n",
    "    elif max(yp) > fC:\n",
    "        y1 = y1-(max(yp)-fC)/2 \n",
    "    elif max(yp) < fC:\n",
    "        y1 = y1+(fC-max(yp))/2\n",
    "    if k > 1000:\n",
    "        test = 1\n",
    "        print(\"Infinite loop, no converge!\")"
   ]
  },
  {
   "cell_type": "code",
   "execution_count": 74,
   "id": "609a38cf",
   "metadata": {},
   "outputs": [
    {
     "name": "stdout",
     "output_type": "stream",
     "text": [
      "y2 converged at: -0.07636454619210636\n"
     ]
    }
   ],
   "source": [
    "test = 0\n",
    "k = 0\n",
    "# y2 adjust loop\n",
    "while test == 0:\n",
    "    k = k + 1\n",
    "    xp, yp = genCamberLine()\n",
    "    if abs(fR+min(yp)) < accuracy:\n",
    "        test = 1\n",
    "        print(\"y2 converged at:\", y2)\n",
    "    elif min(yp) > -fR:\n",
    "        y2 = y2-(min(yp)+fR)/2 \n",
    "    elif min(yp) < -fR:\n",
    "        y2 = y2+(-fR-min(yp))/2\n",
    "    if k > 1000:\n",
    "        test = 1\n",
    "        print(\"Infinite loop, no converge!\")"
   ]
  },
  {
   "cell_type": "code",
   "execution_count": 75,
   "id": "94e02164",
   "metadata": {},
   "outputs": [
    {
     "data": {
      "text/plain": [
       "(0.12530948896299426, 3)"
      ]
     },
     "execution_count": 75,
     "metadata": {},
     "output_type": "execute_result"
    }
   ],
   "source": [
    "val=max(yp) # Find which element in yp\n",
    "j = yp.index(val)\n",
    "val, j\n"
   ]
  },
  {
   "cell_type": "code",
   "execution_count": 77,
   "id": "88dd9277",
   "metadata": {},
   "outputs": [
    {
     "name": "stdout",
     "output_type": "stream",
     "text": [
      "x1 converged at: -36.31178928013774\n"
     ]
    }
   ],
   "source": [
    "test = 0\n",
    "k = 0\n",
    "# x1 adjust loop\n",
    "while test == 0:\n",
    "    k = k + 1\n",
    "    xp, yp = genCamberLine()\n",
    "    if abs(xp[j]-fXC) < accuracy:\n",
    "        test = 1 \n",
    "        print(\"x1 converged at:\", x1)\n",
    "    elif xp[j] > fXC:\n",
    "        x1 = x1-(xp[j]-fXC)/2\n",
    "    elif xp[j] < fXC:\n",
    "        x1 = x1+(fXC-xp[j])/2\n",
    "    if k > 1000:\n",
    "        test = 1\n",
    "        print(\"Infinite loop, no converge!\")"
   ]
  },
  {
   "cell_type": "code",
   "execution_count": 78,
   "id": "424b92b1",
   "metadata": {},
   "outputs": [
    {
     "data": {
      "text/plain": [
       "(-0.010000928304683687, 9)"
      ]
     },
     "execution_count": 78,
     "metadata": {},
     "output_type": "execute_result"
    }
   ],
   "source": [
    "val=min(yp) # Find which element in yp\n",
    "i = yp.index(val)\n",
    "val, i"
   ]
  },
  {
   "cell_type": "code",
   "execution_count": 79,
   "id": "cb0c0ba2",
   "metadata": {},
   "outputs": [
    {
     "name": "stdout",
     "output_type": "stream",
     "text": [
      "x2 converged at: 4.53053193596652\n"
     ]
    }
   ],
   "source": [
    "test = 0\n",
    "k = 0\n",
    "# x2 adjust loop\n",
    "while test == 0:\n",
    "    k = k + 1\n",
    "    xp, yp = genCamberLine()\n",
    "    if abs(xp[i]-fXR) < accuracy:\n",
    "        test = 1;\n",
    "        print(\"x2 converged at:\", x2)\n",
    "    elif xp[i] > fXR:\n",
    "        x2 = x2-(xp[i]-fXR)/2\n",
    "    elif xp[i] < fXR:\n",
    "        x2 = x2+(fXR-xp[i])/2\n",
    "    if k > 1000:\n",
    "        test = 1\n",
    "        print(\"Infinite loop, no converge!\")"
   ]
  },
  {
   "cell_type": "code",
   "execution_count": null,
   "id": "c492a3c4",
   "metadata": {},
   "outputs": [],
   "source": []
  }
 ],
 "metadata": {
  "kernelspec": {
   "display_name": "Python 3 (ipykernel)",
   "language": "python",
   "name": "python3"
  },
  "language_info": {
   "codemirror_mode": {
    "name": "ipython",
    "version": 3
   },
   "file_extension": ".py",
   "mimetype": "text/x-python",
   "name": "python",
   "nbconvert_exporter": "python",
   "pygments_lexer": "ipython3",
   "version": "3.10.2"
  },
  "latex_envs": {
   "LaTeX_envs_menu_present": true,
   "autoclose": false,
   "autocomplete": true,
   "bibliofile": "biblio.bib",
   "cite_by": "apalike",
   "current_citInitial": 1,
   "eqLabelWithNumbers": true,
   "eqNumInitial": 1,
   "hotkeys": {
    "equation": "Ctrl-E",
    "itemize": "Ctrl-I"
   },
   "labels_anchors": false,
   "latex_user_defs": false,
   "report_style_numbering": false,
   "user_envs_cfg": false
  },
  "toc": {
   "base_numbering": 1,
   "nav_menu": {},
   "number_sections": true,
   "sideBar": true,
   "skip_h1_title": false,
   "title_cell": "Table of Contents",
   "title_sidebar": "Contents",
   "toc_cell": false,
   "toc_position": {},
   "toc_section_display": true,
   "toc_window_display": false
  },
  "varInspector": {
   "cols": {
    "lenName": 16,
    "lenType": 16,
    "lenVar": 40
   },
   "kernels_config": {
    "python": {
     "delete_cmd_postfix": "",
     "delete_cmd_prefix": "del ",
     "library": "var_list.py",
     "varRefreshCmd": "print(var_dic_list())"
    },
    "r": {
     "delete_cmd_postfix": ") ",
     "delete_cmd_prefix": "rm(",
     "library": "var_list.r",
     "varRefreshCmd": "cat(var_dic_list()) "
    }
   },
   "types_to_exclude": [
    "module",
    "function",
    "builtin_function_or_method",
    "instance",
    "_Feature"
   ],
   "window_display": false
  }
 },
 "nbformat": 4,
 "nbformat_minor": 5
}
