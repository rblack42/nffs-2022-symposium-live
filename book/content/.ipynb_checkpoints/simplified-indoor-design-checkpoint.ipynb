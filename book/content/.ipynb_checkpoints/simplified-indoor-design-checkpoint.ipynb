{
 "cells": [
  {
   "cell_type": "markdown",
   "id": "783035af",
   "metadata": {},
   "source": [
    "# Simplified Indoor Design"
   ]
  },
  {
   "cell_type": "markdown",
   "id": "9f5d8620",
   "metadata": {
    "hide_input": false
   },
   "source": [
    "For the rest of this work, we will use a simplified indoor design. The dimensions we use will be derived from Gary Hodson's Wart-A6 design {cite}`hodson2010`."
   ]
  },
  {
   "cell_type": "code",
   "execution_count": 1,
   "id": "5d61447a",
   "metadata": {
    "hide_input": true
   },
   "outputs": [],
   "source": [
    "%reload_ext tikzmagic"
   ]
  },
  {
   "cell_type": "code",
   "execution_count": 2,
   "id": "025e9566",
   "metadata": {
    "hide_input": true,
    "scrolled": true
   },
   "outputs": [
    {
     "data": {
      "image/png": "[encoded data removed]"
     },
     "metadata": {},
     "output_type": "display_data"
    }
   ],
   "source": [
    "%%tikz -l calc\n",
    "\n",
    "% draw axes\n",
    "\n",
    "\\draw[thin,->] (2.5,0.5) -- (2.5,4) node[above]{y};\n",
    "\\draw[thin,->] (2.5,0.5) -- (9.5,0.5) node[right]{x};\n",
    "\n",
    "\\newcommand{\\model}{\n",
    "    % body line\n",
    "    \\draw (0,0) -- (4,0);\n",
    "    %tail boom line\n",
    "    \\draw (4,0) -- (8,0);\n",
    "    \\draw (1,0) -- (1,1.5);\n",
    "    \\draw (3,0) -- (3,1.5);\n",
    "    \n",
    "    % wing\n",
    "    \\draw [ultra thick] (1,1.5) -- (3,1.5);\n",
    "    \\draw (6,0) -- (6,-0.5);\n",
    "    \\draw (8,0) -- (8,-0.5);\n",
    "    \\draw [ultra thick] (8,-0.5) -- (6,-0.5);\n",
    "    \n",
    "    % prop\n",
    "    \\draw (0,-0.375) -- (0,0.125);\n",
    "    \\draw (0,-1.125) ellipse (0.125 and 0.75);\n",
    "    \\draw (0,0.875) ellipse (0.125 and 0.75);\n",
    "    \\draw[thin] (0,-0.125) -- (0.5,-0.125);\n",
    "}\n",
    "\n",
    "\\newcommand{\\wingac}[2] {\n",
    "    \\draw[fill=black] (#1,#2) -- (#1-0.125,#2-0.25) -- (#1, #2-0.25) -- cycle;\n",
    "    \\draw (#1,#2) -- (#1+0.125,#2-0.25) -- (#1, #2-0.25) -- cycle;\n",
    "}\n",
    "\n",
    "\\newcommand{\\cg}[2]{\n",
    "    \\draw [fill=black](#1,#2) -- \n",
    "        ++(+0.125,0) arc (0:90:0.125) -- \n",
    "        ++(0,-0.25) arc (270:180:0.125) -- (#1,#2);%\n",
    "        \\draw (#1,#2) circle (0.125);%\n",
    "}\n",
    "\\model\n",
    "\\wingac{1.5}{1.5}\n",
    "\\wingac{6.5}{-0.5}\n",
    "\\cg{2.5}{0.5}\n",
    "\n",
    "% wing lift and drag\n",
    "\\draw[red,ultra thick,->] (1.5,1.5) -- (1.5,2.5);\n",
    "\\node[above] at (1.5,2.5) {$L_w$};\n",
    "\\draw[red,ultra thick,->] (3,1.5) -- (4,1.5);\n",
    "\\node[right] at (4,1.5) {$D_w$};\n",
    "            \n",
    "% stab lift and drag\n",
    "\\draw[red,ultra thick,->] (6.5,-0.5) -- (6.5,0.5);\n",
    "\\node[above] at (6.5,0.5) {$L_s$};\n",
    "\\draw[red,ultra thick,->] (8,-0.5) -- (9,-0.5);\n",
    "\\node[right] at (9,-0.5) {$D_w$};\n",
    "            \n",
    "% thrust\n",
    "\\draw[red,ultra thick,->] (0,-0.125) -- (-1,-0.125);\n",
    "\\node[left] at (-1,0) {$T$};\n",
    "\\draw[ultra thin] (0,-0.125) -- (0.25,-0.125);\n",
    "            \n",
    "% weight\n",
    "\\draw[red,ultra thick,->] (2.5,0.5) -- (2.5,-0.5);\n",
    "\\node[below] at (2.5,-0.5) {$W$};          "
   ]
  },
  {
   "cell_type": "markdown",
   "id": "5f627afd",
   "metadata": {},
   "source": [
    "This model has a wing and stab offset from the body center line. We also allow for a thrust offset. The center of gravity is marked, together with aerodynamic centers on the wing and stab. These are the points where forces are assumed to act.\n",
    "\n",
    "In order to maintain level flight, all of the applied forces must be balanced. Therefore the lift must equal the weight, the thrust must equal the drag, and here is no tendency to pitch up or down. Our reference point in these calculations is the center of gravity, which is not shown on the Wart plans, but we can figure out the location from other data.  "
   ]
  },
  {
   "cell_type": "markdown",
   "id": "591bdc68",
   "metadata": {},
   "source": [
    "## Locating the Center of Gravity"
   ]
  },
  {
   "cell_type": "markdown",
   "id": "68b403c1",
   "metadata": {},
   "source": [
    "The Wart plans show weights for all of the major model components. We can figure out the center of gravity using those weights and the center of mass location of those parts. OpenSCAD can give us that data directly, but a little geometry will be sufficient here.\n",
    "\n",
    "Here are the weights from the plans:"
   ]
  },
  {
   "cell_type": "code",
   "execution_count": 3,
   "id": "28355855",
   "metadata": {},
   "outputs": [],
   "source": [
    "import pint\n",
    "u = pint.UnitRegistry()"
   ]
  },
  {
   "cell_type": "code",
   "execution_count": 4,
   "id": "ae10ae7e",
   "metadata": {},
   "outputs": [],
   "source": [
    "weights = {\n",
    "    'motor_stick': 0.22*u.grams,\n",
    "    'tail_boom': 0.08*u.grams,\n",
    "    'stab': 0.25*u.grams,\n",
    "    'wing': 0.42*u.grams,\n",
    "    'prop': 0.23*u.grams,\n",
    "    'rubber': 0.86*u.grams\n",
    "}"
   ]
  },
  {
   "cell_type": "markdown",
   "id": "89adfff6",
   "metadata": {},
   "source": [
    "Here is a bit of code that calculates the total weight:"
   ]
  },
  {
   "cell_type": "code",
   "execution_count": 5,
   "id": "e0791398",
   "metadata": {},
   "outputs": [
    {
     "name": "stdout",
     "output_type": "stream",
     "text": [
      "total weight =  2.06 gram\n"
     ]
    }
   ],
   "source": [
    "total_weight = 0\n",
    "for key in weights:\n",
    "    total_weight += weights[key]\n",
    "    \n",
    "print('total weight = ',total_weight)"
   ]
  },
  {
   "cell_type": "markdown",
   "id": "5a5bbf1b",
   "metadata": {},
   "source": [
    "We can estimate the **CG** location by balancing the model, both horizontally, and vertically.\n",
    "\n",
    "The definition of the *center of mass* for a collection of objects is:"
   ]
  },
  {
   "cell_type": "markdown",
   "id": "a0c5687e",
   "metadata": {},
   "source": [
    "\\begin{equation}\n",
    "{cg}_x = \\frac{\\sum^{n}_{i=1}x_i W_i}{\\sum^{n}_{i=1}W_i}\n",
    "\\end{equation}\n",
    "\n",
    "\\begin{equation}\n",
    "{cg}_y = \\frac{\\sum^{n}_{i=1}y_i W_i}{\\sum^{n}_{i=1}W_i}\n",
    "\\end{equation}\n",
    "\n",
    "The reference point for these calculations can be any convenient point. We will use the nose of the motor stick. All dimensions were derived from the plans.\n",
    "\n",
    "(TODO: all of these need to be fixed):"
   ]
  },
  {
   "cell_type": "code",
   "execution_count": 6,
   "id": "bb0f19c2",
   "metadata": {},
   "outputs": [],
   "source": [
    "cg_arms = {\n",
    "    'prop': (0*u.inch,-0.125*u.inch),\n",
    "    'wing': (2.25*u.inch, (7/8)*u.inch),\n",
    "    'stab': ((6+8.5-1)*u.inch,0*u.inch),\n",
    "    'motor_stick': (4*u.inch,0.0625*u.inch),\n",
    "    'tail_boom': (7.0*u.inch,0*u.inch),\n",
    "    'rubber': (3*u.inch,-0.125*u.inch)\n",
    "}"
   ]
  },
  {
   "cell_type": "markdown",
   "id": "cf123b65",
   "metadata": {},
   "source": [
    "Each of these locations is. shown as an **(x,y)** pair. We need both values to locate the **CG** correctly. Yes, it is tedious to add units to the numbers, but the results will justify adding them.\n",
    "\n",
    "Here is code to calculate the cg location:"
   ]
  },
  {
   "cell_type": "code",
   "execution_count": 7,
   "id": "3e0cbd76",
   "metadata": {},
   "outputs": [
    {
     "name": "stdout",
     "output_type": "stream",
     "text": [
      "CG is at (4.048543689320388 inch,0.11893203883495145 inch)\n"
     ]
    }
   ],
   "source": [
    "   def cg(w,a):\n",
    "    x_cg = 0\n",
    "    y_cg = 0\n",
    "    W_sum = 0\n",
    "    for key in w:\n",
    "        x_cg += w[key] * a[key][0]\n",
    "        y_cg += w[key] * a[key][1]\n",
    "        W_sum += w[key]\n",
    "    x_cg = x_cg/W_sum\n",
    "    y_cg = y_cg/W_sum\n",
    "    print(f'CG is at ({x_cg},{y_cg})')\n",
    "        \n",
    "cg(weights, cg_arms)"
   ]
  },
  {
   "cell_type": "markdown",
   "id": "c2d74432",
   "metadata": {},
   "source": [
    "That puts the **CG** slightly behind the tailing edge of the wing. "
   ]
  },
  {
   "cell_type": "markdown",
   "id": "5a54ab74",
   "metadata": {},
   "source": [
    "Before we move on, let's gather some data from the plans and calculate a few area and lengths we will need."
   ]
  },
  {
   "cell_type": "code",
   "execution_count": 8,
   "id": "892edc5c",
   "metadata": {},
   "outputs": [],
   "source": [
    "import math\n",
    "\n",
    "# define basic dimensions from plan\n",
    "wing = {\n",
    "    'center_span': 8 * u.inches,\n",
    "    'center_chord': 2 * u.inches,\n",
    "    'tip_span':3.75 * u.inches,\n",
    "    'tip_chord': 1.75 * u.inches,\n",
    "    'tip_dihedral': 7/8*u.inches,\n",
    "}\n",
    "\n",
    "stab = {\n",
    "    'tip_span': (5 + 7/16) * u.inches,\n",
    "    'center_chord': 1.75 * u.inches,\n",
    "    'tip_chord': 1 * u.inches,\n",
    "    'tip_dihedral': 7/8 * u.inches\n",
    "}\n",
    "\n",
    "## add calculated dimensions needed in later work\n",
    "wing['tip_angle'] = math.atan(wing['tip_dihedral']/wing['tip_span'])\n",
    "stab['tip_angle'] = math.atan(stab['tip_dihedral']/stab['tip_span']/2)\n",
    "wing['projected_area'] = \\\n",
    "    wing['center_span'] * wing['center_chord'] \\\n",
    "     + 2 * (wing['center_chord'] + wing['tip_chord'])/2 *\\\n",
    "    wing['tip_span'] * math.cos(wing['tip_angle'])\n",
    "stab['projected_area'] = 2 * stab['tip_span'] * (stab['center_chord'] \n",
    "                + stab['tip_chord'] )/2\\\n",
    "         * math.cos(stab['tip_angle'])\n",
    "stab['projected_span'] = 2 * stab['tip_span'] * math.cos(stab['tip_angle'])\n",
    "wing['projected_span'] = wing['center_span'] + 2 * \\\n",
    "    wing['tip_span'] * math.cos(wing['tip_angle'])\n",
    "wing['mean_chord'] = wing['projected_area']/wing['projected_span']\n",
    "stab['mean_chord'] = stab['projected_area']/stab['projected_span']\n",
    "stab['te_to_ac'] = 0.75 * stab['mean_chord']\n",
    "wing['te_to_ac'] = 0.75 * wing['mean_chord']"
   ]
  },
  {
   "cell_type": "markdown",
   "id": "e51aeec4",
   "metadata": {},
   "source": [
    "Here is a utility routine to print our the data we have created:"
   ]
  },
  {
   "cell_type": "code",
   "execution_count": 9,
   "id": "2185a9a6",
   "metadata": {},
   "outputs": [],
   "source": [
    "def print_dict(d, title):\n",
    "    print(title)\n",
    "    for key in d:\n",
    "        print(f'\\t{key}: {d[key]}')"
   ]
  },
  {
   "cell_type": "code",
   "execution_count": 10,
   "id": "29343c15",
   "metadata": {},
   "outputs": [
    {
     "name": "stdout",
     "output_type": "stream",
     "text": [
      "wing data\n",
      "\tcenter_span: 8 inch\n",
      "\tcenter_chord: 2 inch\n",
      "\ttip_span: 3.75 inch\n",
      "\ttip_chord: 1.75 inch\n",
      "\ttip_dihedral: 0.875 inch\n",
      "\ttip_angle: 0.22923193327699534\n",
      "\tprojected_area: 29.694642011993967 inch ** 2\n",
      "\tprojected_span: 15.303809073063448 inch\n",
      "\tmean_chord: 1.940343209342576 inch\n",
      "\tte_to_ac: 1.4552574070069322 inch\n",
      "stab_data\n",
      "\ttip_span: 5.4375 inch\n",
      "\tcenter_chord: 1.75 inch\n",
      "\ttip_chord: 1 inch\n",
      "\ttip_dihedral: 0.875 inch\n",
      "\ttip_angle: 0.08028681528301647\n",
      "\tprojected_area: 14.90495716456054 inch ** 2\n",
      "\tprojected_span: 10.83996884695312 inch\n",
      "\tmean_chord: 1.375 inch\n",
      "\tte_to_ac: 1.03125 inch\n"
     ]
    }
   ],
   "source": [
    "print_dict(wing,\"wing data\")\n",
    "print_dict(stab, \"stab_data\")"
   ]
  },
  {
   "cell_type": "markdown",
   "id": "003896a2",
   "metadata": {},
   "source": [
    "## Aerodynamic Centers\n",
    "\n",
    "Flying surfaces generate aerodynamic forces by creating a pressure distribution on their surfaces as they move. We can integrate this pressure distribution to find the total force that will be generated, and locate that force. This point is called the *center of pressure*. Unfortunately, the center of pressure  point varies with angle of attack. For that reason, aerodynamics researchers prefers to use an *aerodynamic center* as the point where forces will be applied. Doing this requires the addition of a moment force to ensure that the total force are correct. The aerodynamic center is commonly set at 1/4 of the mean chord of each surface. \n",
    "\n",
    "The mean chord is found using:\n",
    "\n",
    "\\begin{equation}\n",
    "c_m = S / b\n",
    "\\end{equation}\n",
    "\n",
    "Where $S$ is the projected surface area, and $b$ is the projected span."
   ]
  },
  {
   "cell_type": "markdown",
   "id": "713c93ad",
   "metadata": {},
   "source": [
    "## estimating Lift"
   ]
  },
  {
   "cell_type": "code",
   "execution_count": 22,
   "id": "db2ea61e",
   "metadata": {},
   "outputs": [],
   "source": [
    "arms = {\n",
    "    'thrust': (-2.5 * u.inch, -0.125*u.inch),\n",
    "    'weight': (0*u.inch,0*u.inch),\n",
    "    'wing_ac': (-1*u.inch,1*u.inch),\n",
    "    'stab_ac': (4*u.inch,-1*u.inch),\n",
    "}"
   ]
  },
  {
   "cell_type": "code",
   "execution_count": 9,
   "id": "35cb192d",
   "metadata": {},
   "outputs": [],
   "source": [
    "forces = {\n",
    "    'thrust': 0.05*u.grams,\n",
    "    'weight': 2.06*u.grams,\n",
    "    'lift_wing': 1.5*u.grams,\n",
    "    'drag_wing': 0.03*u.grams,\n",
    "    'lift_stab': -0.4*u.grams,\n",
    "    'drag_stab': 0.015*u.grams\n",
    "}"
   ]
  },
  {
   "cell_type": "markdown",
   "id": "523d38a7",
   "metadata": {},
   "source": [
    "We can now write a simple function that determines the moment around the **CG** for given values of the various terms. To simplify this function, we will create a Python dictionary holding the values.\n",
    "\n",
    "It should be apparent that all six force vectors need to be considered, since none of them (except weight) align with the center of gravity. "
   ]
  },
  {
   "cell_type": "code",
   "execution_count": 12,
   "id": "3c77a75d",
   "metadata": {},
   "outputs": [],
   "source": [
    "def moment(a,f, debug=False):\n",
    "    \n",
    "    # thrust moment\n",
    "    ta = a['thrust'][1] # y \n",
    "    tf = f['thrust']\n",
    "    tm = ta * tf\n",
    "    if debug:\n",
    "        print(\"Thrust moment:\",tm)\n",
    "    # weight  - no moment, but we will calculate it anyway\n",
    "    wa = a['weight'][0]\n",
    "    wf = f['weight']\n",
    "    wm = wa * wf\n",
    "    if debug:\n",
    "        print(\"Weight moment:\",wm)\n",
    "    \n",
    "    # wing lift moment\n",
    "    wla = a['wing_ac'][0]\n",
    "    wlf = f['lift_wing']\n",
    "    wlm = wla * wlf\n",
    "    if debug:\n",
    "        print(\"Wing lift moment:\",wlm)\n",
    "    \n",
    "    # wing drag moment\n",
    "    wda = a['wing_ac'][1]\n",
    "    wdf = f['drag_wing']\n",
    "    wdm = wda * wdf\n",
    "    if debug:\n",
    "        print(\"Wing drag moment:\",wdm)    \n",
    "    \n",
    "    # stab lift moment\n",
    "    sla = a['stab_ac'][0]\n",
    "    slf = f['lift_stab']\n",
    "    slm = sla * slf\n",
    "    if debug:\n",
    "        print(\"Stab lift moment:\",slm)    \n",
    "    \n",
    "    # stab drag moment\n",
    "    sda = a['stab_ac'][1]\n",
    "    sdf = f['drag_stab']\n",
    "    sdm = sda * sdf \n",
    "    if debug:\n",
    "        print(\"Stab drag moment:\",sdm)\n",
    "        \n",
    "    total_moment = tm + wm + wlm + wdm + slm + sdm \n",
    "    print('total moment =',total_moment)\n"
   ]
  },
  {
   "cell_type": "code",
   "execution_count": 13,
   "id": "b2de6f13",
   "metadata": {},
   "outputs": [
    {
     "name": "stdout",
     "output_type": "stream",
     "text": [
      "Thrust moment: -0.00625 gram * inch\n",
      "Weight moment: 0.0 gram * inch\n",
      "Wing lift moment: -1.5 gram * inch\n",
      "Wing drag moment: 0.03 gram * inch\n",
      "Stab lift moment: -1.6 gram * inch\n",
      "Stab drag moment: -0.015 gram * inch\n",
      "total moment = -3.09125 gram * inch\n"
     ]
    }
   ],
   "source": [
    "moment(arms, forces, debug=True)"
   ]
  },
  {
   "cell_type": "markdown",
   "id": "ead3048a",
   "metadata": {},
   "source": [
    "By convention, a positive moment pitched the node up. So this one is going to fly about like many of my  first flights!\n",
    "\n",
    "For stable level flight, the total moment needs to be zero. Obviously, I threw in random values here, and our goal is to produce all of these numbers from our design and a little help from aerodynamics theory.\n",
    "\n",
    "The nice thing about using code to help us make these calculations is that we can run parametric tests and see results quickly, We will use that fact later."
   ]
  },
  {
   "cell_type": "markdown",
   "id": "73300f81",
   "metadata": {},
   "source": [
    "## Aerodynamic forces\n",
    "\n",
    "The forces generated by the wing and stab depend on the airfoils we use and the actual flight conditions. Since most builder's use simple circular arc airfoils, I went in search of data on common thicknesses. The Wart uses a 4% arc on the wing, and a 2% arc on the stab. Of course, I could not find any usable data for those airfoils, but I did find data for a 6% and a 3% arch airfoils that will at least let us begin this development."
   ]
  },
  {
   "cell_type": "markdown",
   "id": "7c747006",
   "metadata": {},
   "source": [
    "The lift and drag forces will be calculated using the definitions of the lift and drag coefficients:\n",
    "    \n",
    "\\begin{equation}\n",
    "C_l = \\frac{2L}{\\rho u^2 S}\n",
    "\\end{equation}\n",
    "\n",
    "or\n",
    "\n",
    "\\begin{equation}\n",
    "L = \\frac{1}{2}\\rho u^2 C_l S\n",
    "\\end{equation}\n",
    "\n",
    "In these equations, **L** and **D** are the lift forces, **S** is the surface area of the wing or stab, $\\rho$ is the air density and **u** is the flight velocity. \n",
    "\n",
    "Similarly:\n",
    "\n",
    "\\begin{equation}\n",
    "D = \\frac{1}{2}\\rho u^2 C_d S\n",
    "\\end{equation}\n",
    "\n",
    "Formally, we should also include the moment coefficient, which accounts for the center of pressure not falling exactly at the aerodynamic center\n",
    "\n",
    "\\begin{equation}\n",
    "M = \\frac{1}{2}\\rho u^2 C_n S c\n",
    "\\end{equation}\n",
    "\n",
    "Where **c** is the mean chord.\n",
    "\n",
    "For testing purposes, we will use these values for density and velocity:\n",
    "\n"
   ]
  },
  {
   "cell_type": "code",
   "execution_count": 100,
   "id": "5aa72f40",
   "metadata": {},
   "outputs": [
    {
     "name": "stdout",
     "output_type": "stream",
     "text": [
      "density: 0.00231683 slug / foot ** 3\n",
      "dynamic_viscosity: 1.80338e-05 pascal * second\n",
      "velocity: 2.0 mile_per_hour\n",
      "kinematic_viscosity: 0.007783825313035483 foot ** 3 * pascal * second / slug\n",
      "q: 0.00463366 mile_per_hour ** 2 * slug / foot ** 3\n",
      "wing_re: 498.557747973379 inch * mile_per_hour * slug / foot ** 3 / pascal / second\n",
      "stab_re: 353.29672614756737 inch * mile_per_hour * slug / foot ** 3 / pascal / second\n"
     ]
    }
   ],
   "source": [
    "flight = {\n",
    "    'density': 0.00231683 *u.slugs/u.ft**3,\n",
    "    'dynamic_viscosity': 0.0000180338 * u.pascal * u.second,\n",
    "    'velocity': 2.0 * u.mph\n",
    "}\n",
    "flight['kinematic_viscosity'] = flight['dynamic_viscosity']/flight['density']\n",
    "flight['q'] = 0.5* (flight['density'] * flight['velocity'] ** 2)\n",
    "flight['wing_re'] = flight['density'] * flight['velocity'] * wing['mean_chord'] / flight['dynamic_viscosity']\n",
    "flight['stab_re'] = flight['density'] * flight['velocity'] * stab['mean_chord'] / flight['dynamic_viscosity']\n",
    "\n",
    "print_dict(flight,\"Atmosphere Properties\")"
   ]
  },
  {
   "cell_type": "code",
   "execution_count": 102,
   "id": "f0f1dedc",
   "metadata": {},
   "outputs": [
    {
     "data": {
      "text/html": [
       "2917.575722064471 dimensionless"
      ],
      "text/latex": [
       "$2917.575722064471\\ dimensionless$"
      ],
      "text/plain": [
       "2917.575722064471 <Unit('dimensionless')>"
      ]
     },
     "execution_count": 102,
     "metadata": {},
     "output_type": "execute_result"
    }
   ],
   "source": [
    "wing_re = flight['wing_re'].to_base_units()\n",
    "wing_re"
   ]
  },
  {
   "cell_type": "code",
   "execution_count": 104,
   "id": "33d30c1a",
   "metadata": {},
   "outputs": [
    {
     "data": {
      "text/html": [
       "2067.5036243705945 dimensionless"
      ],
      "text/latex": [
       "$2067.5036243705945\\ dimensionless$"
      ],
      "text/plain": [
       "2067.5036243705945 <Unit('dimensionless')>"
      ]
     },
     "execution_count": 104,
     "metadata": {},
     "output_type": "execute_result"
    }
   ],
   "source": [
    "stab_re = flight['stab_re'].to_base_units()\n",
    "stab_re"
   ]
  },
  {
   "cell_type": "markdown",
   "id": "da663f42",
   "metadata": {},
   "source": [
    "Getting airfoil data for these Reynolds Numbers is not easy. McLean arbitrarily used a $C_lw$ of 1.0, and calculated the required $C_ls$ to balance moments. He used pitching moment coefficient values of -0.10 and -0.05 for the wing and stab.He did not include any other forces. \n",
    "\n",
    "Rather than just use these numbers, we will use the most basic theories of aerodynamics to estimate the coefficients. \n",
    "\n",
    "*Thin Airfoil Theory*, is often used as a first approximation for calculating lift and pitching moment data. If we use *Prandtl's Lifting Line Theory* we can get an approximation for the induced drag, and profile drag which together as the major sources of drag at low speeds.\n",
    "\n",
    "we can estimate the $C_d$ values by examining typical lift/drag curves. \n"
   ]
  }
 ],
 "metadata": {
  "kernelspec": {
   "display_name": "Python 3 (ipykernel)",
   "language": "python",
   "name": "python3"
  },
  "language_info": {
   "codemirror_mode": {
    "name": "ipython",
    "version": 3
   },
   "file_extension": ".py",
   "mimetype": "text/x-python",
   "name": "python",
   "nbconvert_exporter": "python",
   "pygments_lexer": "ipython3",
   "version": "3.9.9"
  },
  "latex_envs": {
   "LaTeX_envs_menu_present": true,
   "autoclose": false,
   "autocomplete": true,
   "bibliofile": "biblio.bib",
   "cite_by": "apalike",
   "current_citInitial": 1,
   "eqLabelWithNumbers": true,
   "eqNumInitial": 1,
   "hotkeys": {
    "equation": "Ctrl-E",
    "itemize": "Ctrl-I"
   },
   "labels_anchors": false,
   "latex_user_defs": false,
   "report_style_numbering": false,
   "user_envs_cfg": false
  },
  "toc": {
   "base_numbering": 1,
   "nav_menu": {},
   "number_sections": true,
   "sideBar": true,
   "skip_h1_title": false,
   "title_cell": "Table of Contents",
   "title_sidebar": "Contents",
   "toc_cell": false,
   "toc_position": {},
   "toc_section_display": true,
   "toc_window_display": false
  },
  "varInspector": {
   "cols": {
    "lenName": 16,
    "lenType": 16,
    "lenVar": 40
   },
   "kernels_config": {
    "python": {
     "delete_cmd_postfix": "",
     "delete_cmd_prefix": "del ",
     "library": "var_list.py",
     "varRefreshCmd": "print(var_dic_list())"
    },
    "r": {
     "delete_cmd_postfix": ") ",
     "delete_cmd_prefix": "rm(",
     "library": "var_list.r",
     "varRefreshCmd": "cat(var_dic_list()) "
    }
   },
   "types_to_exclude": [
    "module",
    "function",
    "builtin_function_or_method",
    "instance",
    "_Feature"
   ],
   "window_display": false
  }
 },
 "nbformat": 4,
 "nbformat_minor": 5
}
