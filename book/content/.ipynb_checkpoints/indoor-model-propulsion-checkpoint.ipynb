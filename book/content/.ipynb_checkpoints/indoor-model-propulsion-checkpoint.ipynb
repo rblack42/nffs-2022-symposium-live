{
 "cells": [
  {
   "cell_type": "markdown",
   "id": "9ffdc24b",
   "metadata": {},
   "source": [
    "   # Power Calculations"
   ]
  },
  {
   "cell_type": "markdown",
   "id": "15d4955a",
   "metadata": {},
   "source": [
    "The power needed to maintain level flight can be found by balancing lit against weight and thrust against drag. In htis development, we are considering total lift and drag. Let's work through the equations:"
   ]
  },
  {
   "cell_type": "code",
   "execution_count": 1,
   "id": "33aaf4d1",
   "metadata": {},
   "outputs": [],
   "source": [
    "import sympy"
   ]
  },
  {
   "cell_type": "code",
   "execution_count": 2,
   "id": "7fe9c050",
   "metadata": {},
   "outputs": [],
   "source": [
    "D, u = sympy.symbols('D u')"
   ]
  },
  {
   "cell_type": "code",
   "execution_count": 3,
   "id": "212e2208",
   "metadata": {},
   "outputs": [],
   "source": [
    "power = D * u"
   ]
  },
  {
   "cell_type": "code",
   "execution_count": 4,
   "id": "c7e98099",
   "metadata": {},
   "outputs": [],
   "source": [
    "rho, S, CL, CD = sympy.symbols('rho S CL CD')"
   ]
  },
  {
   "cell_type": "code",
   "execution_count": 5,
   "id": "e590328f",
   "metadata": {},
   "outputs": [],
   "source": [
    "q = rho * u**2/2"
   ]
  },
  {
   "cell_type": "code",
   "execution_count": 7,
   "id": "5f70b9f3",
   "metadata": {},
   "outputs": [],
   "source": [
    "power = power.subs(D, q * S * CD)"
   ]
  },
  {
   "cell_type": "code",
   "execution_count": 8,
   "id": "dbc4eac0",
   "metadata": {},
   "outputs": [
    {
     "data": {
      "text/latex": [
       "$\\displaystyle \\frac{CD S \\rho u^{3}}{2}$"
      ],
      "text/plain": [
       "CD*S*rho*u**3/2"
      ]
     },
     "execution_count": 8,
     "metadata": {},
     "output_type": "execute_result"
    }
   ],
   "source": [
    "power"
   ]
  },
  {
   "cell_type": "code",
   "execution_count": 9,
   "id": "33a51abd",
   "metadata": {},
   "outputs": [
    {
     "data": {
      "text/latex": [
       "$\\displaystyle \\frac{CD S \\rho u^{3}}{2}$"
      ],
      "text/plain": [
       "CD*S*rho*u**3/2"
      ]
     },
     "execution_count": 9,
     "metadata": {},
     "output_type": "execute_result"
    }
   ],
   "source": [
    "power.simplify()"
   ]
  },
  {
   "cell_type": "code",
   "execution_count": 10,
   "id": "3b2c5342",
   "metadata": {},
   "outputs": [],
   "source": [
    "w = sympy.symbols('w')"
   ]
  },
  {
   "cell_type": "code",
   "execution_count": 11,
   "id": "d48a18fe",
   "metadata": {},
   "outputs": [],
   "source": [
    "U = sympy.sqrt(2*w/(rho*CL*S))"
   ]
  },
  {
   "cell_type": "code",
   "execution_count": 12,
   "id": "97c61aec",
   "metadata": {},
   "outputs": [],
   "source": [
    "P = power.subs(u,U)"
   ]
  },
  {
   "cell_type": "code",
   "execution_count": 19,
   "id": "89538944",
   "metadata": {},
   "outputs": [
    {
     "data": {
      "text/latex": [
       "$\\displaystyle \\sqrt{2} CD S \\rho \\left(\\frac{w}{CL S \\rho}\\right)^{\\frac{3}{2}}$"
      ],
      "text/plain": [
       "sqrt(2)*CD*S*rho*(w/(CL*S*rho))**(3/2)"
      ]
     },
     "execution_count": 19,
     "metadata": {},
     "output_type": "execute_result"
    }
   ],
   "source": [
    "P"
   ]
  },
  {
   "cell_type": "code",
   "execution_count": 20,
   "id": "3f8c36e1",
   "metadata": {},
   "outputs": [],
   "source": [
    "Km, wm = sympy.symbols('Km wm')"
   ]
  },
  {
   "cell_type": "code",
   "execution_count": 21,
   "id": "79d900f1",
   "metadata": {},
   "outputs": [],
   "source": [
    "E = Km * wm"
   ]
  },
  {
   "cell_type": "code",
   "execution_count": 40,
   "id": "d7cd5ba5",
   "metadata": {},
   "outputs": [
    {
     "data": {
      "text/latex": [
       "$\\displaystyle \\frac{\\sqrt{2} Km wm}{2 CD S \\rho \\left(\\frac{w}{CL S \\rho}\\right)^{\\frac{3}{2}}}$"
      ],
      "text/plain": [
       "sqrt(2)*Km*wm/(2*CD*S*rho*(w/(CL*S*rho))**(3/2))"
      ]
     },
     "execution_count": 40,
     "metadata": {},
     "output_type": "execute_result"
    }
   ],
   "source": [
    "EoP = E / P\n",
    "EoP.ratsimp()"
   ]
  },
  {
   "cell_type": "code",
   "execution_count": 31,
   "id": "6c0f031a",
   "metadata": {},
   "outputs": [],
   "source": [
    "EoP2 = Km * sympy.sqrt(rho/2)*sympy.sqrt(S/w)*CL**1.5/CD * wm/w"
   ]
  },
  {
   "cell_type": "code",
   "execution_count": 39,
   "id": "8c43d27a",
   "metadata": {},
   "outputs": [
    {
     "data": {
      "text/latex": [
       "$\\displaystyle \\frac{\\sqrt{2} CL^{1.5} Km \\sqrt{\\rho} wm \\sqrt{\\frac{S}{w}}}{2 CD w}$"
      ],
      "text/plain": [
       "sqrt(2)*CL**1.5*Km*sqrt(rho)*wm*sqrt(S/w)/(2*CD*w)"
      ]
     },
     "execution_count": 39,
     "metadata": {},
     "output_type": "execute_result"
    }
   ],
   "source": [
    "EoP2.ratsimp()"
   ]
  },
  {
   "cell_type": "code",
   "execution_count": 36,
   "id": "ac841218",
   "metadata": {},
   "outputs": [],
   "source": [
    "e3 = EoP/EoP2"
   ]
  },
  {
   "cell_type": "code",
   "execution_count": 56,
   "id": "2eb2fd63",
   "metadata": {},
   "outputs": [],
   "source": [
    "e4 = w/e3"
   ]
  },
  {
   "cell_type": "code",
   "execution_count": 57,
   "id": "0f311939",
   "metadata": {},
   "outputs": [
    {
     "data": {
      "text/latex": [
       "$\\displaystyle CL^{1.5} S \\rho^{\\frac{3}{2}} \\sqrt{\\frac{S}{w}} \\left(\\frac{w}{CL S \\rho}\\right)^{\\frac{3}{2}}$"
      ],
      "text/plain": [
       "CL**1.5*S*rho**(3/2)*sqrt(S/w)*(w/(CL*S*rho))**(3/2)"
      ]
     },
     "execution_count": 57,
     "metadata": {},
     "output_type": "execute_result"
    }
   ],
   "source": [
    "e4.simplify()"
   ]
  },
  {
   "cell_type": "code",
   "execution_count": 62,
   "id": "91487c1f",
   "metadata": {},
   "outputs": [],
   "source": [
    "e5 = sympy.cse(e4)"
   ]
  },
  {
   "cell_type": "markdown",
   "id": "26784e46",
   "metadata": {},
   "source": [
    "##### "
   ]
  }
 ],
 "metadata": {
  "kernelspec": {
   "display_name": "Python 3 (ipykernel)",
   "language": "python",
   "name": "python3"
  },
  "language_info": {
   "codemirror_mode": {
    "name": "ipython",
    "version": 3
   },
   "file_extension": ".py",
   "mimetype": "text/x-python",
   "name": "python",
   "nbconvert_exporter": "python",
   "pygments_lexer": "ipython3",
   "version": "3.9.9"
  },
  "latex_envs": {
   "LaTeX_envs_menu_present": true,
   "autoclose": false,
   "autocomplete": true,
   "bibliofile": "biblio.bib",
   "cite_by": "apalike",
   "current_citInitial": 1,
   "eqLabelWithNumbers": true,
   "eqNumInitial": 1,
   "hotkeys": {
    "equation": "Ctrl-E",
    "itemize": "Ctrl-I"
   },
   "labels_anchors": false,
   "latex_user_defs": false,
   "report_style_numbering": false,
   "user_envs_cfg": false
  },
  "toc": {
   "base_numbering": 1,
   "nav_menu": {},
   "number_sections": true,
   "sideBar": true,
   "skip_h1_title": false,
   "title_cell": "Table of Contents",
   "title_sidebar": "Contents",
   "toc_cell": false,
   "toc_position": {},
   "toc_section_display": true,
   "toc_window_display": false
  },
  "varInspector": {
   "cols": {
    "lenName": 16,
    "lenType": 16,
    "lenVar": 40
   },
   "kernels_config": {
    "python": {
     "delete_cmd_postfix": "",
     "delete_cmd_prefix": "del ",
     "library": "var_list.py",
     "varRefreshCmd": "print(var_dic_list())"
    },
    "r": {
     "delete_cmd_postfix": ") ",
     "delete_cmd_prefix": "rm(",
     "library": "var_list.r",
     "varRefreshCmd": "cat(var_dic_list()) "
    }
   },
   "types_to_exclude": [
    "module",
    "function",
    "builtin_function_or_method",
    "instance",
    "_Feature"
   ],
   "window_display": false
  }
 },
 "nbformat": 4,
 "nbformat_minor": 5
}
