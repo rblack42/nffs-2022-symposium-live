{
 "cells": [
  {
   "cell_type": "markdown",
   "id": "1316312d",
   "metadata": {},
   "source": [
    "# Simplex Airfoils"
   ]
  },
  {
   "cell_type": "code",
   "execution_count": 301,
   "id": "eba1bd87",
   "metadata": {},
   "outputs": [],
   "source": [
    "import matplotlib.pyplot as plt"
   ]
  },
  {
   "cell_type": "code",
   "execution_count": 302,
   "id": "74dd3638",
   "metadata": {},
   "outputs": [],
   "source": [
    "import numpy as np\n",
    "import math"
   ]
  },
  {
   "cell_type": "code",
   "execution_count": 335,
   "id": "b9fa06af",
   "metadata": {},
   "outputs": [],
   "source": [
    "def spiralPoints(psi):\n",
    "    theta_ = np.linspace(-90, 0, 181)\n",
    "    A_ = theta_ * math.pi/180.0\n",
    "    psi_r = psi * math.pi/180\n",
    "    b = 1.0/math.tan(psi_r)\n",
    "    r = a * np.exp(b * A_)\n",
    "    x = r * np.cos(A_)\n",
    "    y = r * np.sin(-A_)\n",
    "    return x,y"
   ]
  },
  {
   "cell_type": "code",
   "execution_count": 336,
   "id": "4bfb63e4",
   "metadata": {},
   "outputs": [
    {
     "data": {
      "image/png": "[encoded data removed]",
      "text/plain": [
       "<Figure size 360x72 with 1 Axes>"
      ]
     },
     "metadata": {
      "needs_background": "light"
     },
     "output_type": "display_data"
    }
   ],
   "source": [
    "xp, yp = spiralPoints(10)\n",
    "f = plt.figure()\n",
    "f.set_figwidth(5)\n",
    "f.set_figheight(1)\n",
    "plt.plot(xp,yp)\n",
    "plt.ylim(top=0.2, bottom = 0)\n",
    "plt.xlim(left=0,right=1)\n",
    "plt.show()"
   ]
  },
  {
   "cell_type": "code",
   "execution_count": 337,
   "id": "168a881f",
   "metadata": {},
   "outputs": [
    {
     "data": {
      "text/plain": [
       "0.06453488170434697"
      ]
     },
     "execution_count": 337,
     "metadata": {},
     "output_type": "execute_result"
    }
   ],
   "source": [
    "ymax = max(yp)\n",
    "ymax"
   ]
  },
  {
   "cell_type": "code",
   "execution_count": 338,
   "id": "3d4f52da",
   "metadata": {},
   "outputs": [
    {
     "data": {
      "image/png": "[encoded data removed]",
      "text/plain": [
       "<Figure size 432x288 with 1 Axes>"
      ]
     },
     "metadata": {
      "needs_background": "light"
     },
     "output_type": "display_data"
    }
   ],
   "source": [
    "pa = np.linspace(1,15,16)\n",
    "c = []\n",
    "for p in pa:\n",
    "    xp, yp = spiralPoints(p)\n",
    "    c.append(max(yp))\n",
    "plt.plot(pa,c)\n",
    "plt.show()"
   ]
  },
  {
   "cell_type": "code",
   "execution_count": 339,
   "id": "916dc41c",
   "metadata": {},
   "outputs": [
    {
     "name": "stdout",
     "output_type": "stream",
     "text": [
      "0.00598747364773689\n",
      "0.005985876647903222\n",
      "0.005989502074112165\n",
      "0.006003784878815241\n",
      "0.00603963392032774\n",
      "0.006038364201469297\n",
      "0.006042988102227163\n",
      "0.006051547813256397\n",
      "0.00606310157339654\n",
      "0.006077155335675606\n",
      "0.006093434092077549\n",
      "0.006124734561265985\n",
      "0.00614778195222794\n",
      "0.006167942440369792\n",
      "0.0061904194422619935\n"
     ]
    }
   ],
   "source": [
    "for i in range(len(c)-1):\n",
    "    print(c[i+1]-c[i])"
   ]
  },
  {
   "cell_type": "markdown",
   "id": "f884abcb",
   "metadata": {},
   "source": [
    "This looks pretty close to linear, so we can use the slope of the line to find the value of $psi$ needed for some camber:"
   ]
  },
  {
   "cell_type": "code",
   "execution_count": 340,
   "id": "d38e6668",
   "metadata": {},
   "outputs": [
    {
     "name": "stdout",
     "output_type": "stream",
     "text": [
      "153.839830043341 0.00642103349360266 1.0\n"
     ]
    }
   ],
   "source": [
    "dpdc = (pa[-1] - pa[0])/(c[-1] - c[0])\n",
    "dpdc\n",
    "print(dpdc, c[0], pa[0])"
   ]
  },
  {
   "cell_type": "markdown",
   "id": "107d7949",
   "metadata": {},
   "source": [
    "Here is a routine that returns the vales of $\\psi$ needed to return a specified camber )as a percentage_"
   ]
  },
  {
   "cell_type": "code",
   "execution_count": 349,
   "id": "ad46c2af",
   "metadata": {},
   "outputs": [
    {
     "data": {
      "text/plain": [
       "6.165782500375207"
      ]
     },
     "execution_count": 349,
     "metadata": {},
     "output_type": "execute_result"
    }
   ],
   "source": [
    "def c_to_psi(camber):\n",
    "    dpdc = 153.839830043341 \n",
    "    c0 = 0.00642103349360266\n",
    "    return 1 + (camber/100 - c0) * dpdc\n",
    "\n",
    "p = c_to_psi(4)\n",
    "p"
   ]
  },
  {
   "cell_type": "code",
   "execution_count": 350,
   "id": "83f9e22b",
   "metadata": {},
   "outputs": [],
   "source": [
    "xp, yp = spiralPoints(p)"
   ]
  },
  {
   "cell_type": "code",
   "execution_count": 351,
   "id": "138500b4",
   "metadata": {},
   "outputs": [
    {
     "data": {
      "text/plain": [
       "0.03965060580158053"
      ]
     },
     "execution_count": 351,
     "metadata": {},
     "output_type": "execute_result"
    }
   ],
   "source": [
    "max(yp)"
   ]
  },
  {
   "cell_type": "code",
   "execution_count": 353,
   "id": "5349a715",
   "metadata": {},
   "outputs": [],
   "source": [
    "def simplexPoints(camber):\n",
    "    dpdc = 153.839830043341 \n",
    "    c0 = 0.00642103349360266\n",
    "    psi = 1 + (camber/100 - c0) * dpdc\n",
    "    theta_ = np.linspace(-90, 0, 181)\n",
    "    A_ = theta_ * math.pi/180.0\n",
    "    psi_r = psi * math.pi/180\n",
    "    b = 1.0/math.tan(psi_r)\n",
    "    r = a * np.exp(b * A_)\n",
    "    x = r * np.cos(A_)\n",
    "    y = r * np.sin(-A_)\n",
    "    return x,y"
   ]
  },
  {
   "cell_type": "code",
   "execution_count": 354,
   "id": "84b6f0f7",
   "metadata": {},
   "outputs": [
    {
     "data": {
      "image/png": "[encoded data removed]",
      "text/plain": [
       "<Figure size 360x72 with 1 Axes>"
      ]
     },
     "metadata": {
      "needs_background": "light"
     },
     "output_type": "display_data"
    }
   ],
   "source": [
    "xp, yp = simplexPoints(4)\n",
    "f = plt.figure()\n",
    "f.set_figwidth(5)\n",
    "f.set_figheight(1)\n",
    "plt.plot(xp,yp)\n",
    "plt.ylim(top=0.2, bottom = 0)\n",
    "plt.xlim(left=0,right=1)\n",
    "plt.show()"
   ]
  },
  {
   "cell_type": "code",
   "execution_count": 355,
   "id": "b477b7dd",
   "metadata": {},
   "outputs": [
    {
     "data": {
      "text/plain": [
       "0.03965060580158053"
      ]
     },
     "execution_count": 355,
     "metadata": {},
     "output_type": "execute_result"
    }
   ],
   "source": [
    "max(yp)"
   ]
  },
  {
   "cell_type": "markdown",
   "id": "34134149",
   "metadata": {},
   "source": [
    "close enough!"
   ]
  }
 ],
 "metadata": {
  "kernelspec": {
   "display_name": "Python 3 (ipykernel)",
   "language": "python",
   "name": "python3"
  },
  "language_info": {
   "codemirror_mode": {
    "name": "ipython",
    "version": 3
   },
   "file_extension": ".py",
   "mimetype": "text/x-python",
   "name": "python",
   "nbconvert_exporter": "python",
   "pygments_lexer": "ipython3",
   "version": "3.10.2"
  },
  "latex_envs": {
   "LaTeX_envs_menu_present": true,
   "autoclose": false,
   "autocomplete": true,
   "bibliofile": "biblio.bib",
   "cite_by": "apalike",
   "current_citInitial": 1,
   "eqLabelWithNumbers": true,
   "eqNumInitial": 1,
   "hotkeys": {
    "equation": "Ctrl-E",
    "itemize": "Ctrl-I"
   },
   "labels_anchors": false,
   "latex_user_defs": false,
   "report_style_numbering": false,
   "user_envs_cfg": false
  },
  "toc": {
   "base_numbering": 1,
   "nav_menu": {},
   "number_sections": true,
   "sideBar": true,
   "skip_h1_title": false,
   "title_cell": "Table of Contents",
   "title_sidebar": "Contents",
   "toc_cell": false,
   "toc_position": {},
   "toc_section_display": true,
   "toc_window_display": false
  },
  "varInspector": {
   "cols": {
    "lenName": 16,
    "lenType": 16,
    "lenVar": 40
   },
   "kernels_config": {
    "python": {
     "delete_cmd_postfix": "",
     "delete_cmd_prefix": "del ",
     "library": "var_list.py",
     "varRefreshCmd": "print(var_dic_list())"
    },
    "r": {
     "delete_cmd_postfix": ") ",
     "delete_cmd_prefix": "rm(",
     "library": "var_list.r",
     "varRefreshCmd": "cat(var_dic_list()) "
    }
   },
   "types_to_exclude": [
    "module",
    "function",
    "builtin_function_or_method",
    "instance",
    "_Feature"
   ],
   "window_display": false
  }
 },
 "nbformat": 4,
 "nbformat_minor": 5
}
