{
 "cells": [
  {
   "cell_type": "markdown",
   "id": "fb835e5b",
   "metadata": {},
   "source": [
    "# McLean's Method\n",
    "\n",
    "We hqve enough background now to begin a look at McLean's technique for estimating indoor model flight time. In this section, we will walk through his development and see what we can produce \n",
    "Doug McLean wrote an article in the 1976 issue of the NFFS Symposium {cite}`mclean` that worked through a method for estimating indoor flight times. However his method was purely manual, not what I was after. I decided to use his article as the basis for writing my own code in *Python*. What follows is a walk through Doug's method and an explanation of how I created code to make his technique more user friendly."
   ]
  },
  {
   "cell_type": "markdown",
   "id": "6ee76b35",
   "metadata": {},
   "source": [
    "Doug starts off with a simple assumption. The total flight time is defined as a function of the energy available in the rubber motor divided by the power needed to maintain level flight.\n",
    "\n",
    "\\begin{equation}\n",
    "t = \\eta_{av} E / P\n",
    "\\end{equation}"
   ]
  },
  {
   "cell_type": "markdown",
   "id": "c128b149",
   "metadata": {},
   "source": [
    "In this equation, $\\eta_{av}$ is a term related to the efficiency of the propeller. McLean defines it as follows:\n",
    "    \n",
    "\\begin{equation}\n",
    "\\eta_{av} = F \\eta_p\n",
    "\\end{equation}\n",
    "    \n",
    "$\\eta_p$ is the theoretical propeller efficiency, **F** is a fudge factor derived from a study of actual model flight times."
   ]
  },
  {
   "cell_type": "markdown",
   "id": "b243283d",
   "metadata": {},
   "source": [
    "## Available Energy"
   ]
  },
  {
   "cell_type": "markdown",
   "id": "ad888b4e",
   "metadata": {},
   "source": [
    "To determine the amount of energy availble in a flight, McLean turned to an an article by Max Hacklinger {cite}`hacklinger`. Hacklinger conducted both experimental and theoretical research into indoor model flight and determined that the energy available in indoor rubber motors was approximately just a function of motor weight. He came up with this equation:\n",
    "\n",
    "\\begin{equation}\n",
    "E = k_m w_m\n",
    "\\end{equation}\n",
    "\n",
    "Where:\n",
    "\n",
    "- k_m is a constant = 900 meters\n",
    "- $w_m$ is the motor weight"
   ]
  },
  {
   "cell_type": "markdown",
   "id": "d8fcb543",
   "metadata": {},
   "source": [
    "I will be using data from Gary Hodson's record setting flight in 2003 at the Kibby Dome as we work through this development. Ideally, we will get a final answer somewhere near his record time of 10:18.\n",
    "\n",
    "Let's check the available energy for his motor weight of 0.84 grams:"
   ]
  },
  {
   "cell_type": "code",
   "execution_count": 4,
   "id": "93730f0c",
   "metadata": {},
   "outputs": [
    {
     "name": "stdout",
     "output_type": "stream",
     "text": [
      "756.0 gram * meter\n"
     ]
    }
   ],
   "source": [
    "import pint\n",
    "u = pint.UnitRegistry()\n",
    "\n",
    "w_m = 0.84 * u.gram\n",
    "k_m = 900 * u.meters\n",
    "E = k_m * w_m\n",
    "\n",
    "print(E)"
   ]
  },
  {
   "cell_type": "code",
   "execution_count": 6,
   "id": "5724a8b4",
   "metadata": {},
   "outputs": [
    {
     "data": {
      "text/html": [
       "5.4681584715146805 foot pound"
      ],
      "text/latex": [
       "$5.4681584715146805\\ \\mathrm{foot} \\cdot \\mathrm{pound}$"
      ],
      "text/plain": [
       "5.4681584715146805 <Unit('foot * pound')>"
      ]
     },
     "execution_count": 6,
     "metadata": {},
     "output_type": "execute_result"
    }
   ],
   "source": [
    "E.to('ft * pound')"
   ]
  },
  {
   "cell_type": "markdown",
   "id": "07b83cb4",
   "metadata": {},
   "source": [
    "If you know anything about programming, you might notice that I added units to the numbers. The Python **pint** package lets me do that, and that package will make sure we use consistent units in our calculations. This is vitally important in working toward correct results. (Ask NASA about what happened to a Mars lander!) Notice also that we are able to automatically convert between units of measure. \n"
   ]
  },
  {
   "cell_type": "markdown",
   "id": "d324493c",
   "metadata": {},
   "source": [
    "## Level Flight Power"
   ]
  },
  {
   "cell_type": "markdown",
   "id": "ef8a6249",
   "metadata": {},
   "source": [
    "The next term we will consider is the power required to maintain level flight. McLean used a simple model for this part. Basically, his technique involved balancing the aerodynamic forces produced by the flying model so the model would remain level. From this, he predicted the model flight speed. I fond another article by Walter Erbach {cite}`erbach90` that used the same scheme to predict flight speed and power required. I decided to use Erbach's scheme for this calculation, since it seems more complete."
   ]
  }
 ],
 "metadata": {
  "kernelspec": {
   "display_name": "Python 3 (ipykernel)",
   "language": "python",
   "name": "python3"
  },
  "language_info": {
   "codemirror_mode": {
    "name": "ipython",
    "version": 3
   },
   "file_extension": ".py",
   "mimetype": "text/x-python",
   "name": "python",
   "nbconvert_exporter": "python",
   "pygments_lexer": "ipython3",
   "version": "3.9.9"
  },
  "latex_envs": {
   "LaTeX_envs_menu_present": true,
   "autoclose": false,
   "autocomplete": true,
   "bibliofile": "biblio.bib",
   "cite_by": "apalike",
   "current_citInitial": 1,
   "eqLabelWithNumbers": true,
   "eqNumInitial": 1,
   "hotkeys": {
    "equation": "Ctrl-E",
    "itemize": "Ctrl-I"
   },
   "labels_anchors": false,
   "latex_user_defs": false,
   "report_style_numbering": false,
   "user_envs_cfg": false
  },
  "toc": {
   "base_numbering": 1,
   "nav_menu": {},
   "number_sections": true,
   "sideBar": true,
   "skip_h1_title": false,
   "title_cell": "Table of Contents",
   "title_sidebar": "Contents",
   "toc_cell": false,
   "toc_position": {},
   "toc_section_display": true,
   "toc_window_display": false
  },
  "varInspector": {
   "cols": {
    "lenName": 16,
    "lenType": 16,
    "lenVar": 40
   },
   "kernels_config": {
    "python": {
     "delete_cmd_postfix": "",
     "delete_cmd_prefix": "del ",
     "library": "var_list.py",
     "varRefreshCmd": "print(var_dic_list())"
    },
    "r": {
     "delete_cmd_postfix": ") ",
     "delete_cmd_prefix": "rm(",
     "library": "var_list.r",
     "varRefreshCmd": "cat(var_dic_list()) "
    }
   },
   "types_to_exclude": [
    "module",
    "function",
    "builtin_function_or_method",
    "instance",
    "_Feature"
   ],
   "window_display": false
  }
 },
 "nbformat": 4,
 "nbformat_minor": 5
}
