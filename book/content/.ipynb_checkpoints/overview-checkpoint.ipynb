{
 "cells": [
  {
   "cell_type": "markdown",
   "id": "4efdb063",
   "metadata": {},
   "source": [
    "# Overview"
   ]
  },
  {
   "cell_type": "markdown",
   "id": "9143e721",
   "metadata": {},
   "source": [
    "Our goal in this effort is to predict flight times for an indoor model. You should have information available about the model dimensions and weights. Hopefully, you have a flying site in mind and know something about that site. For our development, I will be using data from Gary Hodson's record setting **Wart-A6** {cite}`hodson2010`. We will gather data from the design and the site, and use some basic aerodynamic theory to estimate a flight time. To keep this simple, the flight we will examine two-dimensional flight theory, no turns will be considered. That may seem silly, but to get an estimate of flight times, we really do not need to work through all of the complex theory of full 3D flight.\n",
    "\n",
    "The approach We will take is based on work by Max Hacklinger {cite}`hacklinger1964`, Doug McLean {cite}`mclean1976` and Walter Erbach {cite}`erbach1990`. We will use some interesting Python tools to conduct this study. Everything you see in this article can be recreated on you own computer if you are willing to do some setup, or you can play with it using a free web interface. Details are in the article.\n",
    "\n",
    "The original document you are reading was developed using a tool very popular in the *Data Science* world: *Jupyter*. This is a web based tool that you can install on your personal computer. This program lets you create *notebooks* where you document your research work, complete with nice figures, and code that you actually run as you work through a development. You cannot create a conventional program with *Jupyter*, but you can write parts of a program that can be copied to a more normal development environment for proper testing and delopyment. The program developed in this article is available from the GitHub repository {cite}`mmtime`."
   ]
  }
 ],
 "metadata": {
  "kernelspec": {
   "display_name": "Python 3 (ipykernel)",
   "language": "python",
   "name": "python3"
  },
  "language_info": {
   "codemirror_mode": {
    "name": "ipython",
    "version": 3
   },
   "file_extension": ".py",
   "mimetype": "text/x-python",
   "name": "python",
   "nbconvert_exporter": "python",
   "pygments_lexer": "ipython3",
   "version": "3.9.9"
  },
  "latex_envs": {
   "LaTeX_envs_menu_present": true,
   "autoclose": false,
   "autocomplete": true,
   "bibliofile": "biblio.bib",
   "cite_by": "apalike",
   "current_citInitial": 1,
   "eqLabelWithNumbers": true,
   "eqNumInitial": 1,
   "hotkeys": {
    "equation": "Ctrl-E",
    "itemize": "Ctrl-I"
   },
   "labels_anchors": false,
   "latex_user_defs": false,
   "report_style_numbering": false,
   "user_envs_cfg": false
  },
  "toc": {
   "base_numbering": 1,
   "nav_menu": {},
   "number_sections": true,
   "sideBar": true,
   "skip_h1_title": false,
   "title_cell": "Table of Contents",
   "title_sidebar": "Contents",
   "toc_cell": false,
   "toc_position": {},
   "toc_section_display": true,
   "toc_window_display": false
  },
  "varInspector": {
   "cols": {
    "lenName": 16,
    "lenType": 16,
    "lenVar": 40
   },
   "kernels_config": {
    "python": {
     "delete_cmd_postfix": "",
     "delete_cmd_prefix": "del ",
     "library": "var_list.py",
     "varRefreshCmd": "print(var_dic_list())"
    },
    "r": {
     "delete_cmd_postfix": ") ",
     "delete_cmd_prefix": "rm(",
     "library": "var_list.r",
     "varRefreshCmd": "cat(var_dic_list()) "
    }
   },
   "types_to_exclude": [
    "module",
    "function",
    "builtin_function_or_method",
    "instance",
    "_Feature"
   ],
   "window_display": false
  }
 },
 "nbformat": 4,
 "nbformat_minor": 5
}
