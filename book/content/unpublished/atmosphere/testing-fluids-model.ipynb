{
 "cells": [
  {
   "cell_type": "markdown",
   "id": "7a444bc4",
   "metadata": {},
   "source": [
    "# Testing the Python Fluids module"
   ]
  },
  {
   "cell_type": "code",
   "execution_count": 1,
   "id": "a2040d64",
   "metadata": {},
   "outputs": [],
   "source": [
    "from fluids import ATMOSPHERE_1976 as StdAtm"
   ]
  },
  {
   "cell_type": "code",
   "execution_count": 3,
   "id": "eb05b871",
   "metadata": {},
   "outputs": [],
   "source": [
    "sa = StdAtm(263.347) # 864 feet in meters"
   ]
  },
  {
   "cell_type": "code",
   "execution_count": 5,
   "id": "da61381c",
   "metadata": {},
   "outputs": [
    {
     "data": {
      "text/plain": [
       "286.4383154113724"
      ]
     },
     "execution_count": 5,
     "metadata": {},
     "output_type": "execute_result"
    }
   ],
   "source": [
    "sa.T # Kelvin"
   ]
  },
  {
   "cell_type": "code",
   "execution_count": 6,
   "id": "8cf0b654",
   "metadata": {},
   "outputs": [
    {
     "data": {
      "text/plain": [
       "98201.2383899552"
      ]
     },
     "execution_count": 6,
     "metadata": {},
     "output_type": "execute_result"
    }
   ],
   "source": [
    "sa.P # Pascals"
   ]
  },
  {
   "cell_type": "code",
   "execution_count": 7,
   "id": "4185b420",
   "metadata": {},
   "outputs": [
    {
     "data": {
      "text/plain": [
       "1.1943281114997446"
      ]
     },
     "execution_count": 7,
     "metadata": {},
     "output_type": "execute_result"
    }
   ],
   "source": [
    "sa.rho # kg/m^3"
   ]
  },
  {
   "cell_type": "code",
   "execution_count": null,
   "id": "eae95eb1",
   "metadata": {},
   "outputs": [],
   "source": []
  }
 ],
 "metadata": {
  "kernelspec": {
   "display_name": "Python 3 (ipykernel)",
   "language": "python",
   "name": "python3"
  },
  "language_info": {
   "codemirror_mode": {
    "name": "ipython",
    "version": 3
   },
   "file_extension": ".py",
   "mimetype": "text/x-python",
   "name": "python",
   "nbconvert_exporter": "python",
   "pygments_lexer": "ipython3",
   "version": "3.10.5"
  },
  "toc": {
   "base_numbering": 1,
   "nav_menu": {},
   "number_sections": true,
   "sideBar": true,
   "skip_h1_title": false,
   "title_cell": "Table of Contents",
   "title_sidebar": "Contents",
   "toc_cell": false,
   "toc_position": {},
   "toc_section_display": true,
   "toc_window_display": false
  },
  "varInspector": {
   "cols": {
    "lenName": 16,
    "lenType": 16,
    "lenVar": 40
   },
   "kernels_config": {
    "python": {
     "delete_cmd_postfix": "",
     "delete_cmd_prefix": "del ",
     "library": "var_list.py",
     "varRefreshCmd": "print(var_dic_list())"
    },
    "r": {
     "delete_cmd_postfix": ") ",
     "delete_cmd_prefix": "rm(",
     "library": "var_list.r",
     "varRefreshCmd": "cat(var_dic_list()) "
    }
   },
   "types_to_exclude": [
    "module",
    "function",
    "builtin_function_or_method",
    "instance",
    "_Feature"
   ],
   "window_display": false
  }
 },
 "nbformat": 4,
 "nbformat_minor": 5
}
