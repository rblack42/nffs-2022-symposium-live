{
 "cells": [
  {
   "cell_type": "markdown",
   "id": "395e031a",
   "metadata": {},
   "source": [
    "   # Power Calculations"
   ]
  },
  {
   "cell_type": "markdown",
   "id": "490793f9",
   "metadata": {},
   "source": [
    "The power needed to maintain level flight can be found by balancing lit against weight and thrust against drag. In this development, we are considering total lift and drag. Let's work through the equations.\n",
    "\n",
    "We will use **sympy** to check the math:"
   ]
  },
  {
   "cell_type": "code",
   "execution_count": 1,
   "id": "7f728993",
   "metadata": {},
   "outputs": [],
   "source": [
    "import sympy"
   ]
  },
  {
   "cell_type": "code",
   "execution_count": 2,
   "id": "7b3ac1a2",
   "metadata": {},
   "outputs": [],
   "source": [
    "D, u = sympy.symbols('D u')"
   ]
  },
  {
   "cell_type": "markdown",
   "id": "258a36dd",
   "metadata": {},
   "source": [
    "Power is force times velocity. The force here is the total drag."
   ]
  },
  {
   "cell_type": "code",
   "execution_count": 3,
   "id": "0168a65a",
   "metadata": {},
   "outputs": [],
   "source": [
    "power = D * u"
   ]
  },
  {
   "cell_type": "code",
   "execution_count": 4,
   "id": "2c28f856",
   "metadata": {},
   "outputs": [],
   "source": [
    "rho, S, CL, CD = sympy.symbols('rho S CL CD')"
   ]
  },
  {
   "cell_type": "code",
   "execution_count": null,
   "id": "4fbcdf3c",
   "metadata": {},
   "outputs": [],
   "source": [
    "define the dynamic pressure term"
   ]
  },
  {
   "cell_type": "code",
   "execution_count": 5,
   "id": "1db67ccc",
   "metadata": {},
   "outputs": [],
   "source": [
    "q = rho * u**2/2"
   ]
  },
  {
   "cell_type": "markdown",
   "id": "8a5e65c6",
   "metadata": {},
   "source": [
    "Substitute the equation for drag in terms of Cd and dynamic pressure:"
   ]
  },
  {
   "cell_type": "code",
   "execution_count": 7,
   "id": "4e3992a2",
   "metadata": {},
   "outputs": [],
   "source": [
    "power = power.subs(D, q * S * CD)"
   ]
  },
  {
   "cell_type": "code",
   "execution_count": 8,
   "id": "170a1695",
   "metadata": {},
   "outputs": [
    {
     "data": {
      "text/latex": [
       "$\\displaystyle \\frac{CD S \\rho u^{3}}{2}$"
      ],
      "text/plain": [
       "CD*S*rho*u**3/2"
      ]
     },
     "execution_count": 8,
     "metadata": {},
     "output_type": "execute_result"
    }
   ],
   "source": [
    "power"
   ]
  },
  {
   "cell_type": "markdown",
   "id": "b0eb01af",
   "metadata": {},
   "source": [
    "We now have power, but it includes the velocity. We can eliminate that using the lift equation:"
   ]
  },
  {
   "cell_type": "code",
   "execution_count": 10,
   "id": "11ebea71",
   "metadata": {},
   "outputs": [],
   "source": [
    "w = sympy.symbols('w')"
   ]
  },
  {
   "cell_type": "markdown",
   "id": "45d520ca",
   "metadata": {},
   "source": [
    "Weight must equal the total lift. From the definition of the lift coefficient:"
   ]
  },
  {
   "cell_type": "code",
   "execution_count": 11,
   "id": "b0199f80",
   "metadata": {},
   "outputs": [],
   "source": [
    "U = sympy.sqrt(2*w/(rho*CL*S))"
   ]
  },
  {
   "cell_type": "code",
   "execution_count": 87,
   "id": "e578f8d1",
   "metadata": {},
   "outputs": [
    {
     "data": {
      "text/latex": [
       "$\\displaystyle \\sqrt{2} \\sqrt{\\frac{w}{CL S \\rho}}$"
      ],
      "text/plain": [
       "sqrt(2)*sqrt(w/(CL*S*rho))"
      ]
     },
     "execution_count": 87,
     "metadata": {},
     "output_type": "execute_result"
    }
   ],
   "source": [
    "U"
   ]
  },
  {
   "cell_type": "markdown",
   "id": "d09d0cb3",
   "metadata": {},
   "source": [
    "Substitute this term into the power equation to eliminate the velocity term:"
   ]
  },
  {
   "cell_type": "code",
   "execution_count": 12,
   "id": "c24bb9e3",
   "metadata": {},
   "outputs": [],
   "source": [
    "P = power.subs(u,U)"
   ]
  },
  {
   "cell_type": "code",
   "execution_count": 19,
   "id": "5ec590d0",
   "metadata": {},
   "outputs": [
    {
     "data": {
      "text/latex": [
       "$\\displaystyle \\sqrt{2} CD S \\rho \\left(\\frac{w}{CL S \\rho}\\right)^{\\frac{3}{2}}$"
      ],
      "text/plain": [
       "sqrt(2)*CD*S*rho*(w/(CL*S*rho))**(3/2)"
      ]
     },
     "execution_count": 19,
     "metadata": {},
     "output_type": "execute_result"
    }
   ],
   "source": [
    "P"
   ]
  },
  {
   "cell_type": "markdown",
   "id": "2502713a",
   "metadata": {},
   "source": [
    "This is equation 3 in McLean's paper.\n",
    "\n",
    "Next, we generate E/P where E is the motor energy term:"
   ]
  },
  {
   "cell_type": "code",
   "execution_count": 20,
   "id": "65649c44",
   "metadata": {},
   "outputs": [],
   "source": [
    "Km, wm = sympy.symbols('Km wm')"
   ]
  },
  {
   "cell_type": "code",
   "execution_count": 21,
   "id": "c7458cb5",
   "metadata": {},
   "outputs": [],
   "source": [
    "E = Km * wm"
   ]
  },
  {
   "cell_type": "code",
   "execution_count": 88,
   "id": "0c087361",
   "metadata": {},
   "outputs": [
    {
     "data": {
      "text/latex": [
       "$\\displaystyle \\frac{\\sqrt{2} Km wm}{2 CD S \\rho \\left(\\frac{w}{CL S \\rho}\\right)^{\\frac{3}{2}}}$"
      ],
      "text/plain": [
       "sqrt(2)*Km*wm/(2*CD*S*rho*(w/(CL*S*rho))**(3/2))"
      ]
     },
     "execution_count": 88,
     "metadata": {},
     "output_type": "execute_result"
    }
   ],
   "source": [
    "EoP = E / P\n",
    "EoP.simplify()"
   ]
  },
  {
   "cell_type": "markdown",
   "id": "339946d1",
   "metadata": {},
   "source": [
    "You may not see that is is equal to McLean's equation 4, but it is. To check that I plugged in McLean's equation and divided my equation by McLean's equation 4, and **sympy** said the result was one!"
   ]
  },
  {
   "cell_type": "markdown",
   "id": "2d713700",
   "metadata": {},
   "source": [
    "From McLean's development, we are one step away from finding the flight time for the model. McLean tuned the total drag by including the effects of induced drag which is the result of the tip vortices that form when a flying surface moves through the air, and downwash effects from thr flow over the wing affecting the lift generated by the stabilizer. He also included the drag contributions from the wing posts.   "
   ]
  }
 ],
 "metadata": {
  "kernelspec": {
   "display_name": "Python 3 (ipykernel)",
   "language": "python",
   "name": "python3"
  },
  "language_info": {
   "codemirror_mode": {
    "name": "ipython",
    "version": 3
   },
   "file_extension": ".py",
   "mimetype": "text/x-python",
   "name": "python",
   "nbconvert_exporter": "python",
   "pygments_lexer": "ipython3",
   "version": "3.9.9"
  },
  "latex_envs": {
   "LaTeX_envs_menu_present": true,
   "autoclose": false,
   "autocomplete": true,
   "bibliofile": "biblio.bib",
   "cite_by": "apalike",
   "current_citInitial": 1,
   "eqLabelWithNumbers": true,
   "eqNumInitial": 1,
   "hotkeys": {
    "equation": "Ctrl-E",
    "itemize": "Ctrl-I"
   },
   "labels_anchors": false,
   "latex_user_defs": false,
   "report_style_numbering": false,
   "user_envs_cfg": false
  },
  "toc": {
   "base_numbering": 1,
   "nav_menu": {},
   "number_sections": true,
   "sideBar": true,
   "skip_h1_title": false,
   "title_cell": "Table of Contents",
   "title_sidebar": "Contents",
   "toc_cell": false,
   "toc_position": {},
   "toc_section_display": true,
   "toc_window_display": false
  },
  "varInspector": {
   "cols": {
    "lenName": 16,
    "lenType": 16,
    "lenVar": 40
   },
   "kernels_config": {
    "python": {
     "delete_cmd_postfix": "",
     "delete_cmd_prefix": "del ",
     "library": "var_list.py",
     "varRefreshCmd": "print(var_dic_list())"
    },
    "r": {
     "delete_cmd_postfix": ") ",
     "delete_cmd_prefix": "rm(",
     "library": "var_list.r",
     "varRefreshCmd": "cat(var_dic_list()) "
    }
   },
   "types_to_exclude": [
    "module",
    "function",
    "builtin_function_or_method",
    "instance",
    "_Feature"
   ],
   "window_display": false
  }
 },
 "nbformat": 4,
 "nbformat_minor": 5
}
