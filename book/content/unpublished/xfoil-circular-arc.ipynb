{
 "cells": [
  {
   "cell_type": "markdown",
   "id": "0ed6c732",
   "metadata": {},
   "source": [
    "# Circular Arc Airfoils for XFoil Tests"
   ]
  },
  {
   "cell_type": "markdown",
   "id": "0bdcc1cc",
   "metadata": {},
   "source": [
    "After reading through a Master's Thesis that explored thin airfoils defined by a BSpline curve, I decided to adapt the technique presented and build a circular arc airfoil routine that will generate airfoils with an arbitrary camber and thickness. XFoil cannot deal with super thin airfoils, and the Thesis added a round leading edge and a parabolic thickness distribution at the trailing edge. Both of these additions helped XFoil converge on solutions during analysis.\n",
    "\n",
    "In this note, we will build the basic routines needed to build the Python class. At the end of the note, we will import the new class and run tests on a sample airfoil so we can compare results with the data we have already presented."
   ]
  },
  {
   "cell_type": "markdown",
   "id": "adc4f811",
   "metadata": {},
   "source": [
    "## Airfoil Basics"
   ]
  },
  {
   "cell_type": "markdown",
   "id": "1113ea0a",
   "metadata": {},
   "source": [
    "The airfoils we will produce are normalized to a chord of length one. The camber will be specified as a percentage of this chord, as will be the thickness used in analysis. These two data items can fully define the circular arc that will form the camber line. "
   ]
  },
  {
   "cell_type": "code",
   "execution_count": 1,
   "id": "b2861d82",
   "metadata": {},
   "outputs": [],
   "source": [
    "import math"
   ]
  },
  {
   "cell_type": "code",
   "execution_count": 2,
   "id": "e3f5b26e",
   "metadata": {},
   "outputs": [
    {
     "name": "stdout",
     "output_type": "stream",
     "text": [
      "2.5000625 11.478196996179214 0.5025 -2.4500625\n"
     ]
    }
   ],
   "source": [
    "chord = 1.0      # includes rounded nose\n",
    "camber = 5.0     # percentage of chord\n",
    "thickness = 1.0  # percentage of chord\n",
    "\n",
    "t = thickness / 100.0\n",
    "c = camber / 100.0\n",
    "ch = chord - t/2.0   # shorten the chord to allow for the round nose\n",
    "\n",
    "radius = ch**2 / (8.0*c) + c/2\n",
    "theta = 2*math.atan(2*c/ch)\n",
    "xc = t/2 + ch/2\n",
    "yc = c - radius\n",
    "print(radius, theta*180/math.pi, xc, yc)"
   ]
  },
  {
   "cell_type": "code",
   "execution_count": 3,
   "id": "8703d00b",
   "metadata": {},
   "outputs": [
    {
     "name": "stdout",
     "output_type": "stream",
     "text": [
      "0.050000000000000266\n"
     ]
    }
   ],
   "source": [
    "print(radius - radius * math.cos(theta))"
   ]
  },
  {
   "cell_type": "code",
   "execution_count": 4,
   "id": "6f40c857",
   "metadata": {},
   "outputs": [
    {
     "name": "stdout",
     "output_type": "stream",
     "text": [
      "0.9950000000000001\n"
     ]
    }
   ],
   "source": [
    "print(2 * radius * math.sin(theta))"
   ]
  },
  {
   "cell_type": "code",
   "execution_count": 5,
   "id": "f7fb1045",
   "metadata": {},
   "outputs": [],
   "source": [
    "nx = 125\n",
    "sweep = 2 * theta\n",
    "da = sweep/nx\n",
    "r = t/2\n",
    "xu = []\n",
    "xm = []\n",
    "xl = []\n",
    "yu = []\n",
    "ym = []\n",
    "yl = []\n",
    "aa = r/25 - r\n",
    "cc = r\n",
    "\n",
    "for i in range(nx+1):  \n",
    "    angle = theta - i * da\n",
    "    x = xc - radius * math.sin(angle)\n",
    "    y = yc + radius * math.cos(angle)\n",
    "    if i > nx-5:\n",
    "        j = nx - 5 - i\n",
    "        xx = j*0.2\n",
    "        tt = aa*xx**2 + cc\n",
    "    else:\n",
    "        tt = r\n",
    "    dx = tt * math.sin(angle)\n",
    "    dy = tt * math.cos(angle)\n",
    "    xu.append(x - dx)\n",
    "    xm.append(x)\n",
    "    xl.append(x + dx)\n",
    "    yu.append(y + dy)\n",
    "    ym.append(y)\n",
    "    yl.append(y - dy)"
   ]
  },
  {
   "cell_type": "code",
   "execution_count": 6,
   "id": "6f6ea553",
   "metadata": {},
   "outputs": [
    {
     "data": {
      "image/png": "[encoded data removed]",
      "text/plain": [
       "<Figure size 1080x108 with 1 Axes>"
      ]
     },
     "metadata": {
      "needs_background": "light"
     },
     "output_type": "display_data"
    }
   ],
   "source": [
    "import matplotlib.pyplot as plt\n",
    "plt.figure(figsize=(15,1.5))\n",
    "plt.xlim(-0.01, 1.01)\n",
    "plt.ylim(-0.02, 0.08)\n",
    "plt.plot(xu,yu)\n",
    "plt.plot(xm,ym)\n",
    "plt.plot(xl,yl)\n",
    "plt.show()"
   ]
  },
  {
   "cell_type": "markdown",
   "id": "26e9e81a",
   "metadata": {},
   "source": [
    "## Leading edge"
   ]
  },
  {
   "cell_type": "code",
   "execution_count": 7,
   "id": "8718f41b",
   "metadata": {},
   "outputs": [
    {
     "name": "stdout",
     "output_type": "stream",
     "text": [
      "15 7 8\n"
     ]
    }
   ],
   "source": [
    "maxLEangle = 12\n",
    "nptot = round(180/maxLEangle)\n",
    "nptot = round(180/maxLEangle)\n",
    "np1 = round(((math.pi/2 - theta) / math.pi) * nptot)\n",
    "np2 = round(((math.pi/2 + theta) / math.pi) * nptot)\n",
    "print(nptot, np1, np2)\n"
   ]
  },
  {
   "cell_type": "code",
   "execution_count": 8,
   "id": "761371aa",
   "metadata": {},
   "outputs": [],
   "source": [
    "# generate top LE points\n",
    "alpha = math.pi/2 + theta\n",
    "dalpha = (math.pi/2 - theta)/np1\n",
    "xule = []\n",
    "yule = []\n",
    "xlle = []\n",
    "ylle = []\n",
    "\n",
    "x = xm[0]\n",
    "y = ym[0]\n",
    "\n",
    "for i in range(np1+1):\n",
    "    xule.append(x + r * math.cos(alpha))\n",
    "    yule.append(y + r * math.sin(alpha))\n",
    "    alpha += dalpha\n",
    "\n",
    "# generate bottom LE points\n",
    "alpha = 3*math.pi/2 + theta\n",
    "dalpha = (math.pi/2 + theta)/np2\n",
    "for i in range(np2+1):\n",
    "    xlle.append(x + r * math.cos(alpha))\n",
    "    ylle.append(y + r * math.sin(alpha))\n",
    "    alpha -= dalpha"
   ]
  },
  {
   "cell_type": "code",
   "execution_count": 9,
   "id": "3db2b39e",
   "metadata": {},
   "outputs": [
    {
     "data": {
      "image/png": "[encoded data removed]",
      "text/plain": [
       "<Figure size 1080x108 with 1 Axes>"
      ]
     },
     "metadata": {
      "needs_background": "light"
     },
     "output_type": "display_data"
    }
   ],
   "source": [
    "plt.figure(figsize=(15,1.5))\n",
    "plt.xlim(-0.01, 1.01)\n",
    "plt.ylim(-0.02, 0.08)\n",
    "plt.plot(xu,yu)\n",
    "plt.plot(xm,ym)\n",
    "plt.plot(xl,yl)\n",
    "plt.plot(xule,yule)\n",
    "plt.plot(xlle,ylle)\n",
    "plt.show()"
   ]
  },
  {
   "cell_type": "code",
   "execution_count": 10,
   "id": "7d90c5e1",
   "metadata": {},
   "outputs": [],
   "source": [
    "polar = \"\"\" -4.000  -0.1516   0.07432   0.03929  -0.0304\n",
    "-2.000  -0.1349   0.06277   0.02930  -0.0260\n",
    "0.000   0.2128   0.06014   0.01681  -0.0889\n",
    "2.000   0.4230   0.06382   0.01235  -0.0893\n",
    "4.000   0.5911   0.06995   0.01786  -0.0846\n",
    "6.000   0.7400   0.07981   0.03185  -0.0794\n",
    "8.000   0.7988   0.10643   0.06473  -0.0909\n",
    "10.000   0.8202   0.14239   0.10479  -0.1116\n",
    "12.000   0.8773   0.17397   0.14703  -0.1282\n",
    "14.000   0.9462   0.20389   0.19439  -0.1441\n",
    "16.000   1.0182   0.23320   0.24733  -0.1601\"\"\""
   ]
  },
  {
   "cell_type": "code",
   "execution_count": 12,
   "id": "f9f0e0f6",
   "metadata": {},
   "outputs": [
    {
     "name": "stdout",
     "output_type": "stream",
     "text": [
      " -4.000  -0.1516   0.07432   0.03929  -0.0304\n",
      "-2.000  -0.1349   0.06277   0.02930  -0.0260\n",
      "0.000   0.2128   0.06014   0.01681  -0.0889\n",
      "2.000   0.4230   0.06382   0.01235  -0.0893\n",
      "4.000   0.5911   0.06995   0.01786  -0.0846\n",
      "6.000   0.7400   0.07981   0.03185  -0.0794\n",
      "8.000   0.7988   0.10643   0.06473  -0.0909\n",
      "10.000   0.8202   0.14239   0.10479  -0.1116\n",
      "12.000   0.8773   0.17397   0.14703  -0.1282\n",
      "14.000   0.9462   0.20389   0.19439  -0.1441\n",
      "16.000   1.0182   0.23320   0.24733  -0.1601\n",
      "[-4.0, -2.0, 0.0, 2.0, 4.0, 6.0, 8.0, 10.0, 12.0, 14.0, 16.0] [-0.1516, -0.1349, 0.2128, 0.423, 0.5911, 0.74, 0.7988, 0.8202, 0.8773, 0.9462, 1.0182] [0.07432, 0.06277, 0.06014, 0.06382, 0.06995, 0.07981, 0.10643, 0.14239, 0.17397, 0.20389, 0.2332] [0.03929, 0.0293, 0.01681, 0.01235, 0.01786, 0.03185, 0.06473, 0.10479, 0.14703, 0.19439, 0.24733] [-0.0304, -0.026, -0.0889, -0.0893, -0.0846, -0.0794, -0.0909, -0.1116, -0.1282, -0.1441, -0.1601]\n"
     ]
    }
   ],
   "source": [
    "A = []\n",
    "CL = []\n",
    "CD = []\n",
    "CDp = []\n",
    "CM = []\n",
    "lines = polar.split('\\n')\n",
    "for l in lines:\n",
    "    print(l)\n",
    "    \n",
    "    a,cl,cd,cdp,cm = l.split()\n",
    "    A.append(float(a))\n",
    "    CL.append(float(cl))\n",
    "    CD.append(float(cd))\n",
    "    CDp.append(float(cdp))\n",
    "    CM.append(float(cm))\n",
    "    \n",
    "print(A,CL,CD,CDp,CM)"
   ]
  },
  {
   "cell_type": "code",
   "execution_count": 13,
   "id": "d140669b",
   "metadata": {},
   "outputs": [
    {
     "data": {
      "image/png": "[encoded data removed]",
      "text/plain": [
       "<Figure size 432x288 with 1 Axes>"
      ]
     },
     "metadata": {
      "needs_background": "light"
     },
     "output_type": "display_data"
    }
   ],
   "source": [
    "plt.plot(CL,CD)\n",
    "plt.show()"
   ]
  },
  {
   "cell_type": "markdown",
   "id": "fc1d7853",
   "metadata": {},
   "source": [
    "## Flat Plate Airfoil"
   ]
  },
  {
   "cell_type": "markdown",
   "id": "ed218099",
   "metadata": {},
   "source": [
    "For the propeller analysis, we will need a flat plate airfoil. Once again, to keep **xfoil** happy, we will generate this airfoil using a round leading edge and a parabolic arc trailing edge as we used for the circular arc airfoil presented previously."
   ]
  },
  {
   "cell_type": "code",
   "execution_count": 14,
   "id": "3078c295",
   "metadata": {},
   "outputs": [
    {
     "name": "stdout",
     "output_type": "stream",
     "text": [
      "0.5025 0\n"
     ]
    }
   ],
   "source": [
    "chord = 1.0      # includes rounded nose\n",
    "thickness = 1.0  # percentage of chord\n",
    "\n",
    "t = thickness / 100.0\n",
    "ch = chord - t/2.0   # shorten the chord to allow for the round nose\n",
    "\n",
    "xc = t/2 + ch/2\n",
    "yc = 0\n",
    "print(xc, yc)"
   ]
  },
  {
   "cell_type": "code",
   "execution_count": 73,
   "id": "df30fe38",
   "metadata": {},
   "outputs": [],
   "source": [
    "nx = 125\n",
    "dx = 1.0/nx\n",
    "r = t/2"
   ]
  },
  {
   "cell_type": "markdown",
   "id": "8f425db3",
   "metadata": {},
   "source": [
    "### Trailing edge parabolic arc"
   ]
  },
  {
   "cell_type": "markdown",
   "id": "080d1aee",
   "metadata": {},
   "source": [
    "For the flat plate, the equation for the parabolic arc we will use for the trailing edge is this:\n",
    "\n",
    "\\begin{equation}\n",
    "y = ax^2+b)\n",
    "\\end{equation}\n",
    "\n",
    "With conditions:\n",
    "\n",
    "\\begin{equation}\n",
    "x = 0, y = t/2\n",
    "\\end{equation}\n",
    "\n",
    "\\begin{equation}\n",
    "x = 5dx, y = 0\n",
    "\\end{equation}\n",
    "\n",
    "We will use **sympy** to generate equations for **a** and **b**"
   ]
  },
  {
   "cell_type": "code",
   "execution_count": 74,
   "id": "2f9c30db",
   "metadata": {},
   "outputs": [
    {
     "data": {
      "text/plain": [
       "{ta: -312.5*tt, tb: 0.5*tt}"
      ]
     },
     "execution_count": 74,
     "metadata": {},
     "output_type": "execute_result"
    }
   ],
   "source": [
    "import sympy\n",
    "tx, ty, tnx, tt, ta, tb = sympy.symbols('tx ty tnx tt ta tb')\n",
    "\n",
    "eq1 = tt/2 - tb\n",
    "eq2 = ta * 25*dx**2  + tb\n",
    "\n",
    "eq3 = sympy.solve([eq1,eq2],[ta,tb])\n",
    "eq3"
   ]
  },
  {
   "cell_type": "markdown",
   "id": "8ff642a3",
   "metadata": {},
   "source": [
    "Obviously, we did not really need **sympy** for this simple problem, but it is nice to be able to do things like this when your math is a bit rusty!\n",
    "\n",
    "With these constants defined, we can generate the trailing edge curves as follows:"
   ]
  },
  {
   "cell_type": "code",
   "execution_count": 69,
   "id": "b94a80c6",
   "metadata": {},
   "outputs": [
    {
     "name": "stdout",
     "output_type": "stream",
     "text": [
      "125 -3.125 0.005\n"
     ]
    }
   ],
   "source": [
    "a = -312.5 * t\n",
    "b = t/2\n",
    "print(nx,a,b)"
   ]
  },
  {
   "cell_type": "code",
   "execution_count": 84,
   "id": "dbfd07d4",
   "metadata": {},
   "outputs": [
    {
     "name": "stdout",
     "output_type": "stream",
     "text": [
      "120 0 0.0 0.005\n",
      "121 1 0.008 0.0048000000000000004\n",
      "122 2 0.016 0.004200000000000001\n",
      "123 3 0.024 0.0032\n",
      "124 4 0.032 0.0018000000000000004\n",
      "125 5 0.04 0.0\n"
     ]
    }
   ],
   "source": [
    "xu = []\n",
    "xm = []\n",
    "xl = []\n",
    "yu = []\n",
    "ym = []\n",
    "yl = []\n",
    "\n",
    "for i in range(nx+1):  \n",
    "    x = i * dx\n",
    "    if i > nx-6:\n",
    "        # trailing edge arc\n",
    "        j = i - (nx - 6) -1\n",
    "        xx = j*dx\n",
    "        tt = a*xx**2 + b\n",
    "        print(i,j,xx,tt)\n",
    "    else:\n",
    "        tt = b\n",
    "    dy = tt\n",
    "    xu.append(x)\n",
    "    xm.append(x)\n",
    "    xl.append(x)\n",
    "    yu.append(dy)\n",
    "    ym.append(0)\n",
    "    yl.append(-dy)"
   ]
  },
  {
   "cell_type": "code",
   "execution_count": 85,
   "id": "81179e96",
   "metadata": {
    "scrolled": false
   },
   "outputs": [
    {
     "name": "stdout",
     "output_type": "stream",
     "text": [
      "0 0.0 0.005\n",
      "1 0.008 0.005\n",
      "2 0.016 0.005\n",
      "3 0.024 0.005\n",
      "4 0.032 0.005\n",
      "5 0.04 0.005\n",
      "6 0.048 0.005\n",
      "7 0.056 0.005\n",
      "8 0.064 0.005\n",
      "9 0.07200000000000001 0.005\n",
      "10 0.08 0.005\n",
      "11 0.088 0.005\n",
      "12 0.096 0.005\n",
      "13 0.10400000000000001 0.005\n",
      "14 0.112 0.005\n",
      "15 0.12 0.005\n",
      "16 0.128 0.005\n",
      "17 0.136 0.005\n",
      "18 0.14400000000000002 0.005\n",
      "19 0.152 0.005\n",
      "20 0.16 0.005\n",
      "21 0.168 0.005\n",
      "22 0.176 0.005\n",
      "23 0.184 0.005\n",
      "24 0.192 0.005\n",
      "25 0.2 0.005\n",
      "26 0.20800000000000002 0.005\n",
      "27 0.216 0.005\n",
      "28 0.224 0.005\n",
      "29 0.232 0.005\n",
      "30 0.24 0.005\n",
      "31 0.248 0.005\n",
      "32 0.256 0.005\n",
      "33 0.264 0.005\n",
      "34 0.272 0.005\n",
      "35 0.28 0.005\n",
      "36 0.28800000000000003 0.005\n",
      "37 0.296 0.005\n",
      "38 0.304 0.005\n",
      "39 0.312 0.005\n",
      "40 0.32 0.005\n",
      "41 0.328 0.005\n",
      "42 0.336 0.005\n",
      "43 0.34400000000000003 0.005\n",
      "44 0.352 0.005\n",
      "45 0.36 0.005\n",
      "46 0.368 0.005\n",
      "47 0.376 0.005\n",
      "48 0.384 0.005\n",
      "49 0.392 0.005\n",
      "50 0.4 0.005\n",
      "51 0.40800000000000003 0.005\n",
      "52 0.41600000000000004 0.005\n",
      "53 0.424 0.005\n",
      "54 0.432 0.005\n",
      "55 0.44 0.005\n",
      "56 0.448 0.005\n",
      "57 0.456 0.005\n",
      "58 0.464 0.005\n",
      "59 0.47200000000000003 0.005\n",
      "60 0.48 0.005\n",
      "61 0.488 0.005\n",
      "62 0.496 0.005\n",
      "63 0.504 0.005\n",
      "64 0.512 0.005\n",
      "65 0.52 0.005\n",
      "66 0.528 0.005\n",
      "67 0.536 0.005\n",
      "68 0.544 0.005\n",
      "69 0.552 0.005\n",
      "70 0.56 0.005\n",
      "71 0.5680000000000001 0.005\n",
      "72 0.5760000000000001 0.005\n",
      "73 0.584 0.005\n",
      "74 0.592 0.005\n",
      "75 0.6 0.005\n",
      "76 0.608 0.005\n",
      "77 0.616 0.005\n",
      "78 0.624 0.005\n",
      "79 0.632 0.005\n",
      "80 0.64 0.005\n",
      "81 0.648 0.005\n",
      "82 0.656 0.005\n",
      "83 0.664 0.005\n",
      "84 0.672 0.005\n",
      "85 0.68 0.005\n",
      "86 0.6880000000000001 0.005\n",
      "87 0.6960000000000001 0.005\n",
      "88 0.704 0.005\n",
      "89 0.712 0.005\n",
      "90 0.72 0.005\n",
      "91 0.728 0.005\n",
      "92 0.736 0.005\n",
      "93 0.744 0.005\n",
      "94 0.752 0.005\n",
      "95 0.76 0.005\n",
      "96 0.768 0.005\n",
      "97 0.776 0.005\n",
      "98 0.784 0.005\n",
      "99 0.792 0.005\n",
      "100 0.8 0.005\n",
      "101 0.808 0.005\n",
      "102 0.8160000000000001 0.005\n",
      "103 0.8240000000000001 0.005\n",
      "104 0.8320000000000001 0.005\n",
      "105 0.84 0.005\n",
      "106 0.848 0.005\n",
      "107 0.856 0.005\n",
      "108 0.864 0.005\n",
      "109 0.872 0.005\n",
      "110 0.88 0.005\n",
      "111 0.888 0.005\n",
      "112 0.896 0.005\n",
      "113 0.904 0.005\n",
      "114 0.912 0.005\n",
      "115 0.92 0.005\n",
      "116 0.928 0.005\n",
      "117 0.936 0.005\n",
      "118 0.9440000000000001 0.005\n",
      "119 0.9520000000000001 0.005\n",
      "120 0.96 0.005\n",
      "121 0.968 0.0048000000000000004\n",
      "122 0.976 0.004200000000000001\n",
      "123 0.984 0.0032\n",
      "124 0.992 0.0018000000000000004\n",
      "125 1.0 0.0\n"
     ]
    }
   ],
   "source": [
    "i = 0\n",
    "for x in xu:\n",
    "    y = yu[i]\n",
    "    print(i,x,y)\n",
    "    i+= 1"
   ]
  },
  {
   "cell_type": "code",
   "execution_count": 86,
   "id": "047259d8",
   "metadata": {},
   "outputs": [
    {
     "data": {
      "image/png": "[encoded data removed]",
      "text/plain": [
       "<Figure size 1080x108 with 1 Axes>"
      ]
     },
     "metadata": {
      "needs_background": "light"
     },
     "output_type": "display_data"
    }
   ],
   "source": [
    "import matplotlib.pyplot as plt\n",
    "plt.figure(figsize=(15,1.5))\n",
    "plt.xlim(-0.01, 1.01)\n",
    "plt.ylim(-0.08, 0.08)\n",
    "plt.plot(xu,yu)\n",
    "plt.plot(xm,ym)\n",
    "plt.plot(xl,yl)\n",
    "plt.show()"
   ]
  },
  {
   "cell_type": "code",
   "execution_count": 94,
   "id": "16350d55",
   "metadata": {},
   "outputs": [
    {
     "name": "stdout",
     "output_type": "stream",
     "text": [
      "12 6 6\n"
     ]
    }
   ],
   "source": [
    "LEangle = 15\n",
    "nptot = round(180/LEangle)\n",
    "np1 = int(nptot/2)\n",
    "np2 = nptot - np1\n",
    "print(nptot, np1, np2)\n"
   ]
  },
  {
   "cell_type": "code",
   "execution_count": 102,
   "id": "7ead8390",
   "metadata": {},
   "outputs": [
    {
     "name": "stdout",
     "output_type": "stream",
     "text": [
      "75 0.004829629131445342\n",
      "60 0.004330127018922193\n",
      "45 0.0035355339059327372\n",
      "30 0.0024999999999999996\n",
      "15 0.0012940952255126037\n",
      "0 0.0\n"
     ]
    }
   ],
   "source": [
    "alpha = 90\n",
    "for i in range(np1):\n",
    "    alpha = alpha - LEangle\n",
    "    y = r * math.sin(alpha * math.pi/180)\n",
    "    print(alpha,y)"
   ]
  },
  {
   "cell_type": "code",
   "execution_count": 103,
   "id": "97ab12d6",
   "metadata": {},
   "outputs": [
    {
     "name": "stdout",
     "output_type": "stream",
     "text": [
      "15 0.0012940952255126037\n",
      "30 0.0024999999999999996\n",
      "45 0.0035355339059327372\n",
      "60 0.004330127018922193\n",
      "75 0.004829629131445342\n"
     ]
    }
   ],
   "source": [
    "alpha = 0\n",
    "for i in range(np2-1):\n",
    "    alpha = alpha + LEangle\n",
    "    y = r * math.sin(alpha * math.pi/180)\n",
    "    print(alpha,y)"
   ]
  },
  {
   "cell_type": "code",
   "execution_count": null,
   "id": "6291c783",
   "metadata": {},
   "outputs": [],
   "source": []
  },
  {
   "cell_type": "code",
   "execution_count": null,
   "id": "31101e17",
   "metadata": {},
   "outputs": [],
   "source": []
  },
  {
   "cell_type": "code",
   "execution_count": null,
   "id": "eae30320",
   "metadata": {},
   "outputs": [],
   "source": []
  },
  {
   "cell_type": "code",
   "execution_count": null,
   "id": "488940e7",
   "metadata": {},
   "outputs": [],
   "source": []
  },
  {
   "cell_type": "code",
   "execution_count": null,
   "id": "fd287019",
   "metadata": {},
   "outputs": [],
   "source": []
  },
  {
   "cell_type": "code",
   "execution_count": null,
   "id": "22b81093",
   "metadata": {},
   "outputs": [],
   "source": []
  },
  {
   "cell_type": "code",
   "execution_count": null,
   "id": "a257df26",
   "metadata": {},
   "outputs": [],
   "source": []
  },
  {
   "cell_type": "code",
   "execution_count": null,
   "id": "d3bc57ab",
   "metadata": {},
   "outputs": [],
   "source": []
  },
  {
   "cell_type": "code",
   "execution_count": null,
   "id": "3a78efbc",
   "metadata": {},
   "outputs": [],
   "source": []
  },
  {
   "cell_type": "code",
   "execution_count": null,
   "id": "ebad3b83",
   "metadata": {},
   "outputs": [],
   "source": []
  },
  {
   "cell_type": "code",
   "execution_count": null,
   "id": "78bfbb86",
   "metadata": {},
   "outputs": [],
   "source": []
  },
  {
   "cell_type": "code",
   "execution_count": null,
   "id": "4ed3beb1",
   "metadata": {},
   "outputs": [],
   "source": []
  },
  {
   "cell_type": "code",
   "execution_count": null,
   "id": "683049ba",
   "metadata": {},
   "outputs": [],
   "source": []
  },
  {
   "cell_type": "code",
   "execution_count": null,
   "id": "edd365d0",
   "metadata": {},
   "outputs": [],
   "source": []
  },
  {
   "cell_type": "code",
   "execution_count": null,
   "id": "cd473ba3",
   "metadata": {},
   "outputs": [],
   "source": []
  },
  {
   "cell_type": "code",
   "execution_count": null,
   "id": "b0014cd6",
   "metadata": {},
   "outputs": [],
   "source": []
  },
  {
   "cell_type": "code",
   "execution_count": null,
   "id": "c4b193d2",
   "metadata": {},
   "outputs": [],
   "source": []
  },
  {
   "cell_type": "code",
   "execution_count": null,
   "id": "358bef9d",
   "metadata": {},
   "outputs": [],
   "source": []
  },
  {
   "cell_type": "code",
   "execution_count": null,
   "id": "0fdf2eb6",
   "metadata": {},
   "outputs": [],
   "source": []
  },
  {
   "cell_type": "code",
   "execution_count": null,
   "id": "d68db882",
   "metadata": {},
   "outputs": [],
   "source": []
  },
  {
   "cell_type": "code",
   "execution_count": null,
   "id": "e8a97481",
   "metadata": {},
   "outputs": [],
   "source": []
  },
  {
   "cell_type": "code",
   "execution_count": null,
   "id": "204710f1",
   "metadata": {},
   "outputs": [],
   "source": []
  },
  {
   "cell_type": "code",
   "execution_count": null,
   "id": "90d1f05e",
   "metadata": {},
   "outputs": [],
   "source": []
  },
  {
   "cell_type": "code",
   "execution_count": null,
   "id": "53a5540f",
   "metadata": {},
   "outputs": [],
   "source": []
  },
  {
   "cell_type": "code",
   "execution_count": null,
   "id": "cee7557d",
   "metadata": {},
   "outputs": [],
   "source": []
  },
  {
   "cell_type": "code",
   "execution_count": null,
   "id": "677ea508",
   "metadata": {},
   "outputs": [],
   "source": []
  },
  {
   "cell_type": "code",
   "execution_count": null,
   "id": "e1b8a3fc",
   "metadata": {},
   "outputs": [],
   "source": []
  },
  {
   "cell_type": "code",
   "execution_count": null,
   "id": "d7ef60ad",
   "metadata": {},
   "outputs": [],
   "source": []
  },
  {
   "cell_type": "code",
   "execution_count": null,
   "id": "a897cff6",
   "metadata": {},
   "outputs": [],
   "source": []
  },
  {
   "cell_type": "code",
   "execution_count": null,
   "id": "547c4387",
   "metadata": {},
   "outputs": [],
   "source": []
  },
  {
   "cell_type": "code",
   "execution_count": null,
   "id": "5bc7427c",
   "metadata": {},
   "outputs": [],
   "source": []
  },
  {
   "cell_type": "code",
   "execution_count": null,
   "id": "20f1ef1c",
   "metadata": {},
   "outputs": [],
   "source": []
  },
  {
   "cell_type": "code",
   "execution_count": null,
   "id": "45c1b8d4",
   "metadata": {},
   "outputs": [],
   "source": []
  },
  {
   "cell_type": "code",
   "execution_count": null,
   "id": "642909bf",
   "metadata": {},
   "outputs": [],
   "source": []
  },
  {
   "cell_type": "code",
   "execution_count": null,
   "id": "d36d6461",
   "metadata": {},
   "outputs": [],
   "source": []
  },
  {
   "cell_type": "code",
   "execution_count": null,
   "id": "96dd6dea",
   "metadata": {},
   "outputs": [],
   "source": []
  },
  {
   "cell_type": "code",
   "execution_count": null,
   "id": "cad15283",
   "metadata": {},
   "outputs": [],
   "source": []
  },
  {
   "cell_type": "code",
   "execution_count": null,
   "id": "9ff20168",
   "metadata": {},
   "outputs": [],
   "source": []
  },
  {
   "cell_type": "code",
   "execution_count": null,
   "id": "18a6d9ad",
   "metadata": {},
   "outputs": [],
   "source": []
  },
  {
   "cell_type": "code",
   "execution_count": null,
   "id": "40b54896",
   "metadata": {},
   "outputs": [],
   "source": []
  },
  {
   "cell_type": "code",
   "execution_count": null,
   "id": "bce4e8dc",
   "metadata": {},
   "outputs": [],
   "source": []
  },
  {
   "cell_type": "code",
   "execution_count": null,
   "id": "947d5f32",
   "metadata": {},
   "outputs": [],
   "source": []
  },
  {
   "cell_type": "code",
   "execution_count": null,
   "id": "4baa7a5d",
   "metadata": {},
   "outputs": [],
   "source": []
  },
  {
   "cell_type": "code",
   "execution_count": null,
   "id": "3dea40bb",
   "metadata": {},
   "outputs": [],
   "source": []
  },
  {
   "cell_type": "code",
   "execution_count": null,
   "id": "c601fa47",
   "metadata": {},
   "outputs": [],
   "source": []
  },
  {
   "cell_type": "code",
   "execution_count": null,
   "id": "f344eef1",
   "metadata": {},
   "outputs": [],
   "source": []
  },
  {
   "cell_type": "code",
   "execution_count": null,
   "id": "3f02abf9",
   "metadata": {},
   "outputs": [],
   "source": []
  },
  {
   "cell_type": "code",
   "execution_count": null,
   "id": "538e9dad",
   "metadata": {},
   "outputs": [],
   "source": []
  },
  {
   "cell_type": "code",
   "execution_count": null,
   "id": "54cebff2",
   "metadata": {},
   "outputs": [],
   "source": []
  },
  {
   "cell_type": "code",
   "execution_count": null,
   "id": "845251d9",
   "metadata": {},
   "outputs": [],
   "source": []
  },
  {
   "cell_type": "code",
   "execution_count": null,
   "id": "07df0af6",
   "metadata": {},
   "outputs": [],
   "source": []
  },
  {
   "cell_type": "code",
   "execution_count": null,
   "id": "e1398aa8",
   "metadata": {},
   "outputs": [],
   "source": []
  },
  {
   "cell_type": "code",
   "execution_count": null,
   "id": "83402761",
   "metadata": {},
   "outputs": [],
   "source": []
  },
  {
   "cell_type": "code",
   "execution_count": null,
   "id": "db5bb7fb",
   "metadata": {},
   "outputs": [],
   "source": []
  },
  {
   "cell_type": "code",
   "execution_count": null,
   "id": "2beef8b7",
   "metadata": {},
   "outputs": [],
   "source": []
  },
  {
   "cell_type": "code",
   "execution_count": null,
   "id": "69921474",
   "metadata": {},
   "outputs": [],
   "source": []
  },
  {
   "cell_type": "code",
   "execution_count": null,
   "id": "29dfd4e5",
   "metadata": {},
   "outputs": [],
   "source": []
  },
  {
   "cell_type": "code",
   "execution_count": null,
   "id": "617181e4",
   "metadata": {},
   "outputs": [],
   "source": []
  },
  {
   "cell_type": "code",
   "execution_count": null,
   "id": "163ea072",
   "metadata": {},
   "outputs": [],
   "source": []
  },
  {
   "cell_type": "code",
   "execution_count": null,
   "id": "06c08405",
   "metadata": {},
   "outputs": [],
   "source": []
  },
  {
   "cell_type": "code",
   "execution_count": null,
   "id": "0c66198d",
   "metadata": {},
   "outputs": [],
   "source": []
  },
  {
   "cell_type": "code",
   "execution_count": null,
   "id": "5faa63f4",
   "metadata": {},
   "outputs": [],
   "source": []
  },
  {
   "cell_type": "code",
   "execution_count": null,
   "id": "d27d9198",
   "metadata": {},
   "outputs": [],
   "source": []
  },
  {
   "cell_type": "code",
   "execution_count": null,
   "id": "fbf1be07",
   "metadata": {},
   "outputs": [],
   "source": []
  },
  {
   "cell_type": "code",
   "execution_count": null,
   "id": "9ffba31e",
   "metadata": {},
   "outputs": [],
   "source": []
  },
  {
   "cell_type": "code",
   "execution_count": null,
   "id": "26a60b24",
   "metadata": {},
   "outputs": [],
   "source": []
  },
  {
   "cell_type": "code",
   "execution_count": null,
   "id": "e6597e0b",
   "metadata": {},
   "outputs": [],
   "source": []
  },
  {
   "cell_type": "code",
   "execution_count": null,
   "id": "5078a925",
   "metadata": {},
   "outputs": [],
   "source": []
  },
  {
   "cell_type": "code",
   "execution_count": null,
   "id": "2f51320b",
   "metadata": {},
   "outputs": [],
   "source": []
  },
  {
   "cell_type": "code",
   "execution_count": null,
   "id": "5608450c",
   "metadata": {},
   "outputs": [],
   "source": []
  },
  {
   "cell_type": "code",
   "execution_count": null,
   "id": "68dc32d8",
   "metadata": {},
   "outputs": [],
   "source": []
  },
  {
   "cell_type": "code",
   "execution_count": null,
   "id": "a71dafab",
   "metadata": {},
   "outputs": [],
   "source": []
  },
  {
   "cell_type": "code",
   "execution_count": null,
   "id": "7238b628",
   "metadata": {},
   "outputs": [],
   "source": []
  },
  {
   "cell_type": "code",
   "execution_count": null,
   "id": "a98955a5",
   "metadata": {},
   "outputs": [],
   "source": []
  },
  {
   "cell_type": "code",
   "execution_count": null,
   "id": "552aa070",
   "metadata": {},
   "outputs": [],
   "source": []
  },
  {
   "cell_type": "code",
   "execution_count": null,
   "id": "2583f3ea",
   "metadata": {},
   "outputs": [],
   "source": []
  },
  {
   "cell_type": "code",
   "execution_count": null,
   "id": "e30b15eb",
   "metadata": {},
   "outputs": [],
   "source": []
  },
  {
   "cell_type": "code",
   "execution_count": null,
   "id": "1d82742a",
   "metadata": {},
   "outputs": [],
   "source": []
  },
  {
   "cell_type": "code",
   "execution_count": null,
   "id": "c7bc4f80",
   "metadata": {},
   "outputs": [],
   "source": []
  },
  {
   "cell_type": "code",
   "execution_count": null,
   "id": "5d8037b0",
   "metadata": {},
   "outputs": [],
   "source": []
  },
  {
   "cell_type": "code",
   "execution_count": null,
   "id": "22c6abe6",
   "metadata": {},
   "outputs": [],
   "source": []
  },
  {
   "cell_type": "code",
   "execution_count": null,
   "id": "3ca9b7cd",
   "metadata": {},
   "outputs": [],
   "source": []
  },
  {
   "cell_type": "code",
   "execution_count": null,
   "id": "4cf1410f",
   "metadata": {},
   "outputs": [],
   "source": []
  },
  {
   "cell_type": "code",
   "execution_count": null,
   "id": "b12dcfc5",
   "metadata": {},
   "outputs": [],
   "source": []
  },
  {
   "cell_type": "code",
   "execution_count": null,
   "id": "6f61c1cb",
   "metadata": {},
   "outputs": [],
   "source": []
  },
  {
   "cell_type": "code",
   "execution_count": null,
   "id": "8778aa6a",
   "metadata": {},
   "outputs": [],
   "source": []
  },
  {
   "cell_type": "code",
   "execution_count": null,
   "id": "f495e744",
   "metadata": {},
   "outputs": [],
   "source": []
  },
  {
   "cell_type": "code",
   "execution_count": null,
   "id": "7864be54",
   "metadata": {},
   "outputs": [],
   "source": []
  },
  {
   "cell_type": "code",
   "execution_count": null,
   "id": "09884812",
   "metadata": {},
   "outputs": [],
   "source": []
  },
  {
   "cell_type": "code",
   "execution_count": null,
   "id": "e6b29483",
   "metadata": {},
   "outputs": [],
   "source": []
  },
  {
   "cell_type": "code",
   "execution_count": null,
   "id": "4fee3c80",
   "metadata": {},
   "outputs": [],
   "source": []
  },
  {
   "cell_type": "code",
   "execution_count": null,
   "id": "00fc5d1c",
   "metadata": {},
   "outputs": [],
   "source": []
  },
  {
   "cell_type": "code",
   "execution_count": null,
   "id": "f2b1bb41",
   "metadata": {},
   "outputs": [],
   "source": []
  },
  {
   "cell_type": "code",
   "execution_count": null,
   "id": "15cfc708",
   "metadata": {},
   "outputs": [],
   "source": []
  },
  {
   "cell_type": "code",
   "execution_count": null,
   "id": "ff90f534",
   "metadata": {},
   "outputs": [],
   "source": []
  },
  {
   "cell_type": "code",
   "execution_count": null,
   "id": "200744f8",
   "metadata": {},
   "outputs": [],
   "source": []
  },
  {
   "cell_type": "code",
   "execution_count": null,
   "id": "34b8e294",
   "metadata": {},
   "outputs": [],
   "source": []
  },
  {
   "cell_type": "code",
   "execution_count": null,
   "id": "47a081c4",
   "metadata": {},
   "outputs": [],
   "source": []
  },
  {
   "cell_type": "code",
   "execution_count": null,
   "id": "0cd2ba94",
   "metadata": {},
   "outputs": [],
   "source": []
  },
  {
   "cell_type": "code",
   "execution_count": null,
   "id": "59ff5a5f",
   "metadata": {},
   "outputs": [],
   "source": []
  },
  {
   "cell_type": "code",
   "execution_count": null,
   "id": "2932af52",
   "metadata": {},
   "outputs": [],
   "source": []
  },
  {
   "cell_type": "code",
   "execution_count": null,
   "id": "4093a95e",
   "metadata": {},
   "outputs": [],
   "source": []
  },
  {
   "cell_type": "code",
   "execution_count": null,
   "id": "077b940a",
   "metadata": {},
   "outputs": [],
   "source": []
  },
  {
   "cell_type": "code",
   "execution_count": null,
   "id": "b9ee01d4",
   "metadata": {},
   "outputs": [],
   "source": []
  },
  {
   "cell_type": "code",
   "execution_count": null,
   "id": "a0e79de1",
   "metadata": {},
   "outputs": [],
   "source": []
  },
  {
   "cell_type": "code",
   "execution_count": null,
   "id": "222abf33",
   "metadata": {},
   "outputs": [],
   "source": []
  },
  {
   "cell_type": "code",
   "execution_count": null,
   "id": "445f76b7",
   "metadata": {},
   "outputs": [],
   "source": []
  },
  {
   "cell_type": "code",
   "execution_count": null,
   "id": "034a2221",
   "metadata": {},
   "outputs": [],
   "source": []
  },
  {
   "cell_type": "code",
   "execution_count": null,
   "id": "d2e39b58",
   "metadata": {},
   "outputs": [],
   "source": []
  },
  {
   "cell_type": "code",
   "execution_count": null,
   "id": "147be250",
   "metadata": {},
   "outputs": [],
   "source": []
  },
  {
   "cell_type": "code",
   "execution_count": null,
   "id": "932dcc40",
   "metadata": {},
   "outputs": [],
   "source": []
  },
  {
   "cell_type": "code",
   "execution_count": null,
   "id": "6b901152",
   "metadata": {},
   "outputs": [],
   "source": []
  },
  {
   "cell_type": "code",
   "execution_count": null,
   "id": "a0e05d9c",
   "metadata": {},
   "outputs": [],
   "source": []
  },
  {
   "cell_type": "code",
   "execution_count": null,
   "id": "55a872c6",
   "metadata": {},
   "outputs": [],
   "source": []
  },
  {
   "cell_type": "code",
   "execution_count": null,
   "id": "f685326c",
   "metadata": {},
   "outputs": [],
   "source": []
  },
  {
   "cell_type": "code",
   "execution_count": null,
   "id": "e631bf37",
   "metadata": {},
   "outputs": [],
   "source": []
  },
  {
   "cell_type": "code",
   "execution_count": null,
   "id": "fb1cd6e6",
   "metadata": {},
   "outputs": [],
   "source": []
  },
  {
   "cell_type": "code",
   "execution_count": null,
   "id": "02823e69",
   "metadata": {},
   "outputs": [],
   "source": []
  },
  {
   "cell_type": "code",
   "execution_count": null,
   "id": "2a0226c2",
   "metadata": {},
   "outputs": [],
   "source": []
  },
  {
   "cell_type": "code",
   "execution_count": null,
   "id": "4480dee5",
   "metadata": {},
   "outputs": [],
   "source": []
  },
  {
   "cell_type": "code",
   "execution_count": null,
   "id": "b065c859",
   "metadata": {},
   "outputs": [],
   "source": []
  },
  {
   "cell_type": "code",
   "execution_count": null,
   "id": "dbc853bb",
   "metadata": {},
   "outputs": [],
   "source": []
  },
  {
   "cell_type": "code",
   "execution_count": null,
   "id": "9f3664ee",
   "metadata": {},
   "outputs": [],
   "source": []
  },
  {
   "cell_type": "code",
   "execution_count": null,
   "id": "0a9169c8",
   "metadata": {},
   "outputs": [],
   "source": []
  },
  {
   "cell_type": "code",
   "execution_count": null,
   "id": "5649893a",
   "metadata": {},
   "outputs": [],
   "source": []
  },
  {
   "cell_type": "code",
   "execution_count": null,
   "id": "831d0498",
   "metadata": {},
   "outputs": [],
   "source": []
  },
  {
   "cell_type": "code",
   "execution_count": null,
   "id": "8f19e137",
   "metadata": {},
   "outputs": [],
   "source": []
  },
  {
   "cell_type": "code",
   "execution_count": null,
   "id": "e163e48a",
   "metadata": {},
   "outputs": [],
   "source": []
  },
  {
   "cell_type": "code",
   "execution_count": null,
   "id": "206eda67",
   "metadata": {},
   "outputs": [],
   "source": []
  },
  {
   "cell_type": "code",
   "execution_count": null,
   "id": "37d2a0ec",
   "metadata": {},
   "outputs": [],
   "source": []
  },
  {
   "cell_type": "code",
   "execution_count": null,
   "id": "53f1ade4",
   "metadata": {},
   "outputs": [],
   "source": []
  },
  {
   "cell_type": "code",
   "execution_count": null,
   "id": "01ece4dc",
   "metadata": {},
   "outputs": [],
   "source": []
  },
  {
   "cell_type": "code",
   "execution_count": null,
   "id": "872fc1e9",
   "metadata": {},
   "outputs": [],
   "source": []
  },
  {
   "cell_type": "code",
   "execution_count": null,
   "id": "aee26ab1",
   "metadata": {},
   "outputs": [],
   "source": []
  },
  {
   "cell_type": "code",
   "execution_count": null,
   "id": "03d2806a",
   "metadata": {},
   "outputs": [],
   "source": []
  },
  {
   "cell_type": "code",
   "execution_count": null,
   "id": "d7c0b260",
   "metadata": {},
   "outputs": [],
   "source": []
  },
  {
   "cell_type": "code",
   "execution_count": null,
   "id": "d07aa7c2",
   "metadata": {},
   "outputs": [],
   "source": []
  },
  {
   "cell_type": "code",
   "execution_count": null,
   "id": "80134dce",
   "metadata": {},
   "outputs": [],
   "source": []
  },
  {
   "cell_type": "code",
   "execution_count": null,
   "id": "eb29f02e",
   "metadata": {},
   "outputs": [],
   "source": []
  },
  {
   "cell_type": "code",
   "execution_count": null,
   "id": "83ff3387",
   "metadata": {},
   "outputs": [],
   "source": []
  },
  {
   "cell_type": "code",
   "execution_count": null,
   "id": "40902f58",
   "metadata": {},
   "outputs": [],
   "source": []
  },
  {
   "cell_type": "code",
   "execution_count": null,
   "id": "bf98fa7a",
   "metadata": {},
   "outputs": [],
   "source": []
  },
  {
   "cell_type": "code",
   "execution_count": null,
   "id": "35ca1f7b",
   "metadata": {},
   "outputs": [],
   "source": []
  },
  {
   "cell_type": "code",
   "execution_count": null,
   "id": "1394d8ac",
   "metadata": {},
   "outputs": [],
   "source": []
  },
  {
   "cell_type": "code",
   "execution_count": null,
   "id": "584ac8ba",
   "metadata": {},
   "outputs": [],
   "source": []
  },
  {
   "cell_type": "code",
   "execution_count": null,
   "id": "c0fcaacb",
   "metadata": {},
   "outputs": [],
   "source": []
  },
  {
   "cell_type": "code",
   "execution_count": null,
   "id": "8fa86492",
   "metadata": {},
   "outputs": [],
   "source": []
  },
  {
   "cell_type": "code",
   "execution_count": null,
   "id": "7eed83fc",
   "metadata": {},
   "outputs": [],
   "source": []
  },
  {
   "cell_type": "code",
   "execution_count": null,
   "id": "7b998fdb",
   "metadata": {},
   "outputs": [],
   "source": []
  },
  {
   "cell_type": "code",
   "execution_count": null,
   "id": "26d807dc",
   "metadata": {},
   "outputs": [],
   "source": []
  },
  {
   "cell_type": "code",
   "execution_count": null,
   "id": "03a3ceea",
   "metadata": {},
   "outputs": [],
   "source": []
  },
  {
   "cell_type": "code",
   "execution_count": null,
   "id": "7c0f2d6d",
   "metadata": {},
   "outputs": [],
   "source": []
  },
  {
   "cell_type": "code",
   "execution_count": null,
   "id": "87f1c914",
   "metadata": {},
   "outputs": [],
   "source": []
  },
  {
   "cell_type": "code",
   "execution_count": null,
   "id": "e464e485",
   "metadata": {},
   "outputs": [],
   "source": []
  },
  {
   "cell_type": "code",
   "execution_count": null,
   "id": "5074f5ec",
   "metadata": {},
   "outputs": [],
   "source": []
  },
  {
   "cell_type": "code",
   "execution_count": null,
   "id": "6e1e9bae",
   "metadata": {},
   "outputs": [],
   "source": []
  },
  {
   "cell_type": "code",
   "execution_count": null,
   "id": "1796e1d3",
   "metadata": {},
   "outputs": [],
   "source": []
  },
  {
   "cell_type": "code",
   "execution_count": null,
   "id": "a1d1c329",
   "metadata": {},
   "outputs": [],
   "source": []
  },
  {
   "cell_type": "code",
   "execution_count": null,
   "id": "6ff118f7",
   "metadata": {},
   "outputs": [],
   "source": []
  },
  {
   "cell_type": "code",
   "execution_count": null,
   "id": "d360eb1d",
   "metadata": {},
   "outputs": [],
   "source": []
  },
  {
   "cell_type": "code",
   "execution_count": null,
   "id": "70c643be",
   "metadata": {},
   "outputs": [],
   "source": []
  },
  {
   "cell_type": "code",
   "execution_count": null,
   "id": "0e479102",
   "metadata": {},
   "outputs": [],
   "source": []
  },
  {
   "cell_type": "code",
   "execution_count": null,
   "id": "3351ced8",
   "metadata": {},
   "outputs": [],
   "source": []
  },
  {
   "cell_type": "code",
   "execution_count": null,
   "id": "27d388a3",
   "metadata": {},
   "outputs": [],
   "source": []
  },
  {
   "cell_type": "code",
   "execution_count": null,
   "id": "fadcd13f",
   "metadata": {},
   "outputs": [],
   "source": []
  },
  {
   "cell_type": "code",
   "execution_count": null,
   "id": "c128a44e",
   "metadata": {},
   "outputs": [],
   "source": []
  },
  {
   "cell_type": "code",
   "execution_count": null,
   "id": "a05305ed",
   "metadata": {},
   "outputs": [],
   "source": []
  },
  {
   "cell_type": "code",
   "execution_count": null,
   "id": "0886b3f0",
   "metadata": {},
   "outputs": [],
   "source": []
  },
  {
   "cell_type": "code",
   "execution_count": null,
   "id": "60f72e13",
   "metadata": {},
   "outputs": [],
   "source": []
  },
  {
   "cell_type": "code",
   "execution_count": null,
   "id": "acc66580",
   "metadata": {},
   "outputs": [],
   "source": []
  },
  {
   "cell_type": "code",
   "execution_count": null,
   "id": "65a1d182",
   "metadata": {},
   "outputs": [],
   "source": []
  },
  {
   "cell_type": "code",
   "execution_count": null,
   "id": "fc9e0b4d",
   "metadata": {},
   "outputs": [],
   "source": []
  },
  {
   "cell_type": "code",
   "execution_count": null,
   "id": "666a718c",
   "metadata": {},
   "outputs": [],
   "source": []
  },
  {
   "cell_type": "code",
   "execution_count": null,
   "id": "232a7f96",
   "metadata": {},
   "outputs": [],
   "source": []
  },
  {
   "cell_type": "code",
   "execution_count": null,
   "id": "9169cc64",
   "metadata": {},
   "outputs": [],
   "source": []
  },
  {
   "cell_type": "code",
   "execution_count": null,
   "id": "d21597c5",
   "metadata": {},
   "outputs": [],
   "source": []
  },
  {
   "cell_type": "code",
   "execution_count": null,
   "id": "a2d251b9",
   "metadata": {},
   "outputs": [],
   "source": []
  },
  {
   "cell_type": "code",
   "execution_count": null,
   "id": "5eddb2c6",
   "metadata": {},
   "outputs": [],
   "source": []
  },
  {
   "cell_type": "code",
   "execution_count": null,
   "id": "34c83425",
   "metadata": {},
   "outputs": [],
   "source": []
  },
  {
   "cell_type": "code",
   "execution_count": null,
   "id": "535c3dd2",
   "metadata": {},
   "outputs": [],
   "source": []
  },
  {
   "cell_type": "code",
   "execution_count": null,
   "id": "d907de16",
   "metadata": {},
   "outputs": [],
   "source": []
  },
  {
   "cell_type": "code",
   "execution_count": null,
   "id": "c183e32d",
   "metadata": {},
   "outputs": [],
   "source": []
  },
  {
   "cell_type": "code",
   "execution_count": null,
   "id": "0e7a4e66",
   "metadata": {},
   "outputs": [],
   "source": []
  },
  {
   "cell_type": "code",
   "execution_count": null,
   "id": "a9ec7e09",
   "metadata": {},
   "outputs": [],
   "source": []
  },
  {
   "cell_type": "code",
   "execution_count": null,
   "id": "1733571c",
   "metadata": {},
   "outputs": [],
   "source": []
  },
  {
   "cell_type": "code",
   "execution_count": null,
   "id": "aec3dac5",
   "metadata": {},
   "outputs": [],
   "source": []
  },
  {
   "cell_type": "code",
   "execution_count": null,
   "id": "73f72c43",
   "metadata": {},
   "outputs": [],
   "source": []
  },
  {
   "cell_type": "code",
   "execution_count": null,
   "id": "263e9617",
   "metadata": {},
   "outputs": [],
   "source": []
  },
  {
   "cell_type": "code",
   "execution_count": null,
   "id": "22ff4931",
   "metadata": {},
   "outputs": [],
   "source": []
  },
  {
   "cell_type": "code",
   "execution_count": null,
   "id": "ded2920e",
   "metadata": {},
   "outputs": [],
   "source": []
  },
  {
   "cell_type": "code",
   "execution_count": null,
   "id": "b78658cd",
   "metadata": {},
   "outputs": [],
   "source": []
  },
  {
   "cell_type": "code",
   "execution_count": null,
   "id": "e168350b",
   "metadata": {},
   "outputs": [],
   "source": []
  },
  {
   "cell_type": "code",
   "execution_count": null,
   "id": "062a097e",
   "metadata": {},
   "outputs": [],
   "source": []
  },
  {
   "cell_type": "code",
   "execution_count": null,
   "id": "7dff0e9e",
   "metadata": {},
   "outputs": [],
   "source": []
  }
 ],
 "metadata": {
  "kernelspec": {
   "display_name": "Python 3 (ipykernel)",
   "language": "python",
   "name": "python3"
  },
  "language_info": {
   "codemirror_mode": {
    "name": "ipython",
    "version": 3
   },
   "file_extension": ".py",
   "mimetype": "text/x-python",
   "name": "python",
   "nbconvert_exporter": "python",
   "pygments_lexer": "ipython3",
   "version": "3.10.4"
  },
  "latex_envs": {
   "LaTeX_envs_menu_present": true,
   "autoclose": false,
   "autocomplete": true,
   "bibliofile": "biblio.bib",
   "cite_by": "apalike",
   "current_citInitial": 1,
   "eqLabelWithNumbers": true,
   "eqNumInitial": 1,
   "hotkeys": {
    "equation": "Ctrl-E",
    "itemize": "Ctrl-I"
   },
   "labels_anchors": false,
   "latex_user_defs": false,
   "report_style_numbering": false,
   "user_envs_cfg": false
  },
  "toc": {
   "base_numbering": 1,
   "nav_menu": {},
   "number_sections": true,
   "sideBar": true,
   "skip_h1_title": false,
   "title_cell": "Table of Contents",
   "title_sidebar": "Contents",
   "toc_cell": false,
   "toc_position": {},
   "toc_section_display": true,
   "toc_window_display": false
  },
  "varInspector": {
   "cols": {
    "lenName": 16,
    "lenType": 16,
    "lenVar": 40
   },
   "kernels_config": {
    "python": {
     "delete_cmd_postfix": "",
     "delete_cmd_prefix": "del ",
     "library": "var_list.py",
     "varRefreshCmd": "print(var_dic_list())"
    },
    "r": {
     "delete_cmd_postfix": ") ",
     "delete_cmd_prefix": "rm(",
     "library": "var_list.r",
     "varRefreshCmd": "cat(var_dic_list()) "
    }
   },
   "types_to_exclude": [
    "module",
    "function",
    "builtin_function_or_method",
    "instance",
    "_Feature"
   ],
   "window_display": false
  }
 },
 "nbformat": 4,
 "nbformat_minor": 5
}
