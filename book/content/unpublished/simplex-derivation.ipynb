{
 "cells": [
  {
   "cell_type": "markdown",
   "id": "78b9bf36",
   "metadata": {},
   "source": [
    "# Derivation of Simplex Airfoil Curve\n",
    "\n",
    "This section is incomplete, and not necessary if you are willing to accept the code generated above. I am including it since I want to understand exactly how this airfoil gets generated."
   ]
  },
  {
   "cell_type": "markdown",
   "id": "2449e010",
   "metadata": {},
   "source": [
    "The simplex airfoil is a section of the logarithmic spiral curve first developed in 1525 by  Albrecht Dürer and studied extensively by  Jacob Bernoulli, a name that should be familiar to anyone interested in aerodynamics!. This curve is defined by this equation:\n",
    "\n",
    "\\begin{equation}\n",
    "\\rho = a{\\rm e}^{k\\psi}\n",
    "\\end{equation}\n",
    "\n",
    "\n",
    "In this equation, written in polar ($\\rho$,$\\psi$) coordinates, $a (a > 0)$ and $k (k \\neq 0)$ are arbitrary constants.\n",
    "\n",
    "From this defining equation, we can come up with some other helpful equations.\n",
    "\n",
    "If we divide both sides by $a$ and take the natural logarithm of both sides, we get:\n",
    "\n",
    "\\begin{equation}\n",
    "\\psi = \\frac{1}{k}ln\\frac{\\rho}{a}\n",
    "\\end{equation}\n",
    "\n",
    "\n",
    "\\begin{equation}\n",
    "k = \\frac{1}{\\tan{\\alpha}}\n",
    "\\end{equation}\n",
    "\n",
    "Where the slope of the leading edge is defined by $\\alpha$. \n",
    "\n",
    "We can define the equations for this curve in cartesian coordinates as follows:\n",
    "\n",
    "\\begin{equation}\n",
    "x = a{\\rm e}^{k\\psi} \\cos(\\psi)\n",
    "\\end{equation}\n",
    "\n",
    "\\begin{equation}\n",
    "y = a{\\rm e}^{k\\psi} \\sin(\\psi)\n",
    "\\end{equation}\n",
    "\n",
    "\n",
    "As $k$ approaches zero, the spiral collapses to a circle. Looking at the documentation for this spiral, as $k$ approaches zero, the limiting case of $\\alpha$ is $-\\pi/2$. (I have not convinced **sympy** to prove this yet!) "
   ]
  },
  {
   "cell_type": "code",
   "execution_count": 1,
   "id": "977e1b18",
   "metadata": {},
   "outputs": [],
   "source": [
    "import sympy\n",
    "psi, a, k, rho = sympy.symbols('psi a k rho')"
   ]
  },
  {
   "cell_type": "code",
   "execution_count": 2,
   "id": "ddd1259b",
   "metadata": {},
   "outputs": [
    {
     "name": "stdout",
     "output_type": "stream",
     "text": [
      "psi = log(rho/a)/k\n"
     ]
    }
   ],
   "source": [
    "eq1 = sympy.exp(k * psi)\n",
    "eq2 = rho/a\n",
    "eq3 = sympy.log(eq1)\n",
    "eq4 = sympy.log(eq2)\n",
    "print((eq3/k).expand(force=True),\"=\",eq4/k)"
   ]
  },
  {
   "cell_type": "markdown",
   "id": "a29694b2",
   "metadata": {},
   "source": [
    "This is equation 7 above. \n",
    "\n",
    "The angle $\\alpha$ between the tangent line to the spiral curve and a radial line is given by:\n",
    "    \n",
    "\\begin{equation}\n",
    "\\tan(\\alpha) = \\frac{r}{\\frac{dr}{d\\psi}}\n",
    "\\end{equation}"
   ]
  },
  {
   "cell_type": "code",
   "execution_count": 3,
   "id": "c8ca242a",
   "metadata": {},
   "outputs": [
    {
     "data": {
      "text/latex": [
       "$\\displaystyle \\frac{1}{k}$"
      ],
      "text/plain": [
       "1/k"
      ]
     },
     "execution_count": 3,
     "metadata": {},
     "output_type": "execute_result"
    }
   ],
   "source": [
    "rho = a * sympy.exp(k * psi)\n",
    "eq5= sympy.diff(rho, psi)\n",
    "rho/eq5"
   ]
  },
  {
   "cell_type": "markdown",
   "id": "f23aa98e",
   "metadata": {},
   "source": [
    "This is equation 8 above. The angle is constant everywhere on the spiral. As $k \\rightarrow 0$, the curve collapses to a simple circle with constant radius $a$."
   ]
  },
  {
   "cell_type": "markdown",
   "id": "28ef6d09",
   "metadata": {},
   "source": [
    "From this result, we get our equation for  𝜓  shown above,"
   ]
  },
  {
   "cell_type": "markdown",
   "id": "da14846b",
   "metadata": {},
   "source": [
    "It appears that the spreadsheet uses $\\rho/a$ as a parameter, and lets it range from 0 to 1 (actually, from 0 to the chord length). Since the natural logarithm of zero is infinity, the value of $\\psi$ is set to $-\\pi/2$ when $\\rho/a$ is equal to zero. This ends up with the $x$  value running from 0 to the chord length as well. This approximation cleans up the actual behavior of the spiral curve as $\\rho/a$ approaches 0."
   ]
  },
  {
   "cell_type": "markdown",
   "id": "27667bf1",
   "metadata": {},
   "source": [
    "If we define the angle made between the spiral and the circle passing through this point as $\\alpha$, we get:\n",
    "\n",
    "\\begin{equation}\n",
    "tan(\\alpha) = \\frac{1}{k}\n",
    "\\end{equation}\n",
    "\n",
    "Let's look at this curve:"
   ]
  },
  {
   "cell_type": "code",
   "execution_count": 4,
   "id": "9ce534fa",
   "metadata": {},
   "outputs": [
    {
     "data": {
      "image/png": "[encoded data removed]",
      "text/plain": [
       "<Figure size 360x360 with 1 Axes>"
      ]
     },
     "metadata": {
      "needs_background": "light"
     },
     "output_type": "display_data"
    }
   ],
   "source": [
    "import numpy as np\n",
    "import matplotlib.pyplot as plt\n",
    "\n",
    "n=100\n",
    "a=0.25\n",
    "k=0.20\n",
    "th=np.linspace(0, 6*np.pi, 600)\n",
    "x=a*np.exp(k*th)*np.cos(th)\n",
    "y=a*np.exp(k*th)*np.sin(th)\n",
    "plt.figure(figsize=(5,5))\n",
    "plt.plot(x, y)\n",
    "plt.plot([-10,10],[0,0])\n",
    "plt.plot([0,0],[-10,10])\n",
    "plt.show()"
   ]
  },
  {
   "cell_type": "markdown",
   "id": "bf6fc06a",
   "metadata": {},
   "source": [
    "Obviously, we only need a slice of this curve for our airfoil. In this polar system, $psi$ is increasing in a counter-clockwise direction. At $\\psi = 0$, the radius is simply equal to $a$. If you look closely at this spiral between angles of $0$ and $\\pi/2$, it is apparent that as we sweep to increasing values of $\\psi$ we are sweeping from the trailing edge of our desired airfoil to the leading edge. Let's set up a cartesian system that placed the origin at the leading edge $(\\psi = 0)$ and the trailing edge at $(\\psi = \\pi/2)$. We will scale this new system so the length of the chord is one. "
   ]
  },
  {
   "cell_type": "markdown",
   "id": "76b1353f",
   "metadata": {},
   "source": [
    "### Slicing off the Simplex Airfoil\n",
    "\n",
    "The spiral, as defined in polar form, cannot directly define our simplex airfoil. Instead, we need a coordinate transformation that sets up a new cartesian coordinate system we will use instead. "
   ]
  },
  {
   "cell_type": "markdown",
   "id": "95463f31",
   "metadata": {},
   "source": [
    "### Locating the Maximum Point\n",
    "\n",
    "We can explore these equations and try to locate the point where the height of our airfoil will be a maximum. "
   ]
  },
  {
   "cell_type": "code",
   "execution_count": 5,
   "id": "72c952d7",
   "metadata": {},
   "outputs": [],
   "source": [
    "import sympy\n",
    "y, k, psi = sympy.symbols('y k psi')\n",
    "x = sympy.E**(k*psi) * sympy.sin(psi)\n",
    "y = sympy.E**(k*psi) * sympy.cos(psi)"
   ]
  },
  {
   "cell_type": "code",
   "execution_count": 6,
   "id": "5f162711",
   "metadata": {},
   "outputs": [
    {
     "data": {
      "text/latex": [
       "$\\displaystyle k e^{k \\psi} \\sin{\\left(\\psi \\right)} + e^{k \\psi} \\cos{\\left(\\psi \\right)}$"
      ],
      "text/plain": [
       "k*exp(k*psi)*sin(psi) + exp(k*psi)*cos(psi)"
      ]
     },
     "execution_count": 6,
     "metadata": {},
     "output_type": "execute_result"
    }
   ],
   "source": [
    "e1 = sympy.diff(x,psi)\n",
    "e1"
   ]
  },
  {
   "cell_type": "code",
   "execution_count": 7,
   "id": "2105fb5d",
   "metadata": {},
   "outputs": [
    {
     "data": {
      "text/latex": [
       "$\\displaystyle k e^{k \\psi} \\cos{\\left(\\psi \\right)} - e^{k \\psi} \\sin{\\left(\\psi \\right)}$"
      ],
      "text/plain": [
       "k*exp(k*psi)*cos(psi) - exp(k*psi)*sin(psi)"
      ]
     },
     "execution_count": 7,
     "metadata": {},
     "output_type": "execute_result"
    }
   ],
   "source": [
    "e2 = sympy.diff(y,psi)\n",
    "e2"
   ]
  },
  {
   "cell_type": "code",
   "execution_count": 8,
   "id": "25abc295",
   "metadata": {},
   "outputs": [
    {
     "data": {
      "text/latex": [
       "$\\displaystyle \\frac{k \\cos{\\left(\\psi \\right)} - \\sin{\\left(\\psi \\right)}}{k \\sin{\\left(\\psi \\right)} + \\cos{\\left(\\psi \\right)}}$"
      ],
      "text/plain": [
       "(k*cos(psi) - sin(psi))/(k*sin(psi) + cos(psi))"
      ]
     },
     "execution_count": 8,
     "metadata": {},
     "output_type": "execute_result"
    }
   ],
   "source": [
    "sympy.ratsimp(e2/e1)"
   ]
  },
  {
   "cell_type": "markdown",
   "id": "a7a54428",
   "metadata": {},
   "source": [
    "In the above equations $e1$ is $\\frac{dx}{d\\psi}$ and $e2$ is $\\frac{dy}{d\\psi}$. Using the chain rule, we get the slope of the curve $\\frac{dy}{dx}$. The high point on the curve will occur where this expression equals zero. We can find the equation for $\\psi$ where this happens:"
   ]
  },
  {
   "cell_type": "code",
   "execution_count": 9,
   "id": "2597fde5",
   "metadata": {},
   "outputs": [
    {
     "data": {
      "text/latex": [
       "$\\displaystyle k \\cos{\\left(\\psi \\right)} - \\sin{\\left(\\psi \\right)}$"
      ],
      "text/plain": [
       "k*cos(psi) - sin(psi)"
      ]
     },
     "execution_count": 9,
     "metadata": {},
     "output_type": "execute_result"
    }
   ],
   "source": [
    "eq2 = k * sympy.cos(psi) - sympy.sin(psi)\n",
    "eq2"
   ]
  },
  {
   "cell_type": "code",
   "execution_count": 10,
   "id": "d9035bbb",
   "metadata": {},
   "outputs": [
    {
     "data": {
      "text/latex": [
       "$\\displaystyle 2 \\operatorname{atan}{\\left(\\frac{\\sqrt{k^{2} + 1} - 1}{k} \\right)}$"
      ],
      "text/plain": [
       "2*atan((sqrt(k**2 + 1) - 1)/k)"
      ]
     },
     "execution_count": 10,
     "metadata": {},
     "output_type": "execute_result"
    }
   ],
   "source": [
    "eq3 = sympy.solve(eq2,psi)\n",
    "eq4 = sympy.simplify(eq3[0])\n",
    "eq4"
   ]
  },
  {
   "cell_type": "markdown",
   "id": "7f5dfd54",
   "metadata": {},
   "source": [
    "This is the value of $\\psi$ where $y$ is at a max. To find out that height, we plug this back into the equation for $y$:"
   ]
  },
  {
   "cell_type": "code",
   "execution_count": 11,
   "id": "07c24fa1",
   "metadata": {},
   "outputs": [
    {
     "data": {
      "text/latex": [
       "$\\displaystyle e^{k \\psi} \\cos{\\left(\\psi \\right)}$"
      ],
      "text/plain": [
       "exp(k*psi)*cos(psi)"
      ]
     },
     "execution_count": 11,
     "metadata": {},
     "output_type": "execute_result"
    }
   ],
   "source": [
    "y.subs(eq4, psi)"
   ]
  },
  {
   "cell_type": "code",
   "execution_count": null,
   "id": "98e35a36",
   "metadata": {},
   "outputs": [],
   "source": []
  }
 ],
 "metadata": {
  "kernelspec": {
   "display_name": "Python 3 (ipykernel)",
   "language": "python",
   "name": "python3"
  },
  "language_info": {
   "codemirror_mode": {
    "name": "ipython",
    "version": 3
   },
   "file_extension": ".py",
   "mimetype": "text/x-python",
   "name": "python",
   "nbconvert_exporter": "python",
   "pygments_lexer": "ipython3",
   "version": "3.10.4"
  },
  "toc": {
   "base_numbering": 1,
   "nav_menu": {},
   "number_sections": true,
   "sideBar": true,
   "skip_h1_title": false,
   "title_cell": "Table of Contents",
   "title_sidebar": "Contents",
   "toc_cell": false,
   "toc_position": {},
   "toc_section_display": true,
   "toc_window_display": false
  },
  "varInspector": {
   "cols": {
    "lenName": 16,
    "lenType": 16,
    "lenVar": 40
   },
   "kernels_config": {
    "python": {
     "delete_cmd_postfix": "",
     "delete_cmd_prefix": "del ",
     "library": "var_list.py",
     "varRefreshCmd": "print(var_dic_list())"
    },
    "r": {
     "delete_cmd_postfix": ") ",
     "delete_cmd_prefix": "rm(",
     "library": "var_list.r",
     "varRefreshCmd": "cat(var_dic_list()) "
    }
   },
   "types_to_exclude": [
    "module",
    "function",
    "builtin_function_or_method",
    "instance",
    "_Feature"
   ],
   "window_display": false
  }
 },
 "nbformat": 4,
 "nbformat_minor": 5
}
