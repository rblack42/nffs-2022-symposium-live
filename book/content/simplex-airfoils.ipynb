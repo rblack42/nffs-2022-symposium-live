{
 "cells": [
  {
   "cell_type": "markdown",
   "id": "1316312d",
   "metadata": {},
   "source": [
    "# Simplex Airfoils"
   ]
  },
  {
   "cell_type": "markdown",
   "id": "57ae3b67",
   "metadata": {},
   "source": [
    "Many indoor models are constructed using a simple circular arc airfoil. I showed how to use the Python **sympy** package to figure out the radius needed for some specified camber in my last article{cite}`black2021`.\n",
    "\n",
    "The circular arc has its high point at the 50% chord point, which does not look much like a traditional airfoil. Another popular shape is called the *Simplex* airfoil, which moves the high point forward to about the 36% chord point. *Simplex* airfoils are unique in that one template can be used for any chord width by pinning the leading edge and rotating the template to match the desired chord. A bit of digging on the Internet turned up an Excel spreadsheet {cite}`simplex` that contained the code needed to generate the airfoil shape, but I want to be able to generate these shapes directly in Python. Let's extract the formulas needed from the spreadsheet and see what we get:"
   ]
  },
  {
   "cell_type": "markdown",
   "id": "df206097",
   "metadata": {},
   "source": [
    "## Simplex Airfoil Spreadsheet Formulas"
   ]
  },
  {
   "cell_type": "markdown",
   "id": "5f7202d2",
   "metadata": {},
   "source": [
    "The formulas from the spreadsheet are these:\n",
    "\n",
    "\\begin{equation}\n",
    "\\alpha = 1.554 camber\n",
    "\\end{equation}\n",
    "\n",
    "Here **camber** is the percentage of the chord desired.\n",
    "\n",
    "\\begin{equation}\n",
    "\\psi = \\pi \\tan(\\frac{A \\pi}{360})ln(x)\n",
    "\\end{equation}\n",
    "\n",
    "Where $x$ is a number ranging from $0$ to $1$. This is not the save as the $are X$ coordinate we use for the airfoil. It seems to be related to $\\rho/a$. We may need to figure this out later.\n",
    "\n",
    "\\begin{equation}\n",
    "\\rho = {\\rm e}^{\\psi/\\tan(\\frac{A\\pi}{180})}\n",
    "\\end{equation}\n",
    "\n",
    "\\begin{equation}\n",
    "x = \\rho \\sin{\\psi}\n",
    "\\end{equation}\n",
    "\n",
    "\\begin{equation}\n",
    "y = \\rho \\cos({-\\psi})\n",
    "\\end{equation}\n",
    "\n",
    "These equations work in generating the airfoil shape. However, I prefer to use verifiable equations that I can prove are correct, so we will explore generating the airfoil using **sympy** below.\n",
    "\n",
    "For now, let's explore an example airfoil."
   ]
  },
  {
   "cell_type": "code",
   "execution_count": null,
   "id": "b4012872",
   "metadata": {},
   "outputs": [],
   "source": [
    "import math\n",
    "import numpy as np\n",
    "import matplotlib.pyplot as plt"
   ]
  },
  {
   "cell_type": "code",
   "execution_count": null,
   "id": "4f44e0e0",
   "metadata": {},
   "outputs": [],
   "source": [
    "chord = 2\n",
    "camber = 0.10\n",
    "npoints = 51\n",
    "alpha = 1.554 * camber * math.pi/180\n",
    "k = 1/math.tan(alpha)\n",
    "print(alpha, k)"
   ]
  },
  {
   "cell_type": "code",
   "execution_count": null,
   "id": "52db2886",
   "metadata": {},
   "outputs": [],
   "source": [
    "roa = np.linspace(0,1,npoints)\n",
    "roa = roa /chord\n",
    "roa[0] = 0.0000001  # avoid infinity in ln(0)\n",
    "psi = np.pi * np.tan(alpha/2) * np.log(roa)"
   ]
  },
  {
   "cell_type": "code",
   "execution_count": null,
   "id": "26ee252f",
   "metadata": {},
   "outputs": [],
   "source": [
    "rho = chord * np.exp(psi / np.tan(alpha))\n",
    "#rho[0] = 0\n",
    "xc = rho * np.cos(psi)\n",
    "yc = rho * np.sin(-psi)\n",
    "print(\"  psi    rho     x      y\")\n",
    "for i in range(npoints):\n",
    "    print(\"%6.3f %6.3f %6.3f %6.3f\" % (psi[i], rho[i], xc[i], yc[i]))\n",
    "    #print(psi[i], rho[i], xc[i], yc[i])"
   ]
  },
  {
   "cell_type": "markdown",
   "id": "288d48ac",
   "metadata": {},
   "source": [
    "This looks exactly like the output from the spreadsheet. I used a hack to keep $r/a$ from reaching zero, which would have sent $ln(0r/a$ to infinity! There is still a \"magic\" number here that converts camber to the initial slope of the arc. I will try to figure that out later!\n",
    "\n",
    "Let's get a look at this airfoil:"
   ]
  },
  {
   "cell_type": "code",
   "execution_count": null,
   "id": "375c15d6",
   "metadata": {},
   "outputs": [],
   "source": [
    "plt.figure(figsize=(10,1))\n",
    "plt.xlim(0, 1)\n",
    "plt.ylim(0, 0.1)\n",
    "plt.plot(xc,yc)\n",
    "plt.show()"
   ]
  },
  {
   "cell_type": "code",
   "execution_count": null,
   "id": "884016db",
   "metadata": {},
   "outputs": [],
   "source": [
    "mm = max(yc)\n",
    "mmi = np.where(yc==mm)\n",
    "print(\"Camber\",max(yc),\"at\",xc[mmi][0])"
   ]
  },
  {
   "cell_type": "markdown",
   "id": "96c5ca84",
   "metadata": {},
   "source": [
    "It looks like this code will generate our airfoil shape. In order to generate aerodynamic coefficient data for this airfoil, we need to set up procedures that will return the camber line for this airfoil so it can be used by the airfoil generator code we will use to set up **xfoil** analysis.\n",
    "\n",
    "Here is the procedure we will use:"
   ]
  },
  {
   "cell_type": "code",
   "execution_count": null,
   "id": "0bb39158",
   "metadata": {},
   "outputs": [],
   "source": [
    "def simplex_camber_line(camber, npoints):\n",
    "    \"\"\"return list of points on camber line. camber is in percentage\"\"\"\n",
    "    alpha = 1.554 * camber * math.pi/180\n",
    "    k = 1/math.tan(alpha)\n",
    "    \n",
    "    # generate airfoil points\n",
    "    roa = np.linspace(0,1,npoints)\n",
    "    roa[0] = 0.0000001  # avoid infinity in ln(0)\n",
    "    psi = np.pi * np.tan(alpha/2) * np.log(roa)\n",
    "    rho = 1.0 * np.exp(psi / np.tan(alpha))\n",
    "    x = rho * np.cos(psi)\n",
    "    y = rho * np.sin(-psi)\n",
    "    return x,y"
   ]
  },
  {
   "cell_type": "code",
   "execution_count": null,
   "id": "50d9a197",
   "metadata": {},
   "outputs": [],
   "source": [
    "xc, yc = simplex_camber_line(4,51)    \n",
    "plt.figure(figsize=(10,1))\n",
    "plt.xlim(0, 1)\n",
    "plt.ylim(0, 0.1)\n",
    "plt.plot(xc,yc)\n",
    "plt.show()"
   ]
  },
  {
   "cell_type": "markdown",
   "id": "3f2c86ee",
   "metadata": {},
   "source": [
    "## Derivation of Simplex Airfoil Equations\n",
    "\n",
    "This section is incomplete, and not necessary if you are willing to accept the code generated above. I am including it since I want to understand exactly how this airfoil gets generated."
   ]
  },
  {
   "cell_type": "markdown",
   "id": "1ac07997",
   "metadata": {},
   "source": [
    "The simplex airfoil is a section of the logarithmic spiral curve first developed in 1525 by  Albrecht Dürer and studied extensively by  Jacob Bernoulli, a name that should be familiar to anyone interested in aerodynamics!. This curve is defined by this equation:\n",
    "\n",
    "\\begin{equation}\n",
    "\\rho = a{\\rm e}^{k\\psi}\n",
    "\\end{equation}\n",
    "\n",
    "\n",
    "In this equation, written in polar ($\\rho$,$\\psi$) coordinates, $a (a > 0)$ and $k (k \\neq 0)$ are arbitrary constants.\n",
    "\n",
    "From this defining equation, we can come up with some other helpful equations.\n",
    "\n",
    "If we divide both sides by $a$ and take the natural logarithm of both sides, we get:\n",
    "\n",
    "\\begin{equation}\n",
    "\\psi = \\frac{1}{k}ln\\frac{\\rho}{a}\n",
    "\\end{equation}\n",
    "\n",
    "\n",
    "\\begin{equation}\n",
    "k = \\frac{1}{\\tan{\\alpha}}\n",
    "\\end{equation}\n",
    "\n",
    "Where the slope of the leading edge is defined by $\\alpha$. \n",
    "\n",
    "We can define the equations for this curve in cartesian coordinates as follows:\n",
    "\n",
    "\\begin{equation}\n",
    "x = a{\\rm e}^{k\\psi} \\cos(\\psi)\n",
    "\\end{equation}\n",
    "\n",
    "\\begin{equation}\n",
    "y = a{\\rm e}^{k\\psi} \\sin(\\psi)\n",
    "\\end{equation}\n",
    "\n",
    "\n",
    "As $k$ approaches zero, the spiral collapses to a circle. Looking at the documentation for this spiral, as $k$ approaches zero, the limiting case of $\\alpha$ is $-\\pi/2$. (I have not convinced **sympy** to prove this yet!) "
   ]
  },
  {
   "cell_type": "code",
   "execution_count": null,
   "id": "f73b84a0",
   "metadata": {},
   "outputs": [],
   "source": [
    "import sympy\n",
    "psi, a, k, rho = sympy.symbols('psi a k rho')"
   ]
  },
  {
   "cell_type": "code",
   "execution_count": null,
   "id": "c2caee79",
   "metadata": {},
   "outputs": [],
   "source": [
    "eq1 = sympy.exp(k * psi)\n",
    "eq2 = rho/a\n",
    "eq3 = sympy.log(eq1)\n",
    "eq4 = sympy.log(eq2)\n",
    "print((eq3/k).expand(force=True),\"=\",eq4/k)"
   ]
  },
  {
   "cell_type": "markdown",
   "id": "81bb1a38",
   "metadata": {},
   "source": [
    "This is equation 7 above. \n",
    "\n",
    "The angle $\\alpha$ between the tangent line to the spiral curve and a radial line is given by:\n",
    "    \n",
    "\\begin{equation}\n",
    "\\tan(\\alpha) = \\frac{r}{\\frac{dr}{d\\psi}}\n",
    "\\end{equation}"
   ]
  },
  {
   "cell_type": "code",
   "execution_count": null,
   "id": "e1c34f4f",
   "metadata": {},
   "outputs": [],
   "source": [
    "rho = a * sympy.exp(k * psi)\n",
    "eq5= sympy.diff(rho, psi)\n",
    "rho/eq5"
   ]
  },
  {
   "cell_type": "markdown",
   "id": "2dd2a58c",
   "metadata": {},
   "source": [
    "This is equation 8 above. The angle is constant everywhere on the spiral. As $k \\rightarrow 0$, the curve collapses to a simple circle with constant radius $a$."
   ]
  },
  {
   "cell_type": "code",
   "execution_count": null,
   "id": "22a4fab9",
   "metadata": {},
   "outputs": [],
   "source": [
    "From this result, we get our equation for $\\psi$ shown above,"
   ]
  },
  {
   "cell_type": "markdown",
   "id": "dffd63b5",
   "metadata": {},
   "source": [
    "It appears that the spreadsheet uses $\\rho/a$ as a parameter, and lets it range from 0 to 1 (actually, from 0 to the chord length). Since the natural logarithm of zero is infinity, the value of $\\psi$ is set to $-\\pi/2$ when $\\rho/a$ is equal to zero. This ends up with the $x$  value running from 0 to the chord length as well. This approximation cleans up the actual behavior of the spiral curve as $\\rho/a$ approaches 0."
   ]
  },
  {
   "cell_type": "markdown",
   "id": "e4cc7e57",
   "metadata": {},
   "source": [
    "If we define the angle made between the spiral and the circle passing through this point as $\\alpha$, we get:\n",
    "\n",
    "\\begin{equation}\n",
    "tan(\\alpha) = \\frac{1}{k}\n",
    "\\end{equation}\n",
    "\n",
    "Let's look at this curve:"
   ]
  },
  {
   "cell_type": "code",
   "execution_count": null,
   "id": "9c2357fe",
   "metadata": {
    "scrolled": true
   },
   "outputs": [],
   "source": [
    "import numpy as np\n",
    "import matplotlib.pyplot as plt\n",
    "\n",
    "n=100\n",
    "a=0.25\n",
    "k=0.20\n",
    "th=np.linspace(0, 6*np.pi, 600)\n",
    "x=a*np.exp(k*th)*np.cos(th)\n",
    "y=a*np.exp(k*th)*np.sin(th)\n",
    "plt.figure(figsize=(5,5))\n",
    "plt.plot(x, y)\n",
    "plt.plot([-10,10],[0,0])\n",
    "plt.plot([0,0],[-10,10])\n",
    "plt.show()"
   ]
  },
  {
   "cell_type": "markdown",
   "id": "01f7f309",
   "metadata": {},
   "source": [
    "Obviously, we only need a slice of this curve for our airfoil. In this polar system, $psi$ is increasing in a counter-clockwise direction. At $\\psi = 0$, the radius is simply equal to $a$. If you look closely at this spiral between angles of $0$ and $\\pi/2$, it is apparent that as we sweep to increasing values of $\\psi$ we are sweeping from the trailing edge of our desired airfoil to the leading edge. Let's set up a cartesian system that placed the origin at the leading edge $(\\psi = 0)$ and the trailing edge at $(\\psi = \\pi/2)$. We will scale this new system so the length of the chord is one. "
   ]
  },
  {
   "cell_type": "markdown",
   "id": "48f46162",
   "metadata": {},
   "source": [
    "### Slicing off the Simplex Airfoil\n",
    "\n",
    "The spiral, as defined in polar form, cannot directly define our simplex airfoil. Instead, we need a coordinate transformation that sets up a new cartesian coordinate system we will use instead. "
   ]
  },
  {
   "cell_type": "markdown",
   "id": "0c4f8276",
   "metadata": {},
   "source": [
    "### Locating the Maximum Point\n",
    "\n",
    "We can explore these equations and try to locate the point where the height of our airfoil will be a maximum. "
   ]
  },
  {
   "cell_type": "code",
   "execution_count": null,
   "id": "96436ebe",
   "metadata": {},
   "outputs": [],
   "source": [
    "import sympy\n",
    "y, k, psi = sympy.symbols('y k psi')\n",
    "x = sympy.E**(k*psi) * sympy.sin(psi)\n",
    "y = sympy.E**(k*psi) * sympy.cos(psi)"
   ]
  },
  {
   "cell_type": "code",
   "execution_count": null,
   "id": "7fddad19",
   "metadata": {},
   "outputs": [],
   "source": [
    "e1 = sympy.diff(x,psi)\n",
    "e1"
   ]
  },
  {
   "cell_type": "code",
   "execution_count": null,
   "id": "c96529ba",
   "metadata": {},
   "outputs": [],
   "source": [
    "e2 = sympy.diff(y,psi)\n",
    "e2"
   ]
  },
  {
   "cell_type": "code",
   "execution_count": null,
   "id": "e540798c",
   "metadata": {
    "scrolled": true
   },
   "outputs": [],
   "source": [
    "sympy.ratsimp(e2/e1)"
   ]
  },
  {
   "cell_type": "markdown",
   "id": "3b46baf6",
   "metadata": {},
   "source": [
    "In the above equations $e1$ is $\\frac{dx}{d\\psi}$ and $e2$ is $\\frac{dy}{d\\psi}$. Using the chain rule, we get the slope of the curve $\\frac{dy}{dx}$. The high point on the curve will occur where this expression equals zero. We can find the equation for $\\psi$ where this happens:"
   ]
  },
  {
   "cell_type": "code",
   "execution_count": null,
   "id": "bfabb188",
   "metadata": {},
   "outputs": [],
   "source": [
    "eq2 = k * sympy.cos(psi) - sympy.sin(psi)\n",
    "eq2"
   ]
  },
  {
   "cell_type": "code",
   "execution_count": null,
   "id": "8f31b8e5",
   "metadata": {},
   "outputs": [],
   "source": [
    "eq3 = sympy.solve(eq2,psi)\n",
    "eq4 = sympy.simplify(eq3[0])\n",
    "eq4"
   ]
  },
  {
   "cell_type": "markdown",
   "id": "2112b0af",
   "metadata": {},
   "source": [
    "This is the value of $\\psi$ where $y$ is at a max. To find out that height, we plug this back into the equation for $y$:"
   ]
  },
  {
   "cell_type": "code",
   "execution_count": null,
   "id": "79e2afd3",
   "metadata": {},
   "outputs": [],
   "source": [
    "plt.plot(x,y)\n",
    "plt.show()"
   ]
  },
  {
   "cell_type": "markdown",
   "id": "4fd7908e",
   "metadata": {},
   "source": [
    "## Simplex Airfoil Function"
   ]
  },
  {
   "cell_type": "code",
   "execution_count": null,
   "id": "fcf8b9c1",
   "metadata": {},
   "outputs": [],
   "source": [
    "mm = slope(xp,yp)\n",
    "plt.plot(xp,mm)\n",
    "plt.plot([0,1],[0,0])\n",
    "plt.show()"
   ]
  },
  {
   "cell_type": "code",
   "execution_count": null,
   "id": "669de929",
   "metadata": {},
   "outputs": [],
   "source": [
    "def getLE(x0,y0,alpha):\n",
    "    r0 = 0.005\n",
    "    x = []\n",
    "    y = []\n",
    "    angles = np.linspace(np.pi/2 + alpha, 3*math.pi/2 + alpha, 19)\n",
    "    for i in range(len(angles)):\n",
    "        x.append(x0 + r0 * math.cos(angles[i]))\n",
    "        y.append(y0 + r0 * math.sin(angles[i]))\n",
    "    return x,y"
   ]
  },
  {
   "cell_type": "code",
   "execution_count": null,
   "id": "0a744be0",
   "metadata": {},
   "outputs": [],
   "source": [
    "xl,yl = getLE(xa[-1], ya[-1],ma[-1])\n",
    "f = plt.figure()\n",
    "f.set_figwidth(5)\n",
    "f.set_figheight(5)\n",
    "plt.plot(xa,ma)\n",
    "plt.plot(xl,yl)\n",
    "plt.plot(xp,yp)\n",
    "plt.plot(xa[100:],ya[100:])\n",
    "plt.plot([0,0.02],[0.0,0.0])\n",
    "plt.ylim(top=0.02, bottom = -0.02)\n",
    "plt.xlim(left=-0.02,right=0.02)\n",
    "plt.show()\n",
    "print(ma[-1])"
   ]
  },
  {
   "cell_type": "code",
   "execution_count": null,
   "id": "4eae43e4",
   "metadata": {},
   "outputs": [],
   "source": [
    "def simplexCamber(x,y,m, thickness):\n",
    "    xu = []\n",
    "    yu = []\n",
    "    xl = []\n",
    "    yl = []\n",
    "    for i in range(len(x)):\n",
    "        xp = x[i]\n",
    "        yp = y[i]\n",
    "        angle = math.atan(m[i])\n",
    "        xu.append(xp - thickness * math.sin(angle))\n",
    "        yu.append(yp + thickness * math.cos(angle))\n",
    "        xl.append(xp + thickness * math.sin(angle))\n",
    "        yl.append(yp - thickness * math.cos(angle))\n",
    "    return xu,yu,xl,yl"
   ]
  },
  {
   "cell_type": "code",
   "execution_count": null,
   "id": "868caa9e",
   "metadata": {},
   "outputs": [],
   "source": [
    "xu,yu,xl,yl = simplexCamber(xa,ya,ma,0.005)\n",
    "f = plt.figure()\n",
    "f.set_figwidth(11)\n",
    "f.set_figheight(2)\n",
    "plt.ylim(top=0.15, bottom = -0.05)\n",
    "plt.xlim(left=-0.05,right=1.05)\n",
    "plt.plot(xu,yu)\n",
    "plt.plot(xl,yl)\n",
    "plt.plot(xp,yp)\n",
    "plt.show()"
   ]
  },
  {
   "cell_type": "code",
   "execution_count": null,
   "id": "c39c0758",
   "metadata": {},
   "outputs": [],
   "source": [
    "f = plt.figure()\n",
    "f.set_figwidth(5)\n",
    "f.set_figheight(5)\n",
    "plt.plot(xa,ya)\n",
    "plt.plot(xp,yp)\n",
    "plt.plot(xu,yu)\n",
    "plt.plot(xl,yl)\n",
    "plt.plot(xa[100:],ya[100:])\n",
    "plt.plot([0,0.02],[0.0,0.0])\n",
    "plt.ylim(top=0.02, bottom = -0.02)\n",
    "plt.xlim(left=-0.02,right=0.02)\n",
    "plt.show()"
   ]
  },
  {
   "cell_type": "code",
   "execution_count": null,
   "id": "a2b7bcd0",
   "metadata": {},
   "outputs": [],
   "source": [
    "def getTE(xp, yp, mp, thickness):\n",
    "    nx = len(xc)\n",
    "    t = thickness/100\n",
    "    r = t/2\n",
    "    # set trailing edce distribution\n",
    "    aa = r/25 - r\n",
    "    cc = r\n",
    "    xtopte = []\n",
    "    ytopte = []\n",
    "    xbotte = []\n",
    "    ybotte = []\n",
    "\n",
    "    for i in range(5+1):\n",
    "        j = nx - 5 + i\n",
    "        xx = i*0.2\n",
    "        tt = aa*xx**2 + cc\n",
    "        alpha = math.atan(mp[j]) + math.pi/2\n",
    "        xc = xp[j]\n",
    "        yc = yp[j]\n",
    "        xt = xc + tt * math.cos(alpha)\n",
    "        yt = yc + tt * math.sin(alpha)\n",
    "        xtopte.append(xt)\n",
    "        ytopte.append(yt)\n",
    "        alpha += math.pi\n",
    "        xb = xc + tt * math.cos(alpha)\n",
    "        yb = yc + tt * math.sin(alpha)\n",
    "        xbotte.append(xb)\n",
    "        ybotte.append(yb)\n",
    "    return xtopte, ytopte, xbotte, ybotte\n",
    "\n",
    "\n"
   ]
  }
 ],
 "metadata": {
  "kernelspec": {
   "display_name": "Python 3 (ipykernel)",
   "language": "python",
   "name": "python3"
  },
  "language_info": {
   "codemirror_mode": {
    "name": "ipython",
    "version": 3
   },
   "file_extension": ".py",
   "mimetype": "text/x-python",
   "name": "python",
   "nbconvert_exporter": "python",
   "pygments_lexer": "ipython3",
   "version": "3.10.2"
  },
  "latex_envs": {
   "LaTeX_envs_menu_present": true,
   "autoclose": false,
   "autocomplete": true,
   "bibliofile": "biblio.bib",
   "cite_by": "apalike",
   "current_citInitial": 1,
   "eqLabelWithNumbers": true,
   "eqNumInitial": 1,
   "hotkeys": {
    "equation": "Ctrl-E",
    "itemize": "Ctrl-I"
   },
   "labels_anchors": false,
   "latex_user_defs": false,
   "report_style_numbering": false,
   "user_envs_cfg": false
  },
  "toc": {
   "base_numbering": 1,
   "nav_menu": {},
   "number_sections": true,
   "sideBar": true,
   "skip_h1_title": false,
   "title_cell": "Table of Contents",
   "title_sidebar": "Contents",
   "toc_cell": false,
   "toc_position": {},
   "toc_section_display": true,
   "toc_window_display": false
  },
  "varInspector": {
   "cols": {
    "lenName": 16,
    "lenType": 16,
    "lenVar": 40
   },
   "kernels_config": {
    "python": {
     "delete_cmd_postfix": "",
     "delete_cmd_prefix": "del ",
     "library": "var_list.py",
     "varRefreshCmd": "print(var_dic_list())"
    },
    "r": {
     "delete_cmd_postfix": ") ",
     "delete_cmd_prefix": "rm(",
     "library": "var_list.r",
     "varRefreshCmd": "cat(var_dic_list()) "
    }
   },
   "types_to_exclude": [
    "module",
    "function",
    "builtin_function_or_method",
    "instance",
    "_Feature"
   ],
   "window_display": false
  }
 },
 "nbformat": 4,
 "nbformat_minor": 5
}
