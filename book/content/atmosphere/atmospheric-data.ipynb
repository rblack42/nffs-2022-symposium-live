{
 "cells": [
  {
   "cell_type": "markdown",
   "id": "66dd2220",
   "metadata": {},
   "source": [
    "# Atmospheric Data\n",
    "\n",
    "Obviously, our models fly through the air. *Computational Fluid Dynamics* studies the motion of a fluid using computers. Air is a fluid, even it that is not obvious. It is just a very thin fluid and we need to know a few fundamental properties of that fluid to do much interesting work. \n",
    "\n",
    "Rather than rely on local measurements of the properties of air, most researchers use a model atmosphere so they can compare results. We will use data from the *1976 Standard Atmospheric Model*, which you can find at the [Standard Atmosphere Calculator](https://www.digitaldutch.com/atmoscalc/). The website at that link lets you set your elevation and it presents you with standard values for the important properties we will need.\n",
    "\n",
    "![HAFFA Indoor Site Data](osawatomie-std-atm.png)\n",
    "\n",
    "Notice something important here. Each property has units attached, and it is vital that you make sure your units are set correctly if you are to trust your answers in a computer generated result. The standard model has a mathematical basis, but since the study of the atmosphere is a common research task, these are several *Python* packages that already know all about this. We will use the **fluids** package in this study.\n",
    "\n",
    "The **fluids** code expects inut values in *Standard International Units* (**SI**). I Since we are working with **pint** variables in our work, we will create a simple functin that returns the air properties we need, with proper units attached! The function will take the altitude as a parameter, and return a *Python* dictionary with these properties:\n",
    "\n",
    "- Temperature\n",
    "- Pressure\n",
    "- Density\n",
    "- Dynamic Viscosity"
   ]
  },
  {
   "cell_type": "code",
   "execution_count": 24,
   "id": "f8a82c83",
   "metadata": {},
   "outputs": [],
   "source": [
    "import pint\n",
    "u = pint.UnitRegistry()\n",
    "\n",
    "from fluids import ATMOSPHERE_1976 as StdAtm\n",
    "\n",
    "def get_air_properties(altitude):\n",
    "    h = altitude.to_base_units()\n",
    "    sa = StdAtm(h.magnitude) # strip off units for call\n",
    "    result = {\n",
    "        'T': sa.T * u.kelvin,\n",
    "        'P': sa.P * u.pascals,\n",
    "        'rho': sa.rho * u.kg / u.m ** 3,\n",
    "        'mu': sa.mu * u.pascals * u.second\n",
    "    }\n",
    "    return result"
   ]
  },
  {
   "cell_type": "markdown",
   "id": "99ca662d",
   "metadata": {},
   "source": [
    "Let's check the values for th elevation of our local flying site (876 feet):"
   ]
  },
  {
   "cell_type": "code",
   "execution_count": 23,
   "id": "3cd2101b",
   "metadata": {},
   "outputs": [
    {
     "name": "stdout",
     "output_type": "stream",
     "text": [
      "T 286.4145416948804 kelvin\n",
      "P 98158.40806685877 pascal\n",
      "rho 1.1939062985385254 kilogram / meter ** 3\n",
      "mu 1.780994347002584e-05 pascal * second\n"
     ]
    }
   ],
   "source": [
    "elevation = 876 * u.ft\n",
    "kc = get_air_properties(elevation)\n",
    "\n",
    "for key in kc:\n",
    "    print(key,kc[key])"
   ]
  },
  {
   "cell_type": "markdown",
   "id": "025fc613",
   "metadata": {},
   "source": [
    "These values do not exactly match the web calculator values, but they are close enough for our purposes."
   ]
  },
  {
   "cell_type": "code",
   "execution_count": null,
   "id": "3ce7751f",
   "metadata": {},
   "outputs": [],
   "source": []
  }
 ],
 "metadata": {
  "kernelspec": {
   "display_name": "Python 3 (ipykernel)",
   "language": "python",
   "name": "python3"
  },
  "language_info": {
   "codemirror_mode": {
    "name": "ipython",
    "version": 3
   },
   "file_extension": ".py",
   "mimetype": "text/x-python",
   "name": "python",
   "nbconvert_exporter": "python",
   "pygments_lexer": "ipython3",
   "version": "3.8.12"
  },
  "latex_envs": {
   "LaTeX_envs_menu_present": true,
   "autoclose": false,
   "autocomplete": true,
   "bibliofile": "biblio.bib",
   "cite_by": "apalike",
   "current_citInitial": 1,
   "eqLabelWithNumbers": true,
   "eqNumInitial": 1,
   "hotkeys": {
    "equation": "Ctrl-E",
    "itemize": "Ctrl-I"
   },
   "labels_anchors": false,
   "latex_user_defs": false,
   "report_style_numbering": false,
   "user_envs_cfg": false
  },
  "toc": {
   "base_numbering": 1,
   "nav_menu": {},
   "number_sections": true,
   "sideBar": true,
   "skip_h1_title": false,
   "title_cell": "Table of Contents",
   "title_sidebar": "Contents",
   "toc_cell": false,
   "toc_position": {},
   "toc_section_display": true,
   "toc_window_display": false
  },
  "varInspector": {
   "cols": {
    "lenName": 16,
    "lenType": 16,
    "lenVar": 40
   },
   "kernels_config": {
    "python": {
     "delete_cmd_postfix": "",
     "delete_cmd_prefix": "del ",
     "library": "var_list.py",
     "varRefreshCmd": "print(var_dic_list())"
    },
    "r": {
     "delete_cmd_postfix": ") ",
     "delete_cmd_prefix": "rm(",
     "library": "var_list.r",
     "varRefreshCmd": "cat(var_dic_list()) "
    }
   },
   "types_to_exclude": [
    "module",
    "function",
    "builtin_function_or_method",
    "instance",
    "_Feature"
   ],
   "window_display": false
  }
 },
 "nbformat": 4,
 "nbformat_minor": 5
}
