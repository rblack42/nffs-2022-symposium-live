{
 "cells": [
  {
   "cell_type": "markdown",
   "id": "91da0278",
   "metadata": {},
   "source": [
    "<a id=\"binder_guide\"></a>\n",
    "# Accessing The Online Study"
   ]
  },
  {
   "cell_type": "markdown",
   "id": "eecd0c13",
   "metadata": {},
   "source": [
    "If you want to play with the project code without needing to install anything on your personal computer, you can browse to a live copy of the Jupyter Notebook pages I created. Open your web browser and navigate to https://mybinder.org/v2/gh/rblack42/nffs-2022-symposium-live/HEAD.\n",
    "\n",
    "This page will take a while to load up because the *mybinder.org* site creates a virtual machine for you as you connect, then installs all the tools I used in my development. Finally, it copies my project code into this virtual machine and starts up a web server presenting you with a live copy of my project pages.\n",
    "\n",
    "When the page finally loads you will see a navigation panel in the left side of the page. Select the book folder to start exploring my notebook. The entire set of pages here have been processed into a static (not interactive) website that is available from https://rblack42.github.io/nffs-2022-symposium-live. \n",
    "\n",
    "You can click on the page or directory links to navigate the project materials. FIles with names ending in **.ipynb** ar notebook pages. Opening those links will display the page in a new window. You can double-click in any cell to see the source code for that cell. Pressing *shift-enter* in a cell will cause that cell to be processed. You will see the formated text if the cell contains *markdown* text, or the result of running the code in code blocks. You close a page by closing the page window.\n",
    "\n",
    "You can play with this as you like, but all changes you make (if any) will be lost when you close your browser. You are working on a private copy of my project code, not the real code. This is almost the same environment I use on my laptop!\n",
    "\n"
   ]
  },
  {
   "cell_type": "code",
   "execution_count": null,
   "id": "46612cfc",
   "metadata": {},
   "outputs": [],
   "source": []
  },
  {
   "cell_type": "code",
   "execution_count": null,
   "id": "25e538da",
   "metadata": {},
   "outputs": [],
   "source": []
  }
 ],
 "metadata": {
  "kernelspec": {
   "display_name": "Python 3 (ipykernel)",
   "language": "python",
   "name": "python3"
  },
  "language_info": {
   "codemirror_mode": {
    "name": "ipython",
    "version": 3
   },
   "file_extension": ".py",
   "mimetype": "text/x-python",
   "name": "python",
   "nbconvert_exporter": "python",
   "pygments_lexer": "ipython3",
   "version": "3.10.5"
  },
  "toc": {
   "base_numbering": 1,
   "nav_menu": {},
   "number_sections": true,
   "sideBar": true,
   "skip_h1_title": false,
   "title_cell": "Table of Contents",
   "title_sidebar": "Contents",
   "toc_cell": false,
   "toc_position": {},
   "toc_section_display": true,
   "toc_window_display": false
  },
  "varInspector": {
   "cols": {
    "lenName": 16,
    "lenType": 16,
    "lenVar": 40
   },
   "kernels_config": {
    "python": {
     "delete_cmd_postfix": "",
     "delete_cmd_prefix": "del ",
     "library": "var_list.py",
     "varRefreshCmd": "print(var_dic_list())"
    },
    "r": {
     "delete_cmd_postfix": ") ",
     "delete_cmd_prefix": "rm(",
     "library": "var_list.r",
     "varRefreshCmd": "cat(var_dic_list()) "
    }
   },
   "types_to_exclude": [
    "module",
    "function",
    "builtin_function_or_method",
    "instance",
    "_Feature"
   ],
   "window_display": false
  }
 },
 "nbformat": 4,
 "nbformat_minor": 5
}
