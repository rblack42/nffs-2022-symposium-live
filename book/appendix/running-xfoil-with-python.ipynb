{
 "cells": [
  {
   "cell_type": "markdown",
   "id": "2db74a80",
   "metadata": {},
   "source": [
    "# Running XFOIL with Python"
   ]
  },
  {
   "cell_type": "markdown",
   "id": "b6c6198f",
   "metadata": {},
   "source": [
    "In conducting a study of the aerodynamic performance of an indoor model, we need good data on the flight characteristics of the chosen airfoils. In this section we will present Python code that will use Mark Drela's *XFOIL*{cite}`drela1989` program to produce the needed data for airfoil sections we might use on our models.\n",
    "\n",
    "*XFOIL* is a *Fortran* program that can be compiled on any platform that has the **fortran** compiler installed. I use the *Free Software Foundation* **gfortran** compiler on my systems. Getting this program ready to run on your platform will be covered elsewhere. For this section, I will assume that **xfoil** is available on your system and it can be run from the *command line*."
   ]
  },
  {
   "cell_type": "markdown",
   "id": "eccdf50c",
   "metadata": {},
   "source": [
    "## Launching a Python Subprocess"
   ]
  },
  {
   "cell_type": "markdown",
   "id": "2b763ead",
   "metadata": {},
   "source": [
    "**XFOIL** is a command-line interactive program written in *Fortran*. There are several ways to get *Python* to run such external programs and send commands to it and retrieve the normal console output for processing in your program.\n",
    "\n",
    "I tried a few of these methods, and finally decided to use a scheme I found in the **pyxfoil** program created by the *MIT Hoburg Research Group*{cite}`hoburg2015`. **pyxfoil** manages *XFOIL* using the **pexpect** package."
   ]
  },
  {
   "cell_type": "markdown",
   "id": "db1fc5df",
   "metadata": {},
   "source": [
    "The *Python* **pexpect** package is designed to run interactive external programs. Unfortunately, running **pexpect** in of a *Jupyter* notebook page it not possible, so I created a *Python* class to manage running *XFOIL*. The actual code created for this project is in the project *GitHub* repository.\n",
    "\n",
    "In what follows, I will demonstrate using this code."
   ]
  },
  {
   "cell_type": "code",
   "execution_count": 1,
   "id": "71a4f690",
   "metadata": {},
   "outputs": [],
   "source": [
    "import sys\n",
    "sys.path.insert(0,'../../')\n",
    "from mmtime.XfoilRunner import XfoilRunner              "
   ]
  },
  {
   "cell_type": "markdown",
   "id": "da010172",
   "metadata": {},
   "source": [
    "We create a running *XFOIL* process by passing in the desired airfoil, Peynolds Number, and an iteration count used to calculate boundary layer effects."
   ]
  },
  {
   "cell_type": "code",
   "execution_count": 2,
   "id": "e4a18074",
   "metadata": {},
   "outputs": [],
   "source": [
    "xf = XfoilRunner('flat0001', 3000, 200)"
   ]
  },
  {
   "cell_type": "markdown",
   "id": "288de8e0",
   "metadata": {},
   "source": [
    "The **xf** variable is now controlling a running **xfoil** process. The next step loads airfoil data into *XFOIL*."
   ]
  },
  {
   "cell_type": "code",
   "execution_count": 3,
   "id": "0a7f03dc",
   "metadata": {},
   "outputs": [],
   "source": [
    "xf.set_airfoil()"
   ]
  },
  {
   "cell_type": "markdown",
   "id": "dac3f284",
   "metadata": {},
   "source": [
    "WE are not ready to generate the airfoil data. The code is going to try to generate airfoil performance data for angle of attacks ranging from -20 degrees to 20 degrees. (I will modify this later to let the user decide on these values.)"
   ]
  },
  {
   "cell_type": "code",
   "execution_count": 4,
   "id": "0255428e",
   "metadata": {},
   "outputs": [
    {
     "name": "stdout",
     "output_type": "stream",
     "text": [
      "Generating polar for flat0001\n"
     ]
    }
   ],
   "source": [
    "xf.gen_polar()"
   ]
  },
  {
   "cell_type": "markdown",
   "id": "c1be3e9f",
   "metadata": {},
   "source": [
    "The polar data is stored in a text file in the airfoil data directory. It is stamped with the Reynolds NUmber so we can generate multiple polars as needed for the study.\n",
    "\n",
    "We can now terminate the background process:"
   ]
  },
  {
   "cell_type": "code",
   "execution_count": 5,
   "id": "d8904ba5",
   "metadata": {},
   "outputs": [],
   "source": [
    "xf.quit()"
   ]
  },
  {
   "cell_type": "markdown",
   "id": "a910321d",
   "metadata": {},
   "source": [
    "Let's take a peek at the polar data file generated:"
   ]
  },
  {
   "cell_type": "code",
   "execution_count": 6,
   "id": "3cf03d02",
   "metadata": {},
   "outputs": [
    {
     "name": "stdout",
     "output_type": "stream",
     "text": [
      "  \r\n",
      "       XFOIL         Version 6.99\r\n",
      "  \r\n",
      " Calculated polar for: flat0001                                        \r\n",
      "  \r\n",
      " 1 1 Reynolds number fixed          Mach number fixed         \r\n",
      "  \r\n",
      " xtrf =   1.000 (top)        1.000 (bottom)  \r\n",
      " Mach =   0.000     Re =     0.003 e 6     Ncrit =   9.000  9.000\r\n",
      "  \r\n",
      "   alpha    CL        CD       CDp       CM     Top_Xtr  Bot_Xtr  Top_Itr  Bot_Itr\r\n",
      "  ------ -------- --------- --------- -------- -------- -------- -------- --------\r\n",
      " -20.000  -0.9648   0.25215   0.34780   0.1274   1.0000   1.0000   1.0000 263.0000\r\n",
      " -18.000  -0.8888   0.22769   0.28615   0.1104   1.0000   1.0000   1.0000 263.0000\r\n",
      " -16.000  -0.8112   0.20346   0.23072   0.0941   1.0000   1.0000   1.0000 263.0000\r\n",
      " -14.000  -0.7323   0.17935   0.18144   0.0788   1.0000   1.0000   1.0000 263.0000\r\n",
      " -12.000  -0.6533   0.15524   0.13853   0.0645   1.0000   1.0000   1.0000 263.0000\r\n",
      " -10.000  -0.5764   0.13110   0.10198   0.0512   1.0000   1.0000   1.0000 263.0000\r\n",
      "  -8.000  -0.5040   0.10703   0.07153   0.0386   1.0000   1.0000   1.0000 263.0000\r\n",
      "  -6.000  -0.4397   0.08372   0.04660   0.0252   1.0000   1.0000   1.0000 263.0000\r\n",
      "  -4.000  -0.3998   0.06227   0.02654   0.0085   1.0000   1.0000   1.0000 263.0000\r\n",
      "  -2.000  -0.2002   0.05630   0.00819  -0.0038   1.0000   1.0000   1.0000 263.0000\r\n",
      "   0.000  -0.0000   0.05527   0.00379   0.0000   1.0000   1.0000   1.0000 263.0000\r\n",
      "   2.000   0.2002   0.05630   0.00819   0.0038   1.0000   1.0000   1.0000 263.0000\r\n",
      "   4.000   0.3998   0.06227   0.02655  -0.0085   1.0000   1.0000   1.0000 263.0000\r\n",
      "   6.000   0.4400   0.08371   0.04663  -0.0252   1.0000   1.0000   1.0000 263.0000\r\n",
      "   8.000   0.5044   0.10704   0.07158  -0.0386   1.0000   1.0000   1.0000 263.0000\r\n",
      "  10.000   0.5769   0.13113   0.10206  -0.0513   1.0000   1.0000   1.0000 263.0000\r\n",
      "  12.000   0.6539   0.15531   0.13865  -0.0646   1.0000   1.0000   1.0000 263.0000\r\n",
      "  14.000   0.7330   0.17949   0.18161  -0.0789   1.0000   1.0000   1.0000 263.0000\r\n",
      "  16.000   0.8120   0.20370   0.23095  -0.0943   1.0000   1.0000   1.0000 263.0000\r\n",
      "  18.000   0.8897   0.22806   0.28645  -0.1106   1.0000   1.0000   1.0000 263.0000\r\n",
      "  20.000   0.9659   0.25270   0.34820  -0.1277   1.0000   1.0000   1.0000 263.0000\r\n"
     ]
    }
   ],
   "source": [
    "!cat ../../mmtime/data/airfoils/flat0001/flat0001_RE3000.pol"
   ]
  },
  {
   "cell_type": "markdown",
   "id": "555baa30",
   "metadata": {},
   "source": [
    "The **XfoilRunner** code generates a time stamped log file that is stored in a **logs** subdirectory with the airfoil data. This file can be very useful when diagnosing problems getting **xfoil** to process an airfoil.\n",
    "\n",
    "```{warning}\n",
    "The log file can be very long, especially if *XFOIL* has issues generating a particular setting.\n",
    "```"
   ]
  }
 ],
 "metadata": {
  "kernelspec": {
   "display_name": "Python 3 (ipykernel)",
   "language": "python",
   "name": "python3"
  },
  "language_info": {
   "codemirror_mode": {
    "name": "ipython",
    "version": 3
   },
   "file_extension": ".py",
   "mimetype": "text/x-python",
   "name": "python",
   "nbconvert_exporter": "python",
   "pygments_lexer": "ipython3",
   "version": "3.10.5"
  },
  "toc": {
   "base_numbering": 1,
   "nav_menu": {},
   "number_sections": true,
   "sideBar": true,
   "skip_h1_title": false,
   "title_cell": "Table of Contents",
   "title_sidebar": "Contents",
   "toc_cell": false,
   "toc_position": {},
   "toc_section_display": true,
   "toc_window_display": false
  },
  "varInspector": {
   "cols": {
    "lenName": 16,
    "lenType": 16,
    "lenVar": 40
   },
   "kernels_config": {
    "python": {
     "delete_cmd_postfix": "",
     "delete_cmd_prefix": "del ",
     "library": "var_list.py",
     "varRefreshCmd": "print(var_dic_list())"
    },
    "r": {
     "delete_cmd_postfix": ") ",
     "delete_cmd_prefix": "rm(",
     "library": "var_list.r",
     "varRefreshCmd": "cat(var_dic_list()) "
    }
   },
   "types_to_exclude": [
    "module",
    "function",
    "builtin_function_or_method",
    "instance",
    "_Feature"
   ],
   "window_display": false
  }
 },
 "nbformat": 4,
 "nbformat_minor": 5
}
