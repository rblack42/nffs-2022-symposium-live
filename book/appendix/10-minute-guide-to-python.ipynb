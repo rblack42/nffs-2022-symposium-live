{
 "cells": [
  {
   "cell_type": "markdown",
   "id": "70aeaa02",
   "metadata": {},
   "source": [
    "# 10 Minute Guide to Python"
   ]
  },
  {
   "cell_type": "markdown",
   "id": "a49e6d8c",
   "metadata": {},
   "source": [
    "This section is a snapshot look at Python. More details are on the project website.\n",
    "\n",
    "Reference: https://www.stavros.io/tutorials/python/\n",
    "\n",
    "You will need to install *Python* on your machine. You can get installers at https://python.org. You will also need a simple text editor to write code. You also need a basic familiarity with your system's *Command Line*. You will not be using your mouse much in this short course!\n",
    "\n",
    "## Syntax\n",
    "\n",
    "*Python* is very strict about how you enter code. If something is indented  in the examples, that exact indenting is important. Normally, on the lne before you indent something, that line ended with a colon. It is best to use spaces to indent, not tabs. *Python* is also case sensitive. **Help** is not the same as **help**!"
   ]
  },
  {
   "cell_type": "markdown",
   "id": "d8f16d8c",
   "metadata": {},
   "source": [
    "## Program Files\n",
    "\n",
    "You create *Python* programs by writing code in one or more files. Those files have names ending with **.py**.  Each file is a simple text file, not one created with something like *Word*. Each line in the file is either a Python statement of some kind, a blank line, or a comment. ON any line, even code lines a sharp (#) character starts a comment that ends at the end of the line."
   ]
  },
  {
   "cell_type": "markdown",
   "id": "d254dd4e",
   "metadata": {},
   "source": [
    "## Python Modules and Packages"
   ]
  },
  {
   "cell_type": "markdown",
   "id": "0e0ca403",
   "metadata": {},
   "source": [
    "Some files contain a collection of Functions which can be collected in a single file called a *module*. You can access a module in another program file by using n **import** statement that names the file (without the file name extension). You can access a function in a module using code that looks like this:"
   ]
  },
  {
   "cell_type": "code",
   "execution_count": null,
   "id": "aa49b7b6",
   "metadata": {},
   "outputs": [],
   "source": [
    "import mymodule\n",
    "mymodule.hello()"
   ]
  }
 ],
 "metadata": {
  "kernelspec": {
   "display_name": "Python 3 (ipykernel)",
   "language": "python",
   "name": "python3"
  },
  "language_info": {
   "codemirror_mode": {
    "name": "ipython",
    "version": 3
   },
   "file_extension": ".py",
   "mimetype": "text/x-python",
   "name": "python",
   "nbconvert_exporter": "python",
   "pygments_lexer": "ipython3",
   "version": "3.10.4"
  },
  "toc": {
   "base_numbering": 1,
   "nav_menu": {},
   "number_sections": true,
   "sideBar": true,
   "skip_h1_title": false,
   "title_cell": "Table of Contents",
   "title_sidebar": "Contents",
   "toc_cell": false,
   "toc_position": {},
   "toc_section_display": true,
   "toc_window_display": false
  },
  "varInspector": {
   "cols": {
    "lenName": 16,
    "lenType": 16,
    "lenVar": 40
   },
   "kernels_config": {
    "python": {
     "delete_cmd_postfix": "",
     "delete_cmd_prefix": "del ",
     "library": "var_list.py",
     "varRefreshCmd": "print(var_dic_list())"
    },
    "r": {
     "delete_cmd_postfix": ") ",
     "delete_cmd_prefix": "rm(",
     "library": "var_list.r",
     "varRefreshCmd": "cat(var_dic_list()) "
    }
   },
   "types_to_exclude": [
    "module",
    "function",
    "builtin_function_or_method",
    "instance",
    "_Feature"
   ],
   "window_display": false
  }
 },
 "nbformat": 4,
 "nbformat_minor": 5
}
