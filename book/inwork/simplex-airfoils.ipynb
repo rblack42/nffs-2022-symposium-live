{
 "cells": [
  {
   "cell_type": "markdown",
   "id": "1316312d",
   "metadata": {},
   "source": [
    "# Simplex Airfoils"
   ]
  },
  {
   "cell_type": "markdown",
   "id": "57ae3b67",
   "metadata": {},
   "source": [
    "Many indoor models are constructed using a simple circular arc airfoil. I showed how to use the Python **sympy** package to figure out the radius needed for some specified camber in my last article{cite}`black2021`.\n",
    "\n",
    "The circular arc has its high point at the 50% chord point, which does not look much like a traditional airfoil. Another popular shape is called the *Simplex* airfoil, which moves the high point forward to about the 36% chord point. *Simplex* airfoils are unique in that one template can be used for any chord width by pinning the leading edge and rotating the template to match the desired chord. A bit of digging on the Internet turned up an Excel spreadsheet {cite}`simplex` that contained the code needed to generate the airfoil shape, but I want to be able to generate these shapes directly in Python. Let's extract the formulas needed from the spreadsheet and see what we get:"
   ]
  },
  {
   "cell_type": "markdown",
   "id": "df206097",
   "metadata": {},
   "source": [
    "## Simplex Airfoil Spreadsheet Formulas"
   ]
  },
  {
   "cell_type": "markdown",
   "id": "5f7202d2",
   "metadata": {},
   "source": [
    "The formulas from the spreadsheet are these:\n",
    "\n",
    "\\begin{equation}\n",
    "\\alpha = 1.554\\ camber\\ \\pi/180\n",
    "\\end{equation}\n",
    "\n",
    "Here **camber** is the percentage of the chord desired.\n",
    "\n",
    "\\begin{equation}\n",
    "\\psi = \\pi \\tan(\\alpha)ln(x)\n",
    "\\end{equation}\n",
    "\n",
    "Where $x$ is a number ranging from $0$ to $1$. This is not the same as the $x$ coordinate we use for the airfoil.\n",
    "\n",
    "\\begin{equation}\n",
    "\\rho = {\\rm e}^{\\psi/\\tan(\\alpha)}\n",
    "\\end{equation}\n",
    "\n",
    "\\begin{equation}\n",
    "x = \\rho \\sin{\\psi}\n",
    "\\end{equation}\n",
    "\n",
    "\\begin{equation}\n",
    "y = \\rho \\cos({-\\psi})\n",
    "\\end{equation}\n",
    "\n",
    "These equations work in generating the airfoil shape. However, I prefer to use verifiable equations that I can prove are correct, so we will explore generating the airfoil using **sympy** below.\n",
    "\n",
    "For now, let's explore an example airfoil."
   ]
  },
  {
   "cell_type": "code",
   "execution_count": 2,
   "id": "b4012872",
   "metadata": {},
   "outputs": [],
   "source": [
    "import math\n",
    "import numpy as np\n",
    "import matplotlib.pyplot as plt"
   ]
  },
  {
   "cell_type": "code",
   "execution_count": 33,
   "id": "4f44e0e0",
   "metadata": {},
   "outputs": [
    {
     "name": "stdout",
     "output_type": "stream",
     "text": [
      "0.2712241657599188 3.5961325376417776\n"
     ]
    }
   ],
   "source": [
    "chord = 2\n",
    "camber = 10\n",
    "npoints = 26\n",
    "alpha = 1.554 * camber * math.pi/180\n",
    "k = 1/math.tan(alpha)\n",
    "print(alpha, k)"
   ]
  },
  {
   "cell_type": "code",
   "execution_count": 34,
   "id": "52db2886",
   "metadata": {},
   "outputs": [],
   "source": [
    "roa = np.linspace(0,1,npoints)\n",
    "roa[0] = 0.0000001  # avoid infinity in ln(0)\n",
    "psi = np.pi * np.tan(alpha/2) * np.log(roa)"
   ]
  },
  {
   "cell_type": "code",
   "execution_count": 35,
   "id": "26ee252f",
   "metadata": {},
   "outputs": [
    {
     "name": "stdout",
     "output_type": "stream",
     "text": [
      "  psi    rho     x      y\n",
      "-6.909  0.000  0.000  0.000\n",
      "-1.380  0.014  0.003  0.014\n",
      "-1.083  0.041  0.019  0.036\n",
      "-0.909  0.076  0.047  0.060\n",
      "-0.786  0.119  0.084  0.084\n",
      "-0.690  0.167  0.129  0.106\n",
      "-0.612  0.222  0.181  0.127\n",
      "-0.546  0.281  0.240  0.146\n",
      "-0.488  0.345  0.305  0.162\n",
      "-0.438  0.414  0.375  0.176\n",
      "-0.393  0.487  0.450  0.186\n",
      "-0.352  0.564  0.530  0.194\n",
      "-0.315  0.645  0.613  0.200\n",
      "-0.280  0.730  0.701  0.202\n",
      "-0.249  0.818  0.793  0.201\n",
      "-0.219  0.910  0.888  0.198\n",
      "-0.191  1.005  0.987  0.191\n",
      "-0.165  1.104  1.089  0.182\n",
      "-0.141  1.205  1.193  0.169\n",
      "-0.118  1.310  1.301  0.154\n",
      "-0.096  1.418  1.411  0.135\n",
      "-0.075  1.529  1.524  0.114\n",
      "-0.055  1.642  1.640  0.090\n",
      "-0.036  1.759  1.758  0.063\n",
      "-0.017  1.878  1.878  0.033\n",
      " 0.000  2.000  2.000 -0.000\n"
     ]
    }
   ],
   "source": [
    "rho = chord * np.exp(psi / np.tan(alpha))\n",
    "#rho[0] = 0\n",
    "xc = rho * np.cos(psi)\n",
    "yc = rho * np.sin(-psi)\n",
    "print(\"  psi    rho     x      y\")\n",
    "for i in range(npoints):\n",
    "    print(\"%6.3f %6.3f %6.3f %6.3f\" % (psi[i], rho[i], xc[i], yc[i]))\n",
    "    #print(psi[i], rho[i], xc[i], yc[i])"
   ]
  },
  {
   "cell_type": "markdown",
   "id": "288d48ac",
   "metadata": {},
   "source": [
    "This looks exactly like the output from the spreadsheet. I used a hack to keep $r/a$ from reaching zero, which would have sent $ln(0r/a$ to infinity! There is still a \"magic\" number here that converts camber to the initial slope of the arc. I will try to figure that out later!\n",
    "\n",
    "Let's get a look at this airfoil:"
   ]
  },
  {
   "cell_type": "code",
   "execution_count": 37,
   "id": "375c15d6",
   "metadata": {},
   "outputs": [
    {
     "data": {
      "image/png": "[encoded data removed]",
      "text/plain": [
       "<Figure size 720x72 with 1 Axes>"
      ]
     },
     "metadata": {
      "needs_background": "light"
     },
     "output_type": "display_data"
    }
   ],
   "source": [
    "plt.figure(figsize=(10,1))\n",
    "plt.xlim(0, 2)\n",
    "plt.ylim(0, 0.25)\n",
    "plt.plot(xc,yc)\n",
    "plt.show()"
   ]
  },
  {
   "cell_type": "code",
   "execution_count": 38,
   "id": "884016db",
   "metadata": {},
   "outputs": [
    {
     "name": "stdout",
     "output_type": "stream",
     "text": [
      "Camber 0.2019217679605224 at 0.7013640792137934\n"
     ]
    }
   ],
   "source": [
    "mm = max(yc)\n",
    "mmi = np.where(yc==mm)\n",
    "print(\"Camber\",max(yc),\"at\",xc[mmi][0])"
   ]
  },
  {
   "cell_type": "markdown",
   "id": "96c5ca84",
   "metadata": {},
   "source": [
    "It looks like this code will generate our airfoil shape. In order to generate aerodynamic coefficient data for this airfoil, we need to set up procedures that will return the camber line for this airfoil so it can be used by the airfoil generator code we will use to set up **xfoil** analysis.\n",
    "\n",
    "Here is the procedure we will use:"
   ]
  },
  {
   "cell_type": "code",
   "execution_count": 39,
   "id": "0bb39158",
   "metadata": {},
   "outputs": [],
   "source": [
    "def simplex_camber_line(camber, npoints):\n",
    "    \"\"\"return list of points on camber line. camber is in percentage\"\"\"\n",
    "    alpha = 1.554 * camber * math.pi/180 # radians\n",
    "    k = 1/math.tan(alpha)\n",
    "    \n",
    "    # generate airfoil points\n",
    "    roa = np.linspace(0,1,npoints)\n",
    "    roa[0] = 0.0000001  # avoid infinity in ln(0)\n",
    "    psi = np.pi * np.tan(alpha/2) * np.log(roa)\n",
    "    rho = 1.0 * np.exp(psi / np.tan(alpha))\n",
    "    x = rho * np.cos(psi)\n",
    "    y = rho * np.sin(-psi)\n",
    "    return x,y"
   ]
  },
  {
   "cell_type": "markdown",
   "id": "d5e49b10",
   "metadata": {},
   "source": [
    "Now, we can create the wing airfoil camber line for the *Wart*:"
   ]
  },
  {
   "cell_type": "code",
   "execution_count": 41,
   "id": "50d9a197",
   "metadata": {},
   "outputs": [
    {
     "data": {
      "image/png": "[encoded data removed]",
      "text/plain": [
       "<Figure size 720x72 with 1 Axes>"
      ]
     },
     "metadata": {
      "needs_background": "light"
     },
     "output_type": "display_data"
    }
   ],
   "source": [
    "xc, yc = simplex_camber_line(4,51)    \n",
    "plt.figure(figsize=(10,1))\n",
    "plt.xlim(0, 1)\n",
    "plt.ylim(0, 0.1)\n",
    "plt.plot(xc,yc)\n",
    "plt.show()"
   ]
  },
  {
   "cell_type": "markdown",
   "id": "4fd7908e",
   "metadata": {},
   "source": [
    "## Simplex Airfoil Function"
   ]
  },
  {
   "cell_type": "markdown",
   "id": "f79de4cb",
   "metadata": {},
   "source": [
    "Now that we have the camber line defined, we will build an airfoil section following the development we used for the circular arc."
   ]
  },
  {
   "cell_type": "code",
   "execution_count": 59,
   "id": "8ce8d97d",
   "metadata": {},
   "outputs": [],
   "source": [
    "def slope(xc,yc):\n",
    "    mc = []\n",
    "    for i in range(1,len(xc)):\n",
    "        dx = xc[i] - xc[i-1]\n",
    "        mc.append((yc[i] - yc[i-1])/dx)\n",
    "    dx = xc[-1]-xc[-2]\n",
    "    mc.append((yc[-1] - yc[-2])/dx)\n",
    "    return mc"
   ]
  },
  {
   "cell_type": "code",
   "execution_count": 60,
   "id": "056d89d6",
   "metadata": {},
   "outputs": [
    {
     "data": {
      "image/png": "[encoded data removed]",
      "text/plain": [
       "<Figure size 432x288 with 1 Axes>"
      ]
     },
     "metadata": {
      "needs_background": "light"
     },
     "output_type": "display_data"
    }
   ],
   "source": [
    "mc = slope(xc,yc)\n",
    "plt.plot(xc,mc)\n",
    "plt.show()"
   ]
  },
  {
   "cell_type": "code",
   "execution_count": 61,
   "id": "669de929",
   "metadata": {},
   "outputs": [],
   "source": [
    "\n",
    "def getLE(x0,y0,alpha):\n",
    "    r0 = 0.005 # 1% thickness\n",
    "    x = []\n",
    "    y = []\n",
    "    angles = np.linspace(np.pi/2 + alpha, 3*math.pi/2 + alpha, 19)\n",
    "    for i in range(len(angles)):\n",
    "        x.append(x0 + r0 * math.cos(angles[i]))\n",
    "        y.append(y0 + r0 * math.sin(angles[i]))\n",
    "    return x,y"
   ]
  },
  {
   "cell_type": "code",
   "execution_count": 71,
   "id": "7f648ede",
   "metadata": {},
   "outputs": [
    {
     "data": {
      "text/plain": [
       "[0.7879056680656382,\n",
       " 0.5323856971586532,\n",
       " 0.4255962657435849,\n",
       " 0.3594355921172993,\n",
       " 0.3117670052352285,\n",
       " 0.274607841396815,\n",
       " 0.24420164948392062,\n",
       " 0.21848948231593104,\n",
       " 0.19622397358276752,\n",
       " 0.17659371081599531,\n",
       " 0.15904197282862373,\n",
       " 0.1431706080969679,\n",
       " 0.1286852497882845,\n",
       " 0.11536225583848539,\n",
       " 0.10302781139525669,\n",
       " 0.0915442007998646,\n",
       " 0.08080049171471079,\n",
       " 0.07070603528424733,\n",
       " 0.061185820750289326,\n",
       " 0.05217708492754307,\n",
       " 0.04362679128230008,\n",
       " 0.035489724464120305,\n",
       " 0.02772702866754232,\n",
       " 0.020305071487976566,\n",
       " 0.013194550135076576,\n",
       " 0.006369780599288847,\n",
       " -0.00019187333226835252,\n",
       " -0.006510462928218539,\n",
       " -0.01260383287422411,\n",
       " -0.018487932972816548,\n",
       " -0.024177076775926176,\n",
       " -0.029684157619948092,\n",
       " -0.03502083020262864,\n",
       " -0.04019766408463691,\n",
       " -0.04522427416206292,\n",
       " -0.05010943212978349,\n",
       " -0.05486116216097836,\n",
       " -0.05948682340783006,\n",
       " -0.06399318144074748,\n",
       " -0.06838647035734711,\n",
       " -0.07267244698463265,\n",
       " -0.07685643835096467,\n",
       " -0.08094338340531408,\n",
       " -0.08493786979967156,\n",
       " -0.0888441664187824,\n",
       " -0.09266625223330145,\n",
       " -0.09640784196354332,\n",
       " -0.10007240896733875,\n",
       " -0.10366320570438219,\n",
       " -0.10718328207832839,\n",
       " -0.10718328207832839]"
      ]
     },
     "execution_count": 71,
     "metadata": {},
     "output_type": "execute_result"
    }
   ],
   "source": [
    "mc"
   ]
  },
  {
   "cell_type": "code",
   "execution_count": 65,
   "id": "0a744be0",
   "metadata": {},
   "outputs": [
    {
     "data": {
      "image/png": "[encoded data removed]",
      "text/plain": [
       "<Figure size 360x360 with 1 Axes>"
      ]
     },
     "metadata": {
      "needs_background": "light"
     },
     "output_type": "display_data"
    }
   ],
   "source": [
    "xl,yl = getLE(xc[-1], yc[-1], mc[-1])\n",
    "f = plt.figure()\n",
    "f.set_figwidth(5)\n",
    "f.set_figheight(5)\n",
    "#plt.plot(xc,mc)\n",
    "plt.plot(xl,yl)\n",
    "#plt.plot(xp,yp)\n",
    "#plt.plot(xa[100:],ya[100:])\n",
    "#plt.plot([0,0.02],[0.0,0.0])\n",
    "#plt.ylim(top=0.02, bottom = -0.02)\n",
    "#plt.xlim(left=-0.02,right=0.02)\n",
    "plt.show()\n",
    "#print(ma[-1])"
   ]
  },
  {
   "cell_type": "code",
   "execution_count": 44,
   "id": "4eae43e4",
   "metadata": {},
   "outputs": [],
   "source": [
    "def simplexCamber(x,y,m, thickness):\n",
    "    xu = []\n",
    "    yu = []\n",
    "    xl = []\n",
    "    yl = []\n",
    "    for i in range(len(x)):\n",
    "        xp = x[i]\n",
    "        yp = y[i]\n",
    "        angle = math.atan(m[i])\n",
    "        xu.append(xp - thickness * math.sin(angle))\n",
    "        yu.append(yp + thickness * math.cos(angle))\n",
    "        xl.append(xp + thickness * math.sin(angle))\n",
    "        yl.append(yp - thickness * math.cos(angle))\n",
    "    return xu,yu,xl,yl"
   ]
  },
  {
   "cell_type": "code",
   "execution_count": 45,
   "id": "868caa9e",
   "metadata": {},
   "outputs": [
    {
     "ename": "NameError",
     "evalue": "name 'xa' is not defined",
     "output_type": "error",
     "traceback": [
      "\u001b[0;31m---------------------------------------------------------------------------\u001b[0m",
      "\u001b[0;31mNameError\u001b[0m                                 Traceback (most recent call last)",
      "\u001b[0;32m/var/folders/ws/5h_x4h713cg8w0jmrm5_tfzc0000gn/T/ipykernel_23624/727194808.py\u001b[0m in \u001b[0;36m<module>\u001b[0;34m\u001b[0m\n\u001b[0;32m----> 1\u001b[0;31m \u001b[0mxu\u001b[0m\u001b[0;34m,\u001b[0m\u001b[0myu\u001b[0m\u001b[0;34m,\u001b[0m\u001b[0mxl\u001b[0m\u001b[0;34m,\u001b[0m\u001b[0myl\u001b[0m \u001b[0;34m=\u001b[0m \u001b[0msimplexCamber\u001b[0m\u001b[0;34m(\u001b[0m\u001b[0mxa\u001b[0m\u001b[0;34m,\u001b[0m\u001b[0mya\u001b[0m\u001b[0;34m,\u001b[0m\u001b[0mma\u001b[0m\u001b[0;34m,\u001b[0m\u001b[0;36m0.005\u001b[0m\u001b[0;34m)\u001b[0m\u001b[0;34m\u001b[0m\u001b[0;34m\u001b[0m\u001b[0m\n\u001b[0m\u001b[1;32m      2\u001b[0m \u001b[0mf\u001b[0m \u001b[0;34m=\u001b[0m \u001b[0mplt\u001b[0m\u001b[0;34m.\u001b[0m\u001b[0mfigure\u001b[0m\u001b[0;34m(\u001b[0m\u001b[0;34m)\u001b[0m\u001b[0;34m\u001b[0m\u001b[0;34m\u001b[0m\u001b[0m\n\u001b[1;32m      3\u001b[0m \u001b[0mf\u001b[0m\u001b[0;34m.\u001b[0m\u001b[0mset_figwidth\u001b[0m\u001b[0;34m(\u001b[0m\u001b[0;36m11\u001b[0m\u001b[0;34m)\u001b[0m\u001b[0;34m\u001b[0m\u001b[0;34m\u001b[0m\u001b[0m\n\u001b[1;32m      4\u001b[0m \u001b[0mf\u001b[0m\u001b[0;34m.\u001b[0m\u001b[0mset_figheight\u001b[0m\u001b[0;34m(\u001b[0m\u001b[0;36m2\u001b[0m\u001b[0;34m)\u001b[0m\u001b[0;34m\u001b[0m\u001b[0;34m\u001b[0m\u001b[0m\n\u001b[1;32m      5\u001b[0m \u001b[0mplt\u001b[0m\u001b[0;34m.\u001b[0m\u001b[0mylim\u001b[0m\u001b[0;34m(\u001b[0m\u001b[0mtop\u001b[0m\u001b[0;34m=\u001b[0m\u001b[0;36m0.15\u001b[0m\u001b[0;34m,\u001b[0m \u001b[0mbottom\u001b[0m \u001b[0;34m=\u001b[0m \u001b[0;34m-\u001b[0m\u001b[0;36m0.05\u001b[0m\u001b[0;34m)\u001b[0m\u001b[0;34m\u001b[0m\u001b[0;34m\u001b[0m\u001b[0m\n",
      "\u001b[0;31mNameError\u001b[0m: name 'xa' is not defined"
     ]
    }
   ],
   "source": [
    "xu,yu,xl,yl = simplexCamber(xa,ya,ma,0.005)\n",
    "f = plt.figure()\n",
    "f.set_figwidth(11)\n",
    "f.set_figheight(2)\n",
    "plt.ylim(top=0.15, bottom = -0.05)\n",
    "plt.xlim(left=-0.05,right=1.05)\n",
    "plt.plot(xu,yu)\n",
    "plt.plot(xl,yl)\n",
    "plt.plot(xp,yp)\n",
    "plt.show()"
   ]
  },
  {
   "cell_type": "code",
   "execution_count": 26,
   "id": "c39c0758",
   "metadata": {},
   "outputs": [
    {
     "ename": "NameError",
     "evalue": "name 'xa' is not defined",
     "output_type": "error",
     "traceback": [
      "\u001b[0;31m---------------------------------------------------------------------------\u001b[0m",
      "\u001b[0;31mNameError\u001b[0m                                 Traceback (most recent call last)",
      "\u001b[0;32m/var/folders/ws/5h_x4h713cg8w0jmrm5_tfzc0000gn/T/ipykernel_30073/3328935582.py\u001b[0m in \u001b[0;36m<module>\u001b[0;34m\u001b[0m\n\u001b[1;32m      2\u001b[0m \u001b[0mf\u001b[0m\u001b[0;34m.\u001b[0m\u001b[0mset_figwidth\u001b[0m\u001b[0;34m(\u001b[0m\u001b[0;36m5\u001b[0m\u001b[0;34m)\u001b[0m\u001b[0;34m\u001b[0m\u001b[0;34m\u001b[0m\u001b[0m\n\u001b[1;32m      3\u001b[0m \u001b[0mf\u001b[0m\u001b[0;34m.\u001b[0m\u001b[0mset_figheight\u001b[0m\u001b[0;34m(\u001b[0m\u001b[0;36m5\u001b[0m\u001b[0;34m)\u001b[0m\u001b[0;34m\u001b[0m\u001b[0;34m\u001b[0m\u001b[0m\n\u001b[0;32m----> 4\u001b[0;31m \u001b[0mplt\u001b[0m\u001b[0;34m.\u001b[0m\u001b[0mplot\u001b[0m\u001b[0;34m(\u001b[0m\u001b[0mxa\u001b[0m\u001b[0;34m,\u001b[0m\u001b[0mya\u001b[0m\u001b[0;34m)\u001b[0m\u001b[0;34m\u001b[0m\u001b[0;34m\u001b[0m\u001b[0m\n\u001b[0m\u001b[1;32m      5\u001b[0m \u001b[0mplt\u001b[0m\u001b[0;34m.\u001b[0m\u001b[0mplot\u001b[0m\u001b[0;34m(\u001b[0m\u001b[0mxp\u001b[0m\u001b[0;34m,\u001b[0m\u001b[0myp\u001b[0m\u001b[0;34m)\u001b[0m\u001b[0;34m\u001b[0m\u001b[0;34m\u001b[0m\u001b[0m\n\u001b[1;32m      6\u001b[0m \u001b[0mplt\u001b[0m\u001b[0;34m.\u001b[0m\u001b[0mplot\u001b[0m\u001b[0;34m(\u001b[0m\u001b[0mxu\u001b[0m\u001b[0;34m,\u001b[0m\u001b[0myu\u001b[0m\u001b[0;34m)\u001b[0m\u001b[0;34m\u001b[0m\u001b[0;34m\u001b[0m\u001b[0m\n",
      "\u001b[0;31mNameError\u001b[0m: name 'xa' is not defined"
     ]
    },
    {
     "data": {
      "text/plain": [
       "<Figure size 360x360 with 0 Axes>"
      ]
     },
     "metadata": {},
     "output_type": "display_data"
    }
   ],
   "source": [
    "f = plt.figure()\n",
    "f.set_figwidth(5)\n",
    "f.set_figheight(5)\n",
    "plt.plot(xa,ya)\n",
    "plt.plot(xp,yp)\n",
    "plt.plot(xu,yu)\n",
    "plt.plot(xl,yl)\n",
    "plt.plot(xa[100:],ya[100:])\n",
    "plt.plot([0,0.02],[0.0,0.0])\n",
    "plt.ylim(top=0.02, bottom = -0.02)\n",
    "plt.xlim(left=-0.02,right=0.02)\n",
    "plt.show()"
   ]
  },
  {
   "cell_type": "code",
   "execution_count": 27,
   "id": "a2b7bcd0",
   "metadata": {},
   "outputs": [],
   "source": [
    "def getTE(xp, yp, mp, thickness):\n",
    "    nx = len(xc)\n",
    "    t = thickness/100\n",
    "    r = t/2\n",
    "    # set trailing edce distribution\n",
    "    aa = r/25 - r\n",
    "    cc = r\n",
    "    xtopte = []\n",
    "    ytopte = []\n",
    "    xbotte = []\n",
    "    ybotte = []\n",
    "\n",
    "    for i in range(5+1):\n",
    "        j = nx - 5 + i\n",
    "        xx = i*0.2\n",
    "        tt = aa*xx**2 + cc\n",
    "        alpha = math.atan(mp[j]) + math.pi/2\n",
    "        xc = xp[j]\n",
    "        yc = yp[j]\n",
    "        xt = xc + tt * math.cos(alpha)\n",
    "        yt = yc + tt * math.sin(alpha)\n",
    "        xtopte.append(xt)\n",
    "        ytopte.append(yt)\n",
    "        alpha += math.pi\n",
    "        xb = xc + tt * math.cos(alpha)\n",
    "        yb = yc + tt * math.sin(alpha)\n",
    "        xbotte.append(xb)\n",
    "        ybotte.append(yb)\n",
    "    return xtopte, ytopte, xbotte, ybotte\n",
    "\n",
    "\n"
   ]
  },
  {
   "cell_type": "code",
   "execution_count": null,
   "id": "bb84f9e6",
   "metadata": {},
   "outputs": [],
   "source": []
  },
  {
   "cell_type": "code",
   "execution_count": null,
   "id": "21381bdf",
   "metadata": {},
   "outputs": [],
   "source": []
  }
 ],
 "metadata": {
  "kernelspec": {
   "display_name": "Python 3 (ipykernel)",
   "language": "python",
   "name": "python3"
  },
  "language_info": {
   "codemirror_mode": {
    "name": "ipython",
    "version": 3
   },
   "file_extension": ".py",
   "mimetype": "text/x-python",
   "name": "python",
   "nbconvert_exporter": "python",
   "pygments_lexer": "ipython3",
   "version": "3.10.4"
  },
  "latex_envs": {
   "LaTeX_envs_menu_present": true,
   "autoclose": false,
   "autocomplete": true,
   "bibliofile": "biblio.bib",
   "cite_by": "apalike",
   "current_citInitial": 1,
   "eqLabelWithNumbers": true,
   "eqNumInitial": 1,
   "hotkeys": {
    "equation": "Ctrl-E",
    "itemize": "Ctrl-I"
   },
   "labels_anchors": false,
   "latex_user_defs": false,
   "report_style_numbering": false,
   "user_envs_cfg": false
  },
  "toc": {
   "base_numbering": 1,
   "nav_menu": {},
   "number_sections": true,
   "sideBar": true,
   "skip_h1_title": false,
   "title_cell": "Table of Contents",
   "title_sidebar": "Contents",
   "toc_cell": false,
   "toc_position": {},
   "toc_section_display": true,
   "toc_window_display": false
  },
  "varInspector": {
   "cols": {
    "lenName": 16,
    "lenType": 16,
    "lenVar": 40
   },
   "kernels_config": {
    "python": {
     "delete_cmd_postfix": "",
     "delete_cmd_prefix": "del ",
     "library": "var_list.py",
     "varRefreshCmd": "print(var_dic_list())"
    },
    "r": {
     "delete_cmd_postfix": ") ",
     "delete_cmd_prefix": "rm(",
     "library": "var_list.r",
     "varRefreshCmd": "cat(var_dic_list()) "
    }
   },
   "types_to_exclude": [
    "module",
    "function",
    "builtin_function_or_method",
    "instance",
    "_Feature"
   ],
   "window_display": false
  }
 },
 "nbformat": 4,
 "nbformat_minor": 5
}
