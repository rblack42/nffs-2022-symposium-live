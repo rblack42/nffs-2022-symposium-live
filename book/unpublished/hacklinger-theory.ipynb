{
 "cells": [
  {
   "cell_type": "code",
   "execution_count": null,
   "id": "b1a3f4c6",
   "metadata": {},
   "outputs": [],
   "source": [
    "# Hacklinger's Theories"
   ]
  },
  {
   "cell_type": "markdown",
   "id": "96cc9075",
   "metadata": {},
   "source": [
    "Max Hacklinger, in a paper published in 1968, did an analysis of indoor models, and presentied an analysis of propeller performance."
   ]
  },
  {
   "cell_type": "markdown",
   "id": "f14fc0f1",
   "metadata": {},
   "source": [
    "## Definitions\n",
    "\n",
    "- Torque ($\\tau$)  is the rotational equivalent of a linear force.\n",
    "- Power ($P$) is the application of a work over some period of time. \n",
    "- Angular velocity ($\\omega$) is the rotational speed.\n",
    "\n",
    "These are related by this equation:\n",
    "\n",
    "\\begin{equation}\n",
    "P = \\tau \\omega\n",
    "\\end{equation}"
   ]
  },
  {
   "cell_type": "markdown",
   "id": "3b87edad",
   "metadata": {},
   "source": [
    "We know that the torque provided by our rubber motor varies greatly over the flight time. It is very high on launch causing the airplane to climb rapidly. As the *torque burst* fades, so does the climb, and we enter a period of cruise where altitude is lost slowly. Finally, the model descends to the ground. If we are lucky, the landing happens as the motor runs out of turns.\n",
    "\n",
    "Unfortunately, data on the propeller RPM during a flight is difficule to obtain, the exact shape of the work done as a function of time is not known, but we have some data showing its general shape. From Hacklinger's paper, we see this curve:"
   ]
  },
  {
   "cell_type": "markdown",
   "id": "8ac02a6d",
   "metadata": {},
   "source": [
    "![torque curve](torque-curve.png)"
   ]
  },
  {
   "cell_type": "markdown",
   "id": "9587cf31",
   "metadata": {},
   "source": [
    "Hacklinger theorized that the energy expended in the climb is approximately equal to the energy expended during descent, so we should be able to use to the average energy labeled $Q_H$ in the figure to estimate flying time."
   ]
  },
  {
   "cell_type": "markdown",
   "id": "51eea970",
   "metadata": {},
   "source": [
    "In working through the power available to an indoor model, he presented a term called the *Energy Height* which is defined as follows:\n",
    "    \n",
    "\\begin{equation}\n",
    "H_e = \\frac{work}{w_{motor}}\n",
    "\\end{equation}\n",
    "\n",
    "Work is the application of a force over a distance. The fore we are interested in from our propeller is the thrust force $T$.\n",
    "\n",
    "\\begin{equation}\n",
    "W = T x\n",
    "\\end{equation}\n",
    "\n",
    "Where $X$ is the distance we have moved.\n",
    "\n",
    "Taking the derivative of this equation gives:\n",
    "\n",
    "\\begin{equation}\n",
    "\\frac{dW}{dt} = T \\frac{dx}{dt} + x \\frac{dT}{dt}\n",
    "\\end{equation}\n",
    "Testing showed that for indoor models, $H_e$ is approximately constant and has a value of 900 meters.\n",
    "\n",
    "Velocity is the time rate of change of distance. If the Work expended varies over time, so the Thrust must also vary over time if this equation is o hold. Therefore:\n",
    "\n",
    "\n",
    "If $\\eta$ is the propeller efficiency, which is a measure of its ability to convert the torque applied to the propeller to the increase in velocity of the asir through the propeller disk, then we get this equation:\n",
    "\n",
    "\\begin{equation}\n",
    "t = \\eta E/P\n",
    "\\end{equation}\n",
    "\n",
    "Where $E$ is the available energy, and $P$ is the power available from the propeller."
   ]
  },
  {
   "cell_type": "raw",
   "id": "eb7cf991",
   "metadata": {},
   "source": [
    "Hacklinger then provides an equation for the rate of climb of a model\n",
    "\n",
    "\\begin{equation}\n",
    "\\frac{dh}{dt} = \\frac{P \\eta}{W} - \\sqrt{\\frac{2 W C_d^2}{\\rho S C_l^3}}\n",
    "\\end{equation}"
   ]
  },
  {
   "cell_type": "markdown",
   "id": "fdfdf867",
   "metadata": {},
   "source": [
    "\\begin{equation}\n",
    "\\frac{dh}{dt} = \\frac{\\eta}{W} \\frac{dE}{dt} - k_1\\sqrt{W}\n",
    "\\end{equation}"
   ]
  },
  {
   "cell_type": "code",
   "execution_count": 14,
   "id": "5bd8d5a6",
   "metadata": {},
   "outputs": [],
   "source": [
    "import sympy\n",
    "\n",
    "W, eta, K_1, t = sympy.symbols('W eta K_1 t')"
   ]
  },
  {
   "cell_type": "code",
   "execution_count": 16,
   "id": "a55dd9e4",
   "metadata": {},
   "outputs": [
    {
     "data": {
      "text/latex": [
       "$\\displaystyle \\frac{d}{d t} E{\\left(t \\right)}$"
      ],
      "text/plain": [
       "Derivative(E(t), t)"
      ]
     },
     "execution_count": 16,
     "metadata": {},
     "output_type": "execute_result"
    }
   ],
   "source": [
    "import sympy as sp\n",
    "from sympy import sin, cos, Function\n",
    "\n",
    "t = sp.symbols('t')\n",
    "E = Function('E')\n",
    "f = E(t)\n",
    "df = sp.diff(f, t)\n",
    "df"
   ]
  },
  {
   "cell_type": "code",
   "execution_count": 20,
   "id": "b4b761ca",
   "metadata": {},
   "outputs": [
    {
     "data": {
      "text/latex": [
       "$\\displaystyle K_{1} \\sqrt{W} + \\frac{\\eta \\frac{d}{d t} E{\\left(t \\right)}}{W}$"
      ],
      "text/plain": [
       "K_1*sqrt(W) + eta*Derivative(E(t), t)/W"
      ]
     },
     "execution_count": 20,
     "metadata": {},
     "output_type": "execute_result"
    }
   ],
   "source": [
    "df2 = df * eta/W + K_1 * sympy.sqrt(W)\n",
    "df2"
   ]
  },
  {
   "cell_type": "code",
   "execution_count": 23,
   "id": "0823e8da",
   "metadata": {},
   "outputs": [
    {
     "data": {
      "text/latex": [
       "$\\displaystyle K_{1} \\sqrt{W} t + \\frac{\\eta E{\\left(t \\right)}}{W}$"
      ],
      "text/plain": [
       "K_1*sqrt(W)*t + eta*E(t)/W"
      ]
     },
     "execution_count": 23,
     "metadata": {},
     "output_type": "execute_result"
    }
   ],
   "source": [
    "df3 = sympy.integrate(df2,t)\n",
    "df3"
   ]
  },
  {
   "cell_type": "markdown",
   "id": "c52d7748",
   "metadata": {},
   "source": [
    "We need to add in a constant of integration, $K_2$you  and rel=placem have $E(t) with just E. So we get this equation:\n",
    "    "
   ]
  },
  {
   "cell_type": "code",
   "execution_count": 36,
   "id": "b34780f9",
   "metadata": {},
   "outputs": [
    {
     "data": {
      "text/latex": [
       "$\\displaystyle K_{1} \\sqrt{W} t + K_{2} - h + \\frac{e_{t} \\eta}{W}$"
      ],
      "text/plain": [
       "K_1*sqrt(W)*t + K_2 - h + e_t*eta/W"
      ]
     },
     "execution_count": 36,
     "metadata": {},
     "output_type": "execute_result"
    }
   ],
   "source": [
    "h, K_2,e_t = sympy.symbols('h K_2 e_t')\n",
    "df4 = - h + K_1 * sympy.sqrt(W)*t + eta* e_t / W + K_2\n",
    "df4"
   ]
  },
  {
   "cell_type": "code",
   "execution_count": 37,
   "id": "5df537c2",
   "metadata": {},
   "outputs": [
    {
     "data": {
      "text/latex": [
       "$\\displaystyle - \\frac{W \\left(K_{2} - h\\right) + e_{t} \\eta}{K_{1} W^{\\frac{3}{2}}}$"
      ],
      "text/plain": [
       "-(W*(K_2 - h) + e_t*eta)/(K_1*W**(3/2))"
      ]
     },
     "execution_count": 37,
     "metadata": {},
     "output_type": "execute_result"
    }
   ],
   "source": [
    "df5 = sympy.solve(df4,t)\n",
    "df6 = df5[0]\n",
    "df6.simplify()"
   ]
  },
  {
   "cell_type": "markdown",
   "id": "a82bb4e1",
   "metadata": {},
   "source": [
    "To satisfy the condition that at time zero, the eight zero, and we have expended no energy. threfore, we need to set $K_2$ to zero."
   ]
  }
 ],
 "metadata": {
  "kernelspec": {
   "display_name": "Python 3 (ipykernel)",
   "language": "python",
   "name": "python3"
  },
  "language_info": {
   "codemirror_mode": {
    "name": "ipython",
    "version": 3
   },
   "file_extension": ".py",
   "mimetype": "text/x-python",
   "name": "python",
   "nbconvert_exporter": "python",
   "pygments_lexer": "ipython3",
   "version": "3.9.9"
  },
  "latex_envs": {
   "LaTeX_envs_menu_present": true,
   "autoclose": false,
   "autocomplete": true,
   "bibliofile": "biblio.bib",
   "cite_by": "apalike",
   "current_citInitial": 1,
   "eqLabelWithNumbers": true,
   "eqNumInitial": 1,
   "hotkeys": {
    "equation": "Ctrl-E",
    "itemize": "Ctrl-I"
   },
   "labels_anchors": false,
   "latex_user_defs": false,
   "report_style_numbering": false,
   "user_envs_cfg": false
  },
  "toc": {
   "base_numbering": 1,
   "nav_menu": {},
   "number_sections": true,
   "sideBar": true,
   "skip_h1_title": false,
   "title_cell": "Table of Contents",
   "title_sidebar": "Contents",
   "toc_cell": false,
   "toc_position": {},
   "toc_section_display": true,
   "toc_window_display": false
  },
  "varInspector": {
   "cols": {
    "lenName": 16,
    "lenType": 16,
    "lenVar": 40
   },
   "kernels_config": {
    "python": {
     "delete_cmd_postfix": "",
     "delete_cmd_prefix": "del ",
     "library": "var_list.py",
     "varRefreshCmd": "print(var_dic_list())"
    },
    "r": {
     "delete_cmd_postfix": ") ",
     "delete_cmd_prefix": "rm(",
     "library": "var_list.r",
     "varRefreshCmd": "cat(var_dic_list()) "
    }
   },
   "types_to_exclude": [
    "module",
    "function",
    "builtin_function_or_method",
    "instance",
    "_Feature"
   ],
   "window_display": false
  }
 },
 "nbformat": 4,
 "nbformat_minor": 5
}
