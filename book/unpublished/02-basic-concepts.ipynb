{
 "cells": [
  {
   "cell_type": "markdown",
   "id": "cff937c4",
   "metadata": {},
   "source": [
    "# Basic Concepts"
   ]
  },
  {
   "cell_type": "markdown",
   "id": "460760ef",
   "metadata": {},
   "source": [
    "Before we get started, let's review some basic concepts that will help explain how this project is set up and what you will see in the pages that follow."
   ]
  },
  {
   "cell_type": "markdown",
   "id": "14dc055e",
   "metadata": {},
   "source": [
    "## Python"
   ]
  },
  {
   "cell_type": "markdown",
   "id": "4e7a159b",
   "metadata": {},
   "source": [
    "## Jupyter"
   ]
  },
  {
   "cell_type": "markdown",
   "id": "dc6d1e6d",
   "metadata": {},
   "source": [
    "*Jupyter* is a powerful Python program that creates a web-based environment where you can work through a project of some kind. For our purposes, that project will use Python to do an analysis of the aerodynamics of an indoor model airplane. We will need to look at some mathematical expression, then cast those expressions into *Python* code so we can evaluate a variety of properties for our model. Along the way, we will include figures and images to help explain what is going on.\n",
    "\n",
    "Actually, the final product of this project will be a *Jupyter Book*, which is a collection of individual pages. The *book* concept allow us to present the discussions in a logical (at least to the author) order. The result is intended to be read in a linear fashion, but each page is a stand-alone topic. For the rest of this section, we will focus on the structure of a *Jupyter* page."
   ]
  },
  {
   "cell_type": "markdown",
   "id": "9d1f26c9",
   "metadata": {},
   "source": [
    "### Pages"
   ]
  },
  {
   "cell_type": "markdown",
   "id": "f35d2209",
   "metadata": {},
   "source": [
    "A page is a sequence of *blocks*. There are two kinds of blocks: code blocks, and *Markdown* documentation blocks. The code blocks can contain code in a number of different programming languages, but for our purposes, we will use the default language, which happens to be *Python*. *Markdown is a simple *markup language* used to write plain text. We will use a few special marks in the text to do things like turn text into a bold font, or italics. Other markup will let up add citations for a bibliography, and create section headers. \n",
    "\n",
    "Blocks can be *processed* using simple commands. There is a **Run** button at the top of eacjh page. Clicking on this button will process the block where the cursor is currently located. You can also type *Shift-Enter* to process a block. The processing will execute the code in *code blocks* and render the *Markdown blocks* so the text looks more professional. "
   ]
  }
 ],
 "metadata": {
  "kernelspec": {
   "display_name": "Python 3 (ipykernel)",
   "language": "python",
   "name": "python3"
  },
  "language_info": {
   "codemirror_mode": {
    "name": "ipython",
    "version": 3
   },
   "file_extension": ".py",
   "mimetype": "text/x-python",
   "name": "python",
   "nbconvert_exporter": "python",
   "pygments_lexer": "ipython3",
   "version": "3.10.4"
  },
  "toc": {
   "base_numbering": 1,
   "nav_menu": {},
   "number_sections": true,
   "sideBar": true,
   "skip_h1_title": false,
   "title_cell": "Table of Contents",
   "title_sidebar": "Contents",
   "toc_cell": false,
   "toc_position": {},
   "toc_section_display": true,
   "toc_window_display": false
  },
  "varInspector": {
   "cols": {
    "lenName": 16,
    "lenType": 16,
    "lenVar": 40
   },
   "kernels_config": {
    "python": {
     "delete_cmd_postfix": "",
     "delete_cmd_prefix": "del ",
     "library": "var_list.py",
     "varRefreshCmd": "print(var_dic_list())"
    },
    "r": {
     "delete_cmd_postfix": ") ",
     "delete_cmd_prefix": "rm(",
     "library": "var_list.r",
     "varRefreshCmd": "cat(var_dic_list()) "
    }
   },
   "types_to_exclude": [
    "module",
    "function",
    "builtin_function_or_method",
    "instance",
    "_Feature"
   ],
   "window_display": false
  }
 },
 "nbformat": 4,
 "nbformat_minor": 5
}
