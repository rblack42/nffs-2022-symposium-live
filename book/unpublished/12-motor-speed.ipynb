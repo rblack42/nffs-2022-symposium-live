{
 "cells": [
  {
   "cell_type": "markdown",
   "id": "6483428e",
   "metadata": {},
   "source": [
    "# Propeller Speed"
   ]
  },
  {
   "cell_type": "code",
   "execution_count": 58,
   "id": "81ffa815",
   "metadata": {},
   "outputs": [],
   "source": [
    "import os\n",
    "import sys\n",
    "from pathlib import Path\n",
    "cwd = !pwd\n",
    "pagedir = Path(cwd[0])\n",
    "\n",
    "projpath = pagedir / \"..\" / \"..\"\n",
    "projdir = projpath.absolute().as_posix()\n",
    "if not projdir in sys.path:\n",
    "        sys.path.insert(0,projdir)"
   ]
  },
  {
   "cell_type": "code",
   "execution_count": 59,
   "id": "bd011ed4",
   "metadata": {},
   "outputs": [
    {
     "data": {
      "text/html": [
       "4.739938636974868 foot force_pound"
      ],
      "text/latex": [
       "$4.739938636974868\\ \\mathrm{foot} \\cdot \\mathrm{force\\_pound}$"
      ],
      "text/plain": [
       "4.739938636974868 <Unit('foot * force_pound')>"
      ]
     },
     "execution_count": 59,
     "metadata": {},
     "output_type": "execute_result"
    }
   ],
   "source": [
    "import pint\n",
    "u = pint.UnitRegistry()\n",
    "from mmtime.data.models.wart import data\n",
    "wart = data.Wart(u)\n",
    "mdata = wart.model_data()\n",
    "w_m = mdata['weights']['rubber']\n",
    "K_m = 30000 * u.inch\n",
    "E = K_m * w_m * u.gravity\n",
    "E.to('ft*lbf')"
   ]
  },
  {
   "cell_type": "code",
   "execution_count": 60,
   "id": "15b70649",
   "metadata": {},
   "outputs": [],
   "source": [
    "def torque(n, Qm,x1,y1,x2,y2,Nm):\n",
    "    M = (y2 - y1)/(x2 - x1)\n",
    "    if n<x1: \n",
    "        A = (M*x1 + Qm - y1)/x1**2\n",
    "        B = (-M*x1 - 2*Qm + 2*y1)/x1\n",
    "        C = Qm\n",
    "        return A*n**2 + B*n + C\n",
    "    elif n < x2:\n",
    "        M = (y2 - y1)/(x2 - x1)\n",
    "        return y1 + M*(n - x1)\n",
    "    else:\n",
    "        xp = Nm-n\n",
    "        A = (-M*Nm + M*x2 - y2)/(Nm**2 - 2*Nm*x2 + x2**2)\n",
    "        B = (-M*Nm + M*x2 - 2*y2)/(-Nm + x2)\n",
    "        C = 0\n",
    "        return A*xp**2 + B*xp + C"
   ]
  },
  {
   "cell_type": "code",
   "execution_count": 61,
   "id": "3c8f8ee8",
   "metadata": {},
   "outputs": [],
   "source": [
    "Weights = [0.90,0.98,0.83,0.88,\n",
    "               0.94,0.81,0.81,0.80,\n",
    "               0.55,0.61,0.61,0.58,\n",
    "               0.8,0.84] * u.grams"
   ]
  },
  {
   "cell_type": "code",
   "execution_count": 62,
   "id": "aeea264e",
   "metadata": {},
   "outputs": [],
   "source": [
    "Turns = [3375,3570,3860,3820,\n",
    "         4050,3785,3740,3640,\n",
    "         2425,1775,1800,1885,\n",
    "         1750,2400]"
   ]
  },
  {
   "cell_type": "code",
   "execution_count": 63,
   "id": "74cb7849",
   "metadata": {},
   "outputs": [],
   "source": [
    "Time = [531,536,550,594,\n",
    "        613,614,594,588,\n",
    "        276,269,280,256,\n",
    "        258,248]*u.seconds"
   ]
  },
  {
   "cell_type": "code",
   "execution_count": 64,
   "id": "5d73c5d8",
   "metadata": {},
   "outputs": [],
   "source": [
    "Lengths = [17.5,18.0,18.0,19.0,\n",
    "          19.0,18.0,18.0,18.0,\n",
    "          14.0,14.5,14.5,14.0,\n",
    "          17.5,17.5]*u.inches"
   ]
  },
  {
   "cell_type": "code",
   "execution_count": 65,
   "id": "c336db15",
   "metadata": {},
   "outputs": [],
   "source": [
    "Torque = [3.3,3.4,3.2,2.8,\n",
    "          3.0,2.9,2.9,2.8,\n",
    "          0.75,0.4,0.4,0.55,\n",
    "          0.55,0.6] * u.inch * u.ounces"
   ]
  },
  {
   "cell_type": "code",
   "execution_count": 66,
   "id": "d6de8855",
   "metadata": {},
   "outputs": [
    {
     "data": {
      "text/html": [
       "<table><tbody><tr><th>Magnitude</th><td style='text-align:left;'><pre>[0.0023762570283375004 0.0024482648170750004 0.0023042492396000004<br> 0.0020162180846500003 0.0021602336621250003 0.0020882258733875003<br> 0.0020882258733875003 0.0020162180846500003 0.0005400584155312501<br> 0.00028803115495000005 0.00028803115495000005 0.0003960428380562501<br> 0.0003960428380562501 0.0004320467324250001]</pre></td></tr><tr><th>Units</th><td style='text-align:left;'>kilogram meter</td></tr></tbody></table>"
      ],
      "text/latex": [
       "$\\begin{pmatrix}0.0023762570283375004 & 0.0024482648170750004 & 0.0023042492396000004 & 0.0020162180846500003 & 0.0021602336621250003 & 0.0020882258733875003 & 0.0020882258733875003 & 0.0020162180846500003 & 0.0005400584155312501 & 0.00028803115495000005 & 0.00028803115495000005 & 0.0003960428380562501 & 0.0003960428380562501 & 0.0004320467324250001\\end{pmatrix}\\ \\mathrm{kilogram} \\cdot \\mathrm{meter}$"
      ],
      "text/plain": [
       "array([0.00237626, 0.00244826, 0.00230425, 0.00201622, 0.00216023,\n",
       "       0.00208823, 0.00208823, 0.00201622, 0.00054006, 0.00028803,\n",
       "       0.00028803, 0.00039604, 0.00039604, 0.00043205]) <Unit('kilogram * meter')>"
      ]
     },
     "execution_count": 66,
     "metadata": {},
     "output_type": "execute_result"
    }
   ],
   "source": [
    "Torque.to_base_units()"
   ]
  },
  {
   "cell_type": "code",
   "execution_count": 67,
   "id": "989818b4",
   "metadata": {},
   "outputs": [
    {
     "data": {
      "text/html": [
       "<table><tbody><tr><th>Magnitude</th><td style='text-align:left;'><pre>[0.20952380952380953 0.1927437641723356 0.21419009370816602<br> 0.16746411483253587 0.167973124300112 0.1989026063100137<br> 0.1989026063100137 0.19444444444444442 0.0974025974025974<br> 0.04522328999434709 0.04522328999434709 0.06773399014778327<br> 0.039285714285714285 0.04081632653061225]</pre></td></tr><tr><th>Units</th><td style='text-align:left;'>ounce/gram</td></tr></tbody></table>"
      ],
      "text/latex": [
       "$\\begin{pmatrix}0.20952380952380953 & 0.1927437641723356 & 0.21419009370816602 & 0.16746411483253587 & 0.167973124300112 & 0.1989026063100137 & 0.1989026063100137 & 0.19444444444444442 & 0.0974025974025974 & 0.04522328999434709 & 0.04522328999434709 & 0.06773399014778327 & 0.039285714285714285 & 0.04081632653061225\\end{pmatrix}\\ \\frac{\\mathrm{ounce}}{\\mathrm{gram}}$"
      ],
      "text/plain": [
       "array([0.20952381, 0.19274376, 0.21419009, 0.16746411, 0.16797312,\n",
       "       0.19890261, 0.19890261, 0.19444444, 0.0974026 , 0.04522329,\n",
       "       0.04522329, 0.06773399, 0.03928571, 0.04081633]) <Unit('ounce / gram')>"
      ]
     },
     "execution_count": 67,
     "metadata": {},
     "output_type": "execute_result"
    }
   ],
   "source": [
    "T_W = Torque/Weights/Lengths\n",
    "T_W"
   ]
  },
  {
   "cell_type": "code",
   "execution_count": 68,
   "id": "d129b4f6",
   "metadata": {},
   "outputs": [
    {
     "data": {
      "text/html": [
       "<table><tbody><tr><th>Magnitude</th><td style='text-align:left;'><pre>[6.3559322033898304 6.66044776119403 7.0181818181818185 6.430976430976431<br> 6.6068515497553015 6.164495114006515 6.296296296296297 6.190476190476191<br> 8.78623188405797 6.598513011152416 6.428571428571429 7.36328125<br> 6.782945736434108 9.67741935483871]</pre></td></tr><tr><th>Units</th><td style='text-align:left;'>1/second</td></tr></tbody></table>"
      ],
      "text/latex": [
       "$\\begin{pmatrix}6.3559322033898304 & 6.66044776119403 & 7.0181818181818185 & 6.430976430976431 & 6.6068515497553015 & 6.164495114006515 & 6.296296296296297 & 6.190476190476191 & 8.78623188405797 & 6.598513011152416 & 6.428571428571429 & 7.36328125 & 6.782945736434108 & 9.67741935483871\\end{pmatrix}\\ \\frac{1}{\\mathrm{second}}$"
      ],
      "text/plain": [
       "array([6.3559322 , 6.66044776, 7.01818182, 6.43097643, 6.60685155,\n",
       "       6.16449511, 6.2962963 , 6.19047619, 8.78623188, 6.59851301,\n",
       "       6.42857143, 7.36328125, 6.78294574, 9.67741935]) <Unit('1 / second')>"
      ]
     },
     "execution_count": 68,
     "metadata": {},
     "output_type": "execute_result"
    }
   ],
   "source": [
    "Navg = (Turns/Time)\n",
    "Navg"
   ]
  },
  {
   "cell_type": "code",
   "execution_count": 69,
   "id": "72555e5d",
   "metadata": {},
   "outputs": [
    {
     "data": {
      "text/html": [
       "<table><tbody><tr><th>Magnitude</th><td style='text-align:left;'><pre>[1.926040061633282 1.9589552238805972 2.1931818181818183 2.296777296777297<br> 2.202283849918434 2.1256879703470744 2.171136653895275 2.2108843537414966<br> 11.714975845410628 16.49628252788104 16.07142857142857 13.38778409090909<br> 12.332628611698377 16.129032258064516]</pre></td></tr><tr><th>Units</th><td style='text-align:left;'>1/(inch ounce second)</td></tr></tbody></table>"
      ],
      "text/latex": [
       "$\\begin{pmatrix}1.926040061633282 & 1.9589552238805972 & 2.1931818181818183 & 2.296777296777297 & 2.202283849918434 & 2.1256879703470744 & 2.171136653895275 & 2.2108843537414966 & 11.714975845410628 & 16.49628252788104 & 16.07142857142857 & 13.38778409090909 & 12.332628611698377 & 16.129032258064516\\end{pmatrix}\\ \\frac{1}{\\left(\\mathrm{inch} \\cdot \\mathrm{ounce} \\cdot \\mathrm{second}\\right)}$"
      ],
      "text/plain": [
       "array([ 1.92604006,  1.95895522,  2.19318182,  2.2967773 ,  2.20228385,\n",
       "        2.12568797,  2.17113665,  2.21088435, 11.71497585, 16.49628253,\n",
       "       16.07142857, 13.38778409, 12.33262861, 16.12903226]) <Unit('1 / inch / ounce / second')>"
      ]
     },
     "execution_count": 69,
     "metadata": {},
     "output_type": "execute_result"
    }
   ],
   "source": [
    "N_Q = Navg/Torque\n",
    "N_Q"
   ]
  },
  {
   "cell_type": "code",
   "execution_count": 70,
   "id": "73ab4927",
   "metadata": {},
   "outputs": [
    {
     "data": {
      "text/plain": [
       "<matplotlib.collections.PathCollection at 0x118391c60>"
      ]
     },
     "execution_count": 70,
     "metadata": {},
     "output_type": "execute_result"
    },
    {
     "data": {
      "image/png": "[encoded data removed]",
      "text/plain": [
       "<Figure size 432x288 with 1 Axes>"
      ]
     },
     "metadata": {
      "needs_background": "light"
     },
     "output_type": "display_data"
    }
   ],
   "source": [
    "import matplotlib.pyplot as plt\n",
    "plt.scatter(T_W, Navg)"
   ]
  },
  {
   "cell_type": "code",
   "execution_count": 71,
   "id": "1739ee86",
   "metadata": {},
   "outputs": [],
   "source": [
    "def max_turns(length, weight):\n",
    "    K = 8.48597 * u.ounce**0.5/u.inch**1.5\n",
    "    Nmax = K * length / (weight/length)**0.5\n",
    "    return Nmax"
   ]
  },
  {
   "cell_type": "markdown",
   "id": "5e60c1ec",
   "metadata": {},
   "source": [
    "Let's wind to 95% of the maximum allowed turns:"
   ]
  },
  {
   "cell_type": "code",
   "execution_count": 72,
   "id": "2196298b",
   "metadata": {},
   "outputs": [
    {
     "data": {
      "text/html": [
       "3534.7402756112 dimensionless"
      ],
      "text/latex": [
       "$3534.7402756112\\ dimensionless$"
      ],
      "text/plain": [
       "3534.7402756112 <Unit('dimensionless')>"
      ]
     },
     "execution_count": 72,
     "metadata": {},
     "output_type": "execute_result"
    }
   ],
   "source": [
    "motor_weight = 0.86 * u.grams\n",
    "motor_length = 18.0 * u.inches\n",
    "winding_turns = 0.95 * max_turns(motor_length, motor_weight)\n",
    "winding_turns.to_base_units()"
   ]
  },
  {
   "cell_type": "markdown",
   "id": "5b9bfffe",
   "metadata": {},
   "source": [
    "Using the BET function, get the RPM needed for level flight. From the above experiment, I got about:"
   ]
  },
  {
   "cell_type": "code",
   "execution_count": 74,
   "id": "dd89feaa",
   "metadata": {},
   "outputs": [
    {
     "data": {
      "text/html": [
       "390.8736 1/minute"
      ],
      "text/latex": [
       "$390.8736\\ \\frac{1}{\\mathrm{minute}}$"
      ],
      "text/plain": [
       "390.8736 <Unit('1 / minute')>"
      ]
     },
     "execution_count": 74,
     "metadata": {},
     "output_type": "execute_result"
    }
   ],
   "source": [
    "Level_Flight_RPM =  6.51456*60 / u.minute\n",
    "Level_Flight_RPM"
   ]
  },
  {
   "cell_type": "code",
   "execution_count": 75,
   "id": "56a53bdb",
   "metadata": {},
   "outputs": [],
   "source": [
    "def torque(n, Qm,x1,y1,x2,y2,Nm):\n",
    "    M = (y2 - y1)/(x2 - x1)\n",
    "    if n<x1: \n",
    "        A = (M*x1 + Qm - y1)/x1**2\n",
    "        B = (-M*x1 - 2*Qm + 2*y1)/x1\n",
    "        C = Qm\n",
    "        return A*n**2 + B*n + C\n",
    "    elif n < x2:\n",
    "        M = (y2 - y1)/(x2 - x1)\n",
    "        return y1 + M*(n - x1)\n",
    "    else:\n",
    "        xp = Nm-n\n",
    "        A = (-M*Nm + M*x2 - y2)/(Nm**2 - 2*Nm*x2 + x2**2)\n",
    "        B = (-M*Nm + M*x2 - 2*y2)/(-Nm + x2)\n",
    "        C = 0\n",
    "        return A*xp**2 + B*xp + C"
   ]
  },
  {
   "cell_type": "code",
   "execution_count": null,
   "id": "32f6de61",
   "metadata": {},
   "outputs": [],
   "source": []
  }
 ],
 "metadata": {
  "kernelspec": {
   "display_name": "Python 3 (ipykernel)",
   "language": "python",
   "name": "python3"
  },
  "language_info": {
   "codemirror_mode": {
    "name": "ipython",
    "version": 3
   },
   "file_extension": ".py",
   "mimetype": "text/x-python",
   "name": "python",
   "nbconvert_exporter": "python",
   "pygments_lexer": "ipython3",
   "version": "3.10.5"
  },
  "toc": {
   "base_numbering": 1,
   "nav_menu": {},
   "number_sections": true,
   "sideBar": true,
   "skip_h1_title": false,
   "title_cell": "Table of Contents",
   "title_sidebar": "Contents",
   "toc_cell": false,
   "toc_position": {},
   "toc_section_display": true,
   "toc_window_display": false
  },
  "varInspector": {
   "cols": {
    "lenName": 16,
    "lenType": 16,
    "lenVar": 40
   },
   "kernels_config": {
    "python": {
     "delete_cmd_postfix": "",
     "delete_cmd_prefix": "del ",
     "library": "var_list.py",
     "varRefreshCmd": "print(var_dic_list())"
    },
    "r": {
     "delete_cmd_postfix": ") ",
     "delete_cmd_prefix": "rm(",
     "library": "var_list.r",
     "varRefreshCmd": "cat(var_dic_list()) "
    }
   },
   "types_to_exclude": [
    "module",
    "function",
    "builtin_function_or_method",
    "instance",
    "_Feature"
   ],
   "window_display": false
  }
 },
 "nbformat": 4,
 "nbformat_minor": 5
}
