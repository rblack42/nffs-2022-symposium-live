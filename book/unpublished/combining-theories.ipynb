{
 "cells": [
  {
   "cell_type": "markdown",
   "id": "8c7abc50",
   "metadata": {},
   "source": [
    "# Combining Theories"
   ]
  },
  {
   "cell_type": "markdown",
   "id": "0085ea1f",
   "metadata": {},
   "source": [
    "To generalize all of these results, we need to combine the calculations and drive them from model data from our actual design. There is a significant problem with doing that now. Mcleans estimation scheme makes not reference to flying surface alignment, which significantly affects the lift and drag forces produced by those surfaces. And Erbach only provided power required for level flight as a function of the surface alignment, so we have no idea what settings to use when calculating flight time. We will have to deal with that issue before we reach our conclusion. For now, let's focus on generalizing Erbach's calculations so we can drive it with arbitrary model data."
   ]
  },
  {
   "cell_type": "markdown",
   "id": "3371462a",
   "metadata": {},
   "source": [
    "## Calculating Geometry from Plans\n",
    "\n",
    "We need to be able ot calculate the moment arm lengths for areal model flying at some angle of attach. Basically, i want to create a Python function that can do that using input model data.\n",
    "\n",
    "Here are our four moment arms:\n",
    "\n",
    "\n",
    "\\begin{equation}\n",
    "y_{mw} = h_w \\cos{\\alpha}- x_{cg} \\sin{\\alpha}\n",
    "\\end{equation}\n",
    "\n",
    "\\begin{equation}\n",
    "x_{mw} = h_w \\sin{\\alpha} + x_{cg} \\sin{\\alpha}\n",
    "\\end{equation}\n",
    "\n",
    "\\begin{equation}\n",
    "y_{ms} =  (x_{ac} - x_{cg}) \\sin{\\alpha}\n",
    "\\end{equation}\n",
    "\n",
    "\\begin{equation}\n",
    "x_{ms} =  (x_{ac} - x_{cg}) \\cos{\\alpha}\n",
    "\\end{equation}\n"
   ]
  },
  {
   "cell_type": "markdown",
   "id": "5368568d",
   "metadata": {},
   "source": [
    "The wing height is simple. From the **Wart** plan"
   ]
  },
  {
   "cell_type": "code",
   "execution_count": 3,
   "id": "3e8afc99",
   "metadata": {},
   "outputs": [],
   "source": [
    "import pint\n",
    "u = pint.UnitRegistry()"
   ]
  },
  {
   "cell_type": "code",
   "execution_count": 4,
   "id": "738cdc9d",
   "metadata": {},
   "outputs": [],
   "source": [
    "h_w = 7.0/8.0 * u.inch"
   ]
  },
  {
   "cell_type": "markdown",
   "id": "263241d1",
   "metadata": {},
   "source": [
    "One obvious simplification is to use the velocity and power calculations from Erbach's code in place of th calculations made by McLean. To get those values, we need to generalize Erbach's program so we can feed it data from any model design. Fortunately, this is not too hard, given that w can find suitable aerodynamic coefficient data for the chosen airfoil.\n",
    "\n",
    "For circular arc airfoils, I was lucky enough to find some experimental data from Japan!"
   ]
  },
  {
   "cell_type": "markdown",
   "id": "492de4a9",
   "metadata": {},
   "source": [
    "The location of the center of gravity is not specified in the plan, so we will guess for this experiment. Since we are assuming that the aerodynamic center is located at 25% cord, that gives us a value for $x_{cg}$ of 0.5 times the chord of the wing.  "
   ]
  },
  {
   "cell_type": "code",
   "execution_count": 45,
   "id": "bc1d9899",
   "metadata": {},
   "outputs": [],
   "source": [
    "wart_best_time = 618 * u.seconds\n",
    "wart_airframe_weight = 1.2 * u.grams\n",
    "wart_motor_weight = 0.86 * u.grams\n",
    "wart_total_weight = wart_airframe_weight + wart_motor_weight\n",
    "wart_wing_span = (8.0 + 2*3.65)*u.inch\n",
    "wart_stab_span = 10.8 * u.inch\n",
    "wart_wing_area = 30.0 * u.inch**2\n",
    "wart_stab_area = ((1.0 + 1.75)*5.4)*u.inch**2\n",
    "wart_stab_mean_chord = wart_stab_area / wart_stab_span\n",
    "wart_wing_mean_chord = wart_wing_area / wart_wing_span\n",
    "wart_propeller_radius = 3.0 * u.inch\n",
    "motor_turns = 3660\n",
    "kiby_dome_elevation = 2160 * u.feet\n",
    "kiby_dome_height = 147 * u.feet"
   ]
  },
  {
   "cell_type": "code",
   "execution_count": 46,
   "id": "5fb5cb06",
   "metadata": {},
   "outputs": [
    {
     "data": {
      "text/html": [
       "0.9803921568627451 inch"
      ],
      "text/latex": [
       "$0.9803921568627451\\ \\mathrm{inch}$"
      ],
      "text/plain": [
       "0.9803921568627451 <Unit('inch')>"
      ]
     },
     "execution_count": 46,
     "metadata": {},
     "output_type": "execute_result"
    }
   ],
   "source": [
    "x_cg = 0.5 * wart_wing_mean_chord\n",
    "x_cg"
   ]
  },
  {
   "cell_type": "markdown",
   "id": "8d67ee07",
   "metadata": {},
   "source": [
    "The distance between aerodynamic centers, $x_{ac}$ is calculated next. We need a few more dimensions from the plan:"
   ]
  },
  {
   "cell_type": "code",
   "execution_count": 47,
   "id": "e6d38b89",
   "metadata": {},
   "outputs": [],
   "source": [
    "wart_motor_stick_length = 6.0 * u.inch\n",
    "wart_wing_offset = 1.25 * u.inch\n",
    "wart_tailboom_length = 8.5 * u.inch"
   ]
  },
  {
   "cell_type": "code",
   "execution_count": 48,
   "id": "45a2aaf0",
   "metadata": {},
   "outputs": [
    {
     "data": {
      "text/html": [
       "13.666053921568627 inch"
      ],
      "text/latex": [
       "$13.666053921568627\\ \\mathrm{inch}$"
      ],
      "text/plain": [
       "13.666053921568627 <Unit('inch')>"
      ]
     },
     "execution_count": 48,
     "metadata": {},
     "output_type": "execute_result"
    }
   ],
   "source": [
    "x_ac = (wart_motor_stick_length + wart_tailboom_length) \\\n",
    "        - 0.25 *(wart_wing_mean_chord + wart_stab_mean_chord)\n",
    "x_ac"
   ]
  },
  {
   "cell_type": "markdown",
   "id": "00542585",
   "metadata": {},
   "source": [
    "We have the moment arm values now, but the moment calculations depend on the aerodynamic properties of the wing and stab, which in turn depend on the flight angle of attack. From the wart plan, both wing and stab were initially set at zero degrees. McLean assumed that the wing was operating at a lift coefficient of 1.0, and for the circular arc I am using, thst happens at about six degrees angle of attach so we can use the same coefficient values for  so lets pick coefficient f=data for that angle of attack:"
   ]
  },
  {
   "cell_type": "code",
   "execution_count": 49,
   "id": "f4832990",
   "metadata": {},
   "outputs": [],
   "source": [
    "C_lw = 0.885      # approximate for now\n",
    "C_dw = 0.0789\n",
    "C_ls = 0.500    # WAG _ need better data for 2% circular arc\n",
    "C_ds = 0.0500"
   ]
  },
  {
   "cell_type": "code",
   "execution_count": 50,
   "id": "36cada9e",
   "metadata": {},
   "outputs": [],
   "source": [
    "S_w = wart_wing_area\n",
    "S_s = wart_stab_area"
   ]
  },
  {
   "cell_type": "code",
   "execution_count": 51,
   "id": "52125158",
   "metadata": {},
   "outputs": [],
   "source": [
    "M_w = wart_total_weight\n",
    "rho = 0.00231683 * u.slugs/u.ft**3 # standard atmosphere for KC"
   ]
  },
  {
   "cell_type": "code",
   "execution_count": 108,
   "id": "3d93d838",
   "metadata": {},
   "outputs": [
    {
     "name": "stdout",
     "output_type": "stream",
     "text": [
      "-0.45519731786882367 dimensionless\n"
     ]
    }
   ],
   "source": [
    "aerodynamic_center_wing = 0.25  * wart_wing_mean_chord\n",
    "aerodynamic_center_stab = 0.25 * wart_stab_mean_chord\n",
    "pitching_moment_wing = -0.10\n",
    "pitching_moment_stab = 0.05\n",
    "l = ((6 - 1.25)*u.inch - aerodynamic_center_wing) + ((8.5 - 1.75)*u.inch + aerodynamic_center_stab)\n",
    "x = (1.25 + 2.0) * u.inch\n",
    "clr1 = - x/aerodynamic_center_wing \n",
    "clr2 = pitching_moment_wing \n",
    "clr3 = pitching_moment_stab * \\\n",
    "        (wart_stab_area * aerodynamic_center_stab) \\\n",
    "        / (wart_wing_area * aerodynamic_center_wing)\n",
    "clr4 =  1.0  + x/l\n",
    "clr5 = (wart_stab_area * l)/(wart_wing_area*aerodynamic_center_wing)\n",
    "C_lr = (clr1 + clr2 + clr3)/(clr4 * clr5)\n",
    "print(C_lr)"
   ]
  },
  {
   "cell_type": "code",
   "execution_count": 109,
   "id": "3b5eba59",
   "metadata": {},
   "outputs": [
    {
     "name": "stdout",
     "output_type": "stream",
     "text": [
      "0.4780270490253132 dimensionless\n"
     ]
    }
   ],
   "source": [
    "C_l = (C_lw + (wart_stab_area * C_lr)/ wart_wing_area) / \\\n",
    "      (C_lw + (wart_stab_area / wart_wing_area))\n",
    "print(C_l)"
   ]
  },
  {
   "cell_type": "code",
   "execution_count": 113,
   "id": "dd373198",
   "metadata": {},
   "outputs": [
    {
     "data": {
      "text/html": [
       "3.498734749113699 mile/hour"
      ],
      "text/latex": [
       "$3.498734749113699\\ \\frac{\\mathrm{mile}}{\\mathrm{hour}}$"
      ],
      "text/plain": [
       "3.498734749113699 <Unit('mile / hour')>"
      ]
     },
     "execution_count": 113,
     "metadata": {},
     "output_type": "execute_result"
    }
   ],
   "source": [
    "V = (2.0 *(M_w/(rho/u.gravity * C_l*(S_w+S_s))))**0.5\n",
    "V.to('miles/hour')"
   ]
  },
  {
   "cell_type": "code",
   "execution_count": 52,
   "id": "f4fa8004",
   "metadata": {},
   "outputs": [
    {
     "data": {
      "text/html": [
       "1.2424677639177757 meter/second"
      ],
      "text/latex": [
       "$1.2424677639177757\\ \\frac{\\mathrm{meter}}{\\mathrm{second}}$"
      ],
      "text/plain": [
       "1.2424677639177757 <Unit('meter / second')>"
      ]
     },
     "execution_count": 52,
     "metadata": {},
     "output_type": "execute_result"
    }
   ],
   "source": [
    "u_l = (2*(M_w/(rho/u.gravity*(C_ls*S_s + C_lw*S_w)))) **0.5\n",
    "u_l.to_base_units()"
   ]
  },
  {
   "cell_type": "code",
   "execution_count": 53,
   "id": "00d18e25",
   "metadata": {},
   "outputs": [
    {
     "data": {
      "text/html": [
       "4.076337808129185 foot/second"
      ],
      "text/latex": [
       "$4.076337808129185\\ \\frac{\\mathrm{foot}}{\\mathrm{second}}$"
      ],
      "text/plain": [
       "4.076337808129185 <Unit('foot / second')>"
      ]
     },
     "execution_count": 53,
     "metadata": {},
     "output_type": "execute_result"
    }
   ],
   "source": [
    "u_l.to('ft/sec')"
   ]
  },
  {
   "cell_type": "code",
   "execution_count": 54,
   "id": "3ec12b38",
   "metadata": {},
   "outputs": [
    {
     "data": {
      "text/html": [
       "2.779321232815353 mile/hour"
      ],
      "text/latex": [
       "$2.779321232815353\\ \\frac{\\mathrm{mile}}{\\mathrm{hour}}$"
      ],
      "text/plain": [
       "2.779321232815353 <Unit('mile / hour')>"
      ]
     },
     "execution_count": 54,
     "metadata": {},
     "output_type": "execute_result"
    }
   ],
   "source": [
    "u_l.to('miles/hour')"
   ]
  },
  {
   "cell_type": "markdown",
   "id": "fa87612c",
   "metadata": {},
   "source": [
    "That is more in line with Gary's estimation of the flight speed!\n",
    "\n",
    "Now, on to the power requirements."
   ]
  },
  {
   "cell_type": "code",
   "execution_count": 55,
   "id": "63878bb9",
   "metadata": {},
   "outputs": [
    {
     "data": {
      "text/html": [
       "0.09398105624761657 kilogram/meter<sup>2</sup>"
      ],
      "text/latex": [
       "$0.09398105624761657\\ \\frac{\\mathrm{kilogram}}{\\mathrm{meter}^{2}}$"
      ],
      "text/plain": [
       "0.09398105624761657 <Unit('kilogram / meter ** 2')>"
      ]
     },
     "execution_count": 55,
     "metadata": {},
     "output_type": "execute_result"
    }
   ],
   "source": [
    "q = rho * u_l**2/2.0 / u.gravity\n",
    "q.to_base_units()"
   ]
  },
  {
   "cell_type": "code",
   "execution_count": 56,
   "id": "849746b5",
   "metadata": {},
   "outputs": [
    {
     "data": {
      "text/html": [
       "0.3253149120485764 inch ounce/second"
      ],
      "text/latex": [
       "$0.3253149120485764\\ \\frac{\\mathrm{inch} \\cdot \\mathrm{ounce}}{\\mathrm{second}}$"
      ],
      "text/plain": [
       "0.3253149120485764 <Unit('inch * ounce / second')>"
      ]
     },
     "execution_count": 56,
     "metadata": {},
     "output_type": "execute_result"
    }
   ],
   "source": [
    "D_t = q * (S_w * C_dw + S_s * C_ds)\n",
    "power = D_t * u_l\n",
    "power.to('in oz/sec')"
   ]
  },
  {
   "cell_type": "markdown",
   "id": "e79ce224",
   "metadata": {},
   "source": [
    "We will ignore the profile and induced drag calculations for the moment."
   ]
  },
  {
   "cell_type": "code",
   "execution_count": 57,
   "id": "c82f4786",
   "metadata": {},
   "outputs": [
    {
     "data": {
      "text/html": [
       "2797.4992371800113 second"
      ],
      "text/latex": [
       "$2797.4992371800113\\ \\mathrm{second}$"
      ],
      "text/plain": [
       "2797.4992371800113 <Unit('second')>"
      ]
     },
     "execution_count": 57,
     "metadata": {},
     "output_type": "execute_result"
    }
   ],
   "source": [
    "k_m = 30000 * u.inches\n",
    "E = k_m * wart_motor_weight\n",
    "energy_to_power_ratio = E/power\n",
    "energy_to_power_ratio.to_base_units()"
   ]
  },
  {
   "cell_type": "code",
   "execution_count": 60,
   "id": "dd94acc4",
   "metadata": {},
   "outputs": [
    {
     "data": {
      "text/html": [
       "0.1885377483443709 gram"
      ],
      "text/latex": [
       "$0.1885377483443709\\ \\mathrm{gram}$"
      ],
      "text/plain": [
       "0.1885377483443709 <Unit('gram')>"
      ]
     },
     "execution_count": 60,
     "metadata": {},
     "output_type": "execute_result"
    }
   ],
   "source": [
    "D_t"
   ]
  },
  {
   "cell_type": "code",
   "execution_count": 68,
   "id": "883f0937",
   "metadata": {},
   "outputs": [
    {
     "data": {
      "text/html": [
       "0.0606328182487123 gram/inch<sup>2</sup>"
      ],
      "text/latex": [
       "$0.0606328182487123\\ \\frac{\\mathrm{gram}}{\\mathrm{inch}^{2}}$"
      ],
      "text/plain": [
       "0.0606328182487123 <Unit('gram / inch ** 2')>"
      ]
     },
     "execution_count": 68,
     "metadata": {},
     "output_type": "execute_result"
    }
   ],
   "source": [
    "q = rho /u.gravity * u_l**2/2.0\n",
    "q"
   ]
  },
  {
   "cell_type": "code",
   "execution_count": 85,
   "id": "d80d7f65",
   "metadata": {},
   "outputs": [
    {
     "data": {
      "text/html": [
       "28.274333882308138 inch<sup>2</sup>"
      ],
      "text/latex": [
       "$28.274333882308138\\ \\mathrm{inch}^{2}$"
      ],
      "text/plain": [
       "28.274333882308138 <Unit('inch ** 2')>"
      ]
     },
     "execution_count": 85,
     "metadata": {},
     "output_type": "execute_result"
    }
   ],
   "source": [
    "s_p = math.pi * wart_propeller_radius ** 2\n",
    "s_p"
   ]
  },
  {
   "cell_type": "code",
   "execution_count": 87,
   "id": "391b9d3c",
   "metadata": {},
   "outputs": [
    {
     "data": {
      "text/html": [
       "0.10997606567649969 dimensionless"
      ],
      "text/latex": [
       "$0.10997606567649969\\ dimensionless$"
      ],
      "text/plain": [
       "0.10997606567649969 <Unit('dimensionless')>"
      ]
     },
     "execution_count": 87,
     "metadata": {},
     "output_type": "execute_result"
    }
   ],
   "source": [
    "tau = D_t / (q*s_p)\n",
    "tau"
   ]
  },
  {
   "cell_type": "code",
   "execution_count": 88,
   "id": "32b53887",
   "metadata": {},
   "outputs": [
    {
     "data": {
      "text/html": [
       "5.922330097087379 1/second"
      ],
      "text/latex": [
       "$5.922330097087379\\ \\frac{1}{\\mathrm{second}}$"
      ],
      "text/plain": [
       "5.922330097087379 <Unit('1 / second')>"
      ]
     },
     "execution_count": 88,
     "metadata": {},
     "output_type": "execute_result"
    }
   ],
   "source": [
    "omega = motor_turns/wart_best_time\n",
    "omega"
   ]
  },
  {
   "cell_type": "code",
   "execution_count": 89,
   "id": "4eba7ce4",
   "metadata": {},
   "outputs": [
    {
     "data": {
      "text/html": [
       "2.7531986507364334 dimensionless"
      ],
      "text/latex": [
       "$2.7531986507364334\\ dimensionless$"
      ],
      "text/plain": [
       "2.7531986507364334 <Unit('dimensionless')>"
      ]
     },
     "execution_count": 89,
     "metadata": {},
     "output_type": "execute_result"
    }
   ],
   "source": [
    "J = u_l / (omega * wart_propeller_radius)\n",
    "J.to_base_units()"
   ]
  },
  {
   "cell_type": "code",
   "execution_count": 90,
   "id": "bde6a696",
   "metadata": {},
   "outputs": [
    {
     "data": {
      "text/html": [
       "0.10997606567649969 dimensionless"
      ],
      "text/latex": [
       "$0.10997606567649969\\ dimensionless$"
      ],
      "text/plain": [
       "0.10997606567649969 <Unit('dimensionless')>"
      ]
     },
     "execution_count": 90,
     "metadata": {},
     "output_type": "execute_result"
    }
   ],
   "source": [
    "tau"
   ]
  },
  {
   "cell_type": "code",
   "execution_count": 91,
   "id": "6b81f714",
   "metadata": {},
   "outputs": [
    {
     "data": {
      "text/html": [
       "0.9327904783577515 dimensionless"
      ],
      "text/latex": [
       "$0.9327904783577515\\ dimensionless$"
      ],
      "text/plain": [
       "0.9327904783577515 <Unit('dimensionless')>"
      ]
     },
     "execution_count": 91,
     "metadata": {},
     "output_type": "execute_result"
    }
   ],
   "source": [
    "eta_i = (2 - J**2*tau/math.pi**2)/(math.sqrt(tau + 1.0) + 1.0)\n",
    "eta_i.to_base_units()"
   ]
  },
  {
   "cell_type": "code",
   "execution_count": 100,
   "id": "b83b3c43",
   "metadata": {},
   "outputs": [
    {
     "data": {
      "text/html": [
       "0.761879200650401 dimensionless"
      ],
      "text/latex": [
       "$0.761879200650401\\ dimensionless$"
      ],
      "text/plain": [
       "0.761879200650401 <Unit('dimensionless')>"
      ]
     },
     "execution_count": 100,
     "metadata": {},
     "output_type": "execute_result"
    }
   ],
   "source": [
    "epsilon = 0.1 # assumed from McLean\n",
    "eta_p = eta_i * (1.0-(4.0*J*epsilon)/(3.0*math.pi*eta_i))/ \\\n",
    "                (1.0+(2.0*eta_i*math.pi*epsilon)/(3.0*J))\n",
    "eta_p"
   ]
  },
  {
   "cell_type": "code",
   "execution_count": 101,
   "id": "c964db5b",
   "metadata": {},
   "outputs": [
    {
     "data": {
      "text/html": [
       "0.7290192113245703 dimensionless"
      ],
      "text/latex": [
       "$0.7290192113245703\\ dimensionless$"
      ],
      "text/plain": [
       "0.7290192113245703 <Unit('dimensionless')>"
      ]
     },
     "execution_count": 101,
     "metadata": {},
     "output_type": "execute_result"
    }
   ],
   "source": [
    "H = kiby_dome_height/(483 * u.foot * wart_motor_weight/wart_total_weight)\n",
    "H"
   ]
  },
  {
   "cell_type": "code",
   "execution_count": 102,
   "id": "b51d3d46",
   "metadata": {},
   "outputs": [
    {
     "data": {
      "text/html": [
       "0.5714094004878008 dimensionless"
      ],
      "text/latex": [
       "$0.5714094004878008\\ dimensionless$"
      ],
      "text/plain": [
       "0.5714094004878008 <Unit('dimensionless')>"
      ]
     },
     "execution_count": 102,
     "metadata": {},
     "output_type": "execute_result"
    }
   ],
   "source": [
    "F = 0.75\n",
    "eta_av = F * eta_p\n",
    "eta_av"
   ]
  },
  {
   "cell_type": "code",
   "execution_count": 103,
   "id": "24a31ec2",
   "metadata": {},
   "outputs": [
    {
     "data": {
      "text/html": [
       "1598.5173619821098 second"
      ],
      "text/latex": [
       "$1598.5173619821098\\ \\mathrm{second}$"
      ],
      "text/plain": [
       "1598.5173619821098 <Unit('second')>"
      ]
     },
     "execution_count": 103,
     "metadata": {},
     "output_type": "execute_result"
    }
   ],
   "source": [
    "calculated_time = eta_av * E / power\n",
    "calculated_time.to_base_units()"
   ]
  },
  {
   "cell_type": "markdown",
   "id": "ecb0ac2d",
   "metadata": {},
   "source": [
    "This is clearly not a good number, off by almost a factor of three. Where did we go wrong?\n",
    "\n",
    "The value of $\\eta_{av}$ we should have found it this:\n"
   ]
  },
  {
   "cell_type": "code",
   "execution_count": 104,
   "id": "16d65d74",
   "metadata": {},
   "outputs": [
    {
     "data": {
      "text/html": [
       "0.2209115883881235 dimensionless"
      ],
      "text/latex": [
       "$0.2209115883881235\\ dimensionless$"
      ],
      "text/plain": [
       "0.2209115883881235 <Unit('dimensionless')>"
      ]
     },
     "execution_count": 104,
     "metadata": {},
     "output_type": "execute_result"
    }
   ],
   "source": [
    "eta_cav = wart_best_time * power / E\n",
    "eta_cav.to_base_units()"
   ]
  },
  {
   "cell_type": "markdown",
   "id": "cc943db7",
   "metadata": {},
   "source": [
    "Is the fudge factor wrong? Probably, but there is no example data to compare to so we guessed a value. Let's keep working backward. "
   ]
  },
  {
   "cell_type": "code",
   "execution_count": 107,
   "id": "e66a32e0",
   "metadata": {},
   "outputs": [
    {
     "data": {
      "text/html": [
       "0.2899561875419826 dimensionless"
      ],
      "text/latex": [
       "$0.2899561875419826\\ dimensionless$"
      ],
      "text/plain": [
       "0.2899561875419826 <Unit('dimensionless')>"
      ]
     },
     "execution_count": 107,
     "metadata": {},
     "output_type": "execute_result"
    }
   ],
   "source": [
    "F_g = eta_cav/eta_p\n",
    "F_g.to_base_units()"
   ]
  },
  {
   "cell_type": "code",
   "execution_count": null,
   "id": "99b0c6b2",
   "metadata": {},
   "outputs": [],
   "source": [
    "This value is not going to fall on McLean's chart. Perhaps the power calculaiton is off. "
   ]
  }
 ],
 "metadata": {
  "kernelspec": {
   "display_name": "Python 3 (ipykernel)",
   "language": "python",
   "name": "python3"
  },
  "language_info": {
   "codemirror_mode": {
    "name": "ipython",
    "version": 3
   },
   "file_extension": ".py",
   "mimetype": "text/x-python",
   "name": "python",
   "nbconvert_exporter": "python",
   "pygments_lexer": "ipython3",
   "version": "3.9.9"
  },
  "latex_envs": {
   "LaTeX_envs_menu_present": true,
   "autoclose": false,
   "autocomplete": true,
   "bibliofile": "biblio.bib",
   "cite_by": "apalike",
   "current_citInitial": 1,
   "eqLabelWithNumbers": true,
   "eqNumInitial": 1,
   "hotkeys": {
    "equation": "Ctrl-E",
    "itemize": "Ctrl-I"
   },
   "labels_anchors": false,
   "latex_user_defs": false,
   "report_style_numbering": false,
   "user_envs_cfg": false
  },
  "toc": {
   "base_numbering": 1,
   "nav_menu": {},
   "number_sections": true,
   "sideBar": true,
   "skip_h1_title": false,
   "title_cell": "Table of Contents",
   "title_sidebar": "Contents",
   "toc_cell": false,
   "toc_position": {},
   "toc_section_display": true,
   "toc_window_display": false
  },
  "varInspector": {
   "cols": {
    "lenName": 16,
    "lenType": 16,
    "lenVar": 40
   },
   "kernels_config": {
    "python": {
     "delete_cmd_postfix": "",
     "delete_cmd_prefix": "del ",
     "library": "var_list.py",
     "varRefreshCmd": "print(var_dic_list())"
    },
    "r": {
     "delete_cmd_postfix": ") ",
     "delete_cmd_prefix": "rm(",
     "library": "var_list.r",
     "varRefreshCmd": "cat(var_dic_list()) "
    }
   },
   "types_to_exclude": [
    "module",
    "function",
    "builtin_function_or_method",
    "instance",
    "_Feature"
   ],
   "window_display": false
  }
 },
 "nbformat": 4,
 "nbformat_minor": 5
}
