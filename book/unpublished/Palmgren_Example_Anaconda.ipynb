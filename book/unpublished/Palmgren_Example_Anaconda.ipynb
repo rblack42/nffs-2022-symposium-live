{
 "cells": [
  {
   "cell_type": "markdown",
   "metadata": {},
   "source": [
    "Section 9 - Example \n",
    "Calculation of a model with 10 gr per kvdm wing load. \n",
    "The following values are selected or are given by the class rules: cm.\n",
    "\n",
    "* Total span - 49 cm.\n",
    "* Body length - 45 cm \n",
    "* Hook distance - 40 cm\n",
    "* Body section - 2.3 cm\n",
    "* Side ratio - 10 cm\n",
    "\n",
    "* Effective span becomes L in cm. is 95% of the total wingspan \n",
    "* For an aspect ratio of 10 the average wing width B in cm. is L/10 \n",
    "* The wing load bearing area F in kvdm is L times B \n",
    "* The minimum weigh Q in grams is 10 timesthe total wing area\n",
    "* It is intended to use a gear with specifed ratio u \n",
    "* It is intended for a single rubber loop, so a = 1"
   ]
  },
  {
   "cell_type": "code",
   "execution_count": 43,
   "metadata": {
    "id": "yxu_Ei9hBBgJ"
   },
   "outputs": [],
   "source": [
    "import numpy as np"
   ]
  },
  {
   "cell_type": "markdown",
   "metadata": {},
   "source": [
    "The parameters appear in the following code cell"
   ]
  },
  {
   "cell_type": "code",
   "execution_count": 44,
   "metadata": {
    "id": "GSPaaiRT9zTG"
   },
   "outputs": [],
   "source": [
    "L = 47\n",
    "B = 4.7\n",
    "F = L*B/100\n",
    "Q = 22\n",
    "u = 3.4\n",
    "a = 1"
   ]
  },
  {
   "cell_type": "markdown",
   "metadata": {
    "id": "JjSFleuJ8gyR"
   },
   "source": [
    "The motor cross section according the following equation\n",
    "\n",
    "$G = 0.08 \\sqrt [3] {(\\frac {u} {a} Q L)^2} $"
   ]
  },
  {
   "cell_type": "code",
   "execution_count": 45,
   "metadata": {
    "colab": {
     "base_uri": "https://localhost:8080/",
     "height": 0
    },
    "id": "W5LtVFbRoDuV",
    "outputId": "30173a4b-8b73-4d38-cce2-e84596cef140"
   },
   "outputs": [
    {
     "name": "stdout",
     "output_type": "stream",
     "text": [
      "G =  18.396 kvdm\n"
     ]
    }
   ],
   "source": [
    "G = 0.08*(((u/a)*Q*L)**2)**0.333\n",
    "print(\"G = \", '{:0.3f}'.format(G), \"kvdm\")"
   ]
  },
  {
   "cell_type": "markdown",
   "metadata": {
    "id": "n93OqTKpqwi3"
   },
   "source": [
    "The closest value which can be obtained with 2.4 or 4 kvdm rubber strip is 6 stands of 2.7 kvdm => 16.2 kvdm or 4 strands of 4 kvdm => 16 kvdm.\n",
    "We choose G = 16 kvdm.  \n",
    "\n",
    "The maximum motor turns, V, that can be wound, with stretching\n",
    "\n",
    "$V = 65 \\frac {H} {\\sqrt {G}} $"
   ]
  },
  {
   "cell_type": "code",
   "execution_count": 46,
   "metadata": {
    "colab": {
     "base_uri": "https://localhost:8080/",
     "height": 0
    },
    "id": "TxtR7TDH9rSC",
    "outputId": "bd99a7a1-3791-4481-b751-765fdf7d19b1"
   },
   "outputs": [
    {
     "name": "stdout",
     "output_type": "stream",
     "text": [
      "V =  650 turns\n"
     ]
    }
   ],
   "source": [
    "H = 40\n",
    "G = 16\n",
    "V = 65*H/G**(0.5)\n",
    "print (\"V = \", '{:0.0f}'.format(V), \"turns\") "
   ]
  },
  {
   "cell_type": "markdown",
   "metadata": {
    "id": "lLhZZ01hCUwH"
   },
   "source": [
    "Thus the propeller will be able to have u times V or 3.4 x 650 = 2200 revolutions.\n",
    "\n",
    "The maximum torque of the motor, Mmax, in mmgr will be\n",
    "\n",
    "$Mmax = 30 \\frac {a} {u} \\sqrt { g^3}$"
   ]
  },
  {
   "cell_type": "code",
   "execution_count": 47,
   "metadata": {
    "colab": {
     "base_uri": "https://localhost:8080/",
     "height": 0
    },
    "id": "qnTrrATnC0-M",
    "outputId": "69980984-7f0d-4683-dfd8-487b5b9533ca"
   },
   "outputs": [
    {
     "name": "stdout",
     "output_type": "stream",
     "text": [
      "Mmax = 564.7 mmgr\n"
     ]
    }
   ],
   "source": [
    "Mmax = 30*(a/u)*(G**3)**(0.5)\n",
    "print (\"Mmax =\",  '{:0.1f}'.format(Mmax), \"mmgr\")"
   ]
  },
  {
   "cell_type": "markdown",
   "metadata": {
    "id": "NzLOJbB2DojB"
   },
   "source": [
    "A suitable propeller pitch, S, in cm, is\n",
    "\n",
    "$S = 0.08 \\frac {Mmax} {F} $"
   ]
  },
  {
   "cell_type": "code",
   "execution_count": 48,
   "metadata": {
    "colab": {
     "base_uri": "https://localhost:8080/",
     "height": 0
    },
    "id": "Av5iuQkLDzKQ",
    "outputId": "f5ce5f45-314b-49ed-95c6-02434c236ce5"
   },
   "outputs": [
    {
     "name": "stdout",
     "output_type": "stream",
     "text": [
      "S = 20.5 cm\n"
     ]
    }
   ],
   "source": [
    "S = 0.08*Mmax/F\n",
    "print (\"S =\",  '{:0.1f}'.format(S), \"cm\")"
   ]
  },
  {
   "cell_type": "markdown",
   "metadata": {
    "id": "RQsps-AXECe0"
   },
   "source": [
    "The propeller diameter, D, in cm  should then be\n",
    "\n",
    "$D = 3 \\sqrt {S} \\sqrt [4] {F} $"
   ]
  },
  {
   "cell_type": "code",
   "execution_count": 49,
   "metadata": {
    "colab": {
     "base_uri": "https://localhost:8080/",
     "height": 0
    },
    "id": "nygvYpxJEJQk",
    "outputId": "1dc064fd-668c-4fdd-9989-62f72ac494d7"
   },
   "outputs": [
    {
     "name": "stdout",
     "output_type": "stream",
     "text": [
      "D = 16.5 cm\n"
     ]
    }
   ],
   "source": [
    "D = 3*S**0.5*F**0.25\n",
    "print (\"D =\",  '{:0.1f}'.format(D), \"cm\")"
   ]
  },
  {
   "cell_type": "markdown",
   "metadata": {
    "id": "c0CKDXEbE2Np"
   },
   "source": [
    "The largest blade width is chosen to be  D / 8 or 2 cm \n",
    "\n",
    "The rubber weight K in grams is\n",
    "\n",
    "$K = 0.009 a H G $"
   ]
  },
  {
   "cell_type": "code",
   "execution_count": 50,
   "metadata": {
    "colab": {
     "base_uri": "https://localhost:8080/",
     "height": 0
    },
    "id": "GrUJ-SoEFJ8I",
    "outputId": "50e14565-1646-4869-b5c6-f46ee6173095"
   },
   "outputs": [
    {
     "name": "stdout",
     "output_type": "stream",
     "text": [
      "K = 5.76 grams\n"
     ]
    }
   ],
   "source": [
    "K = 0.009*a*H*G\n",
    "print (\"K =\",  '{:0.2f}'.format(K), \"grams\")"
   ]
  },
  {
   "cell_type": "markdown",
   "metadata": {
    "id": "3p4ZVZJUFU8k"
   },
   "source": [
    "The total flight time in seconds is\n",
    "\n",
    "$T = 580 \\frac {K} {Q} \\sqrt { \\frac {F} {Q} } \\sqrt [3] { \\frac {L} {B} }$\n"
   ]
  },
  {
   "cell_type": "code",
   "execution_count": 51,
   "metadata": {
    "colab": {
     "base_uri": "https://localhost:8080/",
     "height": 0
    },
    "id": "f6NuWtGjFYbz",
    "outputId": "060ed464-a937-4c7d-c56c-11536b4eb453"
   },
   "outputs": [
    {
     "name": "stdout",
     "output_type": "stream",
     "text": [
      "T = 103.6 seconds\n"
     ]
    }
   ],
   "source": [
    "T = 580*(K/Q)*(F/Q)**0.5*(L/B)**0.333\n",
    "print (\"T =\",  '{:0.1f}'.format(T), \"seconds\")"
   ]
  },
  {
   "cell_type": "markdown",
   "metadata": {
    "id": "lLhZZ01hCUwH"
   },
   "source": [
    "The average torque of the motor, Mmax, in mmgr will be\n",
    "\n",
    "$Mmed = 12 \\frac {a} {u} \\sqrt { g^3}$"
   ]
  },
  {
   "cell_type": "code",
   "execution_count": 52,
   "metadata": {
    "colab": {
     "base_uri": "https://localhost:8080/",
     "height": 0
    },
    "id": "qnTrrATnC0-M",
    "outputId": "69980984-7f0d-4683-dfd8-487b5b9533ca"
   },
   "outputs": [
    {
     "name": "stdout",
     "output_type": "stream",
     "text": [
      "Mmed = 225.88 mmgr\n"
     ]
    }
   ],
   "source": [
    "Mmed = 12*(a/u)*(G**3)**(0.5)\n",
    "print (\"Mmed =\",  '{:0.2f}'.format(Mmed), \"mmgr\")"
   ]
  },
  {
   "cell_type": "markdown",
   "metadata": {},
   "source": [
    "The average propeller speed in revolutins per minute will be\n",
    "\n",
    "$n = 160000 \\frac {\\sqrt {Mmed}} {D^2 \\sqrt{S}}$"
   ]
  },
  {
   "cell_type": "code",
   "execution_count": 53,
   "metadata": {},
   "outputs": [
    {
     "name": "stdout",
     "output_type": "stream",
     "text": [
      "n = 1944 RPM\n"
     ]
    }
   ],
   "source": [
    "n = 160000*Mmed**0.5/((D**2)*(S**0.5))\n",
    "print (\"n =\",  '{:0.0f}'.format(n), \"RPM\")"
   ]
  },
  {
   "cell_type": "markdown",
   "metadata": {},
   "source": [
    "The time for the motor to unwind is\n",
    "\n",
    "$T_m = 60 \\frac {V*u} {n}$"
   ]
  },
  {
   "cell_type": "code",
   "execution_count": 54,
   "metadata": {},
   "outputs": [
    {
     "name": "stdout",
     "output_type": "stream",
     "text": [
      "Tm = 68.2 seconds\n"
     ]
    }
   ],
   "source": [
    "Tm = 60*V*u/n\n",
    "print (\"Tm =\",  '{:0.1f}'.format(Tm), \"seconds\")"
   ]
  },
  {
   "cell_type": "markdown",
   "metadata": {},
   "source": [
    "The flight speed in meter per second is\n",
    "\n",
    "$v_g = 1.9 \\sqrt  { \\frac {S}{F}}$"
   ]
  },
  {
   "cell_type": "code",
   "execution_count": 55,
   "metadata": {},
   "outputs": [
    {
     "name": "stdout",
     "output_type": "stream",
     "text": [
      "vg = 5.8 m/s \n"
     ]
    }
   ],
   "source": [
    "vg = 1.9*(S/F)**0.5\n",
    "print (\"vg =\",  '{:0.1f}'.format(vg), \"m/s \")"
   ]
  },
  {
   "cell_type": "markdown",
   "metadata": {},
   "source": [
    "The glide ratio is\n",
    "\n",
    "$g = 0.2 \\sqrt [3] { \\frac {B} {l} } $"
   ]
  },
  {
   "cell_type": "code",
   "execution_count": 56,
   "metadata": {},
   "outputs": [
    {
     "name": "stdout",
     "output_type": "stream",
     "text": [
      "g = 0.093  \n"
     ]
    }
   ],
   "source": [
    "g = 0.2*(B/L)**0.333\n",
    "print (\"g =\",  '{:0.3f}'.format(g), \" \")"
   ]
  },
  {
   "cell_type": "markdown",
   "metadata": {},
   "source": [
    "The sinking speed is \n",
    "\n",
    "$v_s = 0.38 \\sqrt {S}{F} \\sqrt [3] \\frac {B} {L} $"
   ]
  },
  {
   "cell_type": "code",
   "execution_count": 57,
   "metadata": {},
   "outputs": [
    {
     "name": "stdout",
     "output_type": "stream",
     "text": [
      "vs = 0.54 m/s\n"
     ]
    }
   ],
   "source": [
    "vs = 0.38*(S/F)**0.5*(B/L)**0.333\n",
    "print (\"vs =\",  '{:0.2f}'.format(vs), \"m/s\")"
   ]
  },
  {
   "cell_type": "markdown",
   "metadata": {},
   "source": [
    "The greatest height above ground is\n",
    "\n",
    "$Y = 0.56*(T - Tm) $"
   ]
  },
  {
   "cell_type": "code",
   "execution_count": 58,
   "metadata": {},
   "outputs": [
    {
     "name": "stdout",
     "output_type": "stream",
     "text": [
      "Y = 19.8 m\n"
     ]
    }
   ],
   "source": [
    "Y = 0.56*(T - Tm)\n",
    "print (\"Y =\",  '{:0.1f}'.format(Y), \"m\")"
   ]
  },
  {
   "cell_type": "markdown",
   "metadata": {},
   "source": [
    "The straight line flight distance will be\n",
    "\n",
    "$X = vg * T $"
   ]
  },
  {
   "cell_type": "code",
   "execution_count": 59,
   "metadata": {},
   "outputs": [
    {
     "name": "stdout",
     "output_type": "stream",
     "text": [
      "x = 598.9 m\n"
     ]
    }
   ],
   "source": [
    "X = vg *T\n",
    "print (\"x =\",  '{:0.1f}'.format(X), \"m\")"
   ]
  },
  {
   "cell_type": "markdown",
   "metadata": {},
   "source": [
    "The model can be built so that without rubbber it weight 15 grams, which should be possible with the use of balsa for the propeller and with japanese paper for the covering material."
   ]
  },
  {
   "cell_type": "markdown",
   "metadata": {},
   "source": [
    "The power deivered by the motor in horsepower is\n",
    "\n",
    "$Pwr_m = \\frac {2 \\pi M_med n_med} {1000 . 1000 . 60 . 75} $"
   ]
  },
  {
   "cell_type": "code",
   "execution_count": 60,
   "metadata": {
    "scrolled": true
   },
   "outputs": [
    {
     "name": "stdout",
     "output_type": "stream",
     "text": [
      "Pwrm = 0.000613 hp\n"
     ]
    }
   ],
   "source": [
    "Pwrm = (2*3.14159*Mmed*n)/(1000*1000*60*75)\n",
    "\n",
    "print (\"Pwrm =\",  '{:0.6f}'.format(Pm), \"hp\")"
   ]
  },
  {
   "cell_type": "markdown",
   "metadata": {},
   "source": [
    "The proepller thrust in grams with a slip, s, of 15% is\n",
    "\n",
    "$P = 0.06 \\sqrt {s + 15} \\frac {Mmed} {S} $"
   ]
  },
  {
   "cell_type": "code",
   "execution_count": 61,
   "metadata": {},
   "outputs": [
    {
     "name": "stdout",
     "output_type": "stream",
     "text": [
      "P = 3.63 gram\n"
     ]
    }
   ],
   "source": [
    "s = 15\n",
    "P = 0.06*(s+15)**0.5*Mmed/S\n",
    "print (\"P =\",  '{:0.2f}'.format(P), \"gram\")"
   ]
  },
  {
   "cell_type": "markdown",
   "metadata": {},
   "source": [
    "The power delivered by the propeller is\n",
    "\n",
    "$Pwrp = \\frac {P v_g} {1000 * 75} $"
   ]
  },
  {
   "cell_type": "code",
   "execution_count": 62,
   "metadata": {},
   "outputs": [
    {
     "name": "stdout",
     "output_type": "stream",
     "text": [
      "Pwrp = 0.000280 m\n"
     ]
    }
   ],
   "source": [
    "Pwrp = (P*vg)/(1000*75)\n",
    "\n",
    "print (\"Pwrp =\",  '{:0.6f}'.format(Pwrp), \"m\")"
   ]
  },
  {
   "cell_type": "markdown",
   "metadata": {},
   "source": [
    "The propeller effciency is\n",
    "\n",
    "$\\eta = Pwrp/Pwrm $"
   ]
  },
  {
   "cell_type": "code",
   "execution_count": 64,
   "metadata": {},
   "outputs": [
    {
     "name": "stdout",
     "output_type": "stream",
     "text": [
      "efficiency = 45.6 %\n"
     ]
    }
   ],
   "source": [
    "efficiency = (Pwrp/Pwrm)*100\n",
    "print (\"efficiency =\",  '{:0.1f}'.format(efficiency), \"%\")"
   ]
  },
  {
   "cell_type": "code",
   "execution_count": null,
   "metadata": {},
   "outputs": [],
   "source": []
  }
 ],
 "metadata": {
  "colab": {
   "collapsed_sections": [],
   "name": "Palmgren Example.ipynb",
   "provenance": []
  },
  "kernelspec": {
   "display_name": "Python 3 (ipykernel)",
   "language": "python",
   "name": "python3"
  },
  "language_info": {
   "codemirror_mode": {
    "name": "ipython",
    "version": 3
   },
   "file_extension": ".py",
   "mimetype": "text/x-python",
   "name": "python",
   "nbconvert_exporter": "python",
   "pygments_lexer": "ipython3",
   "version": "3.10.5"
  },
  "toc": {
   "base_numbering": 1,
   "nav_menu": {},
   "number_sections": true,
   "sideBar": true,
   "skip_h1_title": false,
   "title_cell": "Table of Contents",
   "title_sidebar": "Contents",
   "toc_cell": false,
   "toc_position": {},
   "toc_section_display": true,
   "toc_window_display": false
  },
  "varInspector": {
   "cols": {
    "lenName": 16,
    "lenType": 16,
    "lenVar": 40
   },
   "kernels_config": {
    "python": {
     "delete_cmd_postfix": "",
     "delete_cmd_prefix": "del ",
     "library": "var_list.py",
     "varRefreshCmd": "print(var_dic_list())"
    },
    "r": {
     "delete_cmd_postfix": ") ",
     "delete_cmd_prefix": "rm(",
     "library": "var_list.r",
     "varRefreshCmd": "cat(var_dic_list()) "
    }
   },
   "types_to_exclude": [
    "module",
    "function",
    "builtin_function_or_method",
    "instance",
    "_Feature"
   ],
   "window_display": false
  }
 },
 "nbformat": 4,
 "nbformat_minor": 1
}
