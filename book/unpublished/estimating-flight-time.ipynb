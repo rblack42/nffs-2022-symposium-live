{
 "cells": [
  {
   "cell_type": "markdown",
   "id": "3b44277d",
   "metadata": {},
   "source": [
    "# Estimating Flight Time"
   ]
  },
  {
   "cell_type": "markdown",
   "id": "b3bed523",
   "metadata": {},
   "source": [
    "In the last section we came up with a scheme to calculate the flight velocity and power required for level flight. In order to estimate the time we might achieve, we need to look at th source of power, our wound-up rubber band. In this section, I will use theory (and assumptions) found in Doug Mclean's 1978 NFFS Symposium article. I will also be using data from Gary Hodson's **Wart-A6** to check to see if we get rational numbers for time."
   ]
  },
  {
   "cell_type": "markdown",
   "id": "788bd89f",
   "metadata": {},
   "source": [
    "\n",
    "McLean starts off by assuming that the flight time is proportional to the available energy divided by the thrust power available:\n",
    "\n",
    "\\begin{equation}\n",
    "t = \\eta_{av} \\frac{E}{P}\n",
    "\\end{equation}\n",
    "\n",
    "Where:\n",
    "    \n",
    "- **t** is the flight time in seconds\n",
    "- **E** is the energy stored in the rubber motor\n",
    "- **P** is the thrust power (thrust x speed) required to stay in level flight\n",
    "- $\\eta_{av}$ is a proportionality constant averaged over the entire flight"
   ]
  },
  {
   "cell_type": "markdown",
   "id": "1edf10ef",
   "metadata": {},
   "source": [
    "Using data from Max Hacklinger, the available energy is a function of the motor weight;\n",
    "\n",
    "\\begin{equation}\n",
    "E = k_m w_m\n",
    "\\end{equation}Where:\n",
    "\n",
    "- k_m is a constant = 30,000 inches\n",
    "- $w_m$ is the motor weight"
   ]
  },
  {
   "cell_type": "markdown",
   "id": "c65b95b7",
   "metadata": {},
   "source": [
    "To get started generating the code for this project, we will set up a few data items from Gary's best flight. We will use the Python **pint** package to track units, so we set that system up first."
   ]
  },
  {
   "cell_type": "code",
   "execution_count": 2,
   "id": "c7b8c0e1",
   "metadata": {},
   "outputs": [],
   "source": [
    "import pint\n",
    "u = pint.UnitRegistry()"
   ]
  },
  {
   "cell_type": "code",
   "execution_count": 3,
   "id": "84331804",
   "metadata": {},
   "outputs": [],
   "source": [
    "wart_best_time = 618 * u.seconds\n",
    "wart_airframe_weight = 1.2 * u.grams\n",
    "wart_motor_weight = 0.86 * u.grams\n",
    "wart_total_weight = wart_airframe_weight + wart_motor_weight\n",
    "wart_wing_span = (8.0 + 2*3.65)*u.inch\n",
    "wart_stab_span = 10.8 * u.inch\n",
    "wart_wing_area = 30.0 * u.inch**2\n",
    "wart_stab_area = ((1.0 + 1.75)*5.4)*u.inch**2\n",
    "wart_stab_mean_chord = wart_stab_area / wart_stab_span\n",
    "wart_wing_mean_chord = wart_wing_area / wart_wing_span\n",
    "motor_turns = 3660\n",
    "kiby_dome_elevation = 2160 * u.feet\n",
    "kiby_dome_height = 147 * u.feet"
   ]
  },
  {
   "cell_type": "markdown",
   "id": "559ce99b",
   "metadata": {},
   "source": [
    "For the Wart, we get this energy calculation:"
   ]
  },
  {
   "cell_type": "code",
   "execution_count": 4,
   "id": "649ec2d3",
   "metadata": {},
   "outputs": [
    {
     "name": "stdout",
     "output_type": "stream",
     "text": [
      "0.65532 kilogram * meter\n"
     ]
    }
   ],
   "source": [
    "k_m = 30000 * u.inches\n",
    "E = k_m * wart_motor_weight\n",
    "print(E.to_base_units())"
   ]
  },
  {
   "cell_type": "markdown",
   "id": "8612bb22",
   "metadata": {},
   "source": [
    "The thrust power required to maintain level flight balances the model weight against the available lift, and the thrust against the model drag.\n",
    "\n",
    "\\begin{equation}\n",
    "P = \\sqrt{\\frac{2w}{\\rho S}}\\frac{C_l^{3/2}}{C_d}\\frac{w_m}{w}\n",
    "\\end{equation}"
   ]
  },
  {
   "cell_type": "markdown",
   "id": "2fa07710",
   "metadata": {},
   "source": [
    "Where:\n",
    "- $\\rho$ is the air density\n",
    "- **S** is the total projected area of the model\n",
    "- $C_l$ is the model lift coefficient\n",
    "- $C_d$ is the model drag coefficient\n",
    "\n",
    "For the Wart, we will use these values:"
   ]
  },
  {
   "cell_type": "code",
   "execution_count": 5,
   "id": "c1c3a2b5",
   "metadata": {},
   "outputs": [
    {
     "name": "stdout",
     "output_type": "stream",
     "text": [
      "44.85 inch ** 2\n"
     ]
    }
   ],
   "source": [
    "air_density = 33.6 * u.grams/u.foot**3 # from Doug's paper\n",
    "total_surface_area = wart_wing_area + wart_stab_area\n",
    "print(total_surface_area)"
   ]
  },
  {
   "cell_type": "markdown",
   "id": "5a27e169",
   "metadata": {},
   "source": [
    "## Calculating Aerodynamic Coefficients\n",
    "\n",
    "We need to come up with values for your $C_l$ and $C_d$, which are dependent on the model design. Doug made a few simplifying assumptions here.\n",
    "\n",
    "\\begin{equation}\n",
    "C_{lf} = 1.0\n",
    "\\end{equation}\n",
    "\n",
    "\\begin{equation}\n",
    "C_{mf} = -0.10\n",
    "\\end{equation}\n",
    "\n",
    "\\begin{equation}\n",
    "C_{mr} = -0.05\n",
    "\\end{equation}"
   ]
  },
  {
   "cell_type": "markdown",
   "id": "1e61cf48",
   "metadata": {},
   "source": [
    "These values are based on values used in Doug's paper. \n",
    "\n",
    "For simplicity, we will assume that the aerodynamic center of the airfoils used on the model are at the quarter chord (average) point on both the wing and stab. These values need to be tuned later.\n",
    "\n",
    "\\begin{equation}\n",
    "{AR}_{wing} = \\frac{b_w^2}{S_f}\n",
    "\\end{equation}\n",
    "\n",
    "\\begin{equation}\n",
    "{AR}_{stab} = \\frac{b_r^2}{S_r}\n",
    "\\end{equation}\n",
    "\n",
    "Here:\n",
    "- $b_w$ is the wing span\n",
    "- $b_r$ is the stab span\n",
    "- $S_f$ is the wing projected area\n",
    "- $S_r$ is the stab projected span"
   ]
  },
  {
   "cell_type": "code",
   "execution_count": 6,
   "id": "ff5de508",
   "metadata": {},
   "outputs": [
    {
     "name": "stdout",
     "output_type": "stream",
     "text": [
      "7.803000000000001 dimensionless\n"
     ]
    }
   ],
   "source": [
    "aspect_ratio_wing = wart_wing_span**2/wart_wing_area\n",
    "print(aspect_ratio_wing)"
   ]
  },
  {
   "cell_type": "code",
   "execution_count": 7,
   "id": "035beb9e",
   "metadata": {},
   "outputs": [
    {
     "name": "stdout",
     "output_type": "stream",
     "text": [
      "7.8545454545454545 dimensionless\n"
     ]
    }
   ],
   "source": [
    "aspect_ratio_stab = wart_stab_span**2/wart_stab_area\n",
    "print(aspect_ratio_stab)"
   ]
  },
  {
   "cell_type": "markdown",
   "id": "e95f8b14",
   "metadata": {},
   "source": [
    "\\begin{equation}\n",
    "C_{lr} = \n",
    "    \\frac{\n",
    "        -\\frac{x}{{AC}_f}\n",
    "        -C_{mf}\n",
    "        -C_{mr}\n",
    "        \\frac{\n",
    "            S_r {AC}_r\n",
    "        }\n",
    "        {\n",
    "            S_f{AC}_f\n",
    "        }\n",
    "   }\n",
    "   {(1 + \\frac{x}{l})(\\frac{S_r {AR}_r}{S_f{AR}_f})}\n",
    "\\end{equation}\n",
    "\n",
    "Where:\n",
    "\n",
    "x is the distance from the cG to the wing aerodynamic center\n",
    "l is the distance from the wing and stab aerodynamic centers.\n",
    "Here are estimates from the Wart plan:"
   ]
  },
  {
   "cell_type": "code",
   "execution_count": 8,
   "id": "b743e60c",
   "metadata": {},
   "outputs": [
    {
     "name": "stdout",
     "output_type": "stream",
     "text": [
      "0.49019607843137253 inch\n",
      "0.34375 inch\n",
      "3.25 inch\n",
      "11.353553921568627 inch\n"
     ]
    }
   ],
   "source": [
    "aerodynamic_center_wing = 0.25  * wart_wing_mean_chord\n",
    "aerodynamic_center_stab = 0.25 * wart_stab_mean_chord\n",
    "pitching_moment_wing = -0.10\n",
    "pitching_moment_stab = 0.05\n",
    "l = ((6 - 1.25)*u.inch - aerodynamic_center_wing) + ((8.5 - 1.75)*u.inch + aerodynamic_center_stab)\n",
    "x = (1.25 + 2.0) * u.inch\n",
    "print(aerodynamic_center_wing)\n",
    "print(aerodynamic_center_stab)\n",
    "print(x)\n",
    "print(l)"
   ]
  },
  {
   "cell_type": "code",
   "execution_count": 49,
   "id": "7a039191",
   "metadata": {},
   "outputs": [
    {
     "name": "stdout",
     "output_type": "stream",
     "text": [
      "-0.45519731786882367 dimensionless\n"
     ]
    }
   ],
   "source": [
    "clr1 = - x/aerodynamic_center_wing \n",
    "clr2 = pitching_moment_wing \n",
    "clr3 = pitching_moment_stab * \\\n",
    "        (wart_stab_area * aerodynamic_center_stab) \\\n",
    "        / (wart_wing_area * aerodynamic_center_wing)\n",
    "clr4 =  1.0  + x/l\n",
    "clr5 = (wart_stab_area * l)/(wart_wing_area*aerodynamic_center_wing)\n",
    "C_lr = (clr1 + clr2 + clr3)/(clr4 * clr5)\n",
    "print(C_lr)"
   ]
  },
  {
   "cell_type": "markdown",
   "id": "a020d3a5",
   "metadata": {},
   "source": [
    "Is this correct? We typically adjust the stab to produce a down force, meaning the lift coefficient should be negative to achieve this effect.\n",
    "\n",
    "The next equation calculates the total model lift coefficient:\n",
    "\n",
    "\\begin{equation}\n",
    "C_l = \\frac{\n",
    "        1 + \\frac{\n",
    "                S_r C_{lr}\n",
    "            }{\n",
    "                S_f\n",
    "            }\n",
    "      }\n",
    "      {\n",
    "        1+\\frac{S_r}{S_f}\n",
    "      }\n",
    "\\end{equation}"
   ]
  },
  {
   "cell_type": "code",
   "execution_count": 50,
   "id": "59773c0f",
   "metadata": {},
   "outputs": [
    {
     "name": "stdout",
     "output_type": "stream",
     "text": [
      "0.5181788144849044 dimensionless\n"
     ]
    }
   ],
   "source": [
    "C_l = (1.0 + (wart_stab_area * C_lr)/ wart_wing_area) / \\\n",
    "      (1.0 + (wart_stab_area / wart_wing_area))\n",
    "print(C_l)"
   ]
  },
  {
   "cell_type": "markdown",
   "id": "0c5e8814",
   "metadata": {},
   "source": [
    "The definition of the lift coefficient is given by:\n",
    "\n",
    "\\begin{equation}\n",
    "C_l = \\frac{2w}{\\rho g V^2 S}\n",
    "\\end{equation}\n",
    "\n",
    "The predicted flight speed calculation is thus given by:\n",
    "    \n",
    "\\begin{equation}\n",
    "V = \\sqrt{\\frac{2 w}{\\rho g C_l S}}\n",
    "\\end{equation}\n",
    "\n",
    "We will need to introduce the acceleration due to gravity to make the units work."
   ]
  },
  {
   "cell_type": "code",
   "execution_count": 11,
   "id": "d1fd6237",
   "metadata": {},
   "outputs": [
    {
     "name": "stdout",
     "output_type": "stream",
     "text": [
      "2.06 gram\n",
      "44.85 inch ** 2\n"
     ]
    }
   ],
   "source": [
    "w = wart_airframe_weight + wart_motor_weight\n",
    "g = 32.2 * u.ft/u.second**2\n",
    "print(w)\n",
    "S = wart_wing_area + wart_stab_area\n",
    "print(S)"
   ]
  },
  {
   "cell_type": "code",
   "execution_count": 12,
   "id": "083cc623",
   "metadata": {},
   "outputs": [
    {
     "name": "stdout",
     "output_type": "stream",
     "text": [
      "1.5075858885046005 meter / second\n"
     ]
    }
   ],
   "source": [
    "V = (2.0 * w * g / (air_density * C_l * S))**0.5\n",
    "print(V.to_base_units())"
   ]
  },
  {
   "cell_type": "code",
   "execution_count": 13,
   "id": "fe4deeac",
   "metadata": {},
   "outputs": [
    {
     "data": {
      "text/html": [
       "3.372373587385023 mile/hour"
      ],
      "text/latex": [
       "$3.372373587385023\\ \\frac{\\mathrm{mile}}{\\mathrm{hour}}$"
      ],
      "text/plain": [
       "3.372373587385023 <Unit('mile / hour')>"
      ]
     },
     "execution_count": 13,
     "metadata": {},
     "output_type": "execute_result"
    }
   ],
   "source": [
    "V.to('miles/hour')"
   ]
  },
  {
   "cell_type": "markdown",
   "id": "0fefa51a",
   "metadata": {},
   "source": [
    "Gary estimated around 2 mph or \"walking speed\". I walk a bit faster, so this looks reasonable."
   ]
  },
  {
   "cell_type": "markdown",
   "id": "ccdd9a87",
   "metadata": {},
   "source": [
    "The induced drag due to the wing is given by:\n",
    "\\begin{equation}\n",
    "C_{dif} = \\frac{1}{\\pi {AR}_f}\n",
    "\\end{equation}\n",
    "\n",
    "And the induced drag due to the stab is given by:\n",
    "\n",
    "\\begin{equation}\n",
    "C_{dir} = \\frac{C_{lr}^2}{\\pi {AR}_r} + 2 C_{lr}C_{dif}\n",
    "\\end{equation}"
   ]
  },
  {
   "cell_type": "code",
   "execution_count": 14,
   "id": "912d12b8",
   "metadata": {},
   "outputs": [],
   "source": [
    "import math\n",
    "C_dif = 1.0/(math.pi * aspect_ratio_wing)\n",
    "C_dir = C_lr ** 2/(math.pi* aspect_ratio_stab) + 2.0*C_lr*C_dif"
   ]
  },
  {
   "cell_type": "markdown",
   "id": "5f71a893",
   "metadata": {},
   "source": [
    "The total induce drag is given by:\n",
    "\n",
    "\\begin{equation}\n",
    "C_di = \\frac{C_{dif} + \\frac{S_r C_{dir}}{S_f}}{1 + \\frac{S_r}{S_f}}\n",
    "\\end{equation}"
   ]
  },
  {
   "cell_type": "code",
   "execution_count": 15,
   "id": "ee5283fe",
   "metadata": {},
   "outputs": [
    {
     "name": "stdout",
     "output_type": "stream",
     "text": [
      "0.0177702535214668 dimensionless\n"
     ]
    }
   ],
   "source": [
    "C_di = (C_dif +(wart_stab_area * C_dir)/wart_wing_area)/ \\\n",
    "            (1.0 + wart_stab_area/wart_wing_area)\n",
    "print(C_di)"
   ]
  },
  {
   "cell_type": "markdown",
   "id": "18e2b4c7",
   "metadata": {},
   "source": [
    "### Profile Drag Calculations\n",
    "\n",
    "McLean uses data from Max Hacklinger to estimate the effects of Reynolds number on the profile drag.\n",
    "\n",
    "\\begin{equation}\n",
    "C_{dpf} = \\frac{6.2}{\\sqrt{Re_f}}\n",
    "\\end{equation}\n",
    "\n",
    "\\begin{equation}\n",
    "C_{dpr} = \\frac{4.3 + 1.9 C_{lr}}{\\sqrt{Re_r}}\n",
    "\\end{equation}\n",
    "where:\n",
    "\n",
    "\\begin{equation}\n",
    "Re_f = \\frac{C_f V}{\\nu}\n",
    "\\end{equation}\n",
    "\n",
    "and\n",
    "\n",
    "\\begin{equation}\n",
    "Re_r = \\frac{C_r V}{\\nu}\n",
    "\\end{equation}"
   ]
  },
  {
   "cell_type": "code",
   "execution_count": 16,
   "id": "ad7ad3de",
   "metadata": {},
   "outputs": [
    {
     "data": {
      "text/html": [
       "5089.38353847144 dimensionless"
      ],
      "text/latex": [
       "$5089.38353847144\\ dimensionless$"
      ],
      "text/plain": [
       "5089.38353847144 <Unit('dimensionless')>"
      ]
     },
     "execution_count": 16,
     "metadata": {},
     "output_type": "execute_result"
    }
   ],
   "source": [
    "air_kinematic_viscosity = 15.88e-5 * u.foot ** 2/u.second\n",
    "Re_f = wart_wing_mean_chord * V / air_kinematic_viscosity\n",
    "Re_f"
   ]
  },
  {
   "cell_type": "code",
   "execution_count": 17,
   "id": "fac6ee39",
   "metadata": {},
   "outputs": [
    {
     "data": {
      "text/html": [
       "3568.930206353097 dimensionless"
      ],
      "text/latex": [
       "$3568.930206353097\\ dimensionless$"
      ],
      "text/plain": [
       "3568.930206353097 <Unit('dimensionless')>"
      ]
     },
     "execution_count": 17,
     "metadata": {},
     "output_type": "execute_result"
    }
   ],
   "source": [
    "Re_r = wart_stab_mean_chord * V / air_kinematic_viscosity\n",
    "Re_r"
   ]
  },
  {
   "cell_type": "code",
   "execution_count": 18,
   "id": "6601742e",
   "metadata": {},
   "outputs": [
    {
     "name": "stdout",
     "output_type": "stream",
     "text": [
      "0.08690786861237122\n",
      "0.07474197834731462\n"
     ]
    }
   ],
   "source": [
    "C_dpf = 6.2 / math.sqrt(Re_f)\n",
    "C_dpr = (4.3 + 1.9*C_dpf) / math.sqrt(Re_r)\n",
    "print(C_dpf)\n",
    "print(C_dpr)"
   ]
  },
  {
   "cell_type": "markdown",
   "id": "e1377c26",
   "metadata": {},
   "source": [
    "The total profile drag coefficient is given by:\n",
    "    \n",
    "\\begin{equation}\n",
    "C_{dp} = \\frac{C_{dpf}+\\frac{S_r C_{dpr}}{S_f}}{1 + \\frac{S_r}{S_f}}\n",
    "\\end{equation}"
   ]
  },
  {
   "cell_type": "code",
   "execution_count": 19,
   "id": "8a5e415f",
   "metadata": {},
   "outputs": [
    {
     "data": {
      "text/html": [
       "0.08287969758815515 dimensionless"
      ],
      "text/latex": [
       "$0.08287969758815515\\ dimensionless$"
      ],
      "text/plain": [
       "0.08287969758815515 <Unit('dimensionless')>"
      ]
     },
     "execution_count": 19,
     "metadata": {},
     "output_type": "execute_result"
    }
   ],
   "source": [
    "C_dp = (C_dpf + wart_stab_area/wart_wing_area * C_dpr)/(1 + wart_stab_area/wart_wing_area)\n",
    "C_dp"
   ]
  },
  {
   "cell_type": "markdown",
   "id": "427d28be",
   "metadata": {},
   "source": [
    "The drag coefficient of a wing mounting post is approximately:\n",
    "    \n",
    "\\begin{equation}\n",
    "C_{dmp} = 1.2\n",
    "\\end{equation}\n",
    "\n",
    "The final drag coefficient is now given by:\n",
    "    \n",
    "\\begin{equation}\n",
    "C_d = C_{di} + C_{dp} + C_{dm}\n",
    "\\end{equation}"
   ]
  },
  {
   "cell_type": "code",
   "execution_count": 20,
   "id": "bc1d4947",
   "metadata": {},
   "outputs": [
    {
     "data": {
      "text/html": [
       "0.10357637251430422 dimensionless"
      ],
      "text/latex": [
       "$0.10357637251430422\\ dimensionless$"
      ],
      "text/plain": [
       "0.10357637251430422 <Unit('dimensionless')>"
      ]
     },
     "execution_count": 20,
     "metadata": {},
     "output_type": "execute_result"
    }
   ],
   "source": [
    "wart_wing_post_area = (2.0 * 7.0 /8.0 /16.0) * u.inch**2\n",
    "C_dmp = 1.2\n",
    "C_dm = C_dmp * wart_wing_post_area / S\n",
    "C_d = C_di + C_dp + C_dm\n",
    "C_d"
   ]
  },
  {
   "cell_type": "markdown",
   "id": "b18c3ad8",
   "metadata": {},
   "source": [
    "## Lift and Thrust Calculation\n",
    "\n",
    "To maintain level flight, the lift must equal the total model weight and the thrust must equal the total drag. "
   ]
  },
  {
   "cell_type": "code",
   "execution_count": 21,
   "id": "56179673",
   "metadata": {},
   "outputs": [
    {
     "data": {
      "text/html": [
       "2.06 gram"
      ],
      "text/latex": [
       "$2.06\\ \\mathrm{gram}$"
      ],
      "text/plain": [
       "2.06 <Unit('gram')>"
      ]
     },
     "execution_count": 21,
     "metadata": {},
     "output_type": "execute_result"
    }
   ],
   "source": [
    "lift = air_density * V**2 * S * C_l/(2* g)\n",
    "lift"
   ]
  },
  {
   "cell_type": "code",
   "execution_count": 22,
   "id": "961f03d2",
   "metadata": {},
   "outputs": [
    {
     "data": {
      "text/html": [
       "0.41176389581184336 gram"
      ],
      "text/latex": [
       "$0.41176389581184336\\ \\mathrm{gram}$"
      ],
      "text/plain": [
       "0.41176389581184336 <Unit('gram')>"
      ]
     },
     "execution_count": 22,
     "metadata": {},
     "output_type": "execute_result"
    }
   ],
   "source": [
    "drag = air_density * V**2 * S * C_d/(2* g)\n",
    "drag"
   ]
  },
  {
   "cell_type": "markdown",
   "id": "cea8e46f",
   "metadata": {},
   "source": [
    "The required thrust power is the thrust times the velocity:"
   ]
  },
  {
   "cell_type": "code",
   "execution_count": 23,
   "id": "b2f99789",
   "metadata": {},
   "outputs": [
    {
     "data": {
      "text/html": [
       "0.0006207694387216136 kilogram meter/second"
      ],
      "text/latex": [
       "$0.0006207694387216136\\ \\frac{\\mathrm{kilogram} \\cdot \\mathrm{meter}}{\\mathrm{second}}$"
      ],
      "text/plain": [
       "0.0006207694387216136 <Unit('kilogram * meter / second')>"
      ]
     },
     "execution_count": 23,
     "metadata": {},
     "output_type": "execute_result"
    }
   ],
   "source": [
    "P = drag * V\n",
    "P.to_base_units()"
   ]
  },
  {
   "cell_type": "code",
   "execution_count": 48,
   "id": "afa05657",
   "metadata": {},
   "outputs": [
    {
     "data": {
      "text/html": [
       "0.8620865181467949 inch ounce/second"
      ],
      "text/latex": [
       "$0.8620865181467949\\ \\frac{\\mathrm{inch} \\cdot \\mathrm{ounce}}{\\mathrm{second}}$"
      ],
      "text/plain": [
       "0.8620865181467949 <Unit('inch * ounce / second')>"
      ]
     },
     "execution_count": 48,
     "metadata": {},
     "output_type": "execute_result"
    }
   ],
   "source": [
    "P.to('in oz/sec')"
   ]
  },
  {
   "cell_type": "code",
   "execution_count": 24,
   "id": "f9ad1915",
   "metadata": {},
   "outputs": [
    {
     "data": {
      "text/html": [
       "1055.657638928776 second"
      ],
      "text/latex": [
       "$1055.657638928776\\ \\mathrm{second}$"
      ],
      "text/plain": [
       "1055.657638928776 <Unit('second')>"
      ]
     },
     "execution_count": 24,
     "metadata": {},
     "output_type": "execute_result"
    }
   ],
   "source": [
    "energy_to_power_ratio = E/P\n",
    "energy_to_power_ratio.to_base_units()"
   ]
  },
  {
   "cell_type": "markdown",
   "id": "d43f33d8",
   "metadata": {},
   "source": [
    "## Calculating Time Factor\n",
    "\n",
    "The time factor, $\\eta_{av}$ is given by:\n",
    "\n",
    "\\begin{equation}\n",
    "\\eta_{av} = F \\eta_p\n",
    "\\end{equation}\n",
    "\n",
    "Here **F** is a fudge factor, and $\\eta_p$ is a propeller efficiency factor."
   ]
  },
  {
   "cell_type": "markdown",
   "id": "3f345c77",
   "metadata": {},
   "source": [
    "### Von Mises Propeller Efficiency\n",
    "\n",
    "From the *Theory of Flight* book, Von Mises gives this equation for propeller efficiency:\n",
    "    \n",
    "\\begin{equation}\n",
    "\\eta_p = \\eta_i \\frac{1 - \\frac{4J\\epsilon}{3\\pi\\eta_i}}{1+\\frac{2\\pi\\eta_i\\epsilon}{3J}}    \n",
    "\\end{equation}\n",
    "\n",
    "Where:\n",
    "- **J** is the propeller advance ratio $\\frac{V}{nd}$\n",
    "- $\\eta_i$ is the propeller induced efficiency\n",
    "- $\\epsilon$ is the propeller profile lift to drag ratio"
   ]
  },
  {
   "cell_type": "markdown",
   "id": "cbb0b020",
   "metadata": {},
   "source": [
    "The propeller induced efficiency is given by:\n",
    "\n",
    "\\begin{equation}\n",
    "\\eta_i = \\frac{2 - \\frac{J^2\\tau}{\\pi^2}}{1 + \\sqrt{\\tau + 1}}\n",
    "\\end{equation}\n",
    "\n",
    "Where $\\tau$ is the thrust loading."
   ]
  },
  {
   "cell_type": "markdown",
   "id": "fd3d7c6b",
   "metadata": {},
   "source": [
    "\\begin{equation}\n",
    "\\tau = \\frac{2 T}{\\rho V^2 S_p}\n",
    "\\end{equation}\n",
    "\n",
    "The area of the prop disk $S_p$ is $36\\pi$ for an A-6."
   ]
  },
  {
   "cell_type": "code",
   "execution_count": 38,
   "id": "422ab9d2",
   "metadata": {},
   "outputs": [
    {
     "data": {
      "text/html": [
       "28.274333882308138 inch<sup>2</sup>"
      ],
      "text/latex": [
       "$28.274333882308138\\ \\mathrm{inch}^{2}$"
      ],
      "text/plain": [
       "28.274333882308138 <Unit('inch ** 2')>"
      ]
     },
     "execution_count": 38,
     "metadata": {},
     "output_type": "execute_result"
    }
   ],
   "source": [
    "S_p = (9.0 * math.pi)*u.inch**2\n",
    "S_p"
   ]
  },
  {
   "cell_type": "code",
   "execution_count": 39,
   "id": "0a591a07",
   "metadata": {},
   "outputs": [
    {
     "data": {
      "text/html": [
       "0.16429742700935113 dimensionless"
      ],
      "text/latex": [
       "$0.16429742700935113\\ dimensionless$"
      ],
      "text/plain": [
       "0.16429742700935113 <Unit('dimensionless')>"
      ]
     },
     "execution_count": 39,
     "metadata": {},
     "output_type": "execute_result"
    }
   ],
   "source": [
    "tau = 2 * drag *g / (air_density * V**2 * S_p)\n",
    "tau.to_base_units()"
   ]
  },
  {
   "cell_type": "markdown",
   "id": "9638396f",
   "metadata": {},
   "source": [
    "The advance ratio, **J**, is defined as follows:\n",
    "\n",
    "\\begin{equation}\n",
    "J = \\frac{V}{\\Omega r}\n",
    "\\end{equation}\n",
    "\n",
    "Where $\\Omega$ is the rotational speed in radians/second, and **r** is the propeller radius."
   ]
  },
  {
   "cell_type": "code",
   "execution_count": 40,
   "id": "54425128",
   "metadata": {},
   "outputs": [
    {
     "data": {
      "text/html": [
       "5.922330097087379 1/second"
      ],
      "text/latex": [
       "$5.922330097087379\\ \\frac{1}{\\mathrm{second}}$"
      ],
      "text/plain": [
       "5.922330097087379 <Unit('1 / second')>"
      ]
     },
     "execution_count": 40,
     "metadata": {},
     "output_type": "execute_result"
    }
   ],
   "source": [
    "omega = motor_turns/wart_best_time\n",
    "omega"
   ]
  },
  {
   "cell_type": "code",
   "execution_count": 41,
   "id": "8020b46d",
   "metadata": {},
   "outputs": [],
   "source": [
    "propeller_radius = 3.0 * u.inch # A-6 rules"
   ]
  },
  {
   "cell_type": "code",
   "execution_count": 42,
   "id": "f0840ab7",
   "metadata": {},
   "outputs": [
    {
     "data": {
      "text/html": [
       "3.3406769613177976 dimensionless"
      ],
      "text/latex": [
       "$3.3406769613177976\\ dimensionless$"
      ],
      "text/plain": [
       "3.3406769613177976 <Unit('dimensionless')>"
      ]
     },
     "execution_count": 42,
     "metadata": {},
     "output_type": "execute_result"
    }
   ],
   "source": [
    "J = V / (omega * propeller_radius)\n",
    "J.to_base_units()"
   ]
  },
  {
   "cell_type": "code",
   "execution_count": 43,
   "id": "d9f42584",
   "metadata": {},
   "outputs": [
    {
     "data": {
      "text/html": [
       "0.8726295072645548 dimensionless"
      ],
      "text/latex": [
       "$0.8726295072645548\\ dimensionless$"
      ],
      "text/plain": [
       "0.8726295072645548 <Unit('dimensionless')>"
      ]
     },
     "execution_count": 43,
     "metadata": {},
     "output_type": "execute_result"
    }
   ],
   "source": [
    "\n",
    "eta_i = (2 - J**2*tau/math.pi**2)/(math.sqrt(tau + 1.0) + 1.0)\n",
    "eta_i"
   ]
  },
  {
   "cell_type": "code",
   "execution_count": 44,
   "id": "15ee1d28",
   "metadata": {},
   "outputs": [
    {
     "data": {
      "text/html": [
       "0.6929372823978628 dimensionless"
      ],
      "text/latex": [
       "$0.6929372823978628\\ dimensionless$"
      ],
      "text/plain": [
       "0.6929372823978628 <Unit('dimensionless')>"
      ]
     },
     "execution_count": 44,
     "metadata": {},
     "output_type": "execute_result"
    }
   ],
   "source": [
    "epsilon = 0.1 # assumed from McLean\n",
    "eta_p = eta_i * (1.0-(4.0*J*epsilon)/(3.0*math.pi*eta_i))/ \\\n",
    "                (1.0+(2.0*eta_i*math.pi*epsilon)/(3.0*J))\n",
    "eta_p"
   ]
  },
  {
   "cell_type": "markdown",
   "id": "1b9bbb14",
   "metadata": {},
   "source": [
    "All that remains is to come up with the fudge factor **F**. NcLean provides a dimensionless height factor formula and a curve generated from a vatirty of model flight data. \n",
    "\n",
    "\\begin{equation}\n",
    "H = \\frac{h}{484 \\frac{w_m}{w}}\n",
    "\\end{equation}"
   ]
  },
  {
   "cell_type": "code",
   "execution_count": 45,
   "id": "3f958598",
   "metadata": {},
   "outputs": [
    {
     "data": {
      "text/html": [
       "0.7290192113245703 dimensionless"
      ],
      "text/latex": [
       "$0.7290192113245703\\ dimensionless$"
      ],
      "text/plain": [
       "0.7290192113245703 <Unit('dimensionless')>"
      ]
     },
     "execution_count": 45,
     "metadata": {},
     "output_type": "execute_result"
    }
   ],
   "source": [
    "H = kiby_dome_height/(483 * u.foot * wart_motor_weight/wart_total_weight)\n",
    "H"
   ]
  },
  {
   "cell_type": "markdown",
   "id": "dce8c8e7",
   "metadata": {},
   "source": [
    "From McLean's curve fit of typical model data, this value would result in an estimated fudge factor of around 0.85."
   ]
  },
  {
   "cell_type": "code",
   "execution_count": 46,
   "id": "92f715c0",
   "metadata": {},
   "outputs": [
    {
     "data": {
      "text/html": [
       "0.519702961798397 dimensionless"
      ],
      "text/latex": [
       "$0.519702961798397\\ dimensionless$"
      ],
      "text/plain": [
       "0.519702961798397 <Unit('dimensionless')>"
      ]
     },
     "execution_count": 46,
     "metadata": {},
     "output_type": "execute_result"
    }
   ],
   "source": [
    "F = 0.75\n",
    "eta_av = F * eta_p\n",
    "eta_av"
   ]
  },
  {
   "cell_type": "code",
   "execution_count": 47,
   "id": "b35186bd",
   "metadata": {},
   "outputs": [
    {
     "data": {
      "text/html": [
       "548.6284015963877 second"
      ],
      "text/latex": [
       "$548.6284015963877\\ \\mathrm{second}$"
      ],
      "text/plain": [
       "548.6284015963877 <Unit('second')>"
      ]
     },
     "execution_count": 47,
     "metadata": {},
     "output_type": "execute_result"
    }
   ],
   "source": [
    "calculated_time = eta_av * E / P\n",
    "calculated_time.to_base_units()"
   ]
  },
  {
   "cell_type": "raw",
   "id": "58edfa51",
   "metadata": {},
   "source": []
  },
  {
   "cell_type": "markdown",
   "id": "d777d4f7",
   "metadata": {},
   "source": [
    "The actual flight time was 618. This does not match the real flight (a record) but Doug made some assumptions about the lift, and pitching moments for the model, and never considered angle of attack or any other model settings. What I want to do not is combine the work of both of these authors and see what we get. To do that, I need to generalize Erbach's code so we can use **Wart** model data."
   ]
  },
  {
   "cell_type": "code",
   "execution_count": null,
   "id": "839ba728",
   "metadata": {},
   "outputs": [],
   "source": []
  }
 ],
 "metadata": {
  "kernelspec": {
   "display_name": "Python 3 (ipykernel)",
   "language": "python",
   "name": "python3"
  },
  "language_info": {
   "codemirror_mode": {
    "name": "ipython",
    "version": 3
   },
   "file_extension": ".py",
   "mimetype": "text/x-python",
   "name": "python",
   "nbconvert_exporter": "python",
   "pygments_lexer": "ipython3",
   "version": "3.9.9"
  },
  "latex_envs": {
   "LaTeX_envs_menu_present": true,
   "autoclose": false,
   "autocomplete": true,
   "bibliofile": "biblio.bib",
   "cite_by": "apalike",
   "current_citInitial": 1,
   "eqLabelWithNumbers": true,
   "eqNumInitial": 1,
   "hotkeys": {
    "equation": "Ctrl-E",
    "itemize": "Ctrl-I"
   },
   "labels_anchors": false,
   "latex_user_defs": false,
   "report_style_numbering": false,
   "user_envs_cfg": false
  },
  "toc": {
   "base_numbering": 1,
   "nav_menu": {},
   "number_sections": true,
   "sideBar": true,
   "skip_h1_title": false,
   "title_cell": "Table of Contents",
   "title_sidebar": "Contents",
   "toc_cell": false,
   "toc_position": {},
   "toc_section_display": true,
   "toc_window_display": false
  },
  "varInspector": {
   "cols": {
    "lenName": 16,
    "lenType": 16,
    "lenVar": 40
   },
   "kernels_config": {
    "python": {
     "delete_cmd_postfix": "",
     "delete_cmd_prefix": "del ",
     "library": "var_list.py",
     "varRefreshCmd": "print(var_dic_list())"
    },
    "r": {
     "delete_cmd_postfix": ") ",
     "delete_cmd_prefix": "rm(",
     "library": "var_list.r",
     "varRefreshCmd": "cat(var_dic_list()) "
    }
   },
   "types_to_exclude": [
    "module",
    "function",
    "builtin_function_or_method",
    "instance",
    "_Feature"
   ],
   "window_display": false
  }
 },
 "nbformat": 4,
 "nbformat_minor": 5
}
