{
 "cells": [
  {
   "cell_type": "markdown",
   "id": "4d4d2ed7",
   "metadata": {},
   "source": [
    "# Numerical Data Analysis using Python"
   ]
  },
  {
   "cell_type": "markdown",
   "id": "7b0e5de3",
   "metadata": {},
   "source": [
    "Analyzing data sets consisting of huge sets of numbers is where the whole profession of *Data Science* sprung to life. In that world, *Python* has become very popular, largely  because of the existence of several amazing packages of code that make the analytical process very easy. In this section, we will briefly look at three of these packages: *NumPy*, *SciPy*, and *MatPlotLib*.\n",
    "\n",
    "## NumPy\n",
    "\n",
    "*NumPy* (*Numerical Python*) is a package that lets you perform operations on sets of numbers using simple code. The make errors much less likely, and speeds up the programming process. *NumPy* knows about 1-D sets (simple arrays) and 2-D sets (matrices). Python already supported using such collections (lists, and lists of lists), but manipulating them involved setting up complicated loops that swept over these lists to perform operations. *NumPy* streamlines all of that into simple expressions.\n",
    "\n",
    "Here is an example:"
   ]
  },
  {
   "cell_type": "code",
   "execution_count": 15,
   "id": "467b1b1a",
   "metadata": {},
   "outputs": [],
   "source": [
    "a = [1,2,3,4]\n",
    "b = [2,4,6,8]"
   ]
  },
  {
   "cell_type": "markdown",
   "id": "b952ef33",
   "metadata": {},
   "source": [
    "I want to add these two lists together. Python will do that!"
   ]
  },
  {
   "cell_type": "code",
   "execution_count": 3,
   "id": "c7d41446",
   "metadata": {},
   "outputs": [
    {
     "data": {
      "text/plain": [
       "[1, 2, 3, 4, 2, 4, 6, 8]"
      ]
     },
     "execution_count": 3,
     "metadata": {},
     "output_type": "execute_result"
    }
   ],
   "source": [
    "a + b"
   ]
  },
  {
   "cell_type": "markdown",
   "id": "e713ed89",
   "metadata": {},
   "source": [
    "That is not what I had in mind. Python just mashed the two lists together into a longer one, What I really wanted was this:"
   ]
  },
  {
   "cell_type": "code",
   "execution_count": 16,
   "id": "3620e854",
   "metadata": {},
   "outputs": [
    {
     "data": {
      "text/plain": [
       "[3, 6, 9, 12]"
      ]
     },
     "execution_count": 16,
     "metadata": {},
     "output_type": "execute_result"
    }
   ],
   "source": [
    "result = []\n",
    "for i in range(len(a)):\n",
    "    result.append(a[i] + b[i])\n",
    "    \n",
    "result"
   ]
  },
  {
   "cell_type": "markdown",
   "id": "aeb1f23f",
   "metadata": {},
   "source": [
    "Now, let's let *NumPy* do this work:"
   ]
  },
  {
   "cell_type": "code",
   "execution_count": 17,
   "id": "609cd83d",
   "metadata": {},
   "outputs": [
    {
     "data": {
      "text/plain": [
       "array([ 3,  6,  9, 12])"
      ]
     },
     "execution_count": 17,
     "metadata": {},
     "output_type": "execute_result"
    }
   ],
   "source": [
    "import numpy as np\n",
    "xa = np.array(a)\n",
    "xb = np.array(b)\n",
    "xc = xa + xb\n",
    "xc"
   ]
  },
  {
   "cell_type": "markdown",
   "id": "5c90a165",
   "metadata": {},
   "source": [
    "This example may not look that impressive, but once you get used to thinking about operations on lists of numbers using *NumPy*you never want to go back to the old ways!"
   ]
  },
  {
   "cell_type": "markdown",
   "id": "3bc50084",
   "metadata": {},
   "source": [
    "## SciPy\n",
    "\n",
    "The *SciPy* package is a collection of useful analytical functions that make analysis much easier. For example, we will be working on sets of numbers representing points on some curve, like lift coefficients as a function of angle of attack. The raw numbers are not that useful. What would really be useful is a mathematical function that represents this curve through these points so we can get values at any point we like. *SciPy* can do that using *spline interpolation*. Here is a look at that."
   ]
  },
  {
   "cell_type": "code",
   "execution_count": 18,
   "id": "86faaace",
   "metadata": {},
   "outputs": [],
   "source": [
    "C_l = [\n",
    "    (-2,0.06),\n",
    "    (0,0.135),\n",
    "    (2,0.20),\n",
    "    (4,0.25),\n",
    "    (6,0.30),\n",
    "    (8,0.35),\n",
    "    (10,0.395),\n",
    "    (12,0.440)\n",
    "]"
   ]
  },
  {
   "cell_type": "markdown",
   "id": "08fb387f",
   "metadata": {},
   "source": [
    "These datapoints were pulled from Walter Erbach's *BASIC* program. They are in the form of a list of point pairs. \n",
    "\n",
    "The first thing we need to do is pull the points apart into two lists, one for **alpha** and one for **Cl**. *Python* can do that using something called a *list comprehension*:"
   ]
  },
  {
   "cell_type": "code",
   "execution_count": 20,
   "id": "b17601ee",
   "metadata": {},
   "outputs": [],
   "source": [
    "C_l_alpha, C = [x[0] for x in C_l]\n",
    "C_l_y = [x[1]for x in C_l]"
   ]
  },
  {
   "cell_type": "markdown",
   "id": "5ace6007",
   "metadata": {},
   "source": [
    "Now we can use **scipy** to generate a function that internally uses the *splines* to curve fit the data:"
   ]
  },
  {
   "cell_type": "code",
   "execution_count": 22,
   "id": "b87b272f",
   "metadata": {},
   "outputs": [
    {
     "data": {
      "text/plain": [
       "array(0.275)"
      ]
     },
     "execution_count": 22,
     "metadata": {},
     "output_type": "execute_result"
    }
   ],
   "source": [
    "from scipy.interpolate import InterpolatedUnivariateSpline\n",
    "order = 1\n",
    "CL = InterpolatedUnivariateSpline(C_l_alpha, C_l_y, k=order)\n",
    "CL(5)"
   ]
  },
  {
   "cell_type": "markdown",
   "id": "268e5572",
   "metadata": {},
   "source": [
    "This looks about right.\n",
    "\n",
    "suppose you want to know the slope of this curve, actually, the deriative of the functon we just got back. Simple enough:"
   ]
  },
  {
   "cell_type": "code",
   "execution_count": 23,
   "id": "97e1a6c1",
   "metadata": {},
   "outputs": [
    {
     "data": {
      "text/plain": [
       "array(0.025)"
      ]
     },
     "execution_count": 23,
     "metadata": {},
     "output_type": "execute_result"
    }
   ],
   "source": [
    "d = CL.derivative()\n",
    "d(5)"
   ]
  },
  {
   "cell_type": "markdown",
   "id": "f9141953",
   "metadata": {},
   "source": [
    "This is the rate of change of $C_l$ with $\\alpha$. We will need this capability later."
   ]
  },
  {
   "cell_type": "markdown",
   "id": "e12a2275",
   "metadata": {},
   "source": [
    "##MatPlotLib\n",
    "\n",
    "*MatPlotLib*, as you might suspect, is a tool for generating graphs. Everyone want to see what the data \"looks\" like, not just stare at a pile of numbers. Here is a quick example:"
   ]
  },
  {
   "cell_type": "code",
   "execution_count": 24,
   "id": "c47a7ecc",
   "metadata": {},
   "outputs": [
    {
     "data": {
      "image/png": "[encoded data removed]",
      "text/plain": [
       "<Figure size 432x288 with 1 Axes>"
      ]
     },
     "metadata": {
      "needs_background": "light"
     },
     "output_type": "display_data"
    }
   ],
   "source": [
    "import matplotlib.pyplot as plt\n",
    "\n",
    "plt.plot(C_l_alpha,C_l_y)\n",
    "plt.xlabel(\"Angle of Attack\")\n",
    "plt.ylabel(\"Cl\")\n",
    "plt.title(\"Lift Coefficient\")\n",
    "plt.show()"
   ]
  },
  {
   "cell_type": "markdown",
   "id": "b1bd2ed4",
   "metadata": {},
   "source": [
    "This curve is not very exciting, but it is what Walt used in his program. The key thing here is how easy it was to generate a useful graph! Walt drew all of his graphs by hand!"
   ]
  },
  {
   "cell_type": "markdown",
   "id": "55d62952",
   "metadata": {},
   "source": [
    "deals with sets of numbers representing some kind of scientific data. Most likely, these numbers are samples of what might be some unknown mathematical function we are trying to understand. In our aeronautical work here we started off with a figure showing the lift coefficient as a function of angle of attact. With a little help from *WebAppDigitizer*, we generated a set of data points that represented the curve we saw in the figure, and we want to generate a *Python* function we can use to find the value of $C_l$ for any input angle of attack $\\alpha$. This kind of problem happens frequently in the research world, and **numpy** was developed to help.\n",
    "\n",
    "Lets work through this example using the data points for the lift coefficient. For simplicity,have two set of points representing the lift/drag  coefficients over a range of angles of attack. The sample values were obtained from Walter Erbach's program, and we want to use those data points to find the values for $C_l/C_d$ any chosen value of $\\alpha$ we need.\n",
    "\n",
    "The input values are stored initially in a simple *Python* list of $\\alpha-value$ pairs. "
   ]
  },
  {
   "cell_type": "code",
   "execution_count": 26,
   "id": "4d9a36c4",
   "metadata": {},
   "outputs": [],
   "source": [
    "C_l = [\n",
    "    (-2,0.06),\n",
    "    (0,0.135),\n",
    "    (2,0.20),\n",
    "    (4,0.25),\n",
    "    (6,0.30),\n",
    "    (8,0.35),\n",
    "    (10,0.395),\n",
    "    (12,0.440)\n",
    "]\n",
    "\n",
    "C_d = [\n",
    "    (-2.0, 0.008),\n",
    "    (0.0, 0.009),\n",
    "    (2.0, 0.010),\n",
    "    (4.0, 0.012),\n",
    "    (6.0, 0.014),\n",
    "    (8.0, 0.019),\n",
    "    (10.0, 0.024),\n",
    "    (12.0, 0.0335)\n",
    "]"
   ]
  },
  {
   "cell_type": "markdown",
   "id": "c6c1f213",
   "metadata": {},
   "source": [
    "This data is in the form of a list of  **X-Y** point pairs. Python has a simple way to extract the **X** and **Y** values into separate lists. This is called a *list comprehension*:"
   ]
  },
  {
   "cell_type": "code",
   "execution_count": 27,
   "id": "6e37adc2",
   "metadata": {},
   "outputs": [],
   "source": [
    "C_l_xp = [x[0] for x in C_l]\n",
    "C_l_yp = [x[1]for x in C_l]\n",
    "C_d_xp = [x[0] for x in C_d]\n",
    "C_d_yp = [x[1]for x in C_d]"
   ]
  },
  {
   "cell_type": "markdown",
   "id": "f55806f2",
   "metadata": {},
   "source": [
    "We can see the results here:"
   ]
  },
  {
   "cell_type": "code",
   "execution_count": 28,
   "id": "f6f41053",
   "metadata": {},
   "outputs": [
    {
     "data": {
      "text/plain": [
       "[-2, 0, 2, 4, 6, 8, 10, 12]"
      ]
     },
     "execution_count": 28,
     "metadata": {},
     "output_type": "execute_result"
    }
   ],
   "source": [
    "C_l_xp"
   ]
  },
  {
   "cell_type": "code",
   "execution_count": 29,
   "id": "56428947",
   "metadata": {},
   "outputs": [
    {
     "data": {
      "text/plain": [
       "[0.06, 0.135, 0.2, 0.25, 0.3, 0.35, 0.395, 0.44]"
      ]
     },
     "execution_count": 29,
     "metadata": {},
     "output_type": "execute_result"
    }
   ],
   "source": [
    "C_l_yp"
   ]
  },
  {
   "cell_type": "markdown",
   "id": "165ddca5",
   "metadata": {},
   "source": [
    "Let's plot these lists using **matplotlib**"
   ]
  },
  {
   "cell_type": "code",
   "execution_count": 30,
   "id": "968200ce",
   "metadata": {},
   "outputs": [
    {
     "data": {
      "image/png": "[encoded data removed]",
      "text/plain": [
       "<Figure size 432x288 with 1 Axes>"
      ]
     },
     "metadata": {
      "needs_background": "light"
     },
     "output_type": "display_data"
    }
   ],
   "source": [
    "import matplotlib.pyplot as plt\n",
    "import numpy as np\n",
    "plt.plot(C_l_xp,C_l_yp)\n",
    "plt.plot(C_d_xp,C_d_yp)\n",
    "plt.xlabel(\"Angle of Attack\")\n",
    "plt.ylabel(\"Cl,Cd\")\n",
    "plt.title(\"Cl/Cd Coefficients\")\n",
    "plt.show()\n"
   ]
  },
  {
   "cell_type": "markdown",
   "id": "48429b5c",
   "metadata": {},
   "source": [
    "This is hard to work with, so let's re-plot the drag curve and show the scale for that curve in the right:"
   ]
  },
  {
   "cell_type": "code",
   "execution_count": 32,
   "id": "a36630b5",
   "metadata": {},
   "outputs": [
    {
     "data": {
      "image/png": "[encoded data removed]",
      "text/plain": [
       "<Figure size 432x288 with 2 Axes>"
      ]
     },
     "metadata": {
      "needs_background": "light"
     },
     "output_type": "display_data"
    }
   ],
   "source": [
    "import numpy as np\n",
    "import matplotlib.pyplot as plt\n",
    "\n",
    "alpha = np.array(C_l_xp)\n",
    "lift = np.array(C_l_yp)\n",
    "drag = np.array(C_d_yp)\n",
    "\n",
    "fig, ax1 = plt.subplots()\n",
    "\n",
    "color = 'tab:red'\n",
    "ax1.set_xlabel('alpha')\n",
    "ax1.set_ylabel('lift', color=color)\n",
    "ax1.plot(alpha, lift, color=color)\n",
    "ax1.tick_params(axis='y', labelcolor=color)\n",
    "\n",
    "ax2 = ax1.twinx()\n",
    "color = 'tab:blue'\n",
    "ax2.set_ylabel('drag', color=color)\n",
    "ax2.plot(alpha, drag, color=color)\n",
    "ax2.tick_params(axis='y', labelcolor=color)\n",
    "\n",
    "fig.tight_layout()\n",
    "plt.show()"
   ]
  },
  {
   "cell_type": "markdown",
   "id": "f3d86b25",
   "metadata": {},
   "source": [
    "Thisis much better. However,the curves are pretty \"choppy\", since the plot is made up of  straight lines between the small number of points we had available. We know that is no right, so wereally wantto\"fit\" a smooth curve through those points. We can do this using anumber of schemes found in the **scipy** package. The process we will use returns a *Python* function we can use to get values for any input $\\alpha$ we need."
   ]
  },
  {
   "cell_type": "code",
   "execution_count": 34,
   "id": "dcbf5965",
   "metadata": {},
   "outputs": [],
   "source": [
    "from scipy.interpolate import InterpolatedUnivariateSpline"
   ]
  },
  {
   "cell_type": "code",
   "execution_count": 35,
   "id": "a69b5ab8",
   "metadata": {},
   "outputs": [],
   "source": [
    "    order = 1\n",
    "    CL = InterpolatedUnivariateSpline(alpha, C_l_yp, k=order)\n",
    "    CD = InterpolatedUnivariateSpline(alpha, C_d_yp, k=order)"
   ]
  },
  {
   "cell_type": "markdown",
   "id": "4a9dd2ca",
   "metadata": {},
   "source": [
    "We now have two functions, **CL** and **CD** we cna use to easily get values for input angles. What is cool is that we can even ask for values beyond the range of the original data we used.\n",
    "\n",
    "Lets test this by generating a new set of values to plot.We will generate angles from -5 to _15 using **numpy**: "
   ]
  },
  {
   "cell_type": "code",
   "execution_count": 40,
   "id": "d5e84684",
   "metadata": {},
   "outputs": [
    {
     "data": {
      "text/plain": [
       "array([-5, -3, -1,  1,  3,  5,  7,  9, 11, 13, 15])"
      ]
     },
     "execution_count": 40,
     "metadata": {},
     "output_type": "execute_result"
    }
   ],
   "source": [
    "angles = np.arange(-5, 16, 2)\n",
    "angles"
   ]
  },
  {
   "cell_type": "markdown",
   "id": "b0ce5511",
   "metadata": {},
   "source": [
    "The last parameter told **numpy** how often we wanted sample values. I had to make the end value greater than the last value I wanted to make sure it was included. Experimenting solves problems like this!\n",
    "\n",
    "Now,let's generate our new data points, hopefully smoother!"
   ]
  },
  {
   "cell_type": "code",
   "execution_count": 46,
   "id": "ca6b5cf4",
   "metadata": {},
   "outputs": [
    {
     "data": {
      "text/plain": [
       "array([-0.0525,  0.0225,  0.0975,  0.1675,  0.225 ,  0.275 ,  0.325 ,\n",
       "        0.3725,  0.4175,  0.4625,  0.5075])"
      ]
     },
     "execution_count": 46,
     "metadata": {},
     "output_type": "execute_result"
    }
   ],
   "source": [
    "fitted_C_l = CL(angles)\n",
    "fitted_C_d = CD(angles)\n",
    "fitted_C_l"
   ]
  },
  {
   "cell_type": "markdown",
   "id": "f247fd3b",
   "metadata": {},
   "source": [
    "**numpy** applies our coefficient function to an *array* of points, generating a new *array* of results. SImple, and powerful!\n",
    "\n",
    "Now for the new plot:"
   ]
  },
  {
   "cell_type": "code",
   "execution_count": 48,
   "id": "f4e6feba",
   "metadata": {},
   "outputs": [
    {
     "data": {
      "image/png": "[encoded data removed]",
      "text/plain": [
       "<Figure size 432x288 with 2 Axes>"
      ]
     },
     "metadata": {
      "needs_background": "light"
     },
     "output_type": "display_data"
    }
   ],
   "source": [
    "fig2, ax3 = plt.subplots()\n",
    "\n",
    "color = 'tab:red'\n",
    "ax3.set_xlabel('alpha')\n",
    "ax3.set_ylabel('lift', color=color)\n",
    "ax3.plot(angles, fitted_C_l, color=color)\n",
    "ax3.tick_params(axis='y', labelcolor=color)\n",
    "\n",
    "ax4 = ax3.twinx()  # instantiate a second axes that shares the same x-axis\n",
    "color = 'tab:blue'\n",
    "ax4.set_ylabel('drag', color=color)  # we already handled the x-label with ax1\n",
    "ax4.plot(angles, fitted_C_d, color=color)\n",
    "ax4.tick_params(axis='y', labelcolor=color)\n",
    "\n",
    "fig.tight_layout()  # otherwise the right y-label is slightly clipped\n",
    "plt.show()"
   ]
  },
  {
   "cell_type": "markdown",
   "id": "3a72e314",
   "metadata": {},
   "source": [
    "Much smoother. We could make the plot even better by sampling at more angles.\n",
    "\n",
    "The great thing about this system is that we can do complex mathematical operations on the data. For example, it is common to see graphs showing the ratio of $C_l$ to $C_d$ over a range of angles. Here is an example:"
   ]
  },
  {
   "cell_type": "code",
   "execution_count": 49,
   "id": "49aa9676",
   "metadata": {},
   "outputs": [],
   "source": [
    "ClCd = fitted_C_l / fitted_C_d"
   ]
  },
  {
   "cell_type": "code",
   "execution_count": 51,
   "id": "6b29dd31",
   "metadata": {},
   "outputs": [
    {
     "data": {
      "image/png": "[encoded data removed]",
      "text/plain": [
       "<Figure size 432x288 with 1 Axes>"
      ]
     },
     "metadata": {
      "needs_background": "light"
     },
     "output_type": "display_data"
    }
   ],
   "source": [
    "fig2, ax5 = plt.subplots()\n",
    "\n",
    "color = 'tab:red'\n",
    "ax5.set_xlabel('alpha')\n",
    "ax5.set_ylabel('lift/drag', color=color)\n",
    "ax5.plot(angles, ClCd, color=color)\n",
    "ax5.tick_params(axis='y', labelcolor=color)\n",
    "fig2.tight_layout()  # otherwise the right y-label is slightly clipped\n",
    "plt.show()"
   ]
  },
  {
   "cell_type": "markdown",
   "id": "e1978589",
   "metadata": {},
   "source": [
    "As designers, we are interested in the flight angle of attack where we get the most lift and minimum drag. This is the highest point on the curve above. Can we figure out where that point is? \n",
    "\n",
    "We have a new set of points for this curve. We can get a new spline function for these:"
   ]
  },
  {
   "cell_type": "code",
   "execution_count": 58,
   "id": "d2ced22e",
   "metadata": {},
   "outputs": [
    {
     "data": {
      "text/plain": [
       "array(21.15384615)"
      ]
     },
     "execution_count": 58,
     "metadata": {},
     "output_type": "execute_result"
    }
   ],
   "source": [
    "CLCD = InterpolatedUnivariateSpline(angles, ClCd, k=order)\n",
    "CLCD(5)"
   ]
  },
  {
   "cell_type": "code",
   "execution_count": 59,
   "id": "d103ad62",
   "metadata": {},
   "outputs": [
    {
     "data": {
      "text/plain": [
       "array([-5., -3., -1.,  1.,  3.,  5.,  7.,  9., 11., 13., 15.])"
      ]
     },
     "execution_count": 59,
     "metadata": {},
     "output_type": "execute_result"
    }
   ],
   "source": [
    "knots = CLCD.get_knots()\n",
    "knots"
   ]
  },
  {
   "cell_type": "code",
   "execution_count": 60,
   "id": "396d76a9",
   "metadata": {},
   "outputs": [
    {
     "name": "stdout",
     "output_type": "stream",
     "text": [
      "-5.0 -3.0\n",
      "-3.0 -1.0\n",
      "-1.0 1.0\n",
      "1.0 3.0\n",
      "3.0 5.0\n",
      "5.0 7.0\n",
      "7.0 9.0\n",
      "9.0 11.0\n",
      "11.0 13.0\n",
      "13.0 15.0\n"
     ]
    }
   ],
   "source": [
    "for a, b in zip(knots[:-1], knots[1:]):\n",
    "    print(a,b)"
   ]
  },
  {
   "cell_type": "markdown",
   "id": "4afa6d60",
   "metadata": {},
   "source": [
    "This loop looks at the set of intervals where the spline polynomials were created to give us values in each interval. \n",
    "\n",
    "Now, let's calculate the values of our cure in each interval, and at a point half way between the ends:"
   ]
  },
  {
   "cell_type": "code",
   "execution_count": 62,
   "id": "b843134e",
   "metadata": {},
   "outputs": [
    {
     "name": "stdout",
     "output_type": "stream",
     "text": [
      "-8.076923076923077 -2.538461538461539 2.9999999999999987\n",
      "2.9999999999999987 7.235294117647058 11.470588235294118\n",
      "11.470588235294118 14.55108359133127 17.63157894736842\n",
      "17.63157894736842 19.04306220095694 20.454545454545457\n",
      "20.454545454545457 20.804195804195807 21.153846153846153\n",
      "21.153846153846153 20.425407925407924 19.696969696969692\n",
      "19.696969696969692 18.511275546159265 17.325581395348838\n",
      "17.325581395348838 15.92366026289181 14.521739130434781\n",
      "14.521739130434781 13.306621199204319 12.091503267973854\n",
      "12.091503267973854 11.359887759641378 10.628272251308902\n"
     ]
    }
   ],
   "source": [
    "for a, b in zip(knots[:-1], knots[1:]):\n",
    "    u, v, w = CLCD(a), CLCD((a+b)/2), CLCD(b)\n",
    "    print(u,v,w)"
   ]
  },
  {
   "cell_type": "markdown",
   "id": "90a48598",
   "metadata": {},
   "source": [
    "The spline polynomial through these three points looks like this:\n",
    "\n",
    "$$\n",
    "a +b x + c x^2 + d x^3\n",
    "$$\n",
    "\n",
    "We are interested in the slope (derivative) of this function so we can find the point where the slope is zero. The derivative of our polynomial is:\n",
    "\n",
    "$$\n",
    "b + 2 c x + 3 d x^2\n",
    "$$\n",
    "\n",
    "We can ask **sympy** to help us find where the slope is z"
   ]
  },
  {
   "cell_type": "code",
   "execution_count": 53,
   "id": "f4ef0238",
   "metadata": {},
   "outputs": [],
   "source": [
    "def quadratic_spline_roots(spl):\n",
    "    roots = []\n",
    "    knots = spl.get_knots()\n",
    "    for a, b in zip(knots[:-1], knots[1:]):\n",
    "        u, v, w = spl(a), spl((a+b)/2), spl(b)\n",
    "        t = np.roots([u+w-2*v, w-u, 2*v])\n",
    "        t = t[np.isreal(t) & (np.abs(t) <= 1)]\n",
    "        roots.extend(t*(b-a)/2 + (b+a)/2)\n",
    "    return np.array(roots)"
   ]
  },
  {
   "cell_type": "markdown",
   "id": "7b52c359",
   "metadata": {},
   "source": [
    "There is some interesting trickery going on here. Line 3 delivers the knots of the splines used the input spline function we are working with. Line 4 starts a loop that looks at the groups of three points n the set of knots. This function calculates the slope of a line between two adjacent data points. IT checks to make sure that slop is not too "
   ]
  },
  {
   "cell_type": "code",
   "execution_count": 54,
   "id": "41a6923e",
   "metadata": {},
   "outputs": [
    {
     "name": "stdout",
     "output_type": "stream",
     "text": [
      "Maximum value 21.19277604145857 at 4.653289061150352\n",
      "Minimum value -8.076923076923078 at -5.0\n"
     ]
    }
   ],
   "source": [
    "from scipy.interpolate import InterpolatedUnivariateSpline\n",
    "f = InterpolatedUnivariateSpline(angles, ClCd, k=3)\n",
    "cr_pts = quadratic_spline_roots(f.derivative())\n",
    "cr_pts = np.append(cr_pts, (angles[0], angles[-1]))  # also check the endpoints of the interval\n",
    "cr_vals = f(cr_pts)\n",
    "min_index = np.argmin(cr_vals)\n",
    "max_index = np.argmax(cr_vals)\n",
    "print(\"Maximum value {} at {}\\nMinimum value {} at {}\".format(cr_vals[max_index], cr_pts[max_index], cr_vals[min_index], cr_pts[min_index]))"
   ]
  },
  {
   "cell_type": "code",
   "execution_count": null,
   "id": "e5884670",
   "metadata": {},
   "outputs": [],
   "source": [
    "Ignoringthevalue for theminimumvalue, we see that ourmax $C_l/C_d& is 21 at an angleof asttskof 465 degrees. This is the angle we want to fly at to get maximum duration for a model using this airfoil!"
   ]
  }
 ],
 "metadata": {
  "kernelspec": {
   "display_name": "Python 3 (ipykernel)",
   "language": "python",
   "name": "python3"
  },
  "language_info": {
   "codemirror_mode": {
    "name": "ipython",
    "version": 3
   },
   "file_extension": ".py",
   "mimetype": "text/x-python",
   "name": "python",
   "nbconvert_exporter": "python",
   "pygments_lexer": "ipython3",
   "version": "3.9.9"
  },
  "latex_envs": {
   "LaTeX_envs_menu_present": true,
   "autoclose": false,
   "autocomplete": true,
   "bibliofile": "biblio.bib",
   "cite_by": "apalike",
   "current_citInitial": 1,
   "eqLabelWithNumbers": true,
   "eqNumInitial": 1,
   "hotkeys": {
    "equation": "Ctrl-E",
    "itemize": "Ctrl-I"
   },
   "labels_anchors": false,
   "latex_user_defs": false,
   "report_style_numbering": false,
   "user_envs_cfg": false
  },
  "toc": {
   "base_numbering": 1,
   "nav_menu": {},
   "number_sections": true,
   "sideBar": true,
   "skip_h1_title": false,
   "title_cell": "Table of Contents",
   "title_sidebar": "Contents",
   "toc_cell": false,
   "toc_position": {},
   "toc_section_display": true,
   "toc_window_display": false
  },
  "varInspector": {
   "cols": {
    "lenName": 16,
    "lenType": 16,
    "lenVar": 40
   },
   "kernels_config": {
    "python": {
     "delete_cmd_postfix": "",
     "delete_cmd_prefix": "del ",
     "library": "var_list.py",
     "varRefreshCmd": "print(var_dic_list())"
    },
    "r": {
     "delete_cmd_postfix": ") ",
     "delete_cmd_prefix": "rm(",
     "library": "var_list.r",
     "varRefreshCmd": "cat(var_dic_list()) "
    }
   },
   "types_to_exclude": [
    "module",
    "function",
    "builtin_function_or_method",
    "instance",
    "_Feature"
   ],
   "window_display": false
  }
 },
 "nbformat": 4,
 "nbformat_minor": 5
}
