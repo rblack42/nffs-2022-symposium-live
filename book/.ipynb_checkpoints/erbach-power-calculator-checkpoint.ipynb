{
 "cells": [
  {
   "cell_type": "markdown",
   "id": "b4c36558",
   "metadata": {},
   "source": [
    "# Erbach's Power Calculator\n",
    "\n",
    "In the 1990 edition of the NFFS Symposium, Walter Erbach published a program {cite}`erbach90` that calculates the power required for an indoor model to maintain level flight. Since Walt was a highly respected model builder and a Professor of Engineering Mechanics at the University of Nebraska, I decided to try his code out for this study.\n",
    "\n",
    "Unfortunately, his program was written in *Basic* for the Commodore 64, which tells you something about how old this is!. My first job was to recast this code in Python and see if I could recreate the data he showed in his article.\n",
    "\n",
    "In working through this conversion, I found several errors that needed to be fixed in order to get usable output. Walt originally wrote this progrm in *FORTRAN* and I suspect converting it to a very limited first generation home computer was difficult, and his listing may not be totally correct. The data shown in his report was probably produced from his original code."
   ]
  },
  {
   "cell_type": "markdown",
   "id": "aa8b68de",
   "metadata": {},
   "source": [
    "Here is the output from my first attempt to get this program running in *Python*:"
   ]
  },
  {
   "cell_type": "code",
   "execution_count": 1,
   "id": "7481b957",
   "metadata": {},
   "outputs": [],
   "source": [
    "# initialize Jupyter access to mmflight\n",
    "import os\n",
    "import sys\n",
    "module_path = os.path.abspath(os.path.join('..'))\n",
    "if module_path not in sys.path:\n",
    "    sys.path.append(module_path)"
   ]
  },
  {
   "cell_type": "code",
   "execution_count": 5,
   "id": "1b2fecad",
   "metadata": {},
   "outputs": [
    {
     "name": "stdout",
     "output_type": "stream",
     "text": [
      "3.9694209301872236\n",
      "0.19648633604426763\n",
      "-0.014622755298453662\n"
     ]
    }
   ],
   "source": [
    "import mmflight\n",
    "from mmflight.Erbach import Erbach\n",
    "\n",
    "wing_angle = 2.0 # degrees\n",
    "stab_angle = -2.0 # degrees\n",
    "\n",
    "e = Erbach()\n",
    "e.set_model('basic')\n",
    "e.set_airfoil('mcbride-b7')\n",
    "e.set_alignment(wing_angle, stab_angle)\n",
    "print(e.get_velocity())\n",
    "print(e.get_power())\n",
    "print(e.get_moment(0.5))"
   ]
  },
  {
   "cell_type": "markdown",
   "id": "9b579c6d",
   "metadata": {},
   "source": [
    "This matches the value shown in afigure 3 of Walt's report, which was rounded for display."
   ]
  },
  {
   "cell_type": "markdown",
   "id": "22c0544c",
   "metadata": {},
   "source": [
    "## Parametric Study\n",
    "\n",
    "Walt's program was set up to create \"terrifying yards of tabulated data\" which he printed out and manually used to plot up his summary graphs. We certainly are not going to do any of that kind of thing today. Instead, we will use **matplotlib** and generate a power curve for different angles of attack as shown in Figure 3 of Walt's article.\n"
   ]
  },
  {
   "cell_type": "code",
   "execution_count": 8,
   "id": "621e50a5",
   "metadata": {},
   "outputs": [
    {
     "name": "stdout",
     "output_type": "stream",
     "text": [
      "2 -2\n",
      "4 0\n",
      "6 2\n",
      "8 4\n",
      "10 6\n",
      "12 8\n",
      "[0.19648633604426763, 0.14687391572268338, 0.12126279126553674, 0.12441955306616878, 0.1263895937941566, 0.1468352348218559]\n"
     ]
    }
   ],
   "source": [
    "power = []  # set up to capture data from loop\n",
    "aoa = []\n",
    "wing_incidence = 4\n",
    "for i in range(0,6):\n",
    "    alpha = i * 2 - 2\n",
    "    stab_angle = alpha\n",
    "    aoa.append(stab_a)\n",
    "    wing_angle = stab_angle + wing_incidence\n",
    "    print(wing_angle, stab_angle)\n",
    "    e.set_alignment(wing_angle, stab_angle)\n",
    "    power.append(e.get_power())\n",
    "print(power)"
   ]
  },
  {
   "cell_type": "code",
   "execution_count": null,
   "id": "f897b0ed",
   "metadata": {},
   "outputs": [],
   "source": []
  },
  {
   "cell_type": "code",
   "execution_count": null,
   "id": "1ef4ed5c",
   "metadata": {},
   "outputs": [],
   "source": []
  }
 ],
 "metadata": {
  "kernelspec": {
   "display_name": "Python 3 (ipykernel)",
   "language": "python",
   "name": "python3"
  },
  "language_info": {
   "codemirror_mode": {
    "name": "ipython",
    "version": 3
   },
   "file_extension": ".py",
   "mimetype": "text/x-python",
   "name": "python",
   "nbconvert_exporter": "python",
   "pygments_lexer": "ipython3",
   "version": "3.8.12"
  },
  "latex_envs": {
   "LaTeX_envs_menu_present": true,
   "autoclose": false,
   "autocomplete": true,
   "bibliofile": "biblio.bib",
   "cite_by": "apalike",
   "current_citInitial": 1,
   "eqLabelWithNumbers": true,
   "eqNumInitial": 1,
   "hotkeys": {
    "equation": "Ctrl-E",
    "itemize": "Ctrl-I"
   },
   "labels_anchors": false,
   "latex_user_defs": false,
   "report_style_numbering": false,
   "user_envs_cfg": false
  },
  "toc": {
   "base_numbering": 1,
   "nav_menu": {},
   "number_sections": true,
   "sideBar": true,
   "skip_h1_title": false,
   "title_cell": "Table of Contents",
   "title_sidebar": "Contents",
   "toc_cell": false,
   "toc_position": {},
   "toc_section_display": true,
   "toc_window_display": false
  },
  "varInspector": {
   "cols": {
    "lenName": 16,
    "lenType": 16,
    "lenVar": 40
   },
   "kernels_config": {
    "python": {
     "delete_cmd_postfix": "",
     "delete_cmd_prefix": "del ",
     "library": "var_list.py",
     "varRefreshCmd": "print(var_dic_list())"
    },
    "r": {
     "delete_cmd_postfix": ") ",
     "delete_cmd_prefix": "rm(",
     "library": "var_list.r",
     "varRefreshCmd": "cat(var_dic_list()) "
    }
   },
   "types_to_exclude": [
    "module",
    "function",
    "builtin_function_or_method",
    "instance",
    "_Feature"
   ],
   "window_display": false
  }
 },
 "nbformat": 4,
 "nbformat_minor": 5
}
