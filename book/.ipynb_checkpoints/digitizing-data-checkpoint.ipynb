{
 "cells": [
  {
   "cell_type": "markdown",
   "id": "4e2591c1",
   "metadata": {},
   "source": [
    "# Generating Aerodynamic Data\n",
    "\n",
    "Much of the analytical work in analyzing model performance depends on the basic set of aerodynamic coefficients for the chosen airfoils. Unfortunately, this data is hard to find, and often is located in PDF files you might be luck enough to find online. In my *Math Magic* project, I an using circular arc airfoils, so I went in search of data I could use. I found a report that had data for a 3% circular arc airfoil that looked promising, and I was able to download a copy of the report.\n",
    "\n",
    "The aerodynamic coefficient curves were in the report, but I wanted real data I could use. The problem was simple, I needed to digitize these curves somehow.\n",
    "\n",
    "## Capture Data Image\n",
    "\n",
    "The first step is easy. I can open up the report PDF and locate the graph I am interested in. I usually blow this graph up to as close to full screen as I can. Once it is on the screen, I use a screen capture program like *Snagit* on my Mac to capture and image with just the graph I want. \n",
    "\n",
    "## Digitizing the Image\n",
    "\n",
    "Next, I downloaded a nice digitizing tool: [WebPlotdigitizer](https://automeris.io/WebPlotDigitizer/index.html). Despite its name, there is a desktop application for all major applications that you can download and install.\n",
    "\n",
    "The digitizing process is pretty simple. You start the application and load an image file. Then you do a calibration where you select four points on the image, two each along the **x** and **y** axes. You will enter the coordinate values for these points from the image so the program can properly scale your data.\n",
    "\n",
    "With the calibration complete, all you need to do is use your mouse to point to locations on your image and click. The program provides a blow up of th image under your mouse to aid in locating the right spot. Once you select a point, a red dot is displayed on your image. You can fine-tune these points after you are done if needed. Finally you can save   your data as a *JSON* file.\n",
    "\n",
    "I wrote a simple program to process these *JSON* files, reducing everything to a simple list of **X** and **y** values we can use in the analysis code. (That code is not shown here, but is available on the project website).\n",
    "\n",
    "## Circular Arc Data\n",
    "\n",
    "The data I managed to obtain is for a 3% circular arc airfoil at a *Reynolds Number* of about 5000, right where it needs to be for indoor models. Using my plotting code described earlier , here are those three coefficient curves."
   ]
  },
  {
   "cell_type": "code",
   "execution_count": 20,
   "id": "28fd8940",
   "metadata": {},
   "outputs": [
    {
     "name": "stdout",
     "output_type": "stream",
     "text": [
      "[-0.34375000000000044, -0.2604166666666665, -0.16666666666666652, -0.07291666666666674, 0, 0.08333333333333326, 0.25, 0.34375, 0.4166666666666665, 0.4791666666666665, 0.5625, 0.6458333333333335, 0.8020833333333333, 0.8854166666666666, 0.9375, 1.0208333333333335, 1.0208333333333335, 1.0520833333333333, 1.0625, 1.0520833333333333, 1.0416666666666665, 1, 0.9791666666666666, 0.9583333333333333, 0.96875, 0.9479166666666666, 0.96875, 0.9895833333333333, 0.9895833333333333, 0.9895833333333333, 0.9895833333333333, 1, 1.0208333333333335, 1.0416666666666665]\n"
     ]
    }
   ],
   "source": [
    "import sys\n",
    "sys.path.append('../mmflight')\n",
    "from arc3 import CL\n",
    "print(CL.y)"
   ]
  },
  {
   "cell_type": "code",
   "execution_count": 13,
   "id": "6959037a",
   "metadata": {},
   "outputs": [],
   "source": [
    "from scipy.interpolate import InterpolatedUnivariateSpline\n",
    "\n",
    "def fit_curve(xp, yp):\n",
    "    xi = np.array(xp)\n",
    "    yi = np.array(yp)\n",
    "    order = 1\n",
    "    s = InterpolatedUnivariateSpline(xi, yi, k=order)\n",
    "    return s"
   ]
  },
  {
   "cell_type": "code",
   "execution_count": 17,
   "id": "78c181e0",
   "metadata": {},
   "outputs": [],
   "source": [
    "CL_fit = fit_curve(CL.x, CL.y)"
   ]
  },
  {
   "cell_type": "code",
   "execution_count": 19,
   "id": "52eb9199",
   "metadata": {},
   "outputs": [
    {
     "data": {
      "text/plain": [
       "array(1.0413869)"
      ]
     },
     "execution_count": 19,
     "metadata": {},
     "output_type": "execute_result"
    }
   ],
   "source": [
    "CL_fit(21.58)"
   ]
  },
  {
   "cell_type": "code",
   "execution_count": null,
   "id": "bc30dcb8",
   "metadata": {},
   "outputs": [],
   "source": []
  }
 ],
 "metadata": {
  "kernelspec": {
   "display_name": "Python 3 (ipykernel)",
   "language": "python",
   "name": "python3"
  },
  "language_info": {
   "codemirror_mode": {
    "name": "ipython",
    "version": 3
   },
   "file_extension": ".py",
   "mimetype": "text/x-python",
   "name": "python",
   "nbconvert_exporter": "python",
   "pygments_lexer": "ipython3",
   "version": "3.8.12"
  },
  "latex_envs": {
   "LaTeX_envs_menu_present": true,
   "autoclose": false,
   "autocomplete": true,
   "bibliofile": "biblio.bib",
   "cite_by": "apalike",
   "current_citInitial": 1,
   "eqLabelWithNumbers": true,
   "eqNumInitial": 1,
   "hotkeys": {
    "equation": "Ctrl-E",
    "itemize": "Ctrl-I"
   },
   "labels_anchors": false,
   "latex_user_defs": false,
   "report_style_numbering": false,
   "user_envs_cfg": false
  },
  "toc": {
   "base_numbering": 1,
   "nav_menu": {},
   "number_sections": true,
   "sideBar": true,
   "skip_h1_title": false,
   "title_cell": "Table of Contents",
   "title_sidebar": "Contents",
   "toc_cell": false,
   "toc_position": {},
   "toc_section_display": true,
   "toc_window_display": false
  },
  "varInspector": {
   "cols": {
    "lenName": 16,
    "lenType": 16,
    "lenVar": 40
   },
   "kernels_config": {
    "python": {
     "delete_cmd_postfix": "",
     "delete_cmd_prefix": "del ",
     "library": "var_list.py",
     "varRefreshCmd": "print(var_dic_list())"
    },
    "r": {
     "delete_cmd_postfix": ") ",
     "delete_cmd_prefix": "rm(",
     "library": "var_list.r",
     "varRefreshCmd": "cat(var_dic_list()) "
    }
   },
   "types_to_exclude": [
    "module",
    "function",
    "builtin_function_or_method",
    "instance",
    "_Feature"
   ],
   "window_display": false
  }
 },
 "nbformat": 4,
 "nbformat_minor": 5
}
