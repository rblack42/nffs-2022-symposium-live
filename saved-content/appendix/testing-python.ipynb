{
 "cells": [
  {
   "cell_type": "markdown",
   "id": "d6a187e9",
   "metadata": {},
   "source": [
    "# Testing Python"
   ]
  },
  {
   "cell_type": "markdown",
   "id": "44e11f34",
   "metadata": {},
   "source": [
    "First, make sure you know where you are working. We can issue a command to the operating system by typing that command in a code block, with an exclamation character in front. Like this:"
   ]
  },
  {
   "cell_type": "code",
   "execution_count": 1,
   "id": "c4fe2800",
   "metadata": {},
   "outputs": [
    {
     "name": "stdout",
     "output_type": "stream",
     "text": [
      "/Users/rblack/_dev/nffs-symposium/conda-2022\r\n"
     ]
    }
   ],
   "source": [
    "!pwd"
   ]
  },
  {
   "cell_type": "markdown",
   "id": "92005981",
   "metadata": {},
   "source": [
    "This is the folder I was in when I started up this page with this command:\n",
    "\n",
    "```text\n",
    "% jupyter notebook\n",
    "```\n",
    "\n",
    "Once my web browser window popped up and showed me what was in my folder, I clicked on **New -> Python 3** and got a blank work page. You are now ready to create some content!\n",
    "\n",
    "Your new page has the name **Untitled**, which you should change by clicking on **File -> Rename**. I usually name my files with the text I use as a page title, only all lower case with a dash where places were in the title.\n",
    "\n",
    "When you are in a cell, you need to make sure the contents of that cell will be interpreted correctly. By default, new cells are set to hold Python code. you can see that at the middle of the menu at the top of your browser window. If you want to type text in the selected block instead, click on that menu item and choose **Markdown** from the list."
   ]
  },
  {
   "cell_type": "markdown",
   "id": "874888c3",
   "metadata": {},
   "source": [
    "## Text Blocks\n",
    "\n",
    "The text blocks are written in a *markup language* called **markdown**. This is pretty simple, and we will not go over all of that here. There are plenty of tutorials on-line. To get started, here is a set of simple things you can add:\n",
    "\n",
    "- paragraphs re set off by blank lines.\n",
    "- headings are indicated by one or more sharp (#) characters at the start of the line.\n",
    "- bold text is indicated by adding two star characters at the font and end of the string you want to mark (like **this**)\n",
    "- italics use only one star around the text.\n",
    "\n",
    "## Code Blocks\n",
    "\n",
    "For code blocks written in Python, indenting with spaces is very important. Look closely at how examples are written and follow that style closely. You will get error messages (which are sometimes cryptic) \n",
    "\n",
    "## Processing Blocks\n",
    "\n",
    "After you finish typing something into that box, you process the box by typing **shift Enter**. *Jupyter* will either format your text, or run your Python code. If code gets run, and output from that code will appear in a box below the code. \n",
    "\n",
    "## Making Corrections\n",
    "\n",
    "You can click on any block and make corrections as needed. It that block is a processed text block, double-click to get to the raw **markdown** text you entered. Make your changes and re-process the block as before.\n",
    "\n",
    "You can delete a block using the scissors icon on the menu, or add new blocks using the **insert** menu command. You can also move blocks around using the up and down arrow icons on the menu.\n",
    "\n",
    "if you make a mistake in a code block (and of course you will), you need to know something about how *Jupyter* works behind the scenes.\n",
    "\n",
    "Your blocks are laid out in a linear order from top to bottom on a page. *Jupyter* creates a hidden *Python environment containing all the things you have defined up to that point. It is empy at the start of a page. As you process code blocks, the environment is updated so you can refer to things you defined in previous blocks as you like. \n",
    "\n",
    "Normally, you process your blocks in order, just like all of your code was written in a file and handed to Python to process normally. It is up to you to make sure all of your blocks get processed to see things correctly. If you make a mistake n an earlier block, you can fix that block, but you should process all code blocks from that point downward to make sure Python sees the entire new set of definitions. Processing blocks in a random order is a sure way to get both you and Python confused!\n",
    "\n",
    "Don't worry about this, *Jupyter* is a great place to experiment. try things, see what happens, and learn!\n",
    "\n",
    "Let's try something useful, we will generate a simple plot.\n",
    "\n",
    "First, check the version of *Python* you are using:"
   ]
  },
  {
   "cell_type": "code",
   "execution_count": 2,
   "id": "76797e08",
   "metadata": {},
   "outputs": [
    {
     "name": "stdout",
     "output_type": "stream",
     "text": [
      "Python 3.9.7\r\n"
     ]
    }
   ],
   "source": [
    "!python --version"
   ]
  },
  {
   "cell_type": "markdown",
   "id": "974ac35e",
   "metadata": {},
   "source": [
    "Next, we will make sure we have installed to *Python* **packages** we need. *Python* calls a block of components all living in a single folder a **package**. We install **packages** using the *pip** tool:"
   ]
  },
  {
   "cell_type": "code",
   "execution_count": 10,
   "id": "39d5970a",
   "metadata": {},
   "outputs": [
    {
     "name": "stdout",
     "output_type": "stream",
     "text": [
      "Requirement already satisfied: numpy in /opt/miniconda3/envs/mmagik/lib/python3.9/site-packages (1.22.0)\n",
      "Requirement already satisfied: matplotlib in /opt/miniconda3/envs/mmagik/lib/python3.9/site-packages (3.5.1)\n",
      "Requirement already satisfied: python-dateutil>=2.7 in /opt/miniconda3/envs/mmagik/lib/python3.9/site-packages (from matplotlib) (2.8.2)\n",
      "Requirement already satisfied: pillow>=6.2.0 in /opt/miniconda3/envs/mmagik/lib/python3.9/site-packages (from matplotlib) (9.0.0)\n",
      "Requirement already satisfied: fonttools>=4.22.0 in /opt/miniconda3/envs/mmagik/lib/python3.9/site-packages (from matplotlib) (4.28.5)\n",
      "Requirement already satisfied: pyparsing>=2.2.1 in /opt/miniconda3/envs/mmagik/lib/python3.9/site-packages (from matplotlib) (3.0.4)\n",
      "Requirement already satisfied: kiwisolver>=1.0.1 in /opt/miniconda3/envs/mmagik/lib/python3.9/site-packages (from matplotlib) (1.3.2)\n",
      "Requirement already satisfied: cycler>=0.10 in /opt/miniconda3/envs/mmagik/lib/python3.9/site-packages (from matplotlib) (0.11.0)\n",
      "Requirement already satisfied: packaging>=20.0 in /opt/miniconda3/envs/mmagik/lib/python3.9/site-packages (from matplotlib) (21.3)\n",
      "Requirement already satisfied: six>=1.5 in /opt/miniconda3/envs/mmagik/lib/python3.9/site-packages (from python-dateutil>=2.7->matplotlib) (1.16.0)\n"
     ]
    }
   ],
   "source": [
    "!pip install numpy matplotlib"
   ]
  },
  {
   "cell_type": "markdown",
   "id": "692fe633",
   "metadata": {},
   "source": [
    "You can run that command more than once. The output will tell you if the **package** was already installed.\n",
    "\n",
    "No wwe tell Python to let us use those **packages. The **import** line gives us access to all or part of a **package**."
   ]
  },
  {
   "cell_type": "code",
   "execution_count": 5,
   "id": "ece283b0",
   "metadata": {},
   "outputs": [],
   "source": [
    "import matplotlib.pyplot as plt\n",
    "import numpy as np"
   ]
  },
  {
   "cell_type": "markdown",
   "id": "60b5237e",
   "metadata": {},
   "source": [
    "In that first line I am getting access to one part of the **matplotlib** package. **pyplot** will create  plots for us, but that name is too long to type, so we tell Python we will refer to this name as **plt**. \n",
    "The second line does something similar, but we get access to everything in the **numpy** **package**."
   ]
  },
  {
   "cell_type": "code",
   "execution_count": 9,
   "id": "d7004041",
   "metadata": {
    "scrolled": true
   },
   "outputs": [
    {
     "data": {
      "image/png": "[encoded data removed]",
      "text/plain": [
       "<Figure size 432x288 with 1 Axes>"
      ]
     },
     "metadata": {
      "needs_background": "light"
     },
     "output_type": "display_data"
    }
   ],
   "source": [
    "x = np.linspace(0,15,100)\n",
    "y = np.sin(x)\n",
    "plt.plot(x,y)\n",
    "plt.show()"
   ]
  },
  {
   "cell_type": "markdown",
   "id": "8b60970d",
   "metadata": {},
   "source": [
    "We refer to a component in a **package** by using the name of the package, or the alias we set up) followed by a dot, then the component name. Any name that has parentheses after it is a *Function* (think of it like a button on your calculator, that activates a block of code. We hand that *function* zero or more *parameters* to do its job. You calculator only gets one parameter, the number in the screen!. Same idea.\n",
    "\n",
    "Obviously, ther is more to learn, but do not be afraid to type in example code from this article and see what happens, That is the best way to learn.\n",
    "\n",
    "Looks like you are on your way to becoming a pythonista!"
   ]
  }
 ],
 "metadata": {
  "kernelspec": {
   "display_name": "Python 3 (ipykernel)",
   "language": "python",
   "name": "python3"
  },
  "language_info": {
   "codemirror_mode": {
    "name": "ipython",
    "version": 3
   },
   "file_extension": ".py",
   "mimetype": "text/x-python",
   "name": "python",
   "nbconvert_exporter": "python",
   "pygments_lexer": "ipython3",
   "version": "3.9.7"
  },
  "latex_envs": {
   "LaTeX_envs_menu_present": true,
   "autoclose": false,
   "autocomplete": true,
   "bibliofile": "biblio.bib",
   "cite_by": "apalike",
   "current_citInitial": 1,
   "eqLabelWithNumbers": true,
   "eqNumInitial": 1,
   "hotkeys": {
    "equation": "Ctrl-E",
    "itemize": "Ctrl-I"
   },
   "labels_anchors": false,
   "latex_user_defs": false,
   "report_style_numbering": false,
   "user_envs_cfg": false
  },
  "toc": {
   "base_numbering": 1,
   "nav_menu": {},
   "number_sections": true,
   "sideBar": true,
   "skip_h1_title": false,
   "title_cell": "Table of Contents",
   "title_sidebar": "Contents",
   "toc_cell": false,
   "toc_position": {},
   "toc_section_display": true,
   "toc_window_display": false
  },
  "varInspector": {
   "cols": {
    "lenName": 16,
    "lenType": 16,
    "lenVar": 40
   },
   "kernels_config": {
    "python": {
     "delete_cmd_postfix": "",
     "delete_cmd_prefix": "del ",
     "library": "var_list.py",
     "varRefreshCmd": "print(var_dic_list())"
    },
    "r": {
     "delete_cmd_postfix": ") ",
     "delete_cmd_prefix": "rm(",
     "library": "var_list.r",
     "varRefreshCmd": "cat(var_dic_list()) "
    }
   },
   "types_to_exclude": [
    "module",
    "function",
    "builtin_function_or_method",
    "instance",
    "_Feature"
   ],
   "window_display": false
  }
 },
 "nbformat": 4,
 "nbformat_minor": 5
}
