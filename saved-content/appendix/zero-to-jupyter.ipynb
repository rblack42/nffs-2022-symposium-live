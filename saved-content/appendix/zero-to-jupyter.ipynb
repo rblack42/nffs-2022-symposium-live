{
 "cells": [
  {
   "cell_type": "markdown",
   "id": "8a0d2aeb",
   "metadata": {},
   "source": [
    "# Zero to Jupyter"
   ]
  },
  {
   "cell_type": "markdown",
   "id": "a6fd4b77",
   "metadata": {},
   "source": [
    "The section is for builders who can only use a computer if they have a mouse in one hand. Sorry folks, you will need to use that keyboard in front of you to follow along here! Keep this window open, but make room for another window to pop up. \n",
    "\n",
    "## Files and Folders\n",
    "\n",
    "You should be familiar with the basics of managing where things are stored on your system. We are taught to think of our hard disk as a collection of folders inside of which we might find *files* or other folders*. This is supposed to look like a filing cabinet. In some circles, *folders* are also called *directories*, but the idea is the same.\n",
    "\n",
    "We refer to a specific item in this system using a *path* to that item. For example, on a Windows machine, a file in your *Home Directory* is located in ** C:\\Users\\username **\n",
    "On a Mac, this would look like this: **/Users/username**. Both of these examples tell the system to look in the *Users* folder at the top of our drive, then look dor a *username* folder inside thatone. The character between those is called a *separator* and windows uses a different character from the rest of the computer world. In Python, we will always use a forwrd slsh, even if we are using a windows machine!\n",
    "\n",
    "Both of these xample are referring to a folder. If the last item in the line names a file, you cannot try to add another component to the path. You need to fire up some program that knows what to do with a file to process that.\n",
    "\n",
    "## Get to the Command Line\n",
    "\n",
    "We will open up a window where we can type in commands telling the operating system what to do. You have been doing this all along when you *double-click* on icons on your screen. \n",
    "When you type in commands you will need to provide the name of a command followed by zero or more additional pieces of information called *arguments*, each separated by spaces. \n",
    "\n",
    "Let's get to this new control world:\n",
    "\n",
    "### Windows Users\n",
    "\n",
    "On Windows 10, type \"cmd\" in the search box at the lower left of your screen, then press the *Enter* key. The new window that appears is called a *Command Prompt* window. The *prompt* is a string showing you the *path* to the folder you are working in followed by a right angle bracket.\n",
    "\n",
    "### Mac Users\n",
    "\n",
    "On a Mac, use the *Finder* tool and click on *Applications -> Utilities -> Terminal.app*. A new window will appear. This one is often called a *shell*, a term that dates back to the dawn of computing with a  keyboard. Your *system prompt* is a percent sign.\n",
    "\n",
    "## Entering Commands\n",
    "\n",
    "There are some basic commands that work on both systems:\n",
    "\n",
    "### Changing Directories *Folders)\n",
    "\n",
    "You work in some folder on your system. We can *change directories to get to a place where we want to work.\n",
    "\n",
    "I will show these commands as they work on my Mac. Your output will be different. Remember that the prompt character is different on a Mac as well:\n",
    "\n",
    "Where am I now? *Print Working Directory*:\n",
    "```text\n",
    "% pwd\n",
    "/Users/rblack/_dev/nffs-symposium/live-2022/book/content/analysis\n",
    "```"
   ]
  },
  {
   "cell_type": "markdown",
   "id": "a8595a8a",
   "metadata": {},
   "source": [
    "That ugly line is where my Jupyter file is located on my Mac. I wonder what other things are in that folder:\n",
    "\n",
    "```text\n",
    "% ls\n",
    "Doug-McLean-Indoor-Flight-Time.ipynb mclean.ipynb\n",
    "erbach-power-calculator.ipynb        plotting-data.ipynb\n",
    "mclean-method.ipynb                  zero-to-jupyter.ipynb\n",
    "```"
   ]
  },
  {
   "cell_type": "markdown",
   "id": "fe98bb74",
   "metadata": {},
   "source": [
    "Windows users would type **dir** instead of **ls** (which is short for *list*). On a Mac this command will not work:\n",
    "\n",
    "```text\n",
    "% dir\n",
    "zsh:1: command not found: dir"
   ]
  },
  {
   "cell_type": "markdown",
   "id": "0681605d",
   "metadata": {},
   "source": [
    "## Move up to a higher-level folder\n",
    "\n",
    "This command is a bit odd,. If you add \"..\" to a path, the system figures out how to move up one level from where the path told it to go just before that. So: it was"
   ]
  },
  {
   "cell_type": "code",
   "execution_count": 6,
   "id": "a0e5dba4",
   "metadata": {},
   "outputs": [
    {
     "name": "stdout",
     "output_type": "stream",
     "text": [
      "/Users/rblack/_dev/nffs-symposium/live-2022/book/content/analysis\r\n"
     ]
    }
   ],
   "source": [
    "!cd ../..\n",
    "!pwd"
   ]
  },
  {
   "cell_type": "code",
   "execution_count": null,
   "id": "20cbc501",
   "metadata": {},
   "outputs": [],
   "source": []
  }
 ],
 "metadata": {
  "kernelspec": {
   "display_name": "Python 3 (ipykernel)",
   "language": "python",
   "name": "python3"
  },
  "language_info": {
   "codemirror_mode": {
    "name": "ipython",
    "version": 3
   },
   "file_extension": ".py",
   "mimetype": "text/x-python",
   "name": "python",
   "nbconvert_exporter": "python",
   "pygments_lexer": "ipython3",
   "version": "3.9.9"
  },
  "latex_envs": {
   "LaTeX_envs_menu_present": true,
   "autoclose": false,
   "autocomplete": true,
   "bibliofile": "biblio.bib",
   "cite_by": "apalike",
   "current_citInitial": 1,
   "eqLabelWithNumbers": true,
   "eqNumInitial": 1,
   "hotkeys": {
    "equation": "Ctrl-E",
    "itemize": "Ctrl-I"
   },
   "labels_anchors": false,
   "latex_user_defs": false,
   "report_style_numbering": false,
   "user_envs_cfg": false
  },
  "toc": {
   "base_numbering": 1,
   "nav_menu": {},
   "number_sections": true,
   "sideBar": true,
   "skip_h1_title": false,
   "title_cell": "Table of Contents",
   "title_sidebar": "Contents",
   "toc_cell": false,
   "toc_position": {},
   "toc_section_display": true,
   "toc_window_display": false
  },
  "varInspector": {
   "cols": {
    "lenName": 16,
    "lenType": 16,
    "lenVar": 40
   },
   "kernels_config": {
    "python": {
     "delete_cmd_postfix": "",
     "delete_cmd_prefix": "del ",
     "library": "var_list.py",
     "varRefreshCmd": "print(var_dic_list())"
    },
    "r": {
     "delete_cmd_postfix": ") ",
     "delete_cmd_prefix": "rm(",
     "library": "var_list.r",
     "varRefreshCmd": "cat(var_dic_list()) "
    }
   },
   "types_to_exclude": [
    "module",
    "function",
    "builtin_function_or_method",
    "instance",
    "_Feature"
   ],
   "window_display": false
  }
 },
 "nbformat": 4,
 "nbformat_minor": 5
}
