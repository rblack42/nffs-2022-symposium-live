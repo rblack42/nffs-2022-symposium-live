{
 "cells": [
  {
   "cell_type": "markdown",
   "id": "94672e73",
   "metadata": {},
   "source": [
    "# A Method For Predicting Indoor Model Duration (2021 Edition)\n",
    "\n",
    "In the 1976 edition of the NFFS Symposium, Doug McLean presented a paper on predicting flight times for indoor model airplanes. As part of my work on the [Math Magik](https://rblack42.github.io/math-magik)  project I started for my 2021 symposium article, I decided to revisit Doug's effort, and work through the math used in his paper using some help from Python *SymPy*.\n",
    "\n",
    "This article will not intended to be a rewrite of Doug's work. Instead, I will focus on validating the the math he presented and attempt to create a solid Python program to do the calculations. Towards that end, this article is being written using the *Jupyter Notebook* system, very popular in the data science world where researchers want to build \"recreatable research\" documentation. Anyone should be able to produce exactly the same results shown in the documentation by following the steps presented there.\n",
    "\n",
    "Note that some of this discussion will be pretty low level. That is on purpose, since I want readers with little background in advanced math and aerospace engineering to be able to follow what is going on. (Sorry, all my years teaching forces me to do this! If you are more familiar with some of these concepts, just skip over the low level stuff!)"
   ]
  },
  {
   "cell_type": "markdown",
   "id": "d7f6909d",
   "metadata": {},
   "source": [
    "## Step 1: Confirm the Develpment Environment\n",
    "\n",
    "For this article, you will need to have Python installed and three packages that can be installed using the Python **pip** tool:\n",
    "\n",
    "   * **jupyter** - provides the Notebook web interface\n",
    "   * **SymPy** - to do \"symbolic math\"\n",
    "   * **pint** - for unit conversions"
   ]
  },
  {
   "cell_type": "code",
   "execution_count": 1,
   "id": "5dc5b05d",
   "metadata": {},
   "outputs": [
    {
     "name": "stdout",
     "output_type": "stream",
     "text": [
      "Python 3.9.6\r\n"
     ]
    }
   ],
   "source": [
    "!python --version"
   ]
  },
  {
   "cell_type": "code",
   "execution_count": 2,
   "id": "936ddfbc",
   "metadata": {},
   "outputs": [],
   "source": [
    "import sympy"
   ]
  },
  {
   "cell_type": "code",
   "execution_count": 3,
   "id": "fba3f8da",
   "metadata": {},
   "outputs": [],
   "source": [
    "import pint"
   ]
  },
  {
   "cell_type": "code",
   "execution_count": 8,
   "id": "7ba68dc6",
   "metadata": {},
   "outputs": [
    {
     "data": {
      "text/latex": [
       "$\\displaystyle \\frac{c^{2}}{8 t} + \\frac{t}{2}$"
      ],
      "text/plain": [
       "c**2/(8*t) + t/2"
      ]
     },
     "execution_count": 8,
     "metadata": {},
     "output_type": "execute_result"
    }
   ],
   "source": [
    "r,c,t,theta = \\\n",
    "  sympy.symbols('r c t theta')\n",
    "\n",
    "eq1 = 2 * r * sympy.cos(theta) - c\n",
    "eq2 = r - r * sympy.sin(theta) - t\n",
    "sol = sympy.solve([eq1,eq2],[r,theta])\n",
    "solr = sol[0][0]\n",
    "solr"
   ]
  },
  {
   "cell_type": "markdown",
   "id": "1c53dcc5",
   "metadata": {},
   "source": [
    "Note that I did not test the **jupyter** package, If you are reading this on your system, that tool seems to be installed!\n",
    "\n",
    "If you get here with no errors, you are ready to proceed."
   ]
  },
  {
   "cell_type": "markdown",
   "id": "7042a581",
   "metadata": {},
   "source": [
    "## Units of Measure\n",
    "\n",
    "Before we get started, we need to decide what units of measure we will be using. In the U.S. we commonly use Imperial units (inches or feet, and ounces or pounds). Elsewhere it is more common to use Metric units (centimeters, or meters, and grams or kilograms). Indoor modelers seem to mix the two systems, using inches for lengths, and grams for weight.\n",
    "\n",
    "When you search for data on things like air properties, you might need to convert between various units of measure. Fortunately for Python developers, there is a nice package of code that can assist in this work. The **pint** library can do the needed conversion work. We will be using this package in this project."
   ]
  },
  {
   "cell_type": "markdown",
   "id": "988209b3",
   "metadata": {},
   "source": [
    "## Properties of Air\n",
    "\n",
    "We need to set some parameters for this study. First, we will define values for the properties of the air through which the model will be flying:\n",
    "\n",
    "#### Air Density\n",
    "\n",
    "The density of the air we fly through is set to a standard value suitable for the flying site you will use. It is common to use the Greek letter **rho** ($\\rho$) for this property. Since we will be using *SymPy* in creating the formal mathematical expression we need, we will need to create names for the symbols, and names for Python variables used in actual calculations. *SymPy* users often use the same name and the context they are in helps determine if you mean the symbol or the variable. To avoid this confusion, I will use a leading underscore on each name to refer to a Python variable, and just the name itself for a SymPy* symbol.\n",
    "\n",
    "Here is an example:"
   ]
  },
  {
   "cell_type": "code",
   "execution_count": 4,
   "id": "49a71a08",
   "metadata": {},
   "outputs": [
    {
     "data": {
      "text/latex": [
       "$\\displaystyle \\rho$"
      ],
      "text/plain": [
       "rho"
      ]
     },
     "execution_count": 4,
     "metadata": {},
     "output_type": "execute_result"
    }
   ],
   "source": [
    "rho = sympy.Symbol('rho')\n",
    "rho"
   ]
  },
  {
   "cell_type": "markdown",
   "id": "42a0bf2f",
   "metadata": {},
   "source": [
    "The first line actually creates the **SymPy** variable, and the second line causes it to be displayed in the notebook output. Notice that *SymPy* recognized the Greek letter name, and showed it the \"right\" way (for math folks!)\n",
    "\n",
    "Now we will create the actual Python variable and give it a value (from the [1976 Standard Atmosphere Properties Calculator](http://www.luizmonteiro.com/StdAtm.aspx):"
   ]
  },
  {
   "cell_type": "code",
   "execution_count": null,
   "id": "238ef339",
   "metadata": {},
   "outputs": [],
   "source": [
    "_rho = 0.00230812"
   ]
  },
  {
   "cell_type": "markdown",
   "id": "ffe5953d",
   "metadata": {},
   "source": [
    "This value is for air at 1000 feet, the approximate altitude of my home in Kansas City. The units for this number are \"slugs/cubic feet\", which is not convenient. Let's see what **pint** can do with this. See [Pint Tutorial](https://pint.readthedocs.io/en/stable/tutorial.html#tutorial) for an overview of this package.\n",
    "\n",
    "To use **pint** we need to set up a \"Unit Registry\" which provides access to a ton of predefined standard units of measure:"
   ]
  },
  {
   "cell_type": "code",
   "execution_count": 6,
   "id": "63b5c03c",
   "metadata": {},
   "outputs": [],
   "source": [
    "from pint import UnitRegistry\n",
    "ureg = UnitRegistry()\n",
    "Q_ = ureg.Quantity"
   ]
  },
  {
   "cell_type": "markdown",
   "id": "e9c1d56f",
   "metadata": {},
   "source": [
    "In this code we create a **pint** \"rgistry\", which knows all about units, and has a ton of basic units predefined. The **Q_** is used to create variables with units attached. Normal Python variables are just plain numbers, which we will use rarely in this work. In fact, the only place I want to see a \"bare\" number is in a line of code giving a name to that number. Unnamed numbers are sometimes called \"magic\" numbers, because often you have no idea where they came from!"
   ]
  },
  {
   "cell_type": "code",
   "execution_count": 7,
   "id": "3f56db52",
   "metadata": {},
   "outputs": [],
   "source": [
    "_rho = 0.00230812 * (ureg.slug / ureg.ft**3)"
   ]
  },
  {
   "cell_type": "markdown",
   "id": "3b2073dc",
   "metadata": {},
   "source": [
    "THis line shows how we add units of measure to a quantity. Let's see how Jupyter displays this number:"
   ]
  },
  {
   "cell_type": "code",
   "execution_count": 8,
   "id": "f9e4d2b1",
   "metadata": {},
   "outputs": [
    {
     "data": {
      "text/html": [
       "0.00230812 slug/foot<sup>3</sup>"
      ],
      "text/latex": [
       "$0.00230812\\ \\frac{\\mathrm{slug}}{\\mathrm{foot}^{3}}$"
      ],
      "text/plain": [
       "0.00230812 <Unit('slug / foot ** 3')>"
      ]
     },
     "execution_count": 8,
     "metadata": {},
     "output_type": "execute_result"
    }
   ],
   "source": [
    "_rho"
   ]
  },
  {
   "cell_type": "markdown",
   "id": "86226fa0",
   "metadata": {},
   "source": [
    "Internally, **pint** uses the metric system. We can see this by asking to see the \"base units\" of our density variable:"
   ]
  },
  {
   "cell_type": "code",
   "execution_count": 9,
   "id": "fec211ae",
   "metadata": {},
   "outputs": [
    {
     "data": {
      "text/html": [
       "1.1895561583097045 kilogram/meter<sup>3</sup>"
      ],
      "text/latex": [
       "$1.1895561583097045\\ \\frac{\\mathrm{kilogram}}{\\mathrm{meter}^{3}}$"
      ],
      "text/plain": [
       "1.1895561583097045 <Unit('kilogram / meter ** 3')>"
      ]
     },
     "execution_count": 9,
     "metadata": {},
     "output_type": "execute_result"
    }
   ],
   "source": [
    "_rho.to_base_units()"
   ]
  },
  {
   "cell_type": "markdown",
   "id": "c6e0c896",
   "metadata": {},
   "source": [
    "That number matches on shown in the calculator where we got our orignal value. \n",
    "\n",
    "In the scientific world, a \"slug\" is measure of the *mass* of an object. Students get confused when asked to distinguish the difference between \"mass\" and \"weight\". Most of us think about the \"weight\" of an object, but the object's weight is a measure of the force that object exterts on the ground when it is sitting on the Earth. If we move that same object to the Moon, it would weight much less, since the gravitational force of the Moon is about one sixth that on Earth! The object has the same mass, but its weight depends on where you measure it!\n",
    "\n",
    "We can use [Newton's Second Law](https://en.wikipedia.org/wiki/Newton%27s_laws_of_motion#Newton's_second_law) to show this:\n",
    "\n",
    "$F = m a$\n",
    "\n",
    "Where:\n",
    "- **F** is the force (weight in this case) of the object\n",
    "- **m** is the mass of the object\n",
    "- **a** is the acceleration (in this case of gravity on Earth: 32.2 * (ft / second**2)\n",
    "    \n",
    "In simple terms:\n",
    "\n",
    "$ 1 slug = 1 lb (second^2/ft) $\n",
    "\n",
    "### Grams\n",
    "\n",
    "To further confuse things, a **gram**, used in the metric system, is a measure of the *mass* of something. That means the pull of gravity has been pulled out of the numbers. Converting from grams to pounds (lb) needs to consider that!\n",
    "\n",
    "Let's use **pint** to see what we can get:"
   ]
  },
  {
   "cell_type": "code",
   "execution_count": 10,
   "id": "755b2971",
   "metadata": {},
   "outputs": [],
   "source": [
    "g = 1 * ureg.gram"
   ]
  },
  {
   "cell_type": "code",
   "execution_count": 11,
   "id": "250632cf",
   "metadata": {},
   "outputs": [
    {
     "name": "stdout",
     "output_type": "stream",
     "text": [
      "0.002204622621848776 pound 0.035273961949580414 ounce 6.852176585679175e-05 slug\n"
     ]
    }
   ],
   "source": [
    "print(g.to(ureg.lb), g.to(ureg.oz), g.to(ureg.slug))"
   ]
  },
  {
   "cell_type": "markdown",
   "id": "adf9484c",
   "metadata": {},
   "source": [
    "It looks line **pint** is going to be pretty handy when we want to get answers in a variety of measurement systems!\n",
    "\n",
    "Now that we have a nice system set up to deal with our units of measure, lets look at someother properties of air:"
   ]
  },
  {
   "cell_type": "markdown",
   "id": "a46c4259",
   "metadata": {},
   "source": [
    "### Kinematic Viscosity of Air\n",
    "\n",
    "Although you might not think of air as a fluid. Actually, it is, but it is a very \"thin\" fluid.\n",
    "\n",
    "The *kinematic viscosity* of any fluid is a measure of that fluid's resistance to flowing through a capilary tube under the influence of gravity alone. Moving an object through a fluid with low *kimematic viscosity*, like water, will be easier than moving it through a fluid with high *kinematic viscosity, like oil.\n",
    "\n",
    "From our atmospheric calculator, we get the standard value for the Kinematic Viscosity. We will use the Greek letter nu ($\\nu$) for this property:"
   ]
  },
  {
   "cell_type": "code",
   "execution_count": 12,
   "id": "daa6ad3b",
   "metadata": {},
   "outputs": [
    {
     "data": {
      "text/html": [
       "1.4961941688959998×10<sup>-5</sup> meter<sup>2</sup>/second"
      ],
      "text/latex": [
       "$1.4961941688959998\\times 10^{-5}\\ \\frac{\\mathrm{meter}^{2}}{\\mathrm{second}}$"
      ],
      "text/plain": [
       "1.4961941688959998e-05 <Unit('meter ** 2 / second')>"
      ]
     },
     "execution_count": 12,
     "metadata": {},
     "output_type": "execute_result"
    }
   ],
   "source": [
    "_nu = 1.61049e-4 * (ureg.ft**2/ureg.sec)\n",
    "_nu.to_base_units()"
   ]
  },
  {
   "cell_type": "markdown",
   "id": "c888017b",
   "metadata": {},
   "source": [
    "Again, this number matches another entry in the calculator. "
   ]
  },
  {
   "cell_type": "markdown",
   "id": "55984bd7",
   "metadata": {},
   "source": [
    "## Aerodynamic Properties\n",
    "\n",
    "When we study the aerodynamics of a vehicle, it is common to talk about something called the [Reynolds Number](https://en.wikipedia.org/wiki/Reynolds_number). This quantity was developed to help identify different kinds of flow fields seen by vehicles moving through the air. It is also used to compare measurements made on models of some airplane to the real airplane. The formal definition of the *Renolds Number*, usually written as **Re**, is\n",
    "\n",
    "$ Re = vL/\\nu $\n",
    "\n",
    "Where:\n",
    "\n",
    "   - **v** is the velocity of the vehicle through the air\n",
    "   - **L** is some characteristic length, such as the chord of a wing\n",
    "   - **$\\nu$** is the *kinematic viscosity* of the air\n",
    "    \n",
    "We will treat the *kinematic viscosity* as a constant for our work. We still need two additional values to calculate the *Reynolds Number* for our work. That means we need to define a Python function to calculate this number. To be consistent, we need to use the same length units for this function. If we express length in inches and speed in feet per second, we need to convert inches to feet in calculating the number."
   ]
  },
  {
   "cell_type": "code",
   "execution_count": 13,
   "id": "725b35c2",
   "metadata": {},
   "outputs": [],
   "source": [
    "def ReynoldsNumber(speed, length):\n",
    "    \"\"\"speed in ft/sec, length in inches\"\"\"\n",
    "    return speed * length.to(ureg.ft) / _nu "
   ]
  },
  {
   "cell_type": "markdown",
   "id": "6ebd3a42",
   "metadata": {},
   "source": [
    "let's see what **Re** is for a *Limited Pennyplane* wing with a chord of 5 inches moving through the air at a speed of 4 feet per second:"
   ]
  },
  {
   "cell_type": "code",
   "execution_count": 14,
   "id": "0f6b860f",
   "metadata": {},
   "outputs": [],
   "source": [
    "speed = Q_(4,ureg.ft/ureg.sec)\n",
    "length = Q_(5,ureg.inch)"
   ]
  },
  {
   "cell_type": "code",
   "execution_count": 15,
   "id": "26f1e345",
   "metadata": {},
   "outputs": [],
   "source": [
    "Re = ReynoldsNumber(speed, length)"
   ]
  },
  {
   "cell_type": "code",
   "execution_count": 16,
   "id": "6edf55d8",
   "metadata": {},
   "outputs": [
    {
     "name": "stdout",
     "output_type": "stream",
     "text": [
      "10348.817233678363 dimensionless\n"
     ]
    }
   ],
   "source": [
    "print(Re)"
   ]
  },
  {
   "cell_type": "markdown",
   "id": "e0787fc6",
   "metadata": {},
   "source": [
    "Interesting! In fact, the *Reynolds number* is a dimensionless number, and **pint** figured that out, once we told it to be consistent in use of units in our calculations.\n",
    "\n",
    "In the world of aeronautical engineering, this value for **Re** is pretty low, and there has not been a lot of interest in studying flight at this value. Most \"real\" airplanes go much faster than this. (I once took a ride in an ultralight airplane that was cruising along at around 30 mph. As a pilot, I was amazed to be in the air at that speed!) Lets see what the *Reynolds NUmber* was for that airplane:"
   ]
  },
  {
   "cell_type": "code",
   "execution_count": 17,
   "id": "2a2c5890",
   "metadata": {},
   "outputs": [
    {
     "name": "stdout",
     "output_type": "stream",
     "text": [
      "1366043.8748455439 dimensionless\n"
     ]
    }
   ],
   "source": [
    "speed_ul = 30 * (ureg.mile/ureg.hour)\n",
    "chord_ul = 5 * (ureg.feet)\n",
    "\n",
    "print(ReynoldsNumber(speed_ul.to(ureg.feet/ureg.sec), chord_ul.to(ureg.inch)))"
   ]
  },
  {
   "cell_type": "markdown",
   "id": "d52525bf",
   "metadata": {},
   "source": [
    "Bigger, but still not big enough for something like my favorite USAF airplane, the F4 Phantom 2, which can fly at around 2.4 times the speed of sound!"
   ]
  },
  {
   "cell_type": "code",
   "execution_count": 18,
   "id": "f8352592",
   "metadata": {},
   "outputs": [
    {
     "name": "stdout",
     "output_type": "stream",
     "text": [
      "160974610.2117989 dimensionless\n"
     ]
    }
   ],
   "source": [
    "speed_f4 = 1473 * (ureg.mile / ureg.hour)\n",
    "chord_f4 = 12 * (ureg.feet)\n",
    "\n",
    "print(ReynoldsNumber(speed_f4.to(ureg.feet/ureg.sec), chord_f4.to(ureg.inch)))"
   ]
  },
  {
   "cell_type": "markdown",
   "id": "fad8a954",
   "metadata": {},
   "source": [
    "There is some serious research into flight at that value for **Re**! I doubt that we will be building any supersonic model airplanes anytime soon!\n",
    "\n",
    "Back to reality now."
   ]
  },
  {
   "cell_type": "markdown",
   "id": "134e84fc",
   "metadata": {},
   "source": [
    "### Model Power Plant\n",
    "\n",
    "Our models are powered by propellers driven by a motor consisting of a wound up loop of rubber (bands if you must!) Our first issue is getting some data on the amount of energy we can get from winding up such a motor!\n",
    "\n",
    "The standard source for indoor rubber is FAI Model Supply](https://www.faimodelsupply.com/). That site simply sells rubber by the pound, cut to a number of standard widths. Indoor builders cut this rubber to lengths that deem suitable for the model. Some builders use torque meters to measure the torque available in their motor when they ready a plane for flight, others just count the number ot winds they put in. None of this speaks tot eh energy available at launch, or how the power of that motor varies over time as the motor winds down.\n",
    "\n",
    "Doug's paper references another paper by Max Hacklinger who studied indoor model aerodynamics around 1964. I found a copy of this work in the 1982 edition of the *NFFS Symposium*. I also found several graphs with motor data in an article by Bud Tenny in the 1968 edition of the *NFFS Symposium* as well. In the absense of better data I decided to build a simple Python function that will give an estimate of motor torque (shown by the symbol **Q**) as a function of motor turns. This function obviously needs better data to account for motor dimensions and weight, but it will do for the present time.\n",
    "\n",
    "Here is a list of the data points I will use. These were measured from a blowup of a figure in a paper by Walter Erbach found in the 1971 edition of the *NFFS SYmposium*.Doug's paper. This process is is crude, but it will serve as a starting point:"
   ]
  },
  {
   "cell_type": "code",
   "execution_count": 40,
   "id": "3392ec6c",
   "metadata": {},
   "outputs": [],
   "source": [
    "_Qru14 = [\n",
    "    (45.51, 156.90),(51.06, 150.02),(57.68,146.05),(65.62, 143.67),\n",
    "    (82.02, 140.49),(102.39, 138.11),(129.38, 136.26),(153.99, 133.61),\n",
    "    (164.84, 132.56),(182.03, 128.59),(200.82, 122.77),(211.67, 116.95),\n",
    "    (218.25, 110.60),(227.66, 99.22),(234.42, 89.96),(238.92, 75.67),\n",
    "    (241.83, 61.36),(243.15, 52.39),(244.74, 33.60)\n",
    "]\n",
    "\n",
    "_Qru14_limits = ((45.51,0), (244.74, 1400),(156.90, 0), (23.81, 0.4))\n",
    "\n",
    "_Qrw14 = [\n",
    "    (95.43, 364.54),(101.15, 339.09),(111.33, 325.55),(129.78, 304.10),\n",
    "    (149.50, 292.65),(166.68, 286.92),(192.13, 281.83),(239.84, 278.02),\n",
    "    (278.65, 275.47),(314.91, 269.74),(347.36, 264.02),(386.80, 253.20),\n",
    "    (421.79, 241.75),(459.33, 224.58),(496.86, 205.49),(533.13, 180.68),\n",
    "    (552.85, 160.96),(571.94, 145.05),(588.48, 123.42),(605.02, 98.61)\n",
    "]\n",
    "_Qrw14_limits = ((95.43,0), (605.02, 1400), (364.54, 0), (71.25, 0.4))\n",
    "\n",
    "_Qru6 = [\n",
    "    (96.06, 361.99),(108.79, 345.45),(124.06, 333.36),(141.87, 327.64),\n",
    "    (167.32, 319.37),(187.034, 317.46),(226.48, 314.28),(240.28, 312.37),\n",
    "    (260.84, 309.19),(274.83, 302.83),(293.28, 292.01),(305.37, 281.20),\n",
    "    (314.28, 269.74)\n",
    "]\n",
    "\n",
    "_Qru6_limits = _Qrw14_limits"
   ]
  },
  {
   "cell_type": "markdown",
   "id": "559a17b0",
   "metadata": {},
   "source": [
    "The limits data is to be used in scaling these data values so they reflect the original data.\n",
    "The values are pairs for min and max x, and min ans max y with corresponding real data values from the figure.\n",
    "\n",
    "These data points were obtained by loading the image into **Inkscape**, them using the mouse to point to several points on the torque line and reading the coordinate values **Inkscape** shows as the mouse moves. The raw data obtained needs to be scaled to obtain \"real\" (well maybe close) data. \n",
    "\n",
    "(Yes, **Inscape** has the **y** axis running top to bottom!)\n",
    "\n",
    "We need a little help from Python to produce the data we really need:"
   ]
  },
  {
   "cell_type": "code",
   "execution_count": 47,
   "id": "29f8c99e",
   "metadata": {},
   "outputs": [
    {
     "name": "stdout",
     "output_type": "stream",
     "text": [
      "45.51 244.74 156.9 23.81 0 1400 0 0.4 199.23000000000002 -133.09 1400 0.4\n",
      "0.0 -0.0\n",
      "39.000150579731994 0.02067773686978735\n",
      "85.51924910906992 0.03260951236005709\n",
      "141.31405912764146 0.03976256668419872\n",
      "256.5577473272097 0.04932000901645502\n",
      "399.6988405360638 0.05647306334059657\n",
      "589.3590322742558 0.062033210609362135\n",
      "762.2948351151936 0.06999774588624237\n",
      "838.5383727350298 0.07315350514689309\n",
      "959.3334337198214 0.08508528063716284\n",
      "1091.371781358229 0.1025772033961981\n",
      "1167.6153189780655 0.12006912615523331\n",
      "1213.853335341063 0.13915395596964464\n",
      "1279.9779149726446 0.17335637538507778\n",
      "1327.480801084174 0.20118716657900673\n",
      "1359.10254479747 0.24413554737395748\n",
      "1379.5512723987351 0.2871440378691112\n",
      "1388.8269838879687 0.31410323841009846\n",
      "1400.0 0.37057630175069506\n"
     ]
    }
   ],
   "source": [
    "def scaler(data, limits):\n",
    "    Q = []\n",
    "    xmin = limits[0][0]\n",
    "    nmin = limits[0][1]\n",
    "    xmax = limits[1][0]\n",
    "    nmax = limits[1][1]\n",
    "    ymin = limits[2][0]\n",
    "    qmin = limits[2][1]\n",
    "    ymax = limits[3][0]\n",
    "    qmax = limits[3][1]\n",
    "    dx = xmax - xmin\n",
    "    dy = ymax - ymin\n",
    "    dn = nmax - nmin\n",
    "    dq = qmax - qmin\n",
    "    print(xmin, xmax, ymin, ymax, nmin, nmax, qmin, qmax, dx, dy, dn, dq)\n",
    "    for item in data:\n",
    "        xv = (item[0] - xmin)/dx * nmax\n",
    "        yv = (item[1] - ymin)/dy * qmax\n",
    "        Q.append((xv, yv))\n",
    "        print(xv, yv)\n",
    "    return Q\n",
    "\n",
    "_Qu14 = scaler(_Qru14, _Qru14_limits)"
   ]
  },
  {
   "cell_type": "code",
   "execution_count": 48,
   "id": "b15fe315",
   "metadata": {},
   "outputs": [
    {
     "name": "stdout",
     "output_type": "stream",
     "text": [
      "95.43 605.02 364.54 71.25 0 1400 0 0.4 509.59 -293.29 1400 0.4\n",
      "1.730803194725159 0.0034777864911862133\n",
      "36.704016954806804 0.0260356643595077\n",
      "78.655389626955 0.042524463841249284\n",
      "127.58492121116976 0.050325616284223856\n",
      "197.50387566475007 0.06160455521838455\n",
      "251.66427912635646 0.06420948549217503\n",
      "360.0345375694185 0.06854648982236018\n",
      "397.94736945387467 0.0711514200961506\n",
      "454.4319943483976 0.07548842442633574\n",
      "492.8668144979297 0.08416243308670604\n",
      "543.5546223434525 0.09891915851205296\n",
      "576.769559842226 0.11366224555900306\n",
      "601.2480621676249 0.12929182720174573\n"
     ]
    }
   ],
   "source": [
    "_Qu6 = scaler(_Qru6, _Qru6_limits)"
   ]
  },
  {
   "cell_type": "code",
   "execution_count": 53,
   "id": "babdeb7b",
   "metadata": {},
   "outputs": [
    {
     "name": "stdout",
     "output_type": "stream",
     "text": [
      "95.43 605.02 364.54 71.25 0 1400 0 0.4 509.59 -293.29 1400 0.4\n",
      "0.0 -0.0\n",
      "15.714594085441234 0.034709673019878\n",
      "43.682175866873344 0.05317603736915682\n",
      "94.36998371239623 0.08243035903031129\n",
      "148.54687101395237 0.09804630229465722\n",
      "195.74559940344201 0.1058610931160285\n",
      "265.6645538570223 0.11280302772000413\n",
      "396.7385545242254 0.11799924988918822\n",
      "503.3615259326124 0.12147703638037435\n",
      "602.9788653623502 0.12929182720174573\n",
      "692.128966423988 0.1370929796447203\n",
      "800.4827410271002 0.15184970507006723\n",
      "896.6110010008047 0.16746564833441308\n",
      "999.7448929531583 0.19088274404173344\n",
      "1102.8513118389294 0.2169184084012411\n",
      "1202.4961243352498 0.2507552252037233\n",
      "1256.6730116368062 0.2776501074022299\n",
      "1309.1190957436372 0.2993487674315524\n",
      "1354.5595478718185 0.3288485799038494\n",
      "1400.0 0.36268539670633165\n"
     ]
    }
   ],
   "source": [
    "_Qw14 = scaler(_Qrw14, _Qrw14_limits)"
   ]
  },
  {
   "cell_type": "markdown",
   "id": "57450952",
   "metadata": {},
   "source": [
    "The **_Q** variable now has a list of (Q,N) values, properly scalled. We can plot this curve using **matplotlib**:"
   ]
  },
  {
   "cell_type": "code",
   "execution_count": 60,
   "id": "5825fa02",
   "metadata": {},
   "outputs": [
    {
     "data": {
      "image/png": "[encoded data removed]",
      "text/plain": [
       "<Figure size 432x288 with 1 Axes>"
      ]
     },
     "metadata": {
      "needs_background": "light"
     },
     "output_type": "display_data"
    }
   ],
   "source": [
    "import matplotlib.pyplot as plt\n",
    "%matplotlib inline\n",
    "nu14_val = [x[0] for x in _Qu14]\n",
    "qu14_val = [x[1] for x in _Qu14]\n",
    "nu6_val = [x[0] for x in _Qu6]\n",
    "qu6_val = [x[1] for x in _Qu6]\n",
    "nw14_val = [x[0] for x in _Qw14]\n",
    "qw14_val = [x[1] for x in _Qw14]\n",
    "plt.plot(nu14_val, qu14_val, label=\"unwind from 1400\")\n",
    "plt.plot(nu6_val, qu6_val, label=\"unwind from 600\")\n",
    "plt.plot(nw14_val, qw14_val, label=\"winding to 1400\")\n",
    "plt.legend()\n",
    "plt.show()"
   ]
  },
  {
   "cell_type": "markdown",
   "id": "e44b527d",
   "metadata": {},
   "source": [
    "This looks reasonable for our purposes at present. Eventiually, I want to produce better motor data, but that will have to wait until I get some test equipment built!\n",
    "\n",
    "My plan is to use the general shape of these curves to build a function that will give the torque we can expect as a function of winds as the motor runs. I will use a simple linear interpolation scheme for this.   "
   ]
  },
  {
   "cell_type": "markdown",
   "id": "58b2cba0",
   "metadata": {},
   "source": [
    "As a point of interest, I would like to see if we can scale the 1400 unwind curve to get something close to the 600 unwind curve. To do this, I am going to \"normalize\" the 1400 curve so values run from zero to one in both directions, then use that data to produce output values for some input max wind and max torque values."
   ]
  },
  {
   "cell_type": "code",
   "execution_count": 65,
   "id": "1093ce26",
   "metadata": {},
   "outputs": [
    {
     "name": "stdout",
     "output_type": "stream",
     "text": [
      "0.0 -0.0\n",
      "0.02785725041409428 0.0557988645579886\n",
      "0.061085177935049945 0.08799675587996751\n",
      "0.10093861366260104 0.10729927007299284\n",
      "0.1832555338051498 0.1330900243309002\n",
      "0.28549917181147416 0.1523925385239253\n",
      "0.4209707373387542 0.16739659367396606\n",
      "0.5444963107965668 0.1888888888888888\n",
      "0.5989559805250213 0.19740470397404705\n",
      "0.6852381669427295 0.22960259529602597\n",
      "0.7795512723987351 0.2768045417680455\n",
      "0.8340109421271896 0.3240064882400649\n",
      "0.8670380966721879 0.375506893755069\n",
      "0.9142699392661747 0.4678021086780211\n",
      "0.9482005722029814 0.5429034874290349\n",
      "0.9707875319981929 0.6587996755879967\n",
      "0.9853937659990966 0.7748580697485807\n",
      "0.9920192742056919 0.8476074614760746\n",
      "1.0 1.0\n"
     ]
    },
    {
     "data": {
      "image/png": "[encoded data removed]",
      "text/plain": [
       "<Figure size 432x288 with 1 Axes>"
      ]
     },
     "metadata": {
      "needs_background": "light"
     },
     "output_type": "display_data"
    }
   ],
   "source": [
    "Qwn14 = []\n",
    "\n",
    "nmax = _Qu14[-1][0]\n",
    "qmax = _Qu14[-1][1]\n",
    "\n",
    "for item in _Qu14:\n",
    "    n = item[0] / nmax\n",
    "    q = item[1] / qmax\n",
    "    Qwn14.append((n,q))\n",
    "    print(n,q)\n",
    "    \n",
    "nn14_val = [x[0] for x in Qwn14]\n",
    "qn14_val = [x[1] for x in Qwn14]\n",
    "plt.plot(nn14_val, qn14_val, label=\"unwind from 1400\")\n",
    "plt.legend()\n",
    "plt.show()"
   ]
  },
  {
   "cell_type": "markdown",
   "id": "13cb494f",
   "metadata": {},
   "source": [
    "Let's do the same thing with the 600 unwind curve and overlay that."
   ]
  },
  {
   "cell_type": "code",
   "execution_count": 67,
   "id": "ffb529e6",
   "metadata": {},
   "outputs": [
    {
     "name": "stdout",
     "output_type": "stream",
     "text": [
      "0.0028786840301576223 0.026898734177215305\n",
      "0.061046378798263655 0.20137130801687797\n",
      "0.13082019648160842 0.3289029535864979\n",
      "0.21220013708019192 0.3892405063291143\n",
      "0.32848983321909986 0.4764767932489452\n",
      "0.418569796664382 0.49662447257384\n",
      "0.5988119716700936 0.5301687763713084\n",
      "0.6618688599497373 0.5503164556962027\n",
      "0.7558144848069452 0.5838607594936711\n",
      "0.8197395476353667 0.6509493670886078\n",
      "0.9040438656614118 0.7650843881856543\n",
      "0.9592871830020562 0.879113924050633\n",
      "1.0 1.0\n"
     ]
    },
    {
     "data": {
      "image/png": "[encoded data removed]",
      "text/plain": [
       "<Figure size 432x288 with 1 Axes>"
      ]
     },
     "metadata": {
      "needs_background": "light"
     },
     "output_type": "display_data"
    }
   ],
   "source": [
    "Qnu6 = []\n",
    "\n",
    "nmax = _Qu6[-1][0]\n",
    "qmax = _Qu6[-1][1]\n",
    "\n",
    "for item in _Qu6:\n",
    "    n = item[0] / nmax\n",
    "    q = item[1] / qmax\n",
    "    Qnu6.append((n,q))\n",
    "    print(n,q)\n",
    "    \n",
    "nn6_val = [x[0] for x in Qnu6]\n",
    "qn6_val = [x[1] for x in Qnu6]\n",
    "plt.plot(nn6_val, qn6_val)\n",
    "plt.plot(nn14_val, qn14_val)\n",
    "plt.show()"
   ]
  },
  {
   "cell_type": "markdown",
   "id": "54c11b82",
   "metadata": {},
   "source": [
    "Well, from that we see that no simple scaling of one curve will give useful data for other motor parameters. We definitely need more data to assess this. Unfortunately, Erbach's chart is not that useful in extracting the data we need for other wind values. We will put that issue aside for now and focus on just the motor unwind data we have.\n",
    "\n",
    "Here is a Python function that will use linear interpolation to return the torque for any input wind count based on the 1400 wind data:"
   ]
  },
  {
   "cell_type": "code",
   "execution_count": 69,
   "id": "ff54b7e9",
   "metadata": {},
   "outputs": [],
   "source": [
    "def Q(n):\n",
    "    \"\"\"\n",
    "    n is the number of winds expended on query\n",
    "    \"\"\"\n",
    "    val = 0\n",
    "    for i in range(len(_Qu14)):\n",
    "        if i == 0: continue\n",
    "        n1 = _Qu14[i-1][0]\n",
    "        q1 = _Qu14[i-1][1]\n",
    "        n2 = _Qu14[i][0]\n",
    "        q2 = _Qu14[i][1]\n",
    "        if n >= n1 and n <= n2:\n",
    "            delta = (n - n1)/(n2-n1)\n",
    "            return q1 + delta * (q2-q1)\n",
    "    return 0\n",
    "    "
   ]
  },
  {
   "cell_type": "markdown",
   "id": "af6c4f6d",
   "metadata": {},
   "source": [
    "Just as a test, lets check some values:"
   ]
  },
  {
   "cell_type": "code",
   "execution_count": 70,
   "id": "834b3091",
   "metadata": {},
   "outputs": [
    {
     "name": "stdout",
     "output_type": "stream",
     "text": [
      "0.05149090757790552 0.06252327895518515 0.10455670406919229 0.18508683038006757\n"
     ]
    }
   ],
   "source": [
    "print(Q(300), Q(600), Q(1100), Q(1300))"
   ]
  },
  {
   "cell_type": "markdown",
   "id": "3b98cafd",
   "metadata": {},
   "source": [
    "Those values look good enough. Obviously, this function needs better data to produce values for varying rubber sizes. Also, since most modelers use motors longer than the distance between hooks, the actual torque available during a flight will vary as winds run out and the motor begins to sag. Hopefully testing can provide some insights into this behavior."
   ]
  },
  {
   "cell_type": "markdown",
   "id": "4f30a1d7",
   "metadata": {},
   "source": [
    "### Propeller Efficiency\n",
    "\n",
    "The available torque provided by the rubber motor is transferred to some kind of propeller. THat propeller's job is to spin through the air providing some measure of forward thrust. There will be losses in this process. Not all of the energy input to the propeller will be converted into forward thrust.\n",
    "\n",
    "This issue has been studied for aslong as propellers have been used. Doug references an extensive review of flight technical issues titled \"Theory of Flight\" by Richard Von Mises, published in 1945 and still available todayfrom Dover PUblications.\n",
    "\n",
    "I used this book as a reference during my studies into aeronautical engineering at Virginia Tech back in the 1960's!"
   ]
  },
  {
   "cell_type": "markdown",
   "id": "3a321e70",
   "metadata": {},
   "source": [
    "### Propeller Basics\n",
    "\n",
    "This study is going to concentrate on those classes of indoor models where the propeller is constructued of a solid material like balsa or plastic. Most of these props have very thin blades with some curvature in the cross section. They do not have a pronounced airfoil shape.\n",
    "\n",
    "In most classes, the propeller blade is thinned in the front part of the blade to allow for some amount of flair, where the propeller pitch increases under high torque right after launch. This is supposed to help in getting the airplane t climb faster during that power burst. \n",
    "\n",
    "In other classes the prop blade has a fixed thickness, and flair effects can be neglected.\n",
    "\n",
    "The propeller is driven by the rubber motor which is attached to a wire shaft at the center of the prop. We know there is a torgue presented to the prop by that motor, but we need to figureout how the prop convertts that energy into a forward thrust that moves the model.\n",
    "\n",
    "The axis of that driving shaft may not align with the model. In many cases, side and downward thrustlines are used to control the early part of a flight. We will need to account for this n our clculations.\n",
    "\n",
    "Ultimately, we want as much power from the motor as possible to be converted to thrust along that shaft line. Our job is to figure that out!\n",
    "\n",
    "#### Propeller Efficiency\n",
    "\n"
   ]
  }
 ],
 "metadata": {
  "kernelspec": {
   "display_name": "Python 3 (ipykernel)",
   "language": "python",
   "name": "python3"
  },
  "language_info": {
   "codemirror_mode": {
    "name": "ipython",
    "version": 3
   },
   "file_extension": ".py",
   "mimetype": "text/x-python",
   "name": "python",
   "nbconvert_exporter": "python",
   "pygments_lexer": "ipython3",
   "version": "3.9.7"
  },
  "latex_envs": {
   "LaTeX_envs_menu_present": true,
   "autoclose": false,
   "autocomplete": true,
   "bibliofile": "biblio.bib",
   "cite_by": "apalike",
   "current_citInitial": 1,
   "eqLabelWithNumbers": true,
   "eqNumInitial": 1,
   "hotkeys": {
    "equation": "Ctrl-E",
    "itemize": "Ctrl-I"
   },
   "labels_anchors": false,
   "latex_user_defs": false,
   "report_style_numbering": false,
   "user_envs_cfg": false
  },
  "toc": {
   "base_numbering": 1,
   "nav_menu": {},
   "number_sections": true,
   "sideBar": true,
   "skip_h1_title": false,
   "title_cell": "Table of Contents",
   "title_sidebar": "Contents",
   "toc_cell": false,
   "toc_position": {},
   "toc_section_display": true,
   "toc_window_display": false
  },
  "varInspector": {
   "cols": {
    "lenName": 16,
    "lenType": 16,
    "lenVar": 40
   },
   "kernels_config": {
    "python": {
     "delete_cmd_postfix": "",
     "delete_cmd_prefix": "del ",
     "library": "var_list.py",
     "varRefreshCmd": "print(var_dic_list())"
    },
    "r": {
     "delete_cmd_postfix": ") ",
     "delete_cmd_prefix": "rm(",
     "library": "var_list.r",
     "varRefreshCmd": "cat(var_dic_list()) "
    }
   },
   "types_to_exclude": [
    "module",
    "function",
    "builtin_function_or_method",
    "instance",
    "_Feature"
   ],
   "window_display": false
  }
 },
 "nbformat": 4,
 "nbformat_minor": 5
}
