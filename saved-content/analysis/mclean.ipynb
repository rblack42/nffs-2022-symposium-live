{
 "cells": [
  {
   "cell_type": "markdown",
   "id": "84ada13b",
   "metadata": {},
   "source": [
    "# McLean' Method"
   ]
  },
  {
   "cell_type": "markdown",
   "id": "ea45d6b8",
   "metadata": {},
   "source": [
    "Doug starts off by assuming that the total flight time is proportional to the energy in the rubber motor divided by the thrust power of the propeller.\n"
   ]
  },
  {
   "cell_type": "markdown",
   "id": "5b81bf68",
   "metadata": {},
   "source": [
    "\\begin{equation}\n",
    "t = \\eta_{av} \\frac{E}{P}\n",
    "\\end{equation}"
   ]
  },
  {
   "cell_type": "markdown",
   "id": "880ddf2f",
   "metadata": {},
   "source": [
    "Where:\n",
    "    \n",
    "- **t** is the flight time in seconds\n",
    "- **E** is the energy stored in the rubber motor in kilogram meters\n",
    "- **P** is the thrust power (thrust x speed) required to stay in level flight in pound-force seconds\n",
    "- $\\eta_{av}$ is a proportionality constant averaged over the entire flight\n"
   ]
  },
  {
   "cell_type": "markdown",
   "id": "a751bc2d",
   "metadata": {},
   "source": [
    "Next, Doug assumes that the energy stored in the motor depends primarily on motor weight according to the formula:"
   ]
  },
  {
   "cell_type": "markdown",
   "id": "8d932a72",
   "metadata": {},
   "source": [
    "\\begin{equation}\n",
    "E = k_m w_m\n",
    "\\end{equation}"
   ]
  },
  {
   "cell_type": "markdown",
   "id": "a4730430",
   "metadata": {},
   "source": [
    "Where:\n",
    "\n",
    "- k_m is a constant = 30,000 inches\n",
    "- $w_m$ is the motor weight in grams\n",
    "    \n",
    "We will need to convert these items to a standard energy unit system. Fortunately, the Python **pint** package will take care of this for us!\n"
   ]
  },
  {
   "cell_type": "markdown",
   "id": "2dac7e04",
   "metadata": {},
   "source": [
    "To get started generating the code for this project, we will set up a few data items from Gary's best flight. To use Python **pint** to track units, we set that system up first."
   ]
  },
  {
   "cell_type": "code",
   "execution_count": 1,
   "id": "c31082d0",
   "metadata": {},
   "outputs": [],
   "source": [
    "import pint\n",
    "u = pint.UnitRegistry()"
   ]
  },
  {
   "cell_type": "markdown",
   "id": "7ae0992e",
   "metadata": {},
   "source": [
    "A *UnitRegistry* is a Python object that knows a lot about units!\n",
    "\n",
    "Gary flew the Wart to a time of 10:18 in the Kibbie Dome in 2003, and was the model was elected as a Model of the Year in the 2010 issue of the NFFS Symposium {cite}`hodson`."
   ]
  },
  {
   "cell_type": "code",
   "execution_count": 2,
   "id": "4ac84402",
   "metadata": {},
   "outputs": [],
   "source": [
    "wart_best_time = 618 * u.seconds\n",
    "wart_airframe_weight = 1.2 * u.grams\n",
    "wart_motor_weight = 0.86 * u.grams\n",
    "wart_total_weight = wart_airframe_weight + wart_motor_weight\n",
    "wart_wing_span = (8.0 + 2*3.65)*u.inch\n",
    "wart_stab_span = 10.8 * u.inch\n",
    "wart_wing_area = 30.0 * u.inch**2\n",
    "wart_stab_area = ((1.0 + 1.75)*5.4)*u.inch**2\n",
    "wart_stab_mean_chord = wart_stab_area / wart_stab_span\n",
    "wart_wing_mean_chord = wart_wing_area / wart_wing_span\n",
    "motor_turns = 3660\n",
    "kiby_dome_elevation = 2160 * u.feet\n",
    "kiby_dome_height = 147 * u.feet"
   ]
  },
  {
   "cell_type": "markdown",
   "id": "eaec42b1",
   "metadata": {},
   "source": [
    "For the Wart, we get this energy calculation:"
   ]
  },
  {
   "cell_type": "code",
   "execution_count": 3,
   "id": "cb2eda17",
   "metadata": {},
   "outputs": [
    {
     "name": "stdout",
     "output_type": "stream",
     "text": [
      "0.65532 kilogram * meter\n"
     ]
    }
   ],
   "source": [
    "k_m = 30000 * u.inches\n",
    "E = k_m * wart_motor_weight\n",
    "print(E.to_base_units())"
   ]
  },
  {
   "cell_type": "markdown",
   "id": "71a981a1",
   "metadata": {},
   "source": [
    "The thrust power required to maintain level flight balances the model weight against the available lift, and the thrust against the model drag."
   ]
  },
  {
   "cell_type": "markdown",
   "id": "1c0cec0f",
   "metadata": {},
   "source": [
    "\\begin{equation}\n",
    "P = \\sqrt{\\frac{2w}{\\rho S}}\\frac{C_l^{3/2}}{C_d}\\frac{w_m}{w}\n",
    "\\end{equation}"
   ]
  },
  {
   "cell_type": "markdown",
   "id": "ce43ee6a",
   "metadata": {},
   "source": [
    "Where:\n",
    "- $\\rho$ is the air density\n",
    "- **S** is the total projected area of the model\n",
    "- $C_l$ is the model lift coefficient\n",
    "- $C_d$ is the model drag coefficient\n",
    "\n",
    "For the Wart, we will use these values:"
   ]
  },
  {
   "cell_type": "code",
   "execution_count": 4,
   "id": "ee803953",
   "metadata": {},
   "outputs": [
    {
     "name": "stdout",
     "output_type": "stream",
     "text": [
      "44.85 inch ** 2\n"
     ]
    }
   ],
   "source": [
    "air_density = 33.6 * u.grams/u.foot**3 # from Doug's paper\n",
    "total_surface_area = wart_wing_area + wart_stab_area\n",
    "print(total_surface_area)"
   ]
  },
  {
   "cell_type": "markdown",
   "id": "7885d023",
   "metadata": {},
   "source": [
    "## Calculating Aerodynamic Coefficients\n",
    "\n",
    "We need to come up with values for your $C_l$ and $C_d$, which are dependent on the model design. Doug made a few simplifying assumptions here."
   ]
  },
  {
   "cell_type": "markdown",
   "id": "18b637ac",
   "metadata": {},
   "source": [
    "\\begin{equation}\n",
    "C_{lf} = 1.0\n",
    "\\end{equation}\n",
    "\n",
    "\\begin{equation}\n",
    "C_{mf} = -0.10\n",
    "\\end{equation}\n",
    "\n",
    "\\begin{equation}\n",
    "C_{mr} = -0.05\n",
    "\\end{equation}"
   ]
  },
  {
   "cell_type": "markdown",
   "id": "a58e42e5",
   "metadata": {},
   "source": [
    "These values are based on values used in Doug's paper. \n",
    "\n",
    "For simplicity, we will assume that the aerodynamic center of the airfoils used on the model are at the quarter chord (average) point on both the wing and stab. These values need to be tuned later.\n",
    "\n",
    "\\begin{equation}\n",
    "{AR}_{wing} = \\frac{b_w^2}{S_f}\n",
    "\\end{equation}\n",
    "\n",
    "\\begin{equation}\n",
    "{AR}_{stab} = \\frac{b_r^2}{S_r}\n",
    "\\end{equation}\n"
   ]
  },
  {
   "cell_type": "markdown",
   "id": "f036e493",
   "metadata": {},
   "source": [
    "Here:\n",
    "- $b_w$ is the wing span\n",
    "- $b_r$ is the stab span\n",
    "- $S_f$ is the wing projected area\n",
    "- $S_r$ is the stab projected span"
   ]
  },
  {
   "cell_type": "code",
   "execution_count": 5,
   "id": "6d55669c",
   "metadata": {},
   "outputs": [
    {
     "name": "stdout",
     "output_type": "stream",
     "text": [
      "7.803000000000001 dimensionless\n"
     ]
    }
   ],
   "source": [
    "aspect_ratio_wing = wart_wing_span**2/wart_wing_area\n",
    "print(aspect_ratio_wing)"
   ]
  },
  {
   "cell_type": "code",
   "execution_count": 6,
   "id": "066a0ae6",
   "metadata": {},
   "outputs": [
    {
     "name": "stdout",
     "output_type": "stream",
     "text": [
      "7.8545454545454545 dimensionless\n"
     ]
    }
   ],
   "source": [
    "aspect_ratio_stab = wart_stab_span**2/wart_stab_area\n",
    "print(aspect_ratio_stab)"
   ]
  },
  {
   "cell_type": "markdown",
   "id": "b1b32643",
   "metadata": {},
   "source": [
    "The equation needed to calculate the lift coefficient for the stab is given next This equation is derived by balancing the pitching moments about the CG:"
   ]
  },
  {
   "cell_type": "markdown",
   "id": "ca770816",
   "metadata": {},
   "source": [
    "\\begin{equation}\n",
    "C_{lr} = \n",
    "    \\frac{\n",
    "        -\\frac{x}{{AC}_f}\n",
    "        -C_{mf}\n",
    "        -C_{mr}\n",
    "        \\frac{\n",
    "            S_r {AC}_r\n",
    "        }\n",
    "        {\n",
    "            S_f{AC}_f\n",
    "        }\n",
    "   }\n",
    "   {(1 + \\frac{x}{l})(\\frac{S_r {AR}_r}{S_f{AR}_f})}\n",
    "\\end{equation}"
   ]
  },
  {
   "cell_type": "markdown",
   "id": "2bfcebcb",
   "metadata": {},
   "source": [
    "Where:\n",
    "\n",
    "- **x** is the distance from the cG to the wing aerodynamic center\n",
    "- **l** is the distance from the wing and stab aerodynamic centers.\n",
    "\n",
    "Here are estimates from the Wart plan:"
   ]
  },
  {
   "cell_type": "code",
   "execution_count": 7,
   "id": "e6c234ad",
   "metadata": {},
   "outputs": [
    {
     "name": "stdout",
     "output_type": "stream",
     "text": [
      "0.49019607843137253 inch\n",
      "0.34375 inch\n",
      "3.25 inch\n",
      "11.353553921568627 inch\n"
     ]
    }
   ],
   "source": [
    "aerodynamic_center_wing = 0.25  * wart_wing_mean_chord\n",
    "aerodynamic_center_stab = 0.25 * wart_stab_mean_chord\n",
    "pitching_moment_wing = -0.10\n",
    "pitching_moment_stab = 0.05\n",
    "l = ((6 - 1.25)*u.inch - aerodynamic_center_wing) + ((8.5 - 1.75)*u.inch + aerodynamic_center_stab)\n",
    "x = (1.25 + 2.0) * u.inch\n",
    "print(aerodynamic_center_wing)\n",
    "print(aerodynamic_center_stab)\n",
    "print(x)\n",
    "print(l)"
   ]
  },
  {
   "cell_type": "code",
   "execution_count": 8,
   "id": "add061b4",
   "metadata": {},
   "outputs": [
    {
     "name": "stdout",
     "output_type": "stream",
     "text": [
      "-0.45519731786882367 dimensionless\n"
     ]
    }
   ],
   "source": [
    "clr1 = - x/aerodynamic_center_wing \n",
    "clr2 = pitching_moment_wing \n",
    "clr3 = pitching_moment_stab * \\\n",
    "        (wart_stab_area * aerodynamic_center_stab) \\\n",
    "        / (wart_wing_area * aerodynamic_center_wing)\n",
    "clr4 =  1.0  + x/l\n",
    "clr5 = (wart_stab_area * l)/(wart_wing_area*aerodynamic_center_wing)\n",
    "C_lr = (clr1 + clr2 + clr3)/(clr4 * clr5)\n",
    "print(C_lr)"
   ]
  },
  {
   "cell_type": "markdown",
   "id": "0363e5e5",
   "metadata": {},
   "source": [
    "Is this correct? We typically adjust the stab to produce a down force, meaning the lift coefficient should be negative to achieve this effect.\n",
    "\n",
    "The next equation calculates the total model lift coefficient:"
   ]
  },
  {
   "cell_type": "markdown",
   "id": "b6c19d40",
   "metadata": {},
   "source": [
    "\\begin{equation}\n",
    "C_l = \\frac{\n",
    "        1 + \\frac{\n",
    "                S_r C_{lr}\n",
    "            }{\n",
    "                S_f\n",
    "            }\n",
    "      }\n",
    "      {\n",
    "        1+\\frac{S_r}{S_f}\n",
    "      }\n",
    "\\end{equation}"
   ]
  },
  {
   "cell_type": "code",
   "execution_count": 9,
   "id": "c5b17963",
   "metadata": {},
   "outputs": [
    {
     "name": "stdout",
     "output_type": "stream",
     "text": [
      "0.5181788144849044 dimensionless\n"
     ]
    }
   ],
   "source": [
    "C_l = (1.0 + (wart_stab_area * C_lr)/ wart_wing_area) / \\\n",
    "      (1.0 + (wart_stab_area / wart_wing_area))\n",
    "print(C_l)"
   ]
  },
  {
   "cell_type": "markdown",
   "id": "d733c8e2",
   "metadata": {},
   "source": [
    "The definition of the lift coefficient is given by:\n",
    "\n",
    "\\begin{equation}\n",
    "C_l = \\frac{2w}{\\rho g V^2 S}\n",
    "\\end{equation}"
   ]
  },
  {
   "cell_type": "markdown",
   "id": "82ef4370",
   "metadata": {},
   "source": [
    "The predicted flight speed calculation is thus given by:\n",
    "    \n",
    "\\begin{equation}\n",
    "V = \\sqrt{\\frac{2 w}{\\rho g C_l S}}\n",
    "\\end{equation}\n",
    "\n",
    "We will need to introduce the acceleration due to gravity to make the units work."
   ]
  },
  {
   "cell_type": "code",
   "execution_count": 10,
   "id": "84a7752d",
   "metadata": {},
   "outputs": [
    {
     "name": "stdout",
     "output_type": "stream",
     "text": [
      "2.06 gram\n",
      "44.85 inch ** 2\n"
     ]
    }
   ],
   "source": [
    "w = wart_airframe_weight + wart_motor_weight\n",
    "g = 32.2 * u.ft/u.second**2\n",
    "print(w)\n",
    "S = wart_wing_area + wart_stab_area\n",
    "print(S)"
   ]
  },
  {
   "cell_type": "code",
   "execution_count": 11,
   "id": "f6805ba5",
   "metadata": {},
   "outputs": [
    {
     "name": "stdout",
     "output_type": "stream",
     "text": [
      "1.5075858885046005 meter / second\n"
     ]
    }
   ],
   "source": [
    "V = (2.0 * w * g / (air_density * C_l * S))**0.5\n",
    "print(V.to_base_units())"
   ]
  },
  {
   "cell_type": "code",
   "execution_count": 12,
   "id": "e4cd9b69",
   "metadata": {},
   "outputs": [
    {
     "data": {
      "text/html": [
       "3.372373587385023 mile/hour"
      ],
      "text/latex": [
       "$3.372373587385023\\ \\frac{\\mathrm{mile}}{\\mathrm{hour}}$"
      ],
      "text/plain": [
       "3.372373587385023 <Unit('mile / hour')>"
      ]
     },
     "execution_count": 12,
     "metadata": {},
     "output_type": "execute_result"
    }
   ],
   "source": [
    "V.to('miles/hour')"
   ]
  },
  {
   "cell_type": "markdown",
   "id": "5cd02bd5",
   "metadata": {},
   "source": [
    "Gary estimated around 2 mph or \"walking speed\". I walk a bit faster, so this looks reasonable."
   ]
  },
  {
   "cell_type": "markdown",
   "id": "5276f9b0",
   "metadata": {},
   "source": [
    "The induced drag due to the wing is given by:\n",
    "\\begin{equation}\n",
    "C_{dif} = \\frac{1}{\\pi {AR}_f}\n",
    "\\end{equation}\n"
   ]
  },
  {
   "cell_type": "markdown",
   "id": "4680e99d",
   "metadata": {},
   "source": [
    "And the induced drag due to the stab is given by:\n",
    "\n",
    "\\begin{equation}\n",
    "C_{dir} = \\frac{C_{lr}^2}{\\pi {AR}_r} + 2 C_{lr}C_{dif}\n",
    "\\end{equation}"
   ]
  },
  {
   "cell_type": "code",
   "execution_count": 13,
   "id": "b2fcd3cc",
   "metadata": {},
   "outputs": [],
   "source": [
    "import math\n",
    "C_dif = 1.0/(math.pi * aspect_ratio_wing)\n",
    "C_dir = C_lr ** 2/(math.pi* aspect_ratio_stab) + 2.0*C_lr*C_dif"
   ]
  },
  {
   "cell_type": "markdown",
   "id": "403974ee",
   "metadata": {},
   "source": [
    "The total induce drag is given by:\n",
    "\n",
    "\\begin{equation}\n",
    "C_di = \\frac{C_{dif} + \\frac{S_r C_{dir}}{S_f}}{1 + \\frac{S_r}{S_f}}\n",
    "\\end{equation}"
   ]
  },
  {
   "cell_type": "code",
   "execution_count": 14,
   "id": "85fcfa2c",
   "metadata": {},
   "outputs": [
    {
     "name": "stdout",
     "output_type": "stream",
     "text": [
      "0.0177702535214668 dimensionless\n"
     ]
    }
   ],
   "source": [
    "C_di = (C_dif +(wart_stab_area * C_dir)/wart_wing_area)/ \\\n",
    "            (1.0 + wart_stab_area/wart_wing_area)\n",
    "print(C_di)"
   ]
  },
  {
   "cell_type": "markdown",
   "id": "b5303921",
   "metadata": {},
   "source": [
    "### Profile Drag Calculations\n",
    "\n",
    "McLean uses data from Max Hacklinger to estimate the effects of Reynolds number on the profile drag.\n",
    "\n",
    "\\begin{equation}\n",
    "C_{dpf} = \\frac{6.2}{\\sqrt{Re_f}}\n",
    "\\end{equation}\n",
    "\n",
    "\\begin{equation}\n",
    "C_{dpr} = \\frac{4.3 + 1.9 C_{lr}}{\\sqrt{Re_r}}\n",
    "\\end{equation}"
   ]
  },
  {
   "cell_type": "markdown",
   "id": "913452ab",
   "metadata": {},
   "source": [
    "where:\n",
    "\n",
    "\\begin{equation}\n",
    "Re_f = \\frac{C_f V}{\\nu}\n",
    "\\end{equation}\n",
    "\n",
    "and\n",
    "\n",
    "\\begin{equation}\n",
    "Re_r = \\frac{C_r V}{\\nu}\n",
    "\\end{equation}"
   ]
  },
  {
   "cell_type": "code",
   "execution_count": 15,
   "id": "e8b9cf26",
   "metadata": {},
   "outputs": [
    {
     "data": {
      "text/html": [
       "5089.38353847144 dimensionless"
      ],
      "text/latex": [
       "$5089.38353847144\\ dimensionless$"
      ],
      "text/plain": [
       "5089.38353847144 <Unit('dimensionless')>"
      ]
     },
     "execution_count": 15,
     "metadata": {},
     "output_type": "execute_result"
    }
   ],
   "source": [
    "air_kinematic_viscosity = 15.88e-5 * u.foot ** 2/u.second\n",
    "Re_f = wart_wing_mean_chord * V / air_kinematic_viscosity\n",
    "Re_f"
   ]
  },
  {
   "cell_type": "code",
   "execution_count": 16,
   "id": "06fed03d",
   "metadata": {},
   "outputs": [
    {
     "data": {
      "text/html": [
       "3568.930206353097 dimensionless"
      ],
      "text/latex": [
       "$3568.930206353097\\ dimensionless$"
      ],
      "text/plain": [
       "3568.930206353097 <Unit('dimensionless')>"
      ]
     },
     "execution_count": 16,
     "metadata": {},
     "output_type": "execute_result"
    }
   ],
   "source": [
    "Re_r = wart_stab_mean_chord * V / air_kinematic_viscosity\n",
    "Re_r"
   ]
  },
  {
   "cell_type": "code",
   "execution_count": 17,
   "id": "2b039d90",
   "metadata": {},
   "outputs": [
    {
     "name": "stdout",
     "output_type": "stream",
     "text": [
      "0.08690786861237122\n",
      "0.07474197834731462\n"
     ]
    }
   ],
   "source": [
    "C_dpf = 6.2 / math.sqrt(Re_f)\n",
    "C_dpr = (4.3 + 1.9*C_dpf) / math.sqrt(Re_r)\n",
    "print(C_dpf)\n",
    "print(C_dpr)"
   ]
  },
  {
   "cell_type": "markdown",
   "id": "c0eff9ac",
   "metadata": {},
   "source": [
    "The total profile drag coefficient is given by:\n",
    "    \n",
    "\\begin{equation}\n",
    "C_{dp} = \\frac{C_{dpf}+\\frac{S_r C_{dpr}}{S_f}}{1 + \\frac{S_r}{S_f}}\n",
    "    \\end{equation}\n",
    "}}"
   ]
  },
  {
   "cell_type": "code",
   "execution_count": 18,
   "id": "df17f02f",
   "metadata": {},
   "outputs": [
    {
     "data": {
      "text/html": [
       "0.08287969758815515 dimensionless"
      ],
      "text/latex": [
       "$0.08287969758815515\\ dimensionless$"
      ],
      "text/plain": [
       "0.08287969758815515 <Unit('dimensionless')>"
      ]
     },
     "execution_count": 18,
     "metadata": {},
     "output_type": "execute_result"
    }
   ],
   "source": [
    "C_dp = (C_dpf + wart_stab_area/wart_wing_area * C_dpr)/(1 + wart_stab_area/wart_wing_area)\n",
    "C_dp"
   ]
  },
  {
   "cell_type": "markdown",
   "id": "b0cc445a",
   "metadata": {},
   "source": [
    "The drag coefficient of a wing mounting post is approximately:\n",
    "    \n",
    "\\begin{equation}\n",
    "C_{dmp} = 1.2\n",
    "\\end{equation}\n",
    "\n",
    "The final drag coefficient is now given by:\n",
    "    \n",
    "\\begin{equation}\n",
    "C_d = C_{di} + C_{dp} + C_{dm}\n",
    "\\end{equation}"
   ]
  },
  {
   "cell_type": "code",
   "execution_count": 19,
   "id": "329c35ef",
   "metadata": {},
   "outputs": [
    {
     "data": {
      "text/html": [
       "0.10357637251430422 dimensionless"
      ],
      "text/latex": [
       "$0.10357637251430422\\ dimensionless$"
      ],
      "text/plain": [
       "0.10357637251430422 <Unit('dimensionless')>"
      ]
     },
     "execution_count": 19,
     "metadata": {},
     "output_type": "execute_result"
    }
   ],
   "source": [
    "wart_wing_post_area = (2.0 * 7.0 /8.0 /16.0) * u.inch**2\n",
    "C_dmp = 1.2\n",
    "C_dm = C_dmp * wart_wing_post_area / S\n",
    "C_d = C_di + C_dp + C_dm\n",
    "C_d"
   ]
  },
  {
   "cell_type": "markdown",
   "id": "6b1c8ee7",
   "metadata": {},
   "source": [
    "## Lift and Thrust Calculation\n",
    "\n",
    "To maintain level flight, the lift must equal the total model weight and the thrust must equal the total drag. "
   ]
  },
  {
   "cell_type": "code",
   "execution_count": 20,
   "id": "c2e138c5",
   "metadata": {},
   "outputs": [
    {
     "data": {
      "text/html": [
       "2.06 gram"
      ],
      "text/latex": [
       "$2.06\\ \\mathrm{gram}$"
      ],
      "text/plain": [
       "2.06 <Unit('gram')>"
      ]
     },
     "execution_count": 20,
     "metadata": {},
     "output_type": "execute_result"
    }
   ],
   "source": [
    "lift = air_density * V**2 * S * C_l/(2* g)\n",
    "lift"
   ]
  },
  {
   "cell_type": "code",
   "execution_count": 21,
   "id": "a005fd4b",
   "metadata": {},
   "outputs": [
    {
     "data": {
      "text/html": [
       "0.41176389581184336 gram"
      ],
      "text/latex": [
       "$0.41176389581184336\\ \\mathrm{gram}$"
      ],
      "text/plain": [
       "0.41176389581184336 <Unit('gram')>"
      ]
     },
     "execution_count": 21,
     "metadata": {},
     "output_type": "execute_result"
    }
   ],
   "source": [
    "drag = air_density * V**2 * S * C_d/(2* g)\n",
    "drag"
   ]
  },
  {
   "cell_type": "markdown",
   "id": "07a9123f",
   "metadata": {},
   "source": [
    "The required thrust power is the thrust times the velocity:"
   ]
  },
  {
   "cell_type": "code",
   "execution_count": 22,
   "id": "3f857d07",
   "metadata": {},
   "outputs": [
    {
     "data": {
      "text/html": [
       "0.0006207694387216136 kilogram meter/second"
      ],
      "text/latex": [
       "$0.0006207694387216136\\ \\frac{\\mathrm{kilogram} \\cdot \\mathrm{meter}}{\\mathrm{second}}$"
      ],
      "text/plain": [
       "0.0006207694387216136 <Unit('kilogram * meter / second')>"
      ]
     },
     "execution_count": 22,
     "metadata": {},
     "output_type": "execute_result"
    }
   ],
   "source": [
    "P = drag * V\n",
    "P.to_base_units()"
   ]
  },
  {
   "cell_type": "code",
   "execution_count": 23,
   "id": "123121db",
   "metadata": {},
   "outputs": [
    {
     "data": {
      "text/html": [
       "1055.657638928776 second"
      ],
      "text/latex": [
       "$1055.657638928776\\ \\mathrm{second}$"
      ],
      "text/plain": [
       "1055.657638928776 <Unit('second')>"
      ]
     },
     "execution_count": 23,
     "metadata": {},
     "output_type": "execute_result"
    }
   ],
   "source": [
    "energy_to_power_ratio = E/P\n",
    "energy_to_power_ratio.to_base_units()"
   ]
  },
  {
   "cell_type": "markdown",
   "id": "e16d11de",
   "metadata": {},
   "source": [
    "## Calculating Time Factor\n",
    "\n",
    "The time factor, $\\eta_{av}$ is given by:\n",
    "\n",
    "\\begin{equation}\n",
    "\\eta_{av} = F \\eta_p\n",
    "\\end{equation}\n",
    "\n",
    "Here **F** is a fudge factor, and $\\eta_p$ is a propeller efficiency factor."
   ]
  },
  {
   "cell_type": "markdown",
   "id": "efa28793",
   "metadata": {},
   "source": [
    "### Von Mises Propeller Efficiency\n",
    "\n",
    "From the *Theory of Flight* book, Von Mises gives this equation for propeller efficiency:\n",
    "    \n",
    "\\begin{equation}\n",
    "\\eta_p = \\eta_i \\frac{1 - \\frac{4J\\epsilon}{3\\pi\\eta_i}}{1+\\frac{2\\pi\\eta_i\\epsilon}{3J}}    \n",
    "\\end{equation}\n",
    "\n",
    "Where:\n",
    "- **J** is the propeller advance ratio $\\frac{V}{nd}$\n",
    "- $\\eta_i$ is the propeller induced efficiency\n",
    "- $\\epsilon$ is the propeller profile lift to drag ratio"
   ]
  },
  {
   "cell_type": "markdown",
   "id": "56b43626",
   "metadata": {},
   "source": [
    "The propeller induced efficiency is given by:\n",
    "\n",
    "\\begin{equation}\n",
    "\\eta_i = \\frac{2 - \\frac{J^2\\tau}{\\pi^2}}{1 + \\sqrt{\\tau + 1}}\n",
    "\\end{equation}\n",
    "\n",
    "Where $\\tau$ is the thrust loading."
   ]
  },
  {
   "cell_type": "markdown",
   "id": "0ba89e6b",
   "metadata": {},
   "source": [
    "\\begin{equation}\n",
    "\\tau = \\frac{2 T}{\\rho V^2 S_p}\n",
    "\\end{equation}\n",
    "\n",
    "The area of the prop disk $S_p$ is $36\\pi$ for an A-6."
   ]
  },
  {
   "cell_type": "code",
   "execution_count": 24,
   "id": "47034452",
   "metadata": {},
   "outputs": [
    {
     "data": {
      "text/html": [
       "113.09733552923255 inch<sup>2</sup>"
      ],
      "text/latex": [
       "$113.09733552923255\\ \\mathrm{inch}^{2}$"
      ],
      "text/plain": [
       "113.09733552923255 <Unit('inch ** 2')>"
      ]
     },
     "execution_count": 24,
     "metadata": {},
     "output_type": "execute_result"
    }
   ],
   "source": [
    "S_p = (36.0 * math.pi)*u.inch**2\n",
    "S_p"
   ]
  },
  {
   "cell_type": "code",
   "execution_count": 25,
   "id": "5384469b",
   "metadata": {},
   "outputs": [
    {
     "data": {
      "text/html": [
       "0.04107435675233778 dimensionless"
      ],
      "text/latex": [
       "$0.04107435675233778\\ dimensionless$"
      ],
      "text/plain": [
       "0.04107435675233778 <Unit('dimensionless')>"
      ]
     },
     "execution_count": 25,
     "metadata": {},
     "output_type": "execute_result"
    }
   ],
   "source": [
    "tau = 2 * drag *g / (air_density * V**2 * S_p)\n",
    "tau.to_base_units()"
   ]
  },
  {
   "cell_type": "markdown",
   "id": "a234a3d1",
   "metadata": {},
   "source": [
    "The advance ratio, **J**, is defined as follows:\n",
    "\n",
    "\\begin{equation}\n",
    "J = \\frac{V}{\\Omega r}\n",
    "\\end{equation}\n",
    "\n",
    "Where $\\Omega$ is the rotational speed in radians/second, and **r** is the propeller radius."
   ]
  },
  {
   "cell_type": "code",
   "execution_count": 26,
   "id": "8edbdd08",
   "metadata": {},
   "outputs": [
    {
     "data": {
      "text/html": [
       "5.922330097087379 1/second"
      ],
      "text/latex": [
       "$5.922330097087379\\ \\frac{1}{\\mathrm{second}}$"
      ],
      "text/plain": [
       "5.922330097087379 <Unit('1 / second')>"
      ]
     },
     "execution_count": 26,
     "metadata": {},
     "output_type": "execute_result"
    }
   ],
   "source": [
    "omega = motor_turns/wart_best_time\n",
    "omega"
   ]
  },
  {
   "cell_type": "code",
   "execution_count": 27,
   "id": "b2152238",
   "metadata": {},
   "outputs": [],
   "source": [
    "propeller_radius = 3.0 * u.inch # A-6 rules"
   ]
  },
  {
   "cell_type": "code",
   "execution_count": 28,
   "id": "3c732750",
   "metadata": {},
   "outputs": [
    {
     "data": {
      "text/html": [
       "3.3406769613177976 dimensionless"
      ],
      "text/latex": [
       "$3.3406769613177976\\ dimensionless$"
      ],
      "text/plain": [
       "3.3406769613177976 <Unit('dimensionless')>"
      ]
     },
     "execution_count": 28,
     "metadata": {},
     "output_type": "execute_result"
    }
   ],
   "source": [
    "J = V / (omega * propeller_radius)\n",
    "J.to_base_units()"
   ]
  },
  {
   "cell_type": "code",
   "execution_count": 29,
   "id": "e030ca79",
   "metadata": {},
   "outputs": [
    {
     "data": {
      "text/html": [
       "0.9669481689415503 dimensionless"
      ],
      "text/latex": [
       "$0.9669481689415503\\ dimensionless$"
      ],
      "text/plain": [
       "0.9669481689415503 <Unit('dimensionless')>"
      ]
     },
     "execution_count": 29,
     "metadata": {},
     "output_type": "execute_result"
    }
   ],
   "source": [
    "\n",
    "eta_i = (2 - J**2*tau/math.pi**2)/(math.sqrt(tau + 1.0) + 1.0)\n",
    "eta_i"
   ]
  },
  {
   "cell_type": "code",
   "execution_count": 30,
   "id": "45dc60af",
   "metadata": {},
   "outputs": [
    {
     "data": {
      "text/html": [
       "0.7780017326734646 dimensionless"
      ],
      "text/latex": [
       "$0.7780017326734646\\ dimensionless$"
      ],
      "text/plain": [
       "0.7780017326734646 <Unit('dimensionless')>"
      ]
     },
     "execution_count": 30,
     "metadata": {},
     "output_type": "execute_result"
    }
   ],
   "source": [
    "epsilon = 0.1 # assumed from McLean\n",
    "eta_p = eta_i * (1.0-(4.0*J*epsilon)/(3.0*math.pi*eta_i))/ \\\n",
    "                (1.0+(2.0*eta_i*math.pi*epsilon)/(3.0*J))\n",
    "eta_p"
   ]
  },
  {
   "cell_type": "markdown",
   "id": "e6e9abcb",
   "metadata": {},
   "source": [
    "All that remains is to come up with the fudge factor **F**. NcLean provides a dimensionless height factor formula and a curve generated from a vatirty of model flight data. \n",
    "\n",
    "\\begin{equation}\n",
    "H = \\frac{h}{484 \\frac{w_m}{w}}\n",
    "\\end{equation}"
   ]
  },
  {
   "cell_type": "code",
   "execution_count": 31,
   "id": "863ba8d5",
   "metadata": {},
   "outputs": [
    {
     "data": {
      "text/html": [
       "0.7290192113245703 dimensionless"
      ],
      "text/latex": [
       "$0.7290192113245703\\ dimensionless$"
      ],
      "text/plain": [
       "0.7290192113245703 <Unit('dimensionless')>"
      ]
     },
     "execution_count": 31,
     "metadata": {},
     "output_type": "execute_result"
    }
   ],
   "source": [
    "H = kiby_dome_height/(483 * u.foot * wart_motor_weight/wart_total_weight)\n",
    "H"
   ]
  },
  {
   "cell_type": "markdown",
   "id": "9493b1c3",
   "metadata": {},
   "source": [
    "From McLean's curve fit of typical model data, this value would result in an estimated fudge factor of around 0.85."
   ]
  },
  {
   "cell_type": "code",
   "execution_count": 32,
   "id": "df87c552",
   "metadata": {},
   "outputs": [
    {
     "data": {
      "text/html": [
       "0.5835012995050984 dimensionless"
      ],
      "text/latex": [
       "$0.5835012995050984\\ dimensionless$"
      ],
      "text/plain": [
       "0.5835012995050984 <Unit('dimensionless')>"
      ]
     },
     "execution_count": 32,
     "metadata": {},
     "output_type": "execute_result"
    }
   ],
   "source": [
    "F = 0.75\n",
    "eta_av = F * eta_p\n",
    "eta_av"
   ]
  },
  {
   "cell_type": "code",
   "execution_count": 33,
   "id": "05b2cf4e",
   "metadata": {},
   "outputs": [
    {
     "data": {
      "text/html": [
       "615.9776041474248 second"
      ],
      "text/latex": [
       "$615.9776041474248\\ \\mathrm{second}$"
      ],
      "text/plain": [
       "615.9776041474248 <Unit('second')>"
      ]
     },
     "execution_count": 33,
     "metadata": {},
     "output_type": "execute_result"
    }
   ],
   "source": [
    "calculated_time = eta_av * E / P\n",
    "calculated_time.to_base_units()"
   ]
  },
  {
   "cell_type": "markdown",
   "id": "87849784",
   "metadata": {},
   "source": [
    "This estimate is fairly high compared to Gary's actual result, but it is in the ball park. A better number for Gary's model would be 0.75 to match up with his recorded time."
   ]
  },
  {
   "cell_type": "markdown",
   "id": "af5622f8",
   "metadata": {},
   "source": [
    "If all these calculations sustain more details development of the underlying equations, this is a decent computation. To produce something usable, we need to generate a Python program that takes input data from a model and generates the estimate of flight time. We will explore that next."
   ]
  }
 ],
 "metadata": {
  "kernelspec": {
   "display_name": "Python 3 (ipykernel)",
   "language": "python",
   "name": "python3"
  },
  "language_info": {
   "codemirror_mode": {
    "name": "ipython",
    "version": 3
   },
   "file_extension": ".py",
   "mimetype": "text/x-python",
   "name": "python",
   "nbconvert_exporter": "python",
   "pygments_lexer": "ipython3",
   "version": "3.8.12"
  },
  "latex_envs": {
   "LaTeX_envs_menu_present": true,
   "autoclose": false,
   "autocomplete": true,
   "bibliofile": "biblio.bib",
   "cite_by": "apalike",
   "current_citInitial": 1,
   "eqLabelWithNumbers": true,
   "eqNumInitial": 1,
   "hotkeys": {
    "equation": "Ctrl-E",
    "itemize": "Ctrl-I"
   },
   "labels_anchors": false,
   "latex_user_defs": false,
   "report_style_numbering": false,
   "user_envs_cfg": false
  },
  "toc": {
   "base_numbering": 1,
   "nav_menu": {},
   "number_sections": true,
   "sideBar": true,
   "skip_h1_title": false,
   "title_cell": "Table of Contents",
   "title_sidebar": "Contents",
   "toc_cell": false,
   "toc_position": {},
   "toc_section_display": true,
   "toc_window_display": false
  },
  "varInspector": {
   "cols": {
    "lenName": 16,
    "lenType": 16,
    "lenVar": 40
   },
   "kernels_config": {
    "python": {
     "delete_cmd_postfix": "",
     "delete_cmd_prefix": "del ",
     "library": "var_list.py",
     "varRefreshCmd": "print(var_dic_list())"
    },
    "r": {
     "delete_cmd_postfix": ") ",
     "delete_cmd_prefix": "rm(",
     "library": "var_list.r",
     "varRefreshCmd": "cat(var_dic_list()) "
    }
   },
   "types_to_exclude": [
    "module",
    "function",
    "builtin_function_or_method",
    "instance",
    "_Feature"
   ],
   "window_display": false
  }
 },
 "nbformat": 4,
 "nbformat_minor": 5
}
