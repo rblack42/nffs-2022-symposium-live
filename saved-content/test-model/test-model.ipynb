{
 "cells": [
  {
   "cell_type": "markdown",
   "id": "6a0937b9",
   "metadata": {},
   "source": [
    "# Test Model\n",
    "\n",
    "In this project, we will attempt to calculate an estimated flight time for a real indoor design, Gary Hodson's  Wart-A6, which was a *Model of the year*, published in the 2010 edition of the *NFFS Symposium* {cite}`hodson2010`. Gary is a fellow club member in the [Heart of America Free Flight Association](https://kcfreeflight.org/about-haffa/) in Kansas City, and he has kept detailed records of his flights with this design. He has provided data we will use in this study.\n",
    "\n",
    "![Wart A-6](wart-a6.png)\n",
    "\n",
    "When working on a theoretical research project, being able to comparing the theory to actual real-world data is how we gain confidence in the theory!\n",
    "\n",
    "## Model Data\n",
    "\n",
    "Since we will be doing actual calculations in this study, we need to extract some data from the model design. Eventually, this data will be extracted directly from an *OpenSCAD* design, but a manual process will also be available for other design sources. Here is an example showing the data we will use for this project."
   ]
  },
  {
   "cell_type": "markdown",
   "id": "02500986",
   "metadata": {},
   "source": [
    "Notice that each entry in the **model_data** section has an associated unit of measure. This is vital in making sure our calculations use consistent units! This point is often ignored by many developers, and the result is a lot of bad calculations!\n"
   ]
  },
  {
   "cell_type": "code",
   "execution_count": 3,
   "id": "a4a795c1",
   "metadata": {},
   "outputs": [],
   "source": [
    "test_data = {\n",
    "    \"name\": \"hodson Wart A6\",\n",
    "    \"designer\": \"Gary Hodson\",\n",
    "    \"plan_url\": \"https://github.com/rblack42/nffs-2022-symposium-live/assets/wart-plan.pdf\",\n",
    "    \"model_data\": {\n",
    "        \"wing_area\": (30.0, \"inch ** 2\"),\n",
    "        \"wing_span\": (15.0, \"inch\"),\n",
    "        \"wing_height\": (1.5, \"inch\"),\n",
    "        \"stab_area\": (15.979, \"inch ** 2\"),\n",
    "        \"stab_span\": (10.0, \"inch\"),\n",
    "        \"model_weight\": (1.2, \"gram\"),\n",
    "        \"wing_ac_to_stab_ac\": (13.25, \"inch\"),\n",
    "    }\n",
    "}"
   ]
  },
  {
   "cell_type": "markdown",
   "id": "6b59a0f8",
   "metadata": {},
   "source": [
    "To attach units of measure to our data, we will use the **pint** library."
   ]
  },
  {
   "cell_type": "code",
   "execution_count": 6,
   "id": "ddb54576",
   "metadata": {},
   "outputs": [],
   "source": [
    "import pint\n",
    "u = pint.UnitRegistry()\n",
    "Q_ = u.Quantity"
   ]
  },
  {
   "cell_type": "markdown",
   "id": "475ed753",
   "metadata": {},
   "source": [
    "A *UnitRegistry* is a powerful component that knows all about various unit we typically use in engineering. Here is an example of attaching units to a normal *Python* variable."
   ]
  },
  {
   "cell_type": "code",
   "execution_count": 7,
   "id": "ee14ef91",
   "metadata": {},
   "outputs": [
    {
     "data": {
      "text/html": [
       "1.2 gram"
      ],
      "text/latex": [
       "$1.2\\ \\mathrm{gram}$"
      ],
      "text/plain": [
       "1.2 <Unit('gram')>"
      ]
     },
     "execution_count": 7,
     "metadata": {},
     "output_type": "execute_result"
    }
   ],
   "source": [
    "wgt_d = test_data['model_data']['model_weight']\n",
    "wgt_m = Q_(wgt_d[0],wgt_d[1])\n",
    "wgt_m"
   ]
  },
  {
   "cell_type": "markdown",
   "id": "599ff9af",
   "metadata": {},
   "source": [
    "Now, when we ask to see the value of a variable with units attached, we see those units as part of the display.\n",
    "\n",
    "Hmmm, I wonder how many tons my model weighs?"
   ]
  },
  {
   "cell_type": "code",
   "execution_count": 9,
   "id": "473ed2cd",
   "metadata": {},
   "outputs": [
    {
     "data": {
      "text/html": [
       "1.3227735731092656×10<sup>-6</sup> ton"
      ],
      "text/latex": [
       "$1.3227735731092656\\times 10^{-6}\\ \\mathrm{ton}$"
      ],
      "text/plain": [
       "1.3227735731092656e-06 <Unit('ton')>"
      ]
     },
     "execution_count": 9,
     "metadata": {},
     "output_type": "execute_result"
    }
   ],
   "source": [
    "wgt_m.to('tons')"
   ]
  },
  {
   "cell_type": "markdown",
   "id": "9372ea8c",
   "metadata": {},
   "source": [
    "Silly, but it shows how we can easily move between measurement systems. A more useful conversion is this one:"
   ]
  },
  {
   "cell_type": "code",
   "execution_count": 10,
   "id": "5ffdfbc0",
   "metadata": {},
   "outputs": [
    {
     "data": {
      "text/html": [
       "0.0423287543394965 ounce"
      ],
      "text/latex": [
       "$0.0423287543394965\\ \\mathrm{ounce}$"
      ],
      "text/plain": [
       "0.0423287543394965 <Unit('ounce')>"
      ]
     },
     "execution_count": 10,
     "metadata": {},
     "output_type": "execute_result"
    }
   ],
   "source": [
    "wgt_m.to('ounces')"
   ]
  },
  {
   "cell_type": "markdown",
   "id": "a2adcc56",
   "metadata": {},
   "source": [
    "Behind the scenes, **pint** converts all values to the metric system. This system is called *Base Units*. For weights, it uses *kilograms*:"
   ]
  },
  {
   "cell_type": "code",
   "execution_count": 12,
   "id": "7e8159e0",
   "metadata": {},
   "outputs": [
    {
     "data": {
      "text/html": [
       "0.0012 kilogram"
      ],
      "text/latex": [
       "$0.0012\\ \\mathrm{kilogram}$"
      ],
      "text/plain": [
       "0.0012 <Unit('kilogram')>"
      ]
     },
     "execution_count": 12,
     "metadata": {},
     "output_type": "execute_result"
    }
   ],
   "source": [
    "wgt_m.to_base_units()"
   ]
  },
  {
   "cell_type": "markdown",
   "id": "8331f302",
   "metadata": {},
   "source": [
    "Here is a handy routine that will attach units to any of our data values."
   ]
  },
  {
   "cell_type": "code",
   "execution_count": 13,
   "id": "e9840b86",
   "metadata": {},
   "outputs": [],
   "source": [
    "def attach_units(item):\n",
    "    raw_data = test_data['model_data'][item]\n",
    "    return Q_(raw_data[0], raw_data[1])\n",
    "    "
   ]
  },
  {
   "cell_type": "code",
   "execution_count": 14,
   "id": "b6770013",
   "metadata": {},
   "outputs": [
    {
     "data": {
      "text/html": [
       "15.0 inch"
      ],
      "text/latex": [
       "$15.0\\ \\mathrm{inch}$"
      ],
      "text/plain": [
       "15.0 <Unit('inch')>"
      ]
     },
     "execution_count": 14,
     "metadata": {},
     "output_type": "execute_result"
    }
   ],
   "source": [
    "b_w = attach_units('wing_span')\n",
    "b_w"
   ]
  },
  {
   "cell_type": "code",
   "execution_count": null,
   "id": "d49b1b94",
   "metadata": {},
   "outputs": [],
   "source": []
  }
 ],
 "metadata": {
  "kernelspec": {
   "display_name": "Python 3 (ipykernel)",
   "language": "python",
   "name": "python3"
  },
  "language_info": {
   "codemirror_mode": {
    "name": "ipython",
    "version": 3
   },
   "file_extension": ".py",
   "mimetype": "text/x-python",
   "name": "python",
   "nbconvert_exporter": "python",
   "pygments_lexer": "ipython3",
   "version": "3.8.12"
  },
  "latex_envs": {
   "LaTeX_envs_menu_present": true,
   "autoclose": false,
   "autocomplete": true,
   "bibliofile": "biblio.bib",
   "cite_by": "apalike",
   "current_citInitial": 1,
   "eqLabelWithNumbers": true,
   "eqNumInitial": 1,
   "hotkeys": {
    "equation": "Ctrl-E",
    "itemize": "Ctrl-I"
   },
   "labels_anchors": false,
   "latex_user_defs": false,
   "report_style_numbering": false,
   "user_envs_cfg": false
  },
  "toc": {
   "base_numbering": 1,
   "nav_menu": {},
   "number_sections": true,
   "sideBar": true,
   "skip_h1_title": false,
   "title_cell": "Table of Contents",
   "title_sidebar": "Contents",
   "toc_cell": false,
   "toc_position": {},
   "toc_section_display": true,
   "toc_window_display": false
  },
  "varInspector": {
   "cols": {
    "lenName": 16,
    "lenType": 16,
    "lenVar": 40
   },
   "kernels_config": {
    "python": {
     "delete_cmd_postfix": "",
     "delete_cmd_prefix": "del ",
     "library": "var_list.py",
     "varRefreshCmd": "print(var_dic_list())"
    },
    "r": {
     "delete_cmd_postfix": ") ",
     "delete_cmd_prefix": "rm(",
     "library": "var_list.r",
     "varRefreshCmd": "cat(var_dic_list()) "
    }
   },
   "types_to_exclude": [
    "module",
    "function",
    "builtin_function_or_method",
    "instance",
    "_Feature"
   ],
   "window_display": false
  }
 },
 "nbformat": 4,
 "nbformat_minor": 5
}
