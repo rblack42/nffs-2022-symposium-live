{
 "cells": [
  {
   "cell_type": "markdown",
   "id": "6a0937b9",
   "metadata": {},
   "source": [
    "# Test Model\n",
    "\n",
    "In this project, we will attempt to calculate an estimated flight time for a real indoor design, Gary Hodson's  Wart-A6, which was a *Model of the year*, published in the 2010 edition of the *NFFS Symposium* {cite}`hodson`. Gary is a fellow club member in the [Heart of America Free Flight Association](https://kcfreeflight.org/about-haffa/) in Kansas City, and he has kept detailed records of his flights with this design. He has provided data we will use in this study.\n",
    "\n",
    "![Wart A-6](wart-a6.png)\n",
    "\n",
    "When working on a theoretical research project, being able to comparing the theory to actual real-world data is how we gain confidence in the theory!\n",
    "\n",
    "## Model Data\n",
    "\n",
    "Since we plan on doing actual calculations in this project, we need to extract some data from the model design. My plan is to generate this data directly from an *OpenSCAD* design, but a manual process is also available for other design sources. Here is an example of a data file that we will use for this project. The file format is **YAML** (Yet Another Markup Language, popular on the web!)\n",
    "\n",
    "```yaml\n",
    "name: \"hodson Wart A6\",\n",
    "designer: \"Gary Hodson\",\n",
    "plan_url: https://github.com/rblack42/nffs-2022-symposium-live/assets/wart-plan.pdf\n",
    "model_data:\n",
    "  model:\n",
    "    wing_area:\n",
    "        - 30.0\n",
    "        - \"inches ** 2\"\n",
    "    wing_span:\n",
    "      - 15.0\n",
    "      - inches\n",
    "    wing_height:\n",
    "      - 1.5\n",
    "      - inches\n",
    "    stab_area:\n",
    "        - 15.979\n",
    "        - \"inches ** 2\"\n",
    "    stab_span:\n",
    "        - 10.0\n",
    "        - inches\n",
    "    model_weight:\n",
    "      - 1.2\n",
    "      - \"grams\"\n",
    "    wing_ac_to_stab_ac:\n",
    "      - 13.25\n",
    "      - inches\n",
    "```"
   ]
  },
  {
   "cell_type": "markdown",
   "id": "02500986",
   "metadata": {},
   "source": [
    "Notice that each entry in this data has an associated unit of measure. This is vital in making sure our calculations use consistent units! This point is largely ignored by many developers, and the result is a lot of bad calculations!\n"
   ]
  }
 ],
 "metadata": {
  "kernelspec": {
   "display_name": "Python 3 (ipykernel)",
   "language": "python",
   "name": "python3"
  },
  "language_info": {
   "codemirror_mode": {
    "name": "ipython",
    "version": 3
   },
   "file_extension": ".py",
   "mimetype": "text/x-python",
   "name": "python",
   "nbconvert_exporter": "python",
   "pygments_lexer": "ipython3",
   "version": "3.9.9"
  },
  "latex_envs": {
   "LaTeX_envs_menu_present": true,
   "autoclose": false,
   "autocomplete": true,
   "bibliofile": "biblio.bib",
   "cite_by": "apalike",
   "current_citInitial": 1,
   "eqLabelWithNumbers": true,
   "eqNumInitial": 1,
   "hotkeys": {
    "equation": "Ctrl-E",
    "itemize": "Ctrl-I"
   },
   "labels_anchors": false,
   "latex_user_defs": false,
   "report_style_numbering": false,
   "user_envs_cfg": false
  },
  "toc": {
   "base_numbering": 1,
   "nav_menu": {},
   "number_sections": true,
   "sideBar": true,
   "skip_h1_title": false,
   "title_cell": "Table of Contents",
   "title_sidebar": "Contents",
   "toc_cell": false,
   "toc_position": {},
   "toc_section_display": true,
   "toc_window_display": false
  },
  "varInspector": {
   "cols": {
    "lenName": 16,
    "lenType": 16,
    "lenVar": 40
   },
   "kernels_config": {
    "python": {
     "delete_cmd_postfix": "",
     "delete_cmd_prefix": "del ",
     "library": "var_list.py",
     "varRefreshCmd": "print(var_dic_list())"
    },
    "r": {
     "delete_cmd_postfix": ") ",
     "delete_cmd_prefix": "rm(",
     "library": "var_list.r",
     "varRefreshCmd": "cat(var_dic_list()) "
    }
   },
   "types_to_exclude": [
    "module",
    "function",
    "builtin_function_or_method",
    "instance",
    "_Feature"
   ],
   "window_display": false
  }
 },
 "nbformat": 4,
 "nbformat_minor": 5
}
